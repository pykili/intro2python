{
  "cells": [
    {
      "cell_type": "markdown",
      "metadata": {
        "id": "clCJEiR4XoIk"
      },
      "source": [
        "# Семинар 2"
      ]
    },
    {
      "cell_type": "markdown",
      "metadata": {
        "id": "I0AhEmnZXoIn"
      },
      "source": [
        "### Глава минус первая: что было в прошлый раз?\n",
        "1. Арифметика (`+`, `-`, `*`, `/`, `//`, `**` и т.д.),\n",
        "2. Переменные (запись в переменную и ее изменение),\n",
        "3. Операции српвнения (`>`, `<`, `==` и т.д.),\n",
        "4. Типы данных (`int`, `float`, `bool`, `str`),\n",
        "5. Ввод и вывод (`print`, `input`)"
      ]
    },
    {
      "cell_type": "markdown",
      "metadata": {
        "id": "LXehcKPfXoIn"
      },
      "source": [
        "### Глава нулевая: по следам семинара 1"
      ]
    },
    {
      "cell_type": "markdown",
      "metadata": {
        "id": "58stP4hVXoIo"
      },
      "source": [
        "0. В питоне есть функции минимума `max()` и максимума `min()`, а еще, например модуля `abs()` и округления `round()`."
      ]
    },
    {
      "cell_type": "code",
      "execution_count": 2,
      "metadata": {
        "colab": {
          "base_uri": "https://localhost:8080/"
        },
        "id": "P6Az7969XoIo",
        "outputId": "988f56b3-2606-4170-ed18-1fae6c0772da"
      },
      "outputs": [
        {
          "name": "stdout",
          "output_type": "stream",
          "text": [
            "10\n",
            "5\n"
          ]
        }
      ],
      "source": [
        "a = 5\n",
        "b = 10\n",
        "print(max(a, b))\n",
        "print(min(a, b))"
      ]
    },
    {
      "cell_type": "code",
      "execution_count": 3,
      "metadata": {
        "id": "irh-Vys5XoIq",
        "outputId": "d087cc8a-95f8-4029-8177-51fdef1293c8"
      },
      "outputs": [
        {
          "name": "stdout",
          "output_type": "stream",
          "text": [
            "4 0 4\n",
            "3 3.142\n"
          ]
        }
      ],
      "source": [
        "print(abs(-4), abs(0), abs(4))\n",
        "print(round(3.1415926535897932384626433832795), round(3.1415926535897932384626433832795, 3))"
      ]
    },
    {
      "cell_type": "code",
      "execution_count": null,
      "metadata": {},
      "outputs": [
        {
          "data": {
            "text/plain": [
              "4"
            ]
          },
          "execution_count": 4,
          "metadata": {},
          "output_type": "execute_result"
        }
      ],
      "source": [
        "round(3.5)"
      ]
    },
    {
      "cell_type": "code",
      "execution_count": 7,
      "metadata": {},
      "outputs": [
        {
          "data": {
            "text/plain": [
              "2"
            ]
          },
          "execution_count": 7,
          "metadata": {},
          "output_type": "execute_result"
        }
      ],
      "source": [
        "round(2.5)"
      ]
    },
    {
      "cell_type": "markdown",
      "metadata": {},
      "source": [
        "1. Как сравниваются строки?"
      ]
    },
    {
      "cell_type": "code",
      "execution_count": 8,
      "metadata": {},
      "outputs": [
        {
          "data": {
            "text/plain": [
              "True"
            ]
          },
          "execution_count": 8,
          "metadata": {},
          "output_type": "execute_result"
        }
      ],
      "source": [
        "\"abcd\" < \"cde\""
      ]
    },
    {
      "cell_type": "code",
      "execution_count": 9,
      "metadata": {},
      "outputs": [
        {
          "data": {
            "text/plain": [
              "True"
            ]
          },
          "execution_count": 9,
          "metadata": {},
          "output_type": "execute_result"
        }
      ],
      "source": [
        "\"abcd\" > \"Abcd\""
      ]
    },
    {
      "cell_type": "code",
      "execution_count": 10,
      "metadata": {},
      "outputs": [
        {
          "data": {
            "text/plain": [
              "False"
            ]
          },
          "execution_count": 10,
          "metadata": {},
          "output_type": "execute_result"
        }
      ],
      "source": [
        "\"артем\" > \"тёма\""
      ]
    },
    {
      "cell_type": "code",
      "execution_count": 11,
      "metadata": {},
      "outputs": [
        {
          "data": {
            "text/plain": [
              "True"
            ]
          },
          "execution_count": 11,
          "metadata": {},
          "output_type": "execute_result"
        }
      ],
      "source": [
        "\"1\" > \"!\""
      ]
    },
    {
      "cell_type": "code",
      "execution_count": 12,
      "metadata": {},
      "outputs": [
        {
          "data": {
            "text/plain": [
              "97"
            ]
          },
          "execution_count": 12,
          "metadata": {},
          "output_type": "execute_result"
        }
      ],
      "source": [
        "ord(\"a\")"
      ]
    },
    {
      "cell_type": "code",
      "execution_count": 13,
      "metadata": {},
      "outputs": [
        {
          "data": {
            "text/plain": [
              "65"
            ]
          },
          "execution_count": 13,
          "metadata": {},
          "output_type": "execute_result"
        }
      ],
      "source": [
        "ord(\"A\")"
      ]
    },
    {
      "cell_type": "code",
      "execution_count": 14,
      "metadata": {},
      "outputs": [
        {
          "data": {
            "text/plain": [
              "49"
            ]
          },
          "execution_count": 14,
          "metadata": {},
          "output_type": "execute_result"
        }
      ],
      "source": [
        "ord(\"1\")"
      ]
    },
    {
      "cell_type": "code",
      "execution_count": 15,
      "metadata": {},
      "outputs": [
        {
          "data": {
            "text/plain": [
              "1092"
            ]
          },
          "execution_count": 15,
          "metadata": {},
          "output_type": "execute_result"
        }
      ],
      "source": [
        "ord(\"ф\")"
      ]
    },
    {
      "cell_type": "code",
      "execution_count": null,
      "metadata": {},
      "outputs": [],
      "source": [
        "\"ф\" > \"h\""
      ]
    },
    {
      "cell_type": "markdown",
      "metadata": {},
      "source": [
        "2. bool – это int :)"
      ]
    },
    {
      "cell_type": "code",
      "execution_count": 16,
      "metadata": {},
      "outputs": [
        {
          "ename": "TypeError",
          "evalue": "unsupported operand type(s) for +: 'int' and 'str'",
          "output_type": "error",
          "traceback": [
            "\u001b[31m---------------------------------------------------------------------------\u001b[39m",
            "\u001b[31mTypeError\u001b[39m                                 Traceback (most recent call last)",
            "\u001b[36mCell\u001b[39m\u001b[36m \u001b[39m\u001b[32mIn[16]\u001b[39m\u001b[32m, line 1\u001b[39m\n\u001b[32m----> \u001b[39m\u001b[32m1\u001b[39m \u001b[32;43m1\u001b[39;49m\u001b[43m \u001b[49m\u001b[43m+\u001b[49m\u001b[43m \u001b[49m\u001b[33;43m'\u001b[39;49m\u001b[33;43m1\u001b[39;49m\u001b[33;43m'\u001b[39;49m\n",
            "\u001b[31mTypeError\u001b[39m: unsupported operand type(s) for +: 'int' and 'str'"
          ]
        }
      ],
      "source": [
        "1 + '1'"
      ]
    },
    {
      "cell_type": "code",
      "execution_count": 18,
      "metadata": {},
      "outputs": [
        {
          "name": "stdout",
          "output_type": "stream",
          "text": [
            "2\n",
            "-1\n"
          ]
        }
      ],
      "source": [
        "print(True + 1)\n",
        "print(10 * False - True)"
      ]
    },
    {
      "cell_type": "code",
      "execution_count": 19,
      "metadata": {},
      "outputs": [
        {
          "data": {
            "text/plain": [
              "1"
            ]
          },
          "execution_count": 19,
          "metadata": {},
          "output_type": "execute_result"
        }
      ],
      "source": [
        "int(True)"
      ]
    },
    {
      "cell_type": "code",
      "execution_count": 20,
      "metadata": {},
      "outputs": [
        {
          "data": {
            "text/plain": [
              "0"
            ]
          },
          "execution_count": 20,
          "metadata": {},
          "output_type": "execute_result"
        }
      ],
      "source": [
        "int(False)"
      ]
    },
    {
      "cell_type": "markdown",
      "metadata": {},
      "source": [
        "### Форматирование"
      ]
    },
    {
      "cell_type": "markdown",
      "metadata": {
        "id": "p9nrkdTQXoIq"
      },
      "source": [
        "1. Есть такой особый вид строк $-$ форматированные строки (formatted strings) или f-строки (f-strins). Они требуют букву `f` перед открывающей кавычкой, и позволяют удобнее работать с выводом. Так, внутрь фигурных скобок `{...}` можно подавать переменные."
      ]
    },
    {
      "cell_type": "code",
      "execution_count": 24,
      "metadata": {
        "id": "_EKqF9q-XoIq",
        "outputId": "484cd990-6f82-4999-d3cb-c5deb56ca3c9"
      },
      "outputs": [
        {
          "name": "stdout",
          "output_type": "stream",
          "text": [
            "Тёма 178 сантиметров ростом.\n",
            "Рост Тёмы - 1 м 78 см.\n",
            "Рост Тёмы - 1м 78см.\n"
          ]
        }
      ],
      "source": [
        "height = 178\n",
        "\n",
        "print('Тёма', height, 'сантиметров ростом.')\n",
        "print('Рост Тёмы -', height // 100, 'м', height % 100, 'см.')\n",
        "print('Рост Тёмы - ' + str(height // 100) + 'м ' + str(height % 100) + 'см.')"
      ]
    },
    {
      "cell_type": "code",
      "execution_count": 28,
      "metadata": {
        "id": "t5CKSuP3XoIr",
        "outputId": "f2eaac32-aba7-4e69-bc87-2237c2a3cc7c"
      },
      "outputs": [
        {
          "name": "stdout",
          "output_type": "stream",
          "text": [
            "Рост Тёмы - 1м 78см. {}\n"
          ]
        }
      ],
      "source": [
        "print(f'Рост Тёмы - {height // 100}м {height % 100}см. {{}}')"
      ]
    },
    {
      "cell_type": "markdown",
      "metadata": {
        "id": "dG8mOHe-XoIr"
      },
      "source": [
        "А еще при помощи них можно, например:\n",
        "- обрезать / добавлять знаки после точки\n",
        "- дополнять символами по краям\n",
        "\n",
        "Подробнее читайте [тут](https://docs.python.org/3/tutorial/inputoutput.html#fancier-output-formatting)."
      ]
    },
    {
      "cell_type": "code",
      "execution_count": 29,
      "metadata": {
        "id": "fBbUMqc8XoIr",
        "outputId": "e28dde40-4884-46e2-874e-36be30619625"
      },
      "outputs": [
        {
          "name": "stdout",
          "output_type": "stream",
          "text": [
            "Если округлить число пи до трех знаков, оно будет равно 3.142!\n"
          ]
        }
      ],
      "source": [
        "pi = 3.1415926535897932384626433832795\n",
        "print(f'Если округлить число пи до трех знаков, оно будет равно {pi:.3f}!')"
      ]
    },
    {
      "cell_type": "code",
      "execution_count": 30,
      "metadata": {},
      "outputs": [],
      "source": [
        "# В гугл: python format strings round 3 digits"
      ]
    },
    {
      "cell_type": "code",
      "execution_count": 31,
      "metadata": {
        "id": "leIn0eQMXoIs",
        "outputId": "13a7a463-b81e-4f98-efb5-0747024f8938"
      },
      "outputs": [
        {
          "name": "stdout",
          "output_type": "stream",
          "text": [
            "Катя       ==>        173\n",
            "Антон      ==>        181\n",
            "Тёма       ==>        178\n"
          ]
        }
      ],
      "source": [
        "name_1 = 'Катя'\n",
        "height_1 = 173\n",
        "name_2 = 'Антон'\n",
        "height_2 = 181\n",
        "name_3 = 'Тёма'\n",
        "height_3 = 178\n",
        "\n",
        "print(f'{name_1:10} ==> {height_1:10d}')\n",
        "print(f'{name_2:10} ==> {height_2:10d}')\n",
        "print(f'{name_3:10} ==> {height_3:10d}')"
      ]
    },
    {
      "cell_type": "code",
      "execution_count": 33,
      "metadata": {},
      "outputs": [
        {
          "data": {
            "text/plain": [
              "'3.14'"
            ]
          },
          "execution_count": 33,
          "metadata": {},
          "output_type": "execute_result"
        }
      ],
      "source": [
        "\"{}.{}\".format(3, 14)"
      ]
    },
    {
      "cell_type": "code",
      "execution_count": 32,
      "metadata": {
        "id": "125fo_ZWXoIs",
        "outputId": "6a6a9625-3d26-4c84-8540-bd8234f9eeb2"
      },
      "outputs": [
        {
          "name": "stdout",
          "output_type": "stream",
          "text": [
            "Left Text............Centered Text...........Right Text\n"
          ]
        }
      ],
      "source": [
        "left_alignment = 'Left Text'\n",
        "center_alignment = 'Centered Text'\n",
        "right_alignment = 'Right Text'\n",
        "\n",
        "print(f'{left_alignment:.<20}{center_alignment:.^15}{right_alignment:.>20}')"
      ]
    },
    {
      "cell_type": "markdown",
      "metadata": {
        "id": "t3fcjSaFXoIs"
      },
      "source": [
        "2. Вводить в питоне можно не только одно число/строку. Вот такая конструкция позволяет ввести несколько чисел через пробел:"
      ]
    },
    {
      "cell_type": "code",
      "execution_count": null,
      "metadata": {},
      "outputs": [],
      "source": [
        "map(int, input().split())"
      ]
    },
    {
      "cell_type": "code",
      "execution_count": 34,
      "metadata": {
        "id": "HOAR1hY3XoIs"
      },
      "outputs": [],
      "source": [
        "x, y, z = map(int, input().split())"
      ]
    },
    {
      "cell_type": "code",
      "execution_count": 35,
      "metadata": {},
      "outputs": [
        {
          "data": {
            "text/plain": [
              "2"
            ]
          },
          "execution_count": 35,
          "metadata": {},
          "output_type": "execute_result"
        }
      ],
      "source": [
        "y"
      ]
    },
    {
      "cell_type": "markdown",
      "metadata": {
        "id": "8LypctblXoIt"
      },
      "source": [
        "Давайте разбемся, как это работает.\n",
        "Пусть мы введем числа 1 2 3\n",
        "\n",
        "```(python)\n",
        "input()  # '1 2 3'\n",
        "input().split()  # ['1', '2', '3']\n",
        "map(int, input().split())  # [1, 2, 3] -- на самом деле это не совсем правда, но грубо говоря так\n",
        "```"
      ]
    },
    {
      "cell_type": "markdown",
      "metadata": {
        "id": "VdxdgTrsXoIt"
      },
      "source": [
        "Более того, вводить можно не только через пробел:"
      ]
    },
    {
      "cell_type": "code",
      "execution_count": 36,
      "metadata": {
        "id": "SKknAmoDXoIt"
      },
      "outputs": [],
      "source": [
        "year, month, day = map(int, input().split(\"-\"))"
      ]
    },
    {
      "cell_type": "markdown",
      "metadata": {
        "id": "NNykUiWqXoIt"
      },
      "source": [
        "Из этого следует, что вводить можно не только числа, но и"
      ]
    },
    {
      "cell_type": "code",
      "execution_count": null,
      "metadata": {
        "id": "GM0cGob_XoIt"
      },
      "outputs": [],
      "source": [
        "first_name, last_name = input().split()  # строки\n",
        "\n",
        "latitude, longitude = map(float, input().split())  # вещественные числа\n",
        "\n",
        "first_name, last_name, _ = input().split()  # вот так можно проигнорить отчество\n",
        "first_name, last_name, *_ = input().split()  # вот так можно проигнорить вообще все что введется после"
      ]
    },
    {
      "cell_type": "code",
      "execution_count": 43,
      "metadata": {},
      "outputs": [
        {
          "name": "stdout",
          "output_type": "stream",
          "text": [
            "стрельцов тёма\n"
          ]
        }
      ],
      "source": [
        "first_name, last_name, *_ = input().split()\n",
        "print(last_name, first_name)"
      ]
    },
    {
      "cell_type": "code",
      "execution_count": 44,
      "metadata": {},
      "outputs": [
        {
          "data": {
            "text/plain": [
              "['преподаватель', 'работяга', 'студент', 'ааааа']"
            ]
          },
          "execution_count": 44,
          "metadata": {},
          "output_type": "execute_result"
        }
      ],
      "source": [
        "_"
      ]
    },
    {
      "cell_type": "code",
      "execution_count": null,
      "metadata": {},
      "outputs": [],
      "source": [
        "print(_)"
      ]
    },
    {
      "cell_type": "markdown",
      "metadata": {
        "id": "FIBjEwOnXoIu"
      },
      "source": [
        "А еще, параллельное присваивание работает не только с вводом:"
      ]
    },
    {
      "cell_type": "code",
      "execution_count": 37,
      "metadata": {
        "id": "O5JHjxSnXoIu",
        "outputId": "766c5772-67ff-4114-ecc5-e88b54a9ff90"
      },
      "outputs": [
        {
          "name": "stdout",
          "output_type": "stream",
          "text": [
            "5 3\n"
          ]
        }
      ],
      "source": [
        "x, y = 3, 5\n",
        "x, y = y, x  # поменяли местами\n",
        "print(x, y)"
      ]
    },
    {
      "cell_type": "markdown",
      "metadata": {
        "id": "HwLCoWHeXoIu"
      },
      "source": [
        "### 2. Условные операторы\n",
        "\n",
        "#### База"
      ]
    },
    {
      "cell_type": "markdown",
      "metadata": {
        "id": "aZxr_C0nXoIu"
      },
      "source": [
        "Программы, которые мы видели раньше, имели линейную структуру: все действия выполняются обязательно и в той последовательности, что мы написали их в скрипте. Иногда нам хочется получать разное поведение в зависимости от какого-либо условия. Давайте подумаем над таким примером задачи.\n",
        "\n",
        "> *Спросите у пользователя его рост в сантиметрах и скажите на сколько целых вершков он ниже, чем Петр I (рост Петра I = 203 см, один вершок = 4.445 см).*\n",
        "\n",
        "<details><summary>Возможное решение:</summary>\n",
        "    \n",
        "```python\n",
        "user_height = int(input('Введите свой рост в сантиметрах\\n'))\n",
        "peter_height = 203\n",
        "delta = int((peter_height - user_height) // 4.445)\n",
        "print(f\"Петр I выше вас на {delta} вершков\")\n",
        "```\n",
        "</details>"
      ]
    },
    {
      "cell_type": "markdown",
      "metadata": {
        "id": "NfrCUumXXoIv"
      },
      "source": [
        "Но если вдруг пользователь выше двух метров, то мы получим отрицательную разницу. В таком случае логичнее сказать, что Петр ниже на Х вершков. Для таких случаев в питоне есть условный оператор **`if/else`**.\n",
        "\n",
        "Выглядит он следующим образом:\n",
        "\n",
        "```python\n",
        "if Условие:\n",
        "    Блок инструкций 1\n",
        "else:\n",
        "    Блок инструкций 2\n",
        "```"
      ]
    },
    {
      "cell_type": "code",
      "execution_count": 45,
      "metadata": {
        "id": "hjGVFxVMXoIv",
        "scrolled": true
      },
      "outputs": [
        {
          "name": "stdout",
          "output_type": "stream",
          "text": [
            "Петр I выше вас на 5 вершков\n"
          ]
        }
      ],
      "source": [
        "user_height = int(input('Введите свой рост в сантиметрах\\n'))\n",
        "peter_height = 203\n",
        "delta = int((peter_height - user_height) // 4.445)\n",
        "\n",
        "if delta >= 0:  # если разница неотрицательная, то\n",
        "    print(f\"Петр I выше вас на {delta} вершков\")\n",
        "else:  # иначе/если разница отрицательная\n",
        "    print(f\"Петр I ниже вас на {-delta} вершков\")"
      ]
    },
    {
      "cell_type": "markdown",
      "metadata": {
        "id": "yz3wg4HpXoIv"
      },
      "source": [
        "**Внутри условий могут быть:**\n",
        "\n",
        "- операторы сравнения (`==`, `<`, `>`, `!=`, ...)"
      ]
    },
    {
      "cell_type": "code",
      "execution_count": null,
      "metadata": {
        "id": "3bHfGvo2XoIw",
        "scrolled": true
      },
      "outputs": [],
      "source": [
        "tutor_name = input()\n",
        "\n",
        "if tutor_name == \"Тёма\":\n",
        "    print(\"Я в группе 1.\")\n",
        "else:\n",
        "    print(\"Наверное, я ошибся семинаром...\")"
      ]
    },
    {
      "cell_type": "code",
      "execution_count": null,
      "metadata": {},
      "outputs": [],
      "source": [
        "False == 0"
      ]
    },
    {
      "cell_type": "code",
      "execution_count": null,
      "metadata": {},
      "outputs": [],
      "source": [
        "True == 1"
      ]
    },
    {
      "cell_type": "code",
      "execution_count": 48,
      "metadata": {},
      "outputs": [
        {
          "data": {
            "text/plain": [
              "True"
            ]
          },
          "execution_count": 48,
          "metadata": {},
          "output_type": "execute_result"
        }
      ],
      "source": [
        "bool(1)"
      ]
    },
    {
      "cell_type": "code",
      "execution_count": 49,
      "metadata": {},
      "outputs": [
        {
          "data": {
            "text/plain": [
              "True"
            ]
          },
          "execution_count": 49,
          "metadata": {},
          "output_type": "execute_result"
        }
      ],
      "source": [
        "bool(-5)"
      ]
    },
    {
      "cell_type": "code",
      "execution_count": 50,
      "metadata": {},
      "outputs": [
        {
          "data": {
            "text/plain": [
              "False"
            ]
          },
          "execution_count": 50,
          "metadata": {},
          "output_type": "execute_result"
        }
      ],
      "source": [
        "bool(0)"
      ]
    },
    {
      "cell_type": "code",
      "execution_count": null,
      "metadata": {
        "id": "a37YCh0UXoIw",
        "scrolled": true
      },
      "outputs": [
        {
          "name": "stdout",
          "output_type": "stream",
          "text": [
            "Number is even\n"
          ]
        }
      ],
      "source": [
        "number = int(input())\n",
        "\n",
        "if number % 2 != 0:  # можно писать просто if number % 2, ведь 1 это True, а 0 -- это False\n",
        "    print(\"Number is odd\")\n",
        "else:\n",
        "    print(\"Number is even\")"
      ]
    },
    {
      "cell_type": "markdown",
      "metadata": {
        "id": "JaEvuhnvXoIw"
      },
      "source": [
        "- нулевые vs ненулевые значения"
      ]
    },
    {
      "cell_type": "code",
      "execution_count": 53,
      "metadata": {
        "id": "DdBrdgouXoIw"
      },
      "outputs": [
        {
          "name": "stdout",
          "output_type": "stream",
          "text": [
            "Case 1\n"
          ]
        }
      ],
      "source": [
        "some_string = input()\n",
        "\n",
        "if some_string:\n",
        "    print(\"Case 1\")  # <---- подумайте, в каких случаях выведется это\n",
        "else:\n",
        "    print(\"Case 2\")  # <---- а в каких это"
      ]
    },
    {
      "cell_type": "markdown",
      "metadata": {
        "id": "aSsDZInlXoIw"
      },
      "source": [
        "- выражения с `in`"
      ]
    },
    {
      "cell_type": "code",
      "execution_count": 59,
      "metadata": {
        "id": "UyhlggENXoIw",
        "scrolled": true
      },
      "outputs": [
        {
          "name": "stdout",
          "output_type": "stream",
          "text": [
            "Ю-ху!\n"
          ]
        }
      ],
      "source": [
        "some_word = input('Введите слово, в котором есть буква Ю:\\n')\n",
        "\n",
        "if 'ю' in some_word.lower():  # в строке есть буква Ю\n",
        "    print('Ю-ху!')\n",
        "else:\n",
        "    print(\"Я же просила с Ю ;(\")"
      ]
    },
    {
      "cell_type": "markdown",
      "metadata": {
        "id": "TILWg6D4XoIx"
      },
      "source": [
        "- и другие вещи, которые каким-либо образом могут преобразоваться в bool (например, `is`)"
      ]
    },
    {
      "cell_type": "markdown",
      "metadata": {
        "id": "FJA_SX6DXoIx"
      },
      "source": [
        "Также условие может включать логическое выражение с несколькими условиями с использованием `and`, `or`, `not`."
      ]
    },
    {
      "cell_type": "code",
      "execution_count": null,
      "metadata": {
        "id": "Y7LX-qegXoIx"
      },
      "outputs": [],
      "source": [
        "# Выведем ошибку, если число не соответствует условию\n",
        "x = int(input('Введите однозначное положительное число\\n'))\n",
        "if 0 < x and x < 10:  # или 0 < x < 10\n",
        "    print('Спасибо!')\n",
        "else:\n",
        "    print('Что-то пошло не так')\n",
        "\n",
        "# И – конъюнкция\n",
        "# ИЛИ – дизъюнкция"
      ]
    },
    {
      "cell_type": "markdown",
      "metadata": {
        "id": "7lWgDCydXoIx"
      },
      "source": [
        "При этом блок `else` может отсутствовать."
      ]
    },
    {
      "cell_type": "code",
      "execution_count": 64,
      "metadata": {},
      "outputs": [
        {
          "name": "stdout",
          "output_type": "stream",
          "text": [
            "hello world\n",
            "goodbye\n"
          ]
        }
      ],
      "source": [
        "print(\"hello\", \"world\")\n",
        "print(\"goodbye\")"
      ]
    },
    {
      "cell_type": "code",
      "execution_count": 66,
      "metadata": {
        "id": "oNQC1CUAXoIx",
        "scrolled": true
      },
      "outputs": [
        {
          "name": "stdout",
          "output_type": "stream",
          "text": [
            "5\n"
          ]
        }
      ],
      "source": [
        "# Преобразуем число, если оно отрицательное\n",
        "x = int(input('Введите число\\n'))\n",
        "if x < 0:\n",
        "    x = -x\n",
        "print(x)"
      ]
    },
    {
      "cell_type": "markdown",
      "metadata": {
        "id": "5YTSaEVKXoIx"
      },
      "source": [
        "#### Вложенные условия"
      ]
    },
    {
      "cell_type": "markdown",
      "metadata": {
        "id": "fmnzdczKX-JP"
      },
      "source": [
        "Внутри условных операторов можно использовать любые блоки кода, например, все те же условные операторы, чтобы получить двойную вложенность.\n",
        "\n",
        "Например, представьте, что вы пытаетесь проверить является ли год високосным.\n",
        "1. Если год делится на 4 без остатка, перейдите на шаг 2. В противном случае перейдите к выполнению действия 5.\n",
        "2. Если год делится на 100 без остатка, перейдите на шаг 3. В противном случае перейдите к выполнению действия 4.\n",
        "3. Если год делится на 400 без остатка, перейдите на шаг 4. В противном случае перейдите к выполнению действия 5.\n",
        "4. Год високосный (366 дней).\n",
        "5. Год не високосный год (365 дней)."
      ]
    },
    {
      "cell_type": "code",
      "execution_count": 71,
      "metadata": {
        "id": "VEh0qfVrXoI2",
        "scrolled": true
      },
      "outputs": [
        {
          "name": "stdout",
          "output_type": "stream",
          "text": [
            "Год високосный\n"
          ]
        }
      ],
      "source": [
        "year = int(input())\n",
        "\n",
        "if year % 4 == 0:  # можно еще просто if not year % 4:\n",
        "    if year % 100 == 0:\n",
        "        if year % 400 == 0:\n",
        "            print('Год високосный')\n",
        "        else:\n",
        "            print('Год не високосный')\n",
        "    else:\n",
        "        print('Год високосный')\n",
        "else:\n",
        "    print('Год не високосный')"
      ]
    },
    {
      "cell_type": "markdown",
      "metadata": {
        "id": "rq9R8HDjXoI2"
      },
      "source": [
        "#### Каскадные условия"
      ]
    },
    {
      "cell_type": "markdown",
      "metadata": {
        "id": "FOj-xAYHYAta"
      },
      "source": [
        "Питон позволяет писать блок из нескольких условий, которые будут проверяться последовательно с помощью выражения `elif`\n",
        "\n",
        "В такой конструкции условия `if`, ..., `elif` проверяются по очереди, выполняется блок, соответствующий первому из истинных условий. Если все проверяемые условия ложны, то выполняется блок `else`, если он присутствует."
      ]
    },
    {
      "cell_type": "code",
      "execution_count": null,
      "metadata": {
        "id": "BCQT-5ywXoI3"
      },
      "outputs": [],
      "source": [
        "song_name = input()\n",
        "\n",
        "if song_name == \"Wind of change\":\n",
        "    print(\"Seems like it's Scorpions\")\n",
        "elif song_name == \"My mistakes were made for you\":\n",
        "    print(\"I know it's The Last Shadow Puppets\")\n",
        "elif song_name == \"Californication\":\n",
        "    print(\"Is it RHCP?\")\n",
        "else:\n",
        "    print(\"Cannot understand you. Try again\")"
      ]
    },
    {
      "cell_type": "code",
      "execution_count": null,
      "metadata": {
        "id": "oVUxKdUoXoI3"
      },
      "outputs": [],
      "source": [
        "n = int(input())\n",
        "\n",
        "if n % 2 == 0 and n % 3 == 0:  # можно также if not n % 2 and not n % 3\n",
        "    print(\"Делится на 6\")\n",
        "elif n % 2 == 0:\n",
        "    print(\"Делится на 2\")\n",
        "elif n % 3 == 0:\n",
        "    print(\"Делится на 3\")\n",
        "else:\n",
        "    print(\"Не делится ни на 2, ни на 3\")"
      ]
    },
    {
      "cell_type": "markdown",
      "metadata": {
        "id": "tJX2TMsWXoI3"
      },
      "source": [
        "Все условия работают лениво: сначала проверяется первое, потом второе и так далее:"
      ]
    },
    {
      "cell_type": "code",
      "execution_count": 72,
      "metadata": {
        "id": "saHdVltYXoI3"
      },
      "outputs": [
        {
          "name": "stdout",
          "output_type": "stream",
          "text": [
            "Делится на 2\n"
          ]
        }
      ],
      "source": [
        "n = int(input())\n",
        "\n",
        "if n % 2 == 0 and n % 3 == 0:\n",
        "    print(\"Делится на 6\")\n",
        "elif n % 2 == 0:\n",
        "    print(\"Делится на 2\")\n",
        "elif n % 3 == 0:\n",
        "    print(\"Делится на 3\")\n",
        "elif n % 2 == 0 or n % 3 == 0:\n",
        "    print(\"Делится или на 2 или на 3\")  # <---- никогда не выведется\n",
        "else:\n",
        "    print(\"Не делится ни на 2, ни на 3\")"
      ]
    },
    {
      "cell_type": "code",
      "execution_count": null,
      "metadata": {},
      "outputs": [
        {
          "name": "stdout",
          "output_type": "stream",
          "text": [
            "високосный\n"
          ]
        }
      ],
      "source": [
        "year = int(input())\n",
        "\n",
        "if year % 400 == 0:\n",
        "    print(\"високосный\")\n",
        "elif year % 4 == 0:  # потому что год и так не делится на 100 из-за предыдущего условия\n",
        "    print(\"високосный\")\n",
        "else:\n",
        "    print(\"не високосный\")"
      ]
    },
    {
      "cell_type": "markdown",
      "metadata": {},
      "source": [
        "альтернативно:"
      ]
    },
    {
      "cell_type": "code",
      "execution_count": null,
      "metadata": {},
      "outputs": [],
      "source": [
        "year = int(input())\n",
        "\n",
        "if year % 400 == 0 or year % 4 == 0:\n",
        "    print(\"високосный\")\n",
        "else:\n",
        "    print(\"не високосный\")"
      ]
    },
    {
      "cell_type": "code",
      "execution_count": 74,
      "metadata": {},
      "outputs": [
        {
          "ename": "ZeroDivisionError",
          "evalue": "division by zero",
          "output_type": "error",
          "traceback": [
            "\u001b[31m---------------------------------------------------------------------------\u001b[39m",
            "\u001b[31mZeroDivisionError\u001b[39m                         Traceback (most recent call last)",
            "\u001b[36mCell\u001b[39m\u001b[36m \u001b[39m\u001b[32mIn[74]\u001b[39m\u001b[32m, line 1\u001b[39m\n\u001b[32m----> \u001b[39m\u001b[32m1\u001b[39m \u001b[32;43m1\u001b[39;49m\u001b[43m \u001b[49m\u001b[43m/\u001b[49m\u001b[43m \u001b[49m\u001b[32;43m0\u001b[39;49m\n",
            "\u001b[31mZeroDivisionError\u001b[39m: division by zero"
          ]
        }
      ],
      "source": [
        "1 / 0"
      ]
    },
    {
      "cell_type": "code",
      "execution_count": 76,
      "metadata": {
        "id": "7Xpl0HF5XoI4"
      },
      "outputs": [
        {
          "ename": "ZeroDivisionError",
          "evalue": "division by zero",
          "output_type": "error",
          "traceback": [
            "\u001b[31m---------------------------------------------------------------------------\u001b[39m",
            "\u001b[31mZeroDivisionError\u001b[39m                         Traceback (most recent call last)",
            "\u001b[36mCell\u001b[39m\u001b[36m \u001b[39m\u001b[32mIn[76]\u001b[39m\u001b[32m, line 3\u001b[39m\n\u001b[32m      1\u001b[39m n = \u001b[38;5;28mint\u001b[39m(\u001b[38;5;28minput\u001b[39m())\n\u001b[32m----> \u001b[39m\u001b[32m3\u001b[39m \u001b[38;5;28;01mif\u001b[39;00m n > \u001b[32m0\u001b[39m \u001b[38;5;129;01mand\u001b[39;00m \u001b[43mn\u001b[49m\u001b[43m \u001b[49m\u001b[43m/\u001b[49m\u001b[43m \u001b[49m\u001b[32;43m0\u001b[39;49m == \u001b[32m0\u001b[39m:\n\u001b[32m      4\u001b[39m     \u001b[38;5;28mprint\u001b[39m(\u001b[33m\"\u001b[39m\u001b[33mПрограмма не упала\u001b[39m\u001b[33m\"\u001b[39m)  \u001b[38;5;66;03m# Всегда выведет ошибку, если число больше 0\u001b[39;00m\n",
            "\u001b[31mZeroDivisionError\u001b[39m: division by zero"
          ]
        }
      ],
      "source": [
        "n = int(input())\n",
        "\n",
        "if n > 0 and n / 0 == 0:\n",
        "    print(\"Программа не упала\")  # Всегда выведет ошибку, если число больше 0"
      ]
    },
    {
      "cell_type": "code",
      "execution_count": 78,
      "metadata": {
        "id": "leGmlERBXoI4"
      },
      "outputs": [
        {
          "ename": "ZeroDivisionError",
          "evalue": "division by zero",
          "output_type": "error",
          "traceback": [
            "\u001b[31m---------------------------------------------------------------------------\u001b[39m",
            "\u001b[31mZeroDivisionError\u001b[39m                         Traceback (most recent call last)",
            "\u001b[36mCell\u001b[39m\u001b[36m \u001b[39m\u001b[32mIn[78]\u001b[39m\u001b[32m, line 3\u001b[39m\n\u001b[32m      1\u001b[39m n = \u001b[38;5;28mint\u001b[39m(\u001b[38;5;28minput\u001b[39m())\n\u001b[32m----> \u001b[39m\u001b[32m3\u001b[39m \u001b[38;5;28;01mif\u001b[39;00m n > \u001b[32m0\u001b[39m \u001b[38;5;129;01mor\u001b[39;00m \u001b[43mn\u001b[49m\u001b[43m \u001b[49m\u001b[43m/\u001b[49m\u001b[43m \u001b[49m\u001b[32;43m0\u001b[39;49m == \u001b[32m0\u001b[39m:\n\u001b[32m      4\u001b[39m     \u001b[38;5;28mprint\u001b[39m(\u001b[33m\"\u001b[39m\u001b[33mПрограмма не упала\u001b[39m\u001b[33m\"\u001b[39m)  \u001b[38;5;66;03m# Никогда не выведет ошибку, если число больше 0\u001b[39;00m\n",
            "\u001b[31mZeroDivisionError\u001b[39m: division by zero"
          ]
        }
      ],
      "source": [
        "n = int(input())\n",
        "\n",
        "if n > 0 or n / 0 == 0:\n",
        "    print(\"Программа не упала\")  # Никогда не выведет ошибку, если число больше 0"
      ]
    },
    {
      "cell_type": "code",
      "execution_count": 79,
      "metadata": {
        "id": "0ZEV72yXXoI4"
      },
      "outputs": [
        {
          "name": "stdout",
          "output_type": "stream",
          "text": [
            "Программа не упала\n"
          ]
        }
      ],
      "source": [
        "n = int(input())\n",
        "\n",
        "if n > 0 or not n / 0:  # <---- обратите внимание, несмотря на not, это тоже не упадет, если n > 0\n",
        "    print(\"Программа не упала\")"
      ]
    },
    {
      "cell_type": "markdown",
      "metadata": {
        "id": "xbGLOHlwXoI4"
      },
      "source": [
        "<details><summary>Дополнительно</summary>\n",
        "В питоне есть хитрые и менее очевидные способы использовать условия:\n",
        "\n",
        "```python\n",
        "num = int(input(\"Введите число\"))\n",
        "print(\"Отрицательное\" if num < 0 else \"Неотрицательное\")\n",
        "\n",
        "best_num = num if num > 0 else 0\n",
        "print(f'Лучшее на свете число - {best_num}')\n",
        "```\n",
        "</details>"
      ]
    },
    {
      "cell_type": "markdown",
      "metadata": {
        "id": "IJkutEejXoI4"
      },
      "source": [
        "<details><summary>[Факультативно] В Python 3.10 появился Pattern Matching</summary>\n",
        "который позволяет делать это вот так:\n",
        "\n",
        "```python\n",
        "match tutor_name:\n",
        "    case \"Тёма\":\n",
        "        print(\"Я в группе 1.\")\n",
        "    case _:\n",
        "        print(\"Наверное, я ошибся семинаром.\")\n",
        "```\n",
        "\n",
        "Но мы намеренно не рассматриваем эту конструкцию сейчас, она сильно более обширна, чем матчинг примитивов, поэтому постараемся поговорить про нее позже.\n",
        "</details>"
      ]
    },
    {
      "cell_type": "markdown",
      "metadata": {
        "id": "tNCrHMD0XoI4"
      },
      "source": [
        "##### Немного о моржах"
      ]
    },
    {
      "cell_type": "markdown",
      "metadata": {
        "id": "Ptbn-oR5XoI5"
      },
      "source": [
        "Давайте упростим конструкцию за счет возможностей Python 3.8:"
      ]
    },
    {
      "cell_type": "code",
      "execution_count": 81,
      "metadata": {
        "id": "9A--p-a5XoI5"
      },
      "outputs": [
        {
          "name": "stdout",
          "output_type": "stream",
          "text": [
            "Кажется Олег - семинарист другой группы\n"
          ]
        }
      ],
      "source": [
        "if (tutor_name := input()) == \"Тёма\":\n",
        "    print(\"Я в группе 1.\")\n",
        "else:\n",
        "    print(f\"Кажется {tutor_name} - семинарист другой группы\")"
      ]
    },
    {
      "cell_type": "markdown",
      "metadata": {
        "id": "us9MlMvBXoI5"
      },
      "source": [
        "Но вообще моржовый оператор очень коварен и может вводить в заблуждение. Вокруг него в целом было много шумихи в сообществе языка, и это спровоцировало уход из комитета самого Гвидо Ван Россума."
      ]
    },
    {
      "cell_type": "code",
      "execution_count": 84,
      "metadata": {
        "collapsed": true,
        "id": "mAjvULrVXoI5"
      },
      "outputs": [
        {
          "name": "stdout",
          "output_type": "stream",
          "text": [
            "Кажется False - семинарист другой группы\n"
          ]
        }
      ],
      "source": [
        "if tutor_name := input() == \"Тёма\":  # что станет если мы забудем про скобки?\n",
        "    print(\"Я в группе 1.\")\n",
        "else:\n",
        "    print(f\"Кажется {tutor_name} - семинарист другой группы\")"
      ]
    },
    {
      "cell_type": "code",
      "execution_count": null,
      "metadata": {},
      "outputs": [],
      "source": []
    },
    {
      "cell_type": "code",
      "execution_count": null,
      "metadata": {},
      "outputs": [],
      "source": []
    }
  ],
  "metadata": {
    "colab": {
      "provenance": []
    },
    "kernelspec": {
      "display_name": "Python 3",
      "language": "python",
      "name": "python3"
    },
    "language_info": {
      "codemirror_mode": {
        "name": "ipython",
        "version": 3
      },
      "file_extension": ".py",
      "mimetype": "text/x-python",
      "name": "python",
      "nbconvert_exporter": "python",
      "pygments_lexer": "ipython3",
      "version": "3.13.5"
    }
  },
  "nbformat": 4,
  "nbformat_minor": 0
}
