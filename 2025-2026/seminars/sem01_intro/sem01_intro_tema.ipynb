{
  "cells": [
    {
      "cell_type": "markdown",
      "id": "fad65813",
      "metadata": {
        "id": "fad65813"
      },
      "source": [
        "# Семинар 1: (небольшое) знакомство с Jupyter Notebook, базовые арифметические операции, базовые типы данных в Python"
      ]
    },
    {
      "cell_type": "markdown",
      "id": "8c8037c6",
      "metadata": {
        "id": "8c8037c6"
      },
      "source": [
        "Это Jupyter-ноутбук. Тут можно писать код прямо в ячейках и выполнять его пошагово. Это удобно и часто, например, используется в анализе данных. Тут можно *по-разному* **форматировать** ~текст~. Можно запускать его со своего копьютера, если у вас есть соответствующая программа, или пользоваться онлайн-версией (например, [google colab](https://colab.google), в котором вы сейчас смотрите эту тетрадку). Мы в этом году джупитером скорее всего не будем пользоваться, но, возможно, некоторые конспекты с пар будут в таком формате."
      ]
    },
    {
      "cell_type": "markdown",
      "id": "01592098",
      "metadata": {
        "id": "01592098"
      },
      "source": [
        "Тут можно создавать ячейки, писать в них код и запускать их (с помощью кнопочки Run со стрекочкой вверху слева или shift+ctrl)."
      ]
    },
    {
      "cell_type": "code",
      "execution_count": 6,
      "id": "266f4ae1",
      "metadata": {},
      "outputs": [
        {
          "data": {
            "text/plain": [
              "1"
            ]
          },
          "execution_count": 6,
          "metadata": {},
          "output_type": "execute_result"
        }
      ],
      "source": [
        "1"
      ]
    },
    {
      "cell_type": "code",
      "execution_count": 7,
      "id": "3ba4e468",
      "metadata": {
        "colab": {
          "base_uri": "https://localhost:8080/"
        },
        "id": "3ba4e468",
        "outputId": "4be1c501-1443-49de-ac3d-0d2cc4321402"
      },
      "outputs": [
        {
          "data": {
            "text/plain": [
              "7"
            ]
          },
          "execution_count": 7,
          "metadata": {},
          "output_type": "execute_result"
        }
      ],
      "source": [
        "2 + 5"
      ]
    },
    {
      "cell_type": "markdown",
      "id": "f03b0b52",
      "metadata": {
        "id": "f03b0b52"
      },
      "source": [
        "Всё работает, а мы заодно познакомились с операцией сложения. Посмотрим, что еще умеет питон и как это написать."
      ]
    },
    {
      "cell_type": "markdown",
      "id": "32b1ab01",
      "metadata": {
        "id": "32b1ab01"
      },
      "source": [
        "## Арифметика"
      ]
    },
    {
      "cell_type": "code",
      "execution_count": 8,
      "id": "1bf201e4",
      "metadata": {
        "colab": {
          "base_uri": "https://localhost:8080/"
        },
        "id": "1bf201e4",
        "outputId": "831ba0be-3056-44b8-d348-10e613060f54"
      },
      "outputs": [
        {
          "data": {
            "text/plain": [
              "21"
            ]
          },
          "execution_count": 8,
          "metadata": {},
          "output_type": "execute_result"
        }
      ],
      "source": [
        "# умножение (да-да, с помощью решеточки в питоне можно писать комментарии)\n",
        "3 * (2 + 5)"
      ]
    },
    {
      "cell_type": "code",
      "execution_count": 9,
      "id": "3566f963",
      "metadata": {
        "colab": {
          "base_uri": "https://localhost:8080/"
        },
        "id": "3566f963",
        "outputId": "ae8e6d5e-e65f-4591-dc02-1092e1cd3117"
      },
      "outputs": [
        {
          "data": {
            "text/plain": [
              "2.5714285714285716"
            ]
          },
          "execution_count": 9,
          "metadata": {},
          "output_type": "execute_result"
        }
      ],
      "source": [
        "# деление\n",
        "18 / 7"
      ]
    },
    {
      "cell_type": "code",
      "execution_count": 10,
      "id": "a7babe7e",
      "metadata": {
        "colab": {
          "base_uri": "https://localhost:8080/"
        },
        "id": "a7babe7e",
        "outputId": "ed48b0bb-991f-4815-faf4-51abbafb51c0"
      },
      "outputs": [
        {
          "data": {
            "text/plain": [
              "2"
            ]
          },
          "execution_count": 10,
          "metadata": {},
          "output_type": "execute_result"
        }
      ],
      "source": [
        "# целочисленное деление (всё, что до запятой)\n",
        "18 // 7"
      ]
    },
    {
      "cell_type": "code",
      "execution_count": 11,
      "id": "36358ad3",
      "metadata": {
        "colab": {
          "base_uri": "https://localhost:8080/"
        },
        "id": "36358ad3",
        "outputId": "b025fcf0-0ad0-42fe-9492-7a78f4699661"
      },
      "outputs": [
        {
          "data": {
            "text/plain": [
              "4"
            ]
          },
          "execution_count": 11,
          "metadata": {},
          "output_type": "execute_result"
        }
      ],
      "source": [
        "# остаток от деления\n",
        "18 % 7"
      ]
    },
    {
      "cell_type": "code",
      "execution_count": 12,
      "id": "a638d58d",
      "metadata": {},
      "outputs": [
        {
          "data": {
            "text/plain": [
              "-3"
            ]
          },
          "execution_count": 12,
          "metadata": {},
          "output_type": "execute_result"
        }
      ],
      "source": [
        "18 % -7"
      ]
    },
    {
      "cell_type": "code",
      "execution_count": 13,
      "id": "37369aac",
      "metadata": {
        "colab": {
          "base_uri": "https://localhost:8080/"
        },
        "id": "37369aac",
        "outputId": "63ce5fdc-097f-4059-a599-2c8cd010072f"
      },
      "outputs": [
        {
          "data": {
            "text/plain": [
              "8"
            ]
          },
          "execution_count": 13,
          "metadata": {},
          "output_type": "execute_result"
        }
      ],
      "source": [
        "# возведение в степень (осторожно! не ^)\n",
        "2 ** 3"
      ]
    },
    {
      "cell_type": "code",
      "execution_count": 14,
      "id": "b0ad4586",
      "metadata": {
        "colab": {
          "base_uri": "https://localhost:8080/"
        },
        "id": "b0ad4586",
        "outputId": "d138442c-b785-40a9-d3aa-c87bb7c0249a"
      },
      "outputs": [
        {
          "data": {
            "text/plain": [
              "1"
            ]
          },
          "execution_count": 14,
          "metadata": {},
          "output_type": "execute_result"
        }
      ],
      "source": [
        "# ^ делает другое (пока не углубляемся, что, если интересно, можно загуглить)\n",
        "2 ^ 3"
      ]
    },
    {
      "cell_type": "code",
      "execution_count": 15,
      "id": "c092177b",
      "metadata": {},
      "outputs": [
        {
          "data": {
            "text/plain": [
              "1"
            ]
          },
          "execution_count": 15,
          "metadata": {},
          "output_type": "execute_result"
        }
      ],
      "source": [
        "1 ^ 0"
      ]
    },
    {
      "cell_type": "markdown",
      "id": "e7d8d915",
      "metadata": {
        "id": "e7d8d915"
      },
      "source": [
        "## Переменные"
      ]
    },
    {
      "cell_type": "markdown",
      "id": "180a560e",
      "metadata": {
        "id": "180a560e"
      },
      "source": [
        "В python есть 2 типа сущностей: объекты и операции.\n",
        "\n",
        "Объекты существуют, операции их изменяют, перебирают, сохраняют или удаляют. Мы уже научились некоторым операциям. Теперь научимся сохранять результаты этих операций в переменые."
      ]
    },
    {
      "cell_type": "code",
      "execution_count": 16,
      "id": "eba223c8",
      "metadata": {
        "colab": {
          "base_uri": "https://localhost:8080/"
        },
        "id": "eba223c8",
        "outputId": "024a9aa0-29bc-476d-b488-b2231f58cb53"
      },
      "outputs": [
        {
          "name": "stdout",
          "output_type": "stream",
          "text": [
            "2 7 5 hello world\n"
          ]
        }
      ],
      "source": [
        "a = 2\n",
        "b = 7\n",
        "print(a, b, 5, \"hello world\")"
      ]
    },
    {
      "cell_type": "markdown",
      "id": "f508e86d",
      "metadata": {
        "id": "f508e86d"
      },
      "source": [
        "Мы сохранили числовые значения в переменные и напечатали их с помощью функции `print()`. `a`, `b` в данном случае -- это аргументы данной функции. Подробнее о `print()` еще поговорим дальше."
      ]
    },
    {
      "cell_type": "code",
      "execution_count": 17,
      "id": "798c430e",
      "metadata": {
        "colab": {
          "base_uri": "https://localhost:8080/"
        },
        "id": "798c430e",
        "outputId": "07aa314e-9c62-4297-f42f-f4eb3d0e91d9"
      },
      "outputs": [
        {
          "data": {
            "text/plain": [
              "5"
            ]
          },
          "execution_count": 17,
          "metadata": {},
          "output_type": "execute_result"
        }
      ],
      "source": [
        "a + 3"
      ]
    },
    {
      "cell_type": "code",
      "execution_count": 18,
      "id": "e4192634",
      "metadata": {
        "colab": {
          "base_uri": "https://localhost:8080/"
        },
        "id": "e4192634",
        "outputId": "870ba948-cc2a-47c6-ddce-96486358fda4"
      },
      "outputs": [
        {
          "name": "stdout",
          "output_type": "stream",
          "text": [
            "2\n"
          ]
        }
      ],
      "source": [
        "print(a)"
      ]
    },
    {
      "cell_type": "markdown",
      "id": "d9907ae8",
      "metadata": {
        "id": "d9907ae8"
      },
      "source": [
        "Мы же добавили 3 к `a`, почему `a` всё ещё 2, а не 5? Потому что мы не сохранили значение выражения в переменную! Если хотим изменить именно `a`, можно записать это несколькими способами."
      ]
    },
    {
      "cell_type": "code",
      "execution_count": 19,
      "id": "43a60fcf",
      "metadata": {
        "id": "43a60fcf"
      },
      "outputs": [],
      "source": [
        "a = a + 2\n",
        "# a += 2\n",
        "# то же самое, только покороче записали, такая вот красота от питона\n",
        "# перед = может быть любой арифм знак с той же логикой"
      ]
    },
    {
      "cell_type": "code",
      "execution_count": 20,
      "id": "6c318164",
      "metadata": {
        "colab": {
          "base_uri": "https://localhost:8080/"
        },
        "id": "6c318164",
        "outputId": "8ecd25bc-b913-4618-f9e0-915df4442448"
      },
      "outputs": [
        {
          "name": "stdout",
          "output_type": "stream",
          "text": [
            "4\n"
          ]
        }
      ],
      "source": [
        "print(a)"
      ]
    },
    {
      "cell_type": "markdown",
      "id": "7856dbce",
      "metadata": {
        "id": "7856dbce"
      },
      "source": [
        "Вот теперь всё как надо."
      ]
    },
    {
      "cell_type": "code",
      "execution_count": 21,
      "id": "0ea7e779",
      "metadata": {
        "id": "0ea7e779"
      },
      "outputs": [],
      "source": [
        "c = 4 + 7\n",
        "d = a + b  # a = 4, b = 7"
      ]
    },
    {
      "cell_type": "markdown",
      "id": "21fc4164",
      "metadata": {
        "id": "21fc4164"
      },
      "source": [
        "Сохранили в переменные результаты операции сложения. Еще переменные можно сравнивать между собой. При этом получаем ответ -- либо истина (True), либо ложь (False)."
      ]
    },
    {
      "cell_type": "code",
      "execution_count": 22,
      "id": "ec26e50c",
      "metadata": {
        "colab": {
          "base_uri": "https://localhost:8080/"
        },
        "id": "ec26e50c",
        "outputId": "a66d688f-7ea4-445c-8e06-c8e0cf259e81"
      },
      "outputs": [
        {
          "data": {
            "text/plain": [
              "True"
            ]
          },
          "execution_count": 22,
          "metadata": {},
          "output_type": "execute_result"
        }
      ],
      "source": [
        "# равенство (два знака равно! один это присваивание значения переменной)\n",
        "c == d"
      ]
    },
    {
      "cell_type": "code",
      "execution_count": 23,
      "id": "9735b1ee",
      "metadata": {
        "colab": {
          "base_uri": "https://localhost:8080/"
        },
        "id": "9735b1ee",
        "outputId": "96d8b8ca-abdf-4ac6-c022-af079d12d794"
      },
      "outputs": [
        {
          "data": {
            "text/plain": [
              "False"
            ]
          },
          "execution_count": 23,
          "metadata": {},
          "output_type": "execute_result"
        }
      ],
      "source": [
        "# неравенство\n",
        "c != d"
      ]
    },
    {
      "cell_type": "code",
      "execution_count": 24,
      "id": "7e260200",
      "metadata": {
        "colab": {
          "base_uri": "https://localhost:8080/"
        },
        "id": "7e260200",
        "outputId": "fe1c4aeb-b4b0-4b66-af69-3e771eaf1da0"
      },
      "outputs": [
        {
          "data": {
            "text/plain": [
              "True"
            ]
          },
          "execution_count": 24,
          "metadata": {},
          "output_type": "execute_result"
        }
      ],
      "source": [
        "# больше (больше или равно >=)\n",
        "c > b"
      ]
    },
    {
      "cell_type": "code",
      "execution_count": 25,
      "id": "a3197672",
      "metadata": {
        "colab": {
          "base_uri": "https://localhost:8080/"
        },
        "id": "a3197672",
        "outputId": "385e4062-438f-46d6-82ca-7a0255af1941"
      },
      "outputs": [
        {
          "data": {
            "text/plain": [
              "False"
            ]
          },
          "execution_count": 25,
          "metadata": {},
          "output_type": "execute_result"
        }
      ],
      "source": [
        "# меньше (меньше или равно <=)\n",
        "c < a"
      ]
    },
    {
      "cell_type": "markdown",
      "id": "2e9cb6cb",
      "metadata": {
        "id": "2e9cb6cb"
      },
      "source": [
        "## Типы данных"
      ]
    },
    {
      "cell_type": "markdown",
      "id": "3d3a9255",
      "metadata": {
        "id": "3d3a9255"
      },
      "source": [
        "У всех объектов в python есть тип/класс. Узнать его можно вот так."
      ]
    },
    {
      "cell_type": "code",
      "execution_count": 26,
      "id": "3bc0d6e0",
      "metadata": {
        "colab": {
          "base_uri": "https://localhost:8080/"
        },
        "id": "3bc0d6e0",
        "outputId": "e1b00212-d498-4089-92bf-27146a6900fd"
      },
      "outputs": [
        {
          "data": {
            "text/plain": [
              "int"
            ]
          },
          "execution_count": 26,
          "metadata": {},
          "output_type": "execute_result"
        }
      ],
      "source": [
        "type(a)"
      ]
    },
    {
      "cell_type": "markdown",
      "id": "098807e8",
      "metadata": {
        "id": "098807e8"
      },
      "source": [
        "До сих пор мы заводили переменные с целочисленным типом (integer, int). Но во время операций нам так же встречались вещественные числа, или числа с плавающей точкой, (float) и булевый тип, т.е. True/False (bool)."
      ]
    },
    {
      "cell_type": "code",
      "execution_count": 27,
      "id": "5d947b66",
      "metadata": {
        "colab": {
          "base_uri": "https://localhost:8080/"
        },
        "id": "5d947b66",
        "outputId": "47305fd0-a160-4744-8041-95befcc127c1"
      },
      "outputs": [
        {
          "name": "stdout",
          "output_type": "stream",
          "text": [
            "5 <class 'int'>\n",
            "2.17 <class 'float'>\n",
            "True <class 'bool'>\n"
          ]
        }
      ],
      "source": [
        "x = 5  # целое число\n",
        "print(x, type(x))\n",
        "\n",
        "z = 2.17  # вещественное число\n",
        "print(z, type(z))\n",
        "\n",
        "u = True\n",
        "print(u, type(u))"
      ]
    },
    {
      "cell_type": "markdown",
      "id": "73c6ebb9",
      "metadata": {
        "id": "73c6ebb9"
      },
      "source": [
        "Ещё в питоне есть сторки. Они оформляются в кавычки. Можно одинарные, можно двойные."
      ]
    },
    {
      "cell_type": "code",
      "execution_count": 28,
      "id": "da0ab2c8",
      "metadata": {
        "id": "da0ab2c8"
      },
      "outputs": [],
      "source": [
        "a = 'never'"
      ]
    },
    {
      "cell_type": "code",
      "execution_count": 29,
      "id": "e7e9d680",
      "metadata": {},
      "outputs": [
        {
          "data": {
            "text/plain": [
              "str"
            ]
          },
          "execution_count": 29,
          "metadata": {},
          "output_type": "execute_result"
        }
      ],
      "source": [
        "type(a)"
      ]
    },
    {
      "cell_type": "markdown",
      "id": "a50908cd",
      "metadata": {
        "id": "a50908cd"
      },
      "source": [
        "Важно: если у вас в строке присутствуют кавычки как часть строки, надо чтобы кавычки-элементы_строки и кавычки-оформители_строки были разные, иначе питон не будет вас понимать (см. подсветку) и будет ругаться."
      ]
    },
    {
      "cell_type": "code",
      "execution_count": 30,
      "id": "665fc644",
      "metadata": {
        "colab": {
          "base_uri": "https://localhost:8080/",
          "height": 140
        },
        "id": "665fc644",
        "outputId": "91c85c0c-0731-4f10-c272-655a44e2c977"
      },
      "outputs": [
        {
          "ename": "SyntaxError",
          "evalue": "unterminated string literal (detected at line 3) (502531464.py, line 3)",
          "output_type": "error",
          "traceback": [
            "  \u001b[36mCell\u001b[39m\u001b[36m \u001b[39m\u001b[32mIn[30]\u001b[39m\u001b[32m, line 3\u001b[39m\n\u001b[31m    \u001b[39m\u001b[31mq = 'Национальный исследовательский унивеситет 'Высшая школа экономики\"'\u001b[39m\n                                                                          ^\n\u001b[31mSyntaxError\u001b[39m\u001b[31m:\u001b[39m unterminated string literal (detected at line 3)\n"
          ]
        }
      ],
      "source": [
        "x = 'Национальный исследовательский унивеситет \"Высшая школа экономики\"'\n",
        "y = \"Национальный исследовательский унивеситет 'Высшая школа экономики'\"\n",
        "q = 'Национальный исследовательский унивеситет 'Высшая школа экономики\"'"
      ]
    },
    {
      "cell_type": "code",
      "execution_count": null,
      "id": "fc89d8fa",
      "metadata": {},
      "outputs": [],
      "source": [
        "x = 'Национальный исследовательский унивеситет \"Высшая школа экономики\"'\n",
        "y = \"Национальный исследовательский унивеситет 'Высшая школа экономики'\"\n",
        "q = 'Национальный исследовательский унивеситет \\'Высшая школа экономики\"'"
      ]
    },
    {
      "cell_type": "code",
      "execution_count": null,
      "id": "091701f9",
      "metadata": {},
      "outputs": [],
      "source": [
        "print(q)"
      ]
    },
    {
      "cell_type": "markdown",
      "id": "d3334ede",
      "metadata": {
        "id": "d3334ede"
      },
      "source": [
        "*Вот так, кстати, выглядит ошибка. Ошибок бояться не надо! Они не кусаются (хотя нервы могут изрядно подпортить). Надо читать, что написано, и если непонятно, гуглить.*"
      ]
    },
    {
      "cell_type": "markdown",
      "id": "9d3990e5",
      "metadata": {
        "id": "9d3990e5"
      },
      "source": [
        "Строки можно складывать, можно умножать. А вот возвести в степень уже не получится."
      ]
    },
    {
      "cell_type": "code",
      "execution_count": null,
      "id": "ff0ee731",
      "metadata": {
        "id": "ff0ee731"
      },
      "outputs": [],
      "source": [
        "b = 'gonna'\n",
        "c = 'give'\n",
        "d = 'you'\n",
        "e = 'up'\n",
        "\n",
        "print(a + '.' + b + ' sdfhdsjghdsfg' + c + ' ' + d + ' ' + e) # hehe (' ' -- это строка, состоящая из одного пробела)\n",
        "print(e * 4)\n",
        "print(e ** 2)"
      ]
    },
    {
      "cell_type": "markdown",
      "id": "69d690cc",
      "metadata": {
        "id": "69d690cc"
      },
      "source": [
        "Ещё раз: сложение строк и сложение чисел -- это про разное! Хоть и используется одинаковый значок."
      ]
    },
    {
      "cell_type": "code",
      "execution_count": null,
      "id": "8befa7bf",
      "metadata": {
        "id": "8befa7bf"
      },
      "outputs": [],
      "source": [
        "print('1' + '2')\n",
        "print(1 + 2)"
      ]
    },
    {
      "cell_type": "code",
      "execution_count": null,
      "id": "de57edb5",
      "metadata": {},
      "outputs": [],
      "source": [
        "1 + '1'"
      ]
    },
    {
      "cell_type": "markdown",
      "id": "46c5311b",
      "metadata": {},
      "source": [
        "статическая и динамическая типизация\n",
        "\n",
        "\n",
        "статическая:\n",
        "\n",
        "```c++\n",
        "int x = 1;\n",
        "x = 2; // валидно\n",
        "x = \"abcd\" // невалидно\n",
        "```\n",
        "\n",
        "динамическая:\n",
        "\n",
        "```python\n",
        "x = 5\n",
        "x = \"abcd\"\n",
        "x = print\n",
        "```\n",
        "\n",
        "строгая и нестрогая типизация\n",
        "\n",
        "строгая\n",
        "```python\n",
        "1 + 1  # можно\n",
        "1 + '1' # низя\n",
        "```\n",
        "\n",
        "нестрогая\n",
        "```js\n",
        "1 + 1  // можно\n",
        "1 + '1' // тем более можно\n",
        "```"
      ]
    },
    {
      "cell_type": "markdown",
      "id": "3636dfd0",
      "metadata": {
        "id": "3636dfd0"
      },
      "source": [
        "## Вывод и ввод"
      ]
    },
    {
      "cell_type": "markdown",
      "id": "1c3a3e03",
      "metadata": {
        "id": "1c3a3e03"
      },
      "source": [
        "Мы уже умеем выводить результат с помощью функции `print()`. У функций помимо **аргументов** (== с чем делать), у нее также есть **параметры** (== как делать). У функции `print()` есть, например, параметры `sep` и `end`. Попробуйте сами понять их значение и мотивацию названия из примеров ниже. А еще рекомендуется найти какие-нибудь другие параметры функции `print()` (зАгУгЛиВ) и поиграться с ними."
      ]
    },
    {
      "cell_type": "code",
      "execution_count": null,
      "id": "86676e54",
      "metadata": {},
      "outputs": [],
      "source": [
        "print(1, end=\"\\n\")\n",
        "print(2)"
      ]
    },
    {
      "cell_type": "code",
      "execution_count": null,
      "id": "4b192e35",
      "metadata": {
        "id": "4b192e35"
      },
      "outputs": [],
      "source": [
        "print(a, b, c, d, e, sep='_', end='...')\n",
        "print(1)"
      ]
    },
    {
      "cell_type": "code",
      "execution_count": null,
      "id": "cea94689",
      "metadata": {
        "id": "cea94689"
      },
      "outputs": [],
      "source": [
        "print(a, b, c, d, e, sep=' ', end='!')"
      ]
    },
    {
      "cell_type": "markdown",
      "id": "5aa0258c",
      "metadata": {
        "id": "5aa0258c"
      },
      "source": [
        "Теперь представим, что мы написали код, который спрашивает у пользователя логин и дальше что-то с ним делает. Пользователь не имеет доступа к нашему коду (это неудобно и опасно для всех). Поэтому надо научиться считывать строку с клавиатуры, записывать ее в переменную, и уже дальше, вдали от пользователя, с ней работать. В этом нам помогает функция `input()`. При запуске кода надо ввести значение, тогда код будет работать дальше."
      ]
    },
    {
      "cell_type": "code",
      "execution_count": null,
      "id": "46677a69",
      "metadata": {
        "id": "46677a69"
      },
      "outputs": [],
      "source": [
        "x = input()\n",
        "print('Кто сегодня молодец? Ну, конечно,', x, end='!')"
      ]
    },
    {
      "cell_type": "code",
      "execution_count": null,
      "id": "c6e04933",
      "metadata": {
        "id": "c6e04933"
      },
      "outputs": [],
      "source": [
        "# можно добавить пользователю подсказку\n",
        "# которая при этом не будет записываться в переменную\n",
        "x = input('Введите своё имя: ')\n",
        "print('Кто сегодня молодец? Ну, конечно,', x, sep=' ', end='!')"
      ]
    },
    {
      "cell_type": "markdown",
      "id": "bf04b37a",
      "metadata": {
        "id": "bf04b37a"
      },
      "source": [
        "Важно: `input()` всегда принимает и возвращает строку."
      ]
    },
    {
      "cell_type": "code",
      "execution_count": null,
      "id": "8ec73d2f",
      "metadata": {
        "id": "8ec73d2f"
      },
      "outputs": [],
      "source": [
        "hours = input('Введите количество часов, которое вы поработали сегодня: ')\n",
        "minutes = hours * 60\n",
        "print('Ого, вы поработали целых ', minutes, ' минут! Это много, можно и сериальчик посмотреть.')"
      ]
    },
    {
      "cell_type": "markdown",
      "id": "ca89b746",
      "metadata": {
        "id": "ca89b746"
      },
      "source": [
        "Поэтому, если нам нужно число, надо превратить строку в число. Сделать это можно с помощью функции `int()` (попробуйте сами догадаться, как превратить строку (тип str) в число)."
      ]
    },
    {
      "cell_type": "code",
      "execution_count": null,
      "id": "b31294dd",
      "metadata": {
        "id": "b31294dd"
      },
      "outputs": [],
      "source": [
        "hours = input('Введите количество часов, которое вы поработали сегодня: ')\n",
        "hours = int(hours)\n",
        "minutes = hours * 60\n",
        "print('Ого, вы поработали целых ', minutes, ' минут! Это много, можно и сериальчик посмотреть.')"
      ]
    },
    {
      "cell_type": "code",
      "execution_count": null,
      "id": "a5032616",
      "metadata": {},
      "outputs": [],
      "source": [
        "int('abc')"
      ]
    },
    {
      "cell_type": "code",
      "execution_count": null,
      "id": "4c1b9cc8",
      "metadata": {
        "id": "4c1b9cc8"
      },
      "outputs": [],
      "source": [
        "# а можно в одну строчку\n",
        "hours = int(input('Введите количество часов, которое вы поработали сегодня: '))\n",
        "minutes = hours * 60\n",
        "print('Ого, вы поработали целых ', minutes, ' минут! Это много, можно и сериальчик посмотреть.')"
      ]
    },
    {
      "cell_type": "code",
      "execution_count": null,
      "id": "74e9d564",
      "metadata": {},
      "outputs": [],
      "source": [
        "r = float(input(\"Введите вещественный радиус круга\"))\n",
        "print(3.14 * r ** 2)"
      ]
    },
    {
      "cell_type": "code",
      "execution_count": null,
      "id": "40d4abd6",
      "metadata": {},
      "outputs": [],
      "source": [
        "a = 0.31 + 0.1\n",
        "b = 0.41\n",
        "\n",
        "print(abs(a - b) < 1e-6)"
      ]
    },
    {
      "cell_type": "code",
      "execution_count": null,
      "id": "b8456053",
      "metadata": {},
      "outputs": [],
      "source": [
        "print(f\"{0.31:.20f}\")"
      ]
    },
    {
      "cell_type": "markdown",
      "id": "76c56f12",
      "metadata": {
        "id": "76c56f12"
      },
      "source": [
        "## Последнее на сегодня"
      ]
    },
    {
      "cell_type": "markdown",
      "id": "f4fb7445",
      "metadata": {
        "id": "f4fb7445"
      },
      "source": [
        "* У python есть свои стандартны красоты. Например, ставить пробельчики с двух сторон от арифметических знаков. Это не влияет на исполнение вашего кода, но гораздо упрощает его чтение другому человеку. Прочитать подробнее можно [тут](https://peps.python.org/pep-0008/) (душно, но можно найти более юзерфрендли туториалы и шпаргалки). Учить не стоит, мы будем это упоминать по ходу курса. (*Дисклеймер: в средах разработки есть специальные штуки, которые наводят на код марафет за вас, но наш совет -- приучать себя к PEP8 смолоду.*)\n",
        "* Если у вас на компьютере нет python и/или какой-нибудь из сред разработки (VS Code, Pycharm, etc.) обязательно напишите преподам\n",
        "* Если вы не поняли что-то с семинара, спрашивайте преподов и ассистентов\n",
        "* Если что-то нужно, но вы это не умете и мы про это не сказали на семинаре -- не бойтесь взять и загуглить"
      ]
    },
    {
      "cell_type": "markdown",
      "id": "3a033679",
      "metadata": {
        "id": "3a033679"
      },
      "source": [
        "![](https://i.pinimg.com/originals/41/3e/4d/413e4d7b652424798252f362bcbecb14.png)"
      ]
    },
    {
      "cell_type": "code",
      "execution_count": null,
      "id": "s5HWqKOx_J7A",
      "metadata": {
        "id": "s5HWqKOx_J7A"
      },
      "outputs": [],
      "source": []
    }
  ],
  "metadata": {
    "colab": {
      "provenance": []
    },
    "kernelspec": {
      "display_name": "Python 3",
      "language": "python",
      "name": "python3"
    },
    "language_info": {
      "codemirror_mode": {
        "name": "ipython",
        "version": 3
      },
      "file_extension": ".py",
      "mimetype": "text/x-python",
      "name": "python",
      "nbconvert_exporter": "python",
      "pygments_lexer": "ipython3",
      "version": "3.13.5"
    }
  },
  "nbformat": 4,
  "nbformat_minor": 5
}
