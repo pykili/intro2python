{
 "cells": [
  {
   "cell_type": "markdown",
   "metadata": {},
   "source": [
    "# Семинар 10: продвинутые функции"
   ]
  },
  {
   "cell_type": "markdown",
   "metadata": {},
   "source": [
    "### Рекурсия\n",
    "\n",
    "Пусть мы хотим написать функцию быстрого возведения числа в степень:\n",
    "\n",
    "```\n",
    "def pow(base: Union[int, float], deg: int)\n",
    "```\n",
    "\n",
    "Известно, что:\n",
    "```\n",
    "pow(a, n)\n",
    "    = pow(a, n // 2) ** 2, если n -- четное\n",
    "    = a * pow(a, n // 2) ** 2, если n -- нечетное\n",
    "```"
   ]
  },
  {
   "cell_type": "code",
   "execution_count": null,
   "metadata": {},
   "outputs": [],
   "source": [
    "def pow(base: int | float, deg: int) -> int | float:\n",
    "    if base == 0:\n",
    "        return 0  # а без этого получим DivisionByZeroError, если deg < 0 [1]\n",
    "\n",
    "    if deg == 0:\n",
    "        return 1  # без этого получим бесконечное выполнение\n",
    "    elif deg < 0:\n",
    "        deg *= -1\n",
    "        base = 1 / base  # [1] вот тут\n",
    "\n",
    "    if not deg % 2:\n",
    "        return pow(base, deg // 2) ** 2\n",
    "    return base * pow(base, deg // 2) ** 2\n"
   ]
  },
  {
   "cell_type": "code",
   "execution_count": null,
   "metadata": {},
   "outputs": [],
   "source": [
    "pow(2, 2)"
   ]
  },
  {
   "cell_type": "markdown",
   "metadata": {},
   "source": [
    "Что тут произошло? Правильно, мы вызвали из функции саму себя, получается так называемая рекурсия.\n",
    "\n",
    "С рекурсией стоит быть аккуратным: неаккуратное ее использование приведет к бесконечной работе программы, а также она выжрет у вас всю память компа или питон прибьет ее раньше."
   ]
  },
  {
   "cell_type": "markdown",
   "metadata": {},
   "source": [
    "Под капотом рекурсия работает как стэк вызовов. Каждый новый вызов помещается на его верхушку, после выполнения работы функции на этапе рекурсии этот вызов со стэка снимается. Проще всего это заметить если Сделать искусственный пример, где выдадим ошибку в какой-то момент времени."
   ]
  },
  {
   "cell_type": "code",
   "execution_count": null,
   "metadata": {},
   "outputs": [],
   "source": [
    "def recursive(n: int):\n",
    "    if n == 0:\n",
    "        raise RuntimeError(\"Just checking call stack\")\n",
    "\n",
    "    recursive(n - 1)\n"
   ]
  },
  {
   "cell_type": "code",
   "execution_count": null,
   "metadata": {},
   "outputs": [],
   "source": [
    "recursive(6)"
   ]
  },
  {
   "cell_type": "markdown",
   "metadata": {},
   "source": [
    "### Проблема лимита рекурсии\n",
    "\n",
    "Пусть мы хотим рекурсивно сумму для всех чисел от 1 до n (примечание: ДА, я знаю, что это можно просто сделать циклом, это игрушечный пример)"
   ]
  },
  {
   "cell_type": "code",
   "execution_count": null,
   "metadata": {},
   "outputs": [],
   "source": [
    "def recursive(n: int):\n",
    "    if n == 1:\n",
    "        return 1\n",
    "\n",
    "    return n + recursive(n - 1)"
   ]
  },
  {
   "cell_type": "code",
   "execution_count": null,
   "metadata": {},
   "outputs": [],
   "source": [
    "recursive(3)"
   ]
  },
  {
   "cell_type": "code",
   "execution_count": null,
   "metadata": {},
   "outputs": [],
   "source": [
    "recursive(10000)  # ой, а че это мы такое поймали?"
   ]
  },
  {
   "cell_type": "code",
   "execution_count": null,
   "metadata": {},
   "outputs": [],
   "source": [
    "import sys\n",
    "\n",
    "sys.getrecursionlimit()  # по умолчанию в питоне очень маленький лимит на рекурсивные вызовы"
   ]
  },
  {
   "cell_type": "code",
   "execution_count": null,
   "metadata": {},
   "outputs": [],
   "source": [
    "sys.setrecursionlimit(10 ** 6)  # надо быть аккуратным\n",
    "\n",
    "recursive(10000)"
   ]
  },
  {
   "cell_type": "markdown",
   "metadata": {},
   "source": [
    "### Проблема отсутствия мемоизации\n",
    "\n",
    "Пусть мы хотим посчитать $n$-ое число Фибоначчи\n",
    "\n",
    "$F_1 = F_2 = 1$\n",
    "\n",
    "$F_n = F_{n - 1} + F_{n - 2}$"
   ]
  },
  {
   "cell_type": "code",
   "execution_count": null,
   "metadata": {},
   "outputs": [],
   "source": [
    "def fib(n: int) -> int:\n",
    "    if n <= 2:\n",
    "        return 1\n",
    "    return fib(n - 1) + fib(n - 2)  # рекурсивно берем предыдущие числа Фибоначчи"
   ]
  },
  {
   "cell_type": "markdown",
   "metadata": {},
   "source": [
    "А теперь давайте подумаем: сколько будет работать такой код?"
   ]
  },
  {
   "cell_type": "code",
   "execution_count": null,
   "metadata": {},
   "outputs": [],
   "source": [
    "%%time\n",
    "fib(8)"
   ]
  },
  {
   "cell_type": "code",
   "execution_count": null,
   "metadata": {},
   "outputs": [],
   "source": [
    "%%time\n",
    "fib(34)  # тут уже будет долго"
   ]
  },
  {
   "cell_type": "code",
   "execution_count": null,
   "metadata": {},
   "outputs": [],
   "source": [
    "%%time\n",
    "fib(40)  # и чем дальше, тем хуже, а 40 -- это же еще не то чтобы много"
   ]
  },
  {
   "cell_type": "markdown",
   "metadata": {},
   "source": [
    "Проблема заключается в том, что у нас есть дубликаты вызовов. Поэтому питон делает много дополнительных действий. Чем дальше по номеру число Фибоначчи -- тем больше придется решать одинаковых абсолютно вызовов рекурсии. Решить это можно мемоизацией:"
   ]
  },
  {
   "cell_type": "code",
   "execution_count": null,
   "metadata": {},
   "outputs": [],
   "source": [
    "from collections import defaultdict\n",
    "\n",
    "\n",
    "SENTINEL = object()\n",
    "\n",
    "\n",
    "fib_cache = defaultdict(lambda: SENTINEL)\n",
    "\n",
    "\n",
    "def set_cache(n: int, result: int):\n",
    "    fib_cache[n] = result\n",
    "\n",
    "\n",
    "def fib(n: int) -> int:\n",
    "    if fib_cache[n] is not SENTINEL:\n",
    "        return fib_cache[n]\n",
    "\n",
    "    if n <= 2:\n",
    "        set_cache(n, 1)\n",
    "        return 1\n",
    "\n",
    "    result = fib(n - 1) + fib(n - 2)\n",
    "    set_cache(n, result)\n",
    "    return result"
   ]
  },
  {
   "cell_type": "code",
   "execution_count": null,
   "metadata": {},
   "outputs": [],
   "source": [
    "%%time\n",
    "fib(1000)  # быстро? быстро!"
   ]
  },
  {
   "cell_type": "markdown",
   "metadata": {},
   "source": [
    "Очевидно, что это уже получается громоздко и неудобно, поэтому кэширование в питоне есть в том числе и встроенное.\n",
    "\n",
    "Есть так называемые декораторы `@cache` и `@lru_cache` (least recently used). Второй выкидывает из кэша элементы, когда его размер достиг заданного максимума. При этом `@cache` устроен вот так:\n",
    "\n",
    "```(python)\n",
    "def cache(user_function, /):\n",
    "    return lru_cache(maxsize=None)(user_function)\n",
    "```\n",
    "\n",
    "У `@lru_cache` параметр maxsize по умолчанию равен 128, можно увеличить при желании."
   ]
  },
  {
   "cell_type": "code",
   "execution_count": null,
   "metadata": {},
   "outputs": [],
   "source": [
    "from functools import lru_cache\n",
    "\n",
    "# lru_cache -- можно еще указать параметр maxsize\n",
    "@lru_cache  # <--- это декоратор, про них поговорим чуть позже\n",
    "def fib(n: int) -> int:\n",
    "    if n <= 2:\n",
    "        return 1\n",
    "\n",
    "    return fib(n - 1) + fib(n - 2)"
   ]
  },
  {
   "cell_type": "code",
   "execution_count": null,
   "metadata": {},
   "outputs": [],
   "source": [
    "%%time\n",
    "fib(1000)"
   ]
  }
 ],
 "metadata": {
  "kernelspec": {
   "display_name": "Python 3.10.8 64-bit",
   "language": "python",
   "name": "python3"
  },
  "language_info": {
   "codemirror_mode": {
    "name": "ipython",
    "version": 3
   },
   "file_extension": ".py",
   "mimetype": "text/x-python",
   "name": "python",
   "nbconvert_exporter": "python",
   "pygments_lexer": "ipython3",
   "version": "3.10.8"
  },
  "orig_nbformat": 4,
  "vscode": {
   "interpreter": {
    "hash": "b0fa6594d8f4cbf19f97940f81e996739fb7646882a419484c72d19e05852a7e"
   }
  }
 },
 "nbformat": 4,
 "nbformat_minor": 2
}
