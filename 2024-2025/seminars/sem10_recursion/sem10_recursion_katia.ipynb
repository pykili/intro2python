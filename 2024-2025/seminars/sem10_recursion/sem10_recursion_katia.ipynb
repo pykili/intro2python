{
  "nbformat": 4,
  "nbformat_minor": 0,
  "metadata": {
    "colab": {
      "provenance": [],
      "toc_visible": true
    },
    "kernelspec": {
      "name": "python3",
      "display_name": "Python 3"
    },
    "language_info": {
      "name": "python"
    }
  },
  "cells": [
    {
      "cell_type": "markdown",
      "metadata": {
        "id": "8JF-Grk2HG_5"
      },
      "source": [
        "# Семинар 10: продвинутые функции"
      ]
    },
    {
      "cell_type": "markdown",
      "source": [
        "Давайте напишем функцию, которая возвращает факториал от заданного числа.\n",
        "\n",
        "> Напоминаю, что $n! = n×(n-1)×(n-2)×...×1$\n",
        "\n"
      ],
      "metadata": {
        "id": "DNWNljpXHLvX"
      }
    },
    {
      "cell_type": "code",
      "source": [
        "# ваш код сюда"
      ],
      "metadata": {
        "id": "DitTtbblNThU"
      },
      "execution_count": null,
      "outputs": []
    },
    {
      "cell_type": "markdown",
      "source": [
        "А теперь по-другому.\n",
        "\n"
      ],
      "metadata": {
        "id": "4aVWsD-YNq2f"
      }
    },
    {
      "cell_type": "code",
      "source": [
        "def factorial_recursive(n: int) -> int:\n",
        "    if n == 1:\n",
        "        return n\n",
        "\n",
        "    else:\n",
        "        return n * factorial_recursive(n-1)"
      ],
      "metadata": {
        "id": "yMwhHG0ZLt74"
      },
      "execution_count": 9,
      "outputs": []
    },
    {
      "cell_type": "code",
      "source": [
        "num = 7\n",
        "print(f\"{num}! это {factorial_recursive(num)}\")"
      ],
      "metadata": {
        "colab": {
          "base_uri": "https://localhost:8080/"
        },
        "id": "7wIvPwsLJFF3",
        "outputId": "062ba4e1-e0a1-4920-b2cf-3472a460bf78"
      },
      "execution_count": 10,
      "outputs": [
        {
          "output_type": "stream",
          "name": "stdout",
          "text": [
            "7! это 5040\n"
          ]
        }
      ]
    },
    {
      "cell_type": "markdown",
      "source": [
        "> Рекурсивная функция $-$ это та, которая вызывает сама себя."
      ],
      "metadata": {
        "id": "BQ1NY1xgH1AT"
      }
    },
    {
      "cell_type": "markdown",
      "source": [
        "1. Благодаря условной конструкции переменная $n$ вернется только в том случае, если ее значение будет равно $1$. Это еще называют *условием завершения*. Рекурсия останавливается в момент удовлетворения условиям.\n",
        "2. Любой алгоритм, реализованный в рекурсивной форме, может быть переписан в итерационном виде и наоборот. Остаеся вопрос, надо ли это, и насколько это будет это эффективно.\n",
        "3. Как это **работает**?\n",
        "\n",
        "        3 * (3-1) * ((3-1)-1)  \n",
        "        так как 3-1-1 равно 1, рекурсия остановилась\n",
        "\n",
        "        /\\ factorial_recursive(1) - последний вызов\n",
        "        || factorial_recursive(2) - второй вызов\n",
        "        || factorial_recursive(3) - первый вызов\n",
        "\n",
        "Так генерируется *стек*. Это происходит благодаря процессу **LIFO** (last in, first out, «последним пришел — первым ушел»). Первые вызовы функции \"не знают ответа\", поэтому они добавляются в стек.\n",
        "\n",
        "4. Как это **выводится**?\n",
        "\n",
        "Как только в стек добавляется вызов `factorial_recursive(1)`, для которого ответ имеется, стек начинает \"разворачиваться\" в обратном порядке, выполняя все вычисления с реальными значениями.\n",
        "\n",
        "        factorial_recursive(1) завершается, отправляет 1 в\n",
        "        factorial_recursive(2) и выпадает из стека.\n",
        "        factorial_recursive(2) завершается, отправляет 2*1 в\n",
        "        factorial_recursive(3) и выпадает из стека. Инструкция else здесь завершается, возвращается 3 * 2 = 6, и из стека выпадает последний слой.\n",
        "\n",
        "Проще всего проверить это и проиллюстрировать на примере с ошибкой:"
      ],
      "metadata": {
        "id": "SLRQbpwAJXfC"
      }
    },
    {
      "cell_type": "code",
      "source": [
        "def recursive_error(n: int):\n",
        "    if n == 0:\n",
        "        raise RuntimeError(\"Just checking call stack\")\n",
        "\n",
        "    recursive_error(n - 1)"
      ],
      "metadata": {
        "id": "6-oW316fJaBt"
      },
      "execution_count": 20,
      "outputs": []
    },
    {
      "cell_type": "code",
      "source": [
        "recursive_error(4)"
      ],
      "metadata": {
        "colab": {
          "base_uri": "https://localhost:8080/",
          "height": 294
        },
        "id": "hVUz1CHzJxLM",
        "outputId": "e3c0776c-57f2-4f23-cbf6-b72c199c3759"
      },
      "execution_count": 22,
      "outputs": [
        {
          "output_type": "error",
          "ename": "RuntimeError",
          "evalue": "Just checking call stack",
          "traceback": [
            "\u001b[0;31m---------------------------------------------------------------------------\u001b[0m",
            "\u001b[0;31mRuntimeError\u001b[0m                              Traceback (most recent call last)",
            "\u001b[0;32m<ipython-input-22-96da51d89ddd>\u001b[0m in \u001b[0;36m<cell line: 0>\u001b[0;34m()\u001b[0m\n\u001b[0;32m----> 1\u001b[0;31m \u001b[0mrecursive_error\u001b[0m\u001b[0;34m(\u001b[0m\u001b[0;36m4\u001b[0m\u001b[0;34m)\u001b[0m\u001b[0;34m\u001b[0m\u001b[0;34m\u001b[0m\u001b[0m\n\u001b[0m",
            "\u001b[0;32m<ipython-input-20-8aaaef60d3f9>\u001b[0m in \u001b[0;36mrecursive_error\u001b[0;34m(n)\u001b[0m\n\u001b[1;32m      3\u001b[0m         \u001b[0;32mraise\u001b[0m \u001b[0mRuntimeError\u001b[0m\u001b[0;34m(\u001b[0m\u001b[0;34m\"Just checking call stack\"\u001b[0m\u001b[0;34m)\u001b[0m\u001b[0;34m\u001b[0m\u001b[0;34m\u001b[0m\u001b[0m\n\u001b[1;32m      4\u001b[0m \u001b[0;34m\u001b[0m\u001b[0m\n\u001b[0;32m----> 5\u001b[0;31m     \u001b[0mrecursive_error\u001b[0m\u001b[0;34m(\u001b[0m\u001b[0mn\u001b[0m \u001b[0;34m-\u001b[0m \u001b[0;36m1\u001b[0m\u001b[0;34m)\u001b[0m\u001b[0;34m\u001b[0m\u001b[0;34m\u001b[0m\u001b[0m\n\u001b[0m",
            "\u001b[0;32m<ipython-input-20-8aaaef60d3f9>\u001b[0m in \u001b[0;36mrecursive_error\u001b[0;34m(n)\u001b[0m\n\u001b[1;32m      3\u001b[0m         \u001b[0;32mraise\u001b[0m \u001b[0mRuntimeError\u001b[0m\u001b[0;34m(\u001b[0m\u001b[0;34m\"Just checking call stack\"\u001b[0m\u001b[0;34m)\u001b[0m\u001b[0;34m\u001b[0m\u001b[0;34m\u001b[0m\u001b[0m\n\u001b[1;32m      4\u001b[0m \u001b[0;34m\u001b[0m\u001b[0m\n\u001b[0;32m----> 5\u001b[0;31m     \u001b[0mrecursive_error\u001b[0m\u001b[0;34m(\u001b[0m\u001b[0mn\u001b[0m \u001b[0;34m-\u001b[0m \u001b[0;36m1\u001b[0m\u001b[0;34m)\u001b[0m\u001b[0;34m\u001b[0m\u001b[0;34m\u001b[0m\u001b[0m\n\u001b[0m",
            "\u001b[0;32m<ipython-input-20-8aaaef60d3f9>\u001b[0m in \u001b[0;36mrecursive_error\u001b[0;34m(n)\u001b[0m\n\u001b[1;32m      3\u001b[0m         \u001b[0;32mraise\u001b[0m \u001b[0mRuntimeError\u001b[0m\u001b[0;34m(\u001b[0m\u001b[0;34m\"Just checking call stack\"\u001b[0m\u001b[0;34m)\u001b[0m\u001b[0;34m\u001b[0m\u001b[0;34m\u001b[0m\u001b[0m\n\u001b[1;32m      4\u001b[0m \u001b[0;34m\u001b[0m\u001b[0m\n\u001b[0;32m----> 5\u001b[0;31m     \u001b[0mrecursive_error\u001b[0m\u001b[0;34m(\u001b[0m\u001b[0mn\u001b[0m \u001b[0;34m-\u001b[0m \u001b[0;36m1\u001b[0m\u001b[0;34m)\u001b[0m\u001b[0;34m\u001b[0m\u001b[0;34m\u001b[0m\u001b[0m\n\u001b[0m",
            "\u001b[0;32m<ipython-input-20-8aaaef60d3f9>\u001b[0m in \u001b[0;36mrecursive_error\u001b[0;34m(n)\u001b[0m\n\u001b[1;32m      3\u001b[0m         \u001b[0;32mraise\u001b[0m \u001b[0mRuntimeError\u001b[0m\u001b[0;34m(\u001b[0m\u001b[0;34m\"Just checking call stack\"\u001b[0m\u001b[0;34m)\u001b[0m\u001b[0;34m\u001b[0m\u001b[0;34m\u001b[0m\u001b[0m\n\u001b[1;32m      4\u001b[0m \u001b[0;34m\u001b[0m\u001b[0m\n\u001b[0;32m----> 5\u001b[0;31m     \u001b[0mrecursive_error\u001b[0m\u001b[0;34m(\u001b[0m\u001b[0mn\u001b[0m \u001b[0;34m-\u001b[0m \u001b[0;36m1\u001b[0m\u001b[0;34m)\u001b[0m\u001b[0;34m\u001b[0m\u001b[0;34m\u001b[0m\u001b[0m\n\u001b[0m",
            "\u001b[0;32m<ipython-input-20-8aaaef60d3f9>\u001b[0m in \u001b[0;36mrecursive_error\u001b[0;34m(n)\u001b[0m\n\u001b[1;32m      1\u001b[0m \u001b[0;32mdef\u001b[0m \u001b[0mrecursive_error\u001b[0m\u001b[0;34m(\u001b[0m\u001b[0mn\u001b[0m\u001b[0;34m:\u001b[0m \u001b[0mint\u001b[0m\u001b[0;34m)\u001b[0m\u001b[0;34m:\u001b[0m\u001b[0;34m\u001b[0m\u001b[0;34m\u001b[0m\u001b[0m\n\u001b[1;32m      2\u001b[0m     \u001b[0;32mif\u001b[0m \u001b[0mn\u001b[0m \u001b[0;34m==\u001b[0m \u001b[0;36m0\u001b[0m\u001b[0;34m:\u001b[0m\u001b[0;34m\u001b[0m\u001b[0;34m\u001b[0m\u001b[0m\n\u001b[0;32m----> 3\u001b[0;31m         \u001b[0;32mraise\u001b[0m \u001b[0mRuntimeError\u001b[0m\u001b[0;34m(\u001b[0m\u001b[0;34m\"Just checking call stack\"\u001b[0m\u001b[0;34m)\u001b[0m\u001b[0;34m\u001b[0m\u001b[0;34m\u001b[0m\u001b[0m\n\u001b[0m\u001b[1;32m      4\u001b[0m \u001b[0;34m\u001b[0m\u001b[0m\n\u001b[1;32m      5\u001b[0m     \u001b[0mrecursive_error\u001b[0m\u001b[0;34m(\u001b[0m\u001b[0mn\u001b[0m \u001b[0;34m-\u001b[0m \u001b[0;36m1\u001b[0m\u001b[0;34m)\u001b[0m\u001b[0;34m\u001b[0m\u001b[0;34m\u001b[0m\u001b[0m\n",
            "\u001b[0;31mRuntimeError\u001b[0m: Just checking call stack"
          ]
        }
      ]
    },
    {
      "cell_type": "markdown",
      "source": [
        "### Задача №1"
      ],
      "metadata": {
        "id": "-rydxfXlQED-"
      }
    },
    {
      "cell_type": "markdown",
      "source": [
        "Напишите рекурсивную функцию `sum_squares()` для вычисления суммы $n$ первых членов: $$1 + \\frac 1 4 + \\frac 1 9 + ... + \\frac 1 n$$\n",
        "    \n",
        "```python\n",
        ">>> print(sum_squares(9))\n",
        "<<< 1.5397677311665408\n",
        "```"
      ],
      "metadata": {
        "id": "6KLwpWD3QLpN"
      }
    },
    {
      "cell_type": "code",
      "source": [
        "# ваш код тут"
      ],
      "metadata": {
        "id": "3cf2lGXqRI48"
      },
      "execution_count": null,
      "outputs": []
    },
    {
      "cell_type": "markdown",
      "source": [
        "5. Наиболее распространенная ошибкa, связанная с рекурсией $-$ *бесконечная рекурсия*, когда цепочка вызовов функций никогда не завершается и продолжается, пока не кончится свободная память в компьютере.\n",
        "\n",
        "![img](https://media.geeksforgeeks.org/wp-content/uploads/20200707093844/WhatsApp-Image-2020-07-07-at-9.37.31-AM.jpeg)"
      ],
      "metadata": {
        "id": "ioKBfJq5QCQj"
      }
    },
    {
      "cell_type": "markdown",
      "source": [
        "```python\n",
        "# бесконечная рекурсия ин э натшелл\n",
        "\n",
        "def short_story():\n",
        "    print(\"У попа была собака, он ее любил.\")\n",
        "    print(\"Она съела кусок мяса, он ее убил,\")\n",
        "    print(\"И в землю закопал и надпись написал:\")\n",
        "    short_story()\n",
        "```\n",
        "\n",
        "Две наиболее распространенные причины для бесконечной рекурсии:\n",
        "\n",
        "* Неправильное оформление выхода из рекурсии.<br>Например, если мы в программе вычисления факториала забудем поставить проверку `if n == 1`, то `factorial_recursive(1)` вызовет `factorial_recursive(0)`, тот вызовет `factorial_recursive(-1)` и т. д.\n",
        "* Рекурсивный вызов с неправильными параметрами.<br>Например, если функция `factorial_recursive(n)` будет вызывать `factorial_recursive(n)`, то также получится бесконечная цепочка."
      ],
      "metadata": {
        "id": "DtDx-sq7Shv5"
      }
    },
    {
      "cell_type": "markdown",
      "source": [
        "## Проблема лимита рекурсии"
      ],
      "metadata": {
        "id": "n0U7MmEKK-MZ"
      }
    },
    {
      "cell_type": "markdown",
      "source": [
        "Пусть мы хотим посчитать факториал для 999:"
      ],
      "metadata": {
        "id": "dOV-q3n4KYfv"
      }
    },
    {
      "cell_type": "code",
      "source": [
        "num = 999\n",
        "print(f\"{num}! это {factorial_recursive(num)}\")  # упс..."
      ],
      "metadata": {
        "colab": {
          "base_uri": "https://localhost:8080/",
          "height": 312
        },
        "id": "h7E6CaLaKMhm",
        "outputId": "b06ac6a8-dd04-48e6-a4b7-4dfb682169b5"
      },
      "execution_count": 39,
      "outputs": [
        {
          "output_type": "error",
          "ename": "RecursionError",
          "evalue": "maximum recursion depth exceeded",
          "traceback": [
            "\u001b[0;31m---------------------------------------------------------------------------\u001b[0m",
            "\u001b[0;31mRecursionError\u001b[0m                            Traceback (most recent call last)",
            "\u001b[0;32m<ipython-input-39-8950eb9e96aa>\u001b[0m in \u001b[0;36m<cell line: 0>\u001b[0;34m()\u001b[0m\n\u001b[1;32m      1\u001b[0m \u001b[0mnum\u001b[0m \u001b[0;34m=\u001b[0m \u001b[0;36m999\u001b[0m\u001b[0;34m\u001b[0m\u001b[0;34m\u001b[0m\u001b[0m\n\u001b[0;32m----> 2\u001b[0;31m \u001b[0mprint\u001b[0m\u001b[0;34m(\u001b[0m\u001b[0;34mf\"{num}! это {factorial_recursive(num)}\"\u001b[0m\u001b[0;34m)\u001b[0m  \u001b[0;31m# упс...\u001b[0m\u001b[0;34m\u001b[0m\u001b[0;34m\u001b[0m\u001b[0m\n\u001b[0m",
            "\u001b[0;32m<ipython-input-9-85fe96e39f60>\u001b[0m in \u001b[0;36mfactorial_recursive\u001b[0;34m(n)\u001b[0m\n\u001b[1;32m      3\u001b[0m         \u001b[0;32mreturn\u001b[0m \u001b[0mn\u001b[0m\u001b[0;34m\u001b[0m\u001b[0;34m\u001b[0m\u001b[0m\n\u001b[1;32m      4\u001b[0m     \u001b[0;32melse\u001b[0m\u001b[0;34m:\u001b[0m\u001b[0;34m\u001b[0m\u001b[0;34m\u001b[0m\u001b[0m\n\u001b[0;32m----> 5\u001b[0;31m         \u001b[0;32mreturn\u001b[0m \u001b[0mn\u001b[0m \u001b[0;34m*\u001b[0m \u001b[0mfactorial_recursive\u001b[0m\u001b[0;34m(\u001b[0m\u001b[0mn\u001b[0m\u001b[0;34m-\u001b[0m\u001b[0;36m1\u001b[0m\u001b[0;34m)\u001b[0m\u001b[0;34m\u001b[0m\u001b[0;34m\u001b[0m\u001b[0m\n\u001b[0m",
            "... last 1 frames repeated, from the frame below ...\n",
            "\u001b[0;32m<ipython-input-9-85fe96e39f60>\u001b[0m in \u001b[0;36mfactorial_recursive\u001b[0;34m(n)\u001b[0m\n\u001b[1;32m      3\u001b[0m         \u001b[0;32mreturn\u001b[0m \u001b[0mn\u001b[0m\u001b[0;34m\u001b[0m\u001b[0;34m\u001b[0m\u001b[0m\n\u001b[1;32m      4\u001b[0m     \u001b[0;32melse\u001b[0m\u001b[0;34m:\u001b[0m\u001b[0;34m\u001b[0m\u001b[0;34m\u001b[0m\u001b[0m\n\u001b[0;32m----> 5\u001b[0;31m         \u001b[0;32mreturn\u001b[0m \u001b[0mn\u001b[0m \u001b[0;34m*\u001b[0m \u001b[0mfactorial_recursive\u001b[0m\u001b[0;34m(\u001b[0m\u001b[0mn\u001b[0m\u001b[0;34m-\u001b[0m\u001b[0;36m1\u001b[0m\u001b[0;34m)\u001b[0m\u001b[0;34m\u001b[0m\u001b[0;34m\u001b[0m\u001b[0m\n\u001b[0m",
            "\u001b[0;31mRecursionError\u001b[0m: maximum recursion depth exceeded"
          ]
        }
      ]
    },
    {
      "cell_type": "code",
      "source": [
        "import sys\n",
        "\n",
        "\n",
        "sys.getrecursionlimit()"
      ],
      "metadata": {
        "colab": {
          "base_uri": "https://localhost:8080/"
        },
        "id": "DYZob6RtLGYc",
        "outputId": "c2dbbb91-e7df-4802-98af-b19dc31f7fcc"
      },
      "execution_count": 41,
      "outputs": [
        {
          "output_type": "execute_result",
          "data": {
            "text/plain": [
              "1000"
            ]
          },
          "metadata": {},
          "execution_count": 41
        }
      ]
    },
    {
      "cell_type": "markdown",
      "source": [
        "6. **NB!**<br>Рекурсия в Python дефолтно имеет ограничение в 1000 слоев, если не... (см. ниже)."
      ],
      "metadata": {
        "id": "r9gs4eMwKLjq"
      }
    },
    {
      "cell_type": "code",
      "source": [
        "sys.setrecursionlimit(10 ** 6)  # надо быть аккуратными\n",
        "\n",
        "factorial_recursive(1000)"
      ],
      "metadata": {
        "colab": {
          "base_uri": "https://localhost:8080/"
        },
        "id": "v3HyWnN3LUCP",
        "outputId": "b7d1f4e9-3916-4302-f639-8f8b7ee7ba23"
      },
      "execution_count": 50,
      "outputs": [
        {
          "output_type": "execute_result",
          "data": {
            "text/plain": [
              "402387260077093773543702433923003985719374864210714632543799910429938512398629020592044208486969404800479988610197196058631666872994808558901323829669944590997424504087073759918823627727188732519779505950995276120874975462497043601418278094646496291056393887437886487337119181045825783647849977012476632889835955735432513185323958463075557409114262417474349347553428646576611667797396668820291207379143853719588249808126867838374559731746136085379534524221586593201928090878297308431392844403281231558611036976801357304216168747609675871348312025478589320767169132448426236131412508780208000261683151027341827977704784635868170164365024153691398281264810213092761244896359928705114964975419909342221566832572080821333186116811553615836546984046708975602900950537616475847728421889679646244945160765353408198901385442487984959953319101723355556602139450399736280750137837615307127761926849034352625200015888535147331611702103968175921510907788019393178114194545257223865541461062892187960223838971476088506276862967146674697562911234082439208160153780889893964518263243671616762179168909779911903754031274622289988005195444414282012187361745992642956581746628302955570299024324153181617210465832036786906117260158783520751516284225540265170483304226143974286933061690897968482590125458327168226458066526769958652682272807075781391858178889652208164348344825993266043367660176999612831860788386150279465955131156552036093988180612138558600301435694527224206344631797460594682573103790084024432438465657245014402821885252470935190620929023136493273497565513958720559654228749774011413346962715422845862377387538230483865688976461927383814900140767310446640259899490222221765904339901886018566526485061799702356193897017860040811889729918311021171229845901641921068884387121855646124960798722908519296819372388642614839657382291123125024186649353143970137428531926649875337218940694281434118520158014123344828015051399694290153483077644569099073152433278288269864602789864321139083506217095002597389863554277196742822248757586765752344220207573630569498825087968928162753848863396909959826280956121450994871701244516461260379029309120889086942028510640182154399457156805941872748998094254742173582401063677404595741785160829230135358081840096996372524230560855903700624271243416909004153690105933983835777939410970027753472000000000000000000000000000000000000000000000000000000000000000000000000000000000000000000000000000000000000000000000000000000000000000000000000000000000000000000000000000000000000000000000000000000000000000000000000000000000000000000000000000000000"
            ]
          },
          "metadata": {},
          "execution_count": 50
        }
      ]
    },
    {
      "cell_type": "markdown",
      "source": [
        "## Проблема отсутствия мемоизации"
      ],
      "metadata": {
        "id": "RRapKYAGL7RR"
      }
    },
    {
      "cell_type": "markdown",
      "metadata": {
        "id": "OMi3GKesHG_9"
      },
      "source": [
        "Пусть мы хотим посчитать $n$-ое число Фибоначчи\n",
        "\n",
        "$F_1 = F_2 = 1$\n",
        "\n",
        "$F_n = F_{n - 1} + F_{n - 2}$"
      ]
    },
    {
      "cell_type": "code",
      "execution_count": 51,
      "metadata": {
        "id": "hv7HPdgNHG_9"
      },
      "outputs": [],
      "source": [
        "def fib(n: int) -> int:\n",
        "    if n <= 2:\n",
        "        return 1\n",
        "    return fib(n - 1) + fib(n - 2)  # рекурсивно берем предыдущие числа Фибоначчи"
      ]
    },
    {
      "cell_type": "markdown",
      "metadata": {
        "id": "kfFDxYiJHG_9"
      },
      "source": [
        "А теперь давайте подумаем: сколько будет работать такой код?"
      ]
    },
    {
      "cell_type": "code",
      "execution_count": 52,
      "metadata": {
        "id": "wckT13VJHG_9",
        "colab": {
          "base_uri": "https://localhost:8080/"
        },
        "outputId": "d4fc75fa-a6cf-4d25-c46c-ad9c638f1709"
      },
      "outputs": [
        {
          "output_type": "stream",
          "name": "stdout",
          "text": [
            "CPU times: user 9 µs, sys: 1e+03 ns, total: 10 µs\n",
            "Wall time: 16.9 µs\n"
          ]
        },
        {
          "output_type": "execute_result",
          "data": {
            "text/plain": [
              "21"
            ]
          },
          "metadata": {},
          "execution_count": 52
        }
      ],
      "source": [
        "%%time\n",
        "fib(8)"
      ]
    },
    {
      "cell_type": "code",
      "execution_count": 53,
      "metadata": {
        "id": "5rEsOUedHG_9",
        "colab": {
          "base_uri": "https://localhost:8080/"
        },
        "outputId": "b1dcdfe3-0298-4900-dde3-006854da3190"
      },
      "outputs": [
        {
          "output_type": "stream",
          "name": "stdout",
          "text": [
            "CPU times: user 1.11 s, sys: 3.63 ms, total: 1.11 s\n",
            "Wall time: 1.15 s\n"
          ]
        },
        {
          "output_type": "execute_result",
          "data": {
            "text/plain": [
              "5702887"
            ]
          },
          "metadata": {},
          "execution_count": 53
        }
      ],
      "source": [
        "%%time\n",
        "fib(34)  # тут уже будет долго"
      ]
    },
    {
      "cell_type": "code",
      "execution_count": 54,
      "metadata": {
        "id": "Er4pU6sjHG_9",
        "colab": {
          "base_uri": "https://localhost:8080/"
        },
        "outputId": "30c844ba-19c8-4aae-be3c-620b605a751b"
      },
      "outputs": [
        {
          "output_type": "stream",
          "name": "stdout",
          "text": [
            "CPU times: user 14.4 s, sys: 23.9 ms, total: 14.5 s\n",
            "Wall time: 14.6 s\n"
          ]
        },
        {
          "output_type": "execute_result",
          "data": {
            "text/plain": [
              "102334155"
            ]
          },
          "metadata": {},
          "execution_count": 54
        }
      ],
      "source": [
        "%%time\n",
        "fib(40)  # и чем дальше, тем хуже, а 40 - это же еще не то чтобы много"
      ]
    },
    {
      "cell_type": "markdown",
      "source": [
        "7. Рекурсивные функции обычно занимают **больше места** в памяти по сравнению с итеративными из-за постоянного добавления новых слоев в стек в памяти, хоть их производительность и выше."
      ],
      "metadata": {
        "id": "1lhYXeuzL9J5"
      }
    },
    {
      "cell_type": "markdown",
      "metadata": {
        "id": "H4_iHP8uHG_9"
      },
      "source": [
        "Вся проблема в том, что у нас есть дубликаты вызовов. Поэтому питон делает много дополнительных действий. Чем дальше по номеру число Фибоначчи, тем больше придется решать одинаковых абсолютно вызовов рекурсии.\n",
        "\n",
        "![](https://upload.wikimedia.org/wikipedia/commons/5/5f/FibbonacciRecurisive.png)\n",
        "\n",
        "Можно решить данную проблему мемоизацией:"
      ]
    },
    {
      "cell_type": "code",
      "source": [
        "_fib_cache = {}\n",
        "\n",
        "\n",
        "def mem_fib(n: int) -> int:\n",
        "    if n <= 2:\n",
        "        _fib_cache[n] = 1\n",
        "    result = _fib_cache.get(n)\n",
        "    if result is None:\n",
        "        result = mem_fib(n - 2) + mem_fib(n - 1)\n",
        "        _fib_cache[n] = result\n",
        "    return result"
      ],
      "metadata": {
        "id": "8tiAflvuOQV_"
      },
      "execution_count": 59,
      "outputs": []
    },
    {
      "cell_type": "code",
      "source": [
        "%%time\n",
        "mem_fib(1000)"
      ],
      "metadata": {
        "colab": {
          "base_uri": "https://localhost:8080/"
        },
        "id": "zqr7AELMOkWg",
        "outputId": "65dafd9c-d6f6-4e31-9fd9-9bd82bee6703"
      },
      "execution_count": 67,
      "outputs": [
        {
          "output_type": "stream",
          "name": "stdout",
          "text": [
            "CPU times: user 5 µs, sys: 0 ns, total: 5 µs\n",
            "Wall time: 8.11 µs\n"
          ]
        },
        {
          "output_type": "execute_result",
          "data": {
            "text/plain": [
              "43466557686937456435688527675040625802564660517371780402481729089536555417949051890403879840079255169295922593080322634775209689623239873322471161642996440906533187938298969649928516003704476137795166849228875"
            ]
          },
          "metadata": {},
          "execution_count": 67
        }
      ]
    },
    {
      "cell_type": "markdown",
      "metadata": {
        "id": "2ohRnfIsHG_-"
      },
      "source": [
        "Очевидно, что это уже получается не очень удобно, поэтому кэширование в питоне есть в том числе и встроенное.\n",
        "\n",
        "Есть так называемые декораторы `@cache` и `@lru_cache` (least recently used). Второй выкидывает из кэша элементы, когда его размер достиг заданного максимума. При этом `@cache` устроен вот так:\n",
        "\n",
        "```python\n",
        "def cache(user_function, /):\n",
        "    return lru_cache(maxsize=None)(user_function)\n",
        "```\n",
        "\n",
        "У `@lru_cache` параметр maxsize по умолчанию равен 128, можно увеличить при желании."
      ]
    },
    {
      "cell_type": "code",
      "execution_count": 70,
      "metadata": {
        "id": "6i9zxPGZHG_-"
      },
      "outputs": [],
      "source": [
        "from functools import lru_cache\n",
        "\n",
        "# @lru_cache(maxsize=128)\n",
        "@lru_cache(maxsize=128)\n",
        "def fib(n: int) -> int:\n",
        "    if n <= 2:\n",
        "        return 1\n",
        "\n",
        "    return fib(n - 1) + fib(n - 2)"
      ]
    },
    {
      "cell_type": "code",
      "execution_count": 71,
      "metadata": {
        "id": "BCY9-qxuHG_-",
        "colab": {
          "base_uri": "https://localhost:8080/"
        },
        "outputId": "df636b91-4f34-4497-e8eb-d2e68c90c3c4"
      },
      "outputs": [
        {
          "output_type": "stream",
          "name": "stdout",
          "text": [
            "CPU times: user 0 ns, sys: 838 µs, total: 838 µs\n",
            "Wall time: 845 µs\n"
          ]
        },
        {
          "output_type": "execute_result",
          "data": {
            "text/plain": [
              "43466557686937456435688527675040625802564660517371780402481729089536555417949051890403879840079255169295922593080322634775209689623239873322471161642996440906533187938298969649928516003704476137795166849228875"
            ]
          },
          "metadata": {},
          "execution_count": 71
        }
      ],
      "source": [
        "%%time\n",
        "fib(1000)"
      ]
    },
    {
      "cell_type": "markdown",
      "source": [
        "### Задача №2"
      ],
      "metadata": {
        "id": "dy8m-177RQA0"
      }
    },
    {
      "cell_type": "markdown",
      "source": [
        "Дан список чисел, необходимо просуммировать его при помощи рекурсивной функции `summary()`.\n",
        "    \n",
        "```python\n",
        ">>> print(summary([2, 4, 5, 6, 7]))\n",
        "<<< 24\n",
        "```\n",
        "    "
      ],
      "metadata": {
        "id": "tA0mHk14RoGN"
      }
    },
    {
      "cell_type": "code",
      "source": [
        "# место для вашего кода"
      ],
      "metadata": {
        "id": "62DNdOGSRyLk"
      },
      "execution_count": null,
      "outputs": []
    },
    {
      "cell_type": "markdown",
      "source": [
        "### Задача №3"
      ],
      "metadata": {
        "id": "Pd_rhFQgR2RZ"
      }
    },
    {
      "cell_type": "markdown",
      "source": [
        "Напишите функцию `flatten()`, которая принимает на вход список, состоящий из других списков, и возвращает обычный список, в котором присутствуют все элементы из вложенных списков. Эта операция производится при помощи рекурсии.\n",
        "    \n",
        "```python\n",
        ">>> print(flatten([[1, 2], [3, 4], 5, [6, [7]]]))\n",
        "<<< [1, 2, 3, 4, 5, 6, 7]\n",
        "```"
      ],
      "metadata": {
        "id": "YzokSasjRSqx"
      }
    },
    {
      "cell_type": "code",
      "source": [
        "# ваш код тутб"
      ],
      "metadata": {
        "id": "P0IW0GIPRSUR"
      },
      "execution_count": null,
      "outputs": []
    },
    {
      "cell_type": "code",
      "source": [],
      "metadata": {
        "id": "IXfDMtePPbAP"
      },
      "execution_count": null,
      "outputs": []
    }
  ]
}
