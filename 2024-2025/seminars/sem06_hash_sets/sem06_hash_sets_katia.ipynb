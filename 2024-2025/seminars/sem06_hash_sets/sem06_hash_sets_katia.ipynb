{
  "cells": [
    {
      "cell_type": "markdown",
      "metadata": {
        "id": "9vNv_NDwxTxH"
      },
      "source": [
        "# Семинар 6: хэш-таблицы и множества"
      ]
    },
    {
      "cell_type": "markdown",
      "metadata": {
        "id": "1R4fHtcqxTxL"
      },
      "source": [
        "### Глава 0: дэк\n",
        "Очень удобная структура данных, позволяющая добавлять элементы как в конец, так и в начало. На ее основе можно сделать очередь или двустороннюю очередь.\n",
        "Все добавления и удаления из конца происходят за константное количество операций, то есть за $O(1)$. Это быстро и очень удобно. Удаление из любой другой части **не гарантируют** такую быстроту."
      ]
    },
    {
      "cell_type": "code",
      "execution_count": 1,
      "metadata": {
        "id": "Nl8kSt-oxTxM",
        "colab": {
          "base_uri": "https://localhost:8080/"
        },
        "outputId": "e9d61aad-df81-49cd-893d-d5710aea79b4"
      },
      "outputs": [
        {
          "output_type": "stream",
          "name": "stdout",
          "text": [
            "deque contains: deque(['Petya', 'Vasya'])\n",
            "Petya\n",
            "after popleft: deque(['Vasya'])\n",
            "Vasya\n",
            "after pop: deque([])\n"
          ]
        }
      ],
      "source": [
        "from collections import deque  # deque потому что Double-Ended-QUEue\n",
        "\n",
        "d = deque()\n",
        "# а также дэк можно создать из списка или чего-то другого, по чему можно пройтись, например, так\n",
        "# d = deque([1, 2, 3])\n",
        "\n",
        "d.append(\"Vasya\")\n",
        "d.appendleft(\"Petya\")\n",
        "print('deque contains:', d)\n",
        "\n",
        "print(d.popleft())\n",
        "print('after popleft:', d)\n",
        "print(d.pop())\n",
        "print('after pop:', d)"
      ]
    },
    {
      "cell_type": "markdown",
      "metadata": {
        "id": "h7xPzRnexTxN"
      },
      "source": [
        "### Глава 1: введение в хэши\n",
        "\n",
        "> **Definition:** A hash function is a function that takes a set of inputs of any arbitrary size and fits them into a table or other data structure that contains fixed-size elements.\n",
        "\n",
        "\n",
        "\n",
        "\n",
        "Более просто (но это не общий случай), можно считать, что некоторый объект `obj` может быть передан некоторой функции $f$, такой что $f(obj) \\in H\\subset\\mathbb{Z}$.\n",
        "\n",
        "С точки зрения практики, это, например, позволяет \"укомплектовать\" любого размера строчки в числа. При этом могут быть коллизии:"
      ]
    },
    {
      "cell_type": "markdown",
      "metadata": {
        "id": "_b6klXqzxTxN"
      },
      "source": [
        "<img src=\"https://upload.wikimedia.org/wikipedia/commons/d/d0/Hash_table_5_0_1_1_1_1_1_LL.svg\" style=\"background-color:white\">"
      ]
    },
    {
      "cell_type": "markdown",
      "metadata": {
        "id": "jjSeSGs7xTxO"
      },
      "source": [
        "**Пример:** как хэшировать строки? Например, пусть у нас есть некоторые простые числа $p > 2$ и $M$ (достаточно большое) и некоторая строка $s$ длины $n$, тогда\n",
        "$h(s) = s_1 * p + s_2 * p^2 + \\ldots + s_n * p^n \\mod M$\n",
        "\n",
        "Модуль здесь нужен, чтобы не хранить большие числа, так как такая полиномиальная функция обычно имеет без модуля очень большое значение. В питоне это не так критично, но в языках, где чаще всего размер числа ограничен 8 байтами, это может привести к проблемам.\n",
        "\n",
        "Простота чисел $p$ и $M$ здесь важна чтобы избежать случая, когда строки из одинаковых символов будут давать по модулю 0.\n",
        "\n",
        "Однако понятно, что тут все равно могут быть коллизии, причем коллизия будет порядка $\\frac{n - 1}{M}$ для строк длины $n$. Если $M$ достаточно большое простое, то это не так критично и хэш таблица такие случаи решать умеет (смотри картинку выше: это пример цепочки (*сhaining*))."
      ]
    },
    {
      "cell_type": "code",
      "source": [
        "# еще один простой пример хэш функции\n",
        "# хэш-функция берет строку, суммирует ASCII-коды всех символов и берет остаток от деления на 10\n",
        "\n",
        "key = input()\n",
        "\n",
        "print(sum(ord(char) for char in key) % 19)"
      ],
      "metadata": {
        "colab": {
          "base_uri": "https://localhost:8080/"
        },
        "id": "MLTPvDr43Cu2",
        "outputId": "0ae5bb6a-7229-465a-cb0d-b758eeb9cd1e"
      },
      "execution_count": 6,
      "outputs": [
        {
          "output_type": "stream",
          "name": "stdout",
          "text": [
            "Ted Baker\n",
            "4\n"
          ]
        }
      ]
    },
    {
      "cell_type": "markdown",
      "source": [
        "#### **Задача 1**"
      ],
      "metadata": {
        "id": "aaXOJqkPASqJ"
      }
    },
    {
      "cell_type": "markdown",
      "source": [
        "Попробуйте переписать на питон хэш-функцию выше:\n",
        "$h(s) = s_1 * p + s_2 * p^2 + \\ldots + s_n * p^n \\mod M$\n",
        "\n",
        "Возьмите за $p$ и за $M$ какие-то простые числа по вашему усмотрению. Принимайте строчку, введенную пользователем и выводите результат ее преобразования в число."
      ],
      "metadata": {
        "id": "hfRqAARC33C-"
      }
    },
    {
      "cell_type": "code",
      "source": [
        "# ваш код здесь"
      ],
      "metadata": {
        "id": "C4R733zt4lVE"
      },
      "execution_count": null,
      "outputs": []
    },
    {
      "cell_type": "markdown",
      "metadata": {
        "id": "GNxXRVMSxTxO"
      },
      "source": [
        "### Глава 2: множества\n",
        "\n",
        "> По сути, это нечто вроде математических множеств, т. е. \"контейнер\" из **неповторяющихся** элементов в **некотором** порядке.\n",
        "\n",
        "Множества в питоне $-$ это один из примеров реализации хэш-таблицы в питоне. Позволяет хранить неповторяющиеся объекты и быстро проверять их наличие. Добавление и проверка наличия происходит за $O(1)$, удаление $-$ тоже за $O(1)$ (с поправкой на коллизии)."
      ]
    },
    {
      "cell_type": "code",
      "execution_count": 7,
      "metadata": {
        "id": "8Kf9nUFYxTxO",
        "colab": {
          "base_uri": "https://localhost:8080/"
        },
        "outputId": "76952052-f311-4f58-e56f-30366c2b6a76"
      },
      "outputs": [
        {
          "output_type": "stream",
          "name": "stdout",
          "text": [
            "1 in s: True\n",
            "5 in s: False\n"
          ]
        }
      ],
      "source": [
        "s = {1, 2, 3}  # множество можно создать через фигурные скобки\n",
        "\n",
        "print(\"1 in s:\", 1 in s)\n",
        "print(\"5 in s:\", 5 in s)"
      ]
    },
    {
      "cell_type": "markdown",
      "metadata": {
        "id": "YH1_-sN2xTxP"
      },
      "source": [
        "Давайте проведем небольшой тест, насколько это быстро работает:"
      ]
    },
    {
      "cell_type": "code",
      "execution_count": 8,
      "metadata": {
        "id": "qf0rdZK1xTxP"
      },
      "outputs": [],
      "source": [
        "# знакомьтесь, это компрехеншны, возможно, подробнее поговорим про них позже, если останется время\n",
        "\n",
        "N_NUMBERS = 10 ** 4\n",
        "my_list = [i ** 2 for i in range(N_NUMBERS)]\n",
        "\n",
        "my_set = {i ** 2 for i in range(N_NUMBERS)}"
      ]
    },
    {
      "cell_type": "code",
      "execution_count": 9,
      "metadata": {
        "id": "HwogjJgKxTxP",
        "colab": {
          "base_uri": "https://localhost:8080/"
        },
        "outputId": "1ab4ffe8-81b1-464f-ccee-83a6b39437d7"
      },
      "outputs": [
        {
          "output_type": "stream",
          "name": "stdout",
          "text": [
            "985 ms ± 5.37 ms per loop (mean ± std. dev. of 7 runs, 1 loop each)\n"
          ]
        }
      ],
      "source": [
        "%%timeit\n",
        "# с помощью %%timeit можно изменить среднее время работы ячейки +- std\n",
        "# если написать просто %%time будет результат одного запуска, без стандартного отклонения\n",
        "\n",
        "for i in range(N_NUMBERS):\n",
        "    i in my_list  # можно никуда не присваивать, питон так тоже умеет"
      ]
    },
    {
      "cell_type": "code",
      "execution_count": 10,
      "metadata": {
        "id": "-U5I_tPxxTxQ",
        "colab": {
          "base_uri": "https://localhost:8080/"
        },
        "outputId": "4c170e3b-88cc-4243-e8bf-ca7d278b1844"
      },
      "outputs": [
        {
          "output_type": "stream",
          "name": "stdout",
          "text": [
            "960 µs ± 256 µs per loop (mean ± std. dev. of 7 runs, 1000 loops each)\n"
          ]
        }
      ],
      "source": [
        "%%timeit\n",
        "for i in range(N_NUMBERS):\n",
        "    i in my_set  # можно никуда не присваивать, питон так тоже умеет"
      ]
    },
    {
      "cell_type": "code",
      "execution_count": 15,
      "metadata": {
        "id": "TwljxqVZxTxQ"
      },
      "outputs": [],
      "source": [
        "s = {1, 2, \"pampam\", 1.2}  # можно хранить разные типы данных"
      ]
    },
    {
      "cell_type": "markdown",
      "source": [
        "\n",
        "\n",
        "\n",
        "\n",
        "\n",
        "\n",
        "\n",
        "**NB!** Вы помните, что пустой список можно было задать просто при помощи квадратных скобок `[]`. С множествами так нельзя!"
      ],
      "metadata": {
        "id": "2iUKJMYbuE9b"
      }
    },
    {
      "cell_type": "code",
      "source": [
        "not_set = {}\n",
        "print(type(not_set))"
      ],
      "metadata": {
        "colab": {
          "base_uri": "https://localhost:8080/"
        },
        "id": "xBF3Cm_Qt8MI",
        "outputId": "c74790ee-5dec-41f8-d170-aeacbc3eba33"
      },
      "execution_count": 19,
      "outputs": [
        {
          "output_type": "stream",
          "name": "stdout",
          "text": [
            "<class 'dict'>\n"
          ]
        }
      ]
    },
    {
      "cell_type": "markdown",
      "source": [
        "Получился словарь, о котором еще попозже поговорим!\n",
        "\n",
        "А надо вот так:"
      ],
      "metadata": {
        "id": "DxL_c9ihucvF"
      }
    },
    {
      "cell_type": "code",
      "execution_count": 20,
      "metadata": {
        "id": "XI3CMjRWxTxQ",
        "colab": {
          "base_uri": "https://localhost:8080/"
        },
        "outputId": "9aefb47c-7926-4d6d-be00-c333ac609767"
      },
      "outputs": [
        {
          "output_type": "stream",
          "name": "stdout",
          "text": [
            "<class 'set'>\n"
          ]
        }
      ],
      "source": [
        "empty_set = set()\n",
        "print(type(empty_set))"
      ]
    },
    {
      "cell_type": "markdown",
      "metadata": {
        "id": "uK4-AXu6xTxQ"
      },
      "source": [
        "Множество можно создать из любой другой коллекции, например, списка. Таким образом удобно находить только уникальные элементы."
      ]
    },
    {
      "cell_type": "code",
      "source": [
        "list_with_repetitions = ['cat', 'dog', 'python', 'dino', 'snake', 'python']\n",
        "set_without_repetitions = set(list_with_repetitions)"
      ],
      "metadata": {
        "id": "QcZ1gINEucCW"
      },
      "execution_count": 21,
      "outputs": []
    },
    {
      "cell_type": "code",
      "source": [
        "print(set_without_repetitions)\n",
        "print(len(set_without_repetitions))"
      ],
      "metadata": {
        "colab": {
          "base_uri": "https://localhost:8080/"
        },
        "id": "k5bzrCTtxB1r",
        "outputId": "53815293-796c-48a3-c2e0-fbb5bbd4210b"
      },
      "execution_count": 23,
      "outputs": [
        {
          "output_type": "stream",
          "name": "stdout",
          "text": [
            "{'python', 'dino', 'snake', 'cat', 'dog'}\n",
            "5\n"
          ]
        }
      ]
    },
    {
      "cell_type": "code",
      "execution_count": 24,
      "metadata": {
        "id": "uvZCHdctxTxR",
        "colab": {
          "base_uri": "https://localhost:8080/"
        },
        "outputId": "582628f4-bac8-46dc-cf80-cf6fa0b6ab43"
      },
      "outputs": [
        {
          "output_type": "stream",
          "name": "stdout",
          "text": [
            "python dino snake cat dog\n",
            "python\n",
            "dino\n",
            "snake\n",
            "cat\n",
            "dog\n"
          ]
        }
      ],
      "source": [
        "print(*set(set_without_repetitions))  # print(*[1, 2, 3, 4]) -> print(1, 2, 3, 4)\n",
        "\n",
        "for i in set(set_without_repetitions):\n",
        "    print(i)"
      ]
    },
    {
      "cell_type": "markdown",
      "source": [
        "#### **Задача 2**"
      ],
      "metadata": {
        "id": "JgE95_gpAP27"
      }
    },
    {
      "cell_type": "markdown",
      "source": [
        "МарьИванна записывает детей на экскурсию, пока не будет введена пустая строка. Она знает, что все дети в ее классе имеют:\n",
        "1. разные имена,\n",
        "2. короткую оперативную память, поэтому они быстро забывают, подходили ли они к МарьИванне, и могут подойти еще раз.\n",
        "\n",
        "Напишите при помощи множеств программу, которая вывела бы все уникальные введенные имена школьников через пробел в одну строку (в любом порядке).\n",
        "\n",
        "| Ввод                                                        | Вывод |\n",
        "|:-----------------------------------------------------------:|:-----:|\n",
        "| Маша<br>Петя<br>Соня<br>Петя<br>Маша<br>Аня<br>Катя<br>Петя<br> | Петя Маша Аня Соня Катя |"
      ],
      "metadata": {
        "id": "lXftn_wS7rt9"
      }
    },
    {
      "cell_type": "code",
      "source": [
        "# ваш код здесь"
      ],
      "metadata": {
        "id": "8CTVKKLx9iRr"
      },
      "execution_count": null,
      "outputs": []
    },
    {
      "cell_type": "markdown",
      "source": [
        "### Что можно делать с множествами?"
      ],
      "metadata": {
        "id": "q9XF0Xqi9ybq"
      }
    },
    {
      "cell_type": "markdown",
      "metadata": {
        "id": "sytCdXSgxTxR"
      },
      "source": [
        "Множество было бы не множеством, если было бы нельзя делать какие-то операции с ним. Только это не очень быстро, за $O(n + m)$, где $n$ и $m$ длины множеств."
      ]
    },
    {
      "cell_type": "code",
      "execution_count": 30,
      "metadata": {
        "id": "a6tkQqLexTxR"
      },
      "outputs": [],
      "source": [
        "one_set = {\"Yana\", \"Sasha\"}\n",
        "another_set = {\"Sonya\", \"Sasha\", \"Polina\"}"
      ]
    },
    {
      "cell_type": "code",
      "execution_count": 33,
      "metadata": {
        "id": "Gzi6MIqKxTxR",
        "colab": {
          "base_uri": "https://localhost:8080/"
        },
        "outputId": "d8f1c1b6-d638-497f-f52e-ed13cd17ff7b"
      },
      "outputs": [
        {
          "output_type": "stream",
          "name": "stdout",
          "text": [
            "{'Yana', 'Tema', 'Sasha'}\n"
          ]
        }
      ],
      "source": [
        "one_set.add(\"Tema\")  # добавить во множество\n",
        "print(one_set)"
      ]
    },
    {
      "cell_type": "code",
      "execution_count": 34,
      "metadata": {
        "id": "SbC4Fd3ZxTxS",
        "colab": {
          "base_uri": "https://localhost:8080/"
        },
        "outputId": "20f1ba9f-9ae1-4e24-f0ec-4d699ae38721"
      },
      "outputs": [
        {
          "output_type": "stream",
          "name": "stdout",
          "text": [
            "{'Yana', 'Sasha'}\n"
          ]
        }
      ],
      "source": [
        "one_set.discard(\"Tema\")\n",
        "print(one_set)"
      ]
    },
    {
      "cell_type": "code",
      "execution_count": 35,
      "metadata": {
        "id": "Hw4Z8wAxxTxS",
        "colab": {
          "base_uri": "https://localhost:8080/"
        },
        "outputId": "a5eee51d-3740-46df-dafe-13115893c968"
      },
      "outputs": [
        {
          "output_type": "stream",
          "name": "stdout",
          "text": [
            "{'Yana', 'Sasha'}\n"
          ]
        }
      ],
      "source": [
        "one_set.discard(\"Tema\")  # не выдаст ошибку, несмотря на то, что элемента нет\n",
        "print(one_set)"
      ]
    },
    {
      "cell_type": "code",
      "execution_count": 36,
      "metadata": {
        "id": "_qCUN_bKxTxS",
        "colab": {
          "base_uri": "https://localhost:8080/",
          "height": 158
        },
        "outputId": "373a9c48-d48e-40b5-e0ff-19707ef19b1f"
      },
      "outputs": [
        {
          "output_type": "error",
          "ename": "KeyError",
          "evalue": "'Yana'",
          "traceback": [
            "\u001b[0;31m---------------------------------------------------------------------------\u001b[0m",
            "\u001b[0;31mKeyError\u001b[0m                                  Traceback (most recent call last)",
            "\u001b[0;32m<ipython-input-36-14c8e30cde9c>\u001b[0m in \u001b[0;36m<cell line: 2>\u001b[0;34m()\u001b[0m\n\u001b[1;32m      1\u001b[0m \u001b[0mone_set\u001b[0m\u001b[0;34m.\u001b[0m\u001b[0mremove\u001b[0m\u001b[0;34m(\u001b[0m\u001b[0;34m\"Yana\"\u001b[0m\u001b[0;34m)\u001b[0m\u001b[0;34m\u001b[0m\u001b[0;34m\u001b[0m\u001b[0m\n\u001b[0;32m----> 2\u001b[0;31m \u001b[0mone_set\u001b[0m\u001b[0;34m.\u001b[0m\u001b[0mremove\u001b[0m\u001b[0;34m(\u001b[0m\u001b[0;34m\"Yana\"\u001b[0m\u001b[0;34m)\u001b[0m  \u001b[0;31m# выдаст ошибку, так как такого элемента уже нет\u001b[0m\u001b[0;34m\u001b[0m\u001b[0;34m\u001b[0m\u001b[0m\n\u001b[0m",
            "\u001b[0;31mKeyError\u001b[0m: 'Yana'"
          ]
        }
      ],
      "source": [
        "one_set.remove(\"Yana\")\n",
        "one_set.remove(\"Yana\")  # выдаст ошибку, так как такого элемента уже нет"
      ]
    },
    {
      "cell_type": "code",
      "execution_count": 37,
      "metadata": {
        "id": "nCRzOrqnxTxS",
        "colab": {
          "base_uri": "https://localhost:8080/"
        },
        "outputId": "f1138f64-a55b-40a6-97bc-d7f9548882e4"
      },
      "outputs": [
        {
          "output_type": "stream",
          "name": "stdout",
          "text": [
            "Polina\n",
            "Sasha\n",
            "{'Sonya'}\n"
          ]
        }
      ],
      "source": [
        "s = {\"Sonya\", \"Sasha\", \"Polina\"}\n",
        "\n",
        "print(s.pop())\n",
        "print(s.pop())\n",
        "print(s)"
      ]
    },
    {
      "cell_type": "markdown",
      "source": [
        "| команда                                 | смысл                                                                                                                |\n",
        "|-----------------------------------------|----------------------------------------------------------------------------------------------------------------------|\n",
        "| `A \\| B`<br>`A.union(B)`                       | Возвращает множество, являющееся объединением множеств A и B.                                                        |\n",
        "| `A \\|= B`<br>`A.update(B)`                     | Добавляет в множество A все элементы из множества B.                                                                 |\n",
        "| `A & B`<br>`A.intersection(B)`                 | Возвращает множество, являющееся пересечением множеств A и B.                                                        |\n",
        "| `A &= B`<br>`A.intersection_update(B)`         | Оставляет в множестве A только те элементы, которые есть в множестве B.                                              |\n",
        "| `A - B`<br>`A.difference(B)`                   | Возвращает разность множеств A и B (элементы, входящие в A, но не входящие в B).                                     |\n",
        "| `A -= B`<br>`A.difference_update(B)`           | Удаляет из множества A все элементы, входящие в B.                                                                   |\n",
        "| `A ^ B`<br>`A.symmetric_difference(B)`         | Возвращает симметрическую разность множеств A и B (элементы, входящие в A или в B, но не в оба из них одновременно). |\n",
        "| `A ^= B`<br>`A.symmetric_difference_update(B)` | Записывает в A симметрическую разность множеств A и B.                                                               |\n",
        "| `A <= B`<br>`A.issubset(B)`                    | Возвращает `True`, если A является подмножеством B.                                                                    |\n",
        "| `A >= B`<br>`A.issuperset(B)`                  | Возвращает `True`, если B является подмножеством A.                                                                    |\n",
        "| `A < B`                                   | Эквивалентно A <= B and A != B                                                                                       |\n",
        "| `A > B`                                   | Эквивалентно A >= B and A != B                                                                                       |\n",
        "\n",
        "\n",
        "**NB!** Это верно только для тех случаев, когда обе переменных уже являются типом *set*.\n",
        "\n",
        "Полный список команд можете посмотреть в [документации](https://python-reference.readthedocs.io/en/latest/docs/sets/)."
      ],
      "metadata": {
        "id": "D9rgDFws8je_"
      }
    },
    {
      "cell_type": "code",
      "source": [
        "one_set = {\"Yana\", \"Sasha\"}\n",
        "another_set = {\"Sonya\", \"Sasha\", \"Polina\"}"
      ],
      "metadata": {
        "id": "1pkZQ8kj-Iwg"
      },
      "execution_count": 39,
      "outputs": []
    },
    {
      "cell_type": "code",
      "execution_count": 40,
      "metadata": {
        "id": "W4gwKDpVxTxR",
        "colab": {
          "base_uri": "https://localhost:8080/"
        },
        "outputId": "3da11761-1517-4784-f5f5-0c2c78eb08b5"
      },
      "outputs": [
        {
          "output_type": "stream",
          "name": "stdout",
          "text": [
            "{'Sasha'}\n",
            "{'Sasha'}\n"
          ]
        }
      ],
      "source": [
        "print(one_set & another_set)  # пересечение\n",
        "print(one_set.intersection(another_set))"
      ]
    },
    {
      "cell_type": "code",
      "execution_count": 41,
      "metadata": {
        "id": "kbxXsPUyxTxR",
        "colab": {
          "base_uri": "https://localhost:8080/"
        },
        "outputId": "d8d739db-a070-4555-da48-5190e989a687"
      },
      "outputs": [
        {
          "output_type": "stream",
          "name": "stdout",
          "text": [
            "{'Yana', 'Sasha', 'Sonya', 'Polina'}\n",
            "{'Yana', 'Sasha', 'Sonya', 'Polina'}\n"
          ]
        }
      ],
      "source": [
        "print(one_set | another_set)  # объединение\n",
        "print(one_set.union(another_set))"
      ]
    },
    {
      "cell_type": "code",
      "execution_count": 42,
      "metadata": {
        "id": "_qAnP1hSxTxR",
        "colab": {
          "base_uri": "https://localhost:8080/"
        },
        "outputId": "c49454ec-c81c-4be9-ca59-0036d6ed3579"
      },
      "outputs": [
        {
          "output_type": "stream",
          "name": "stdout",
          "text": [
            "{'Yana'}\n",
            "{'Yana'}\n"
          ]
        }
      ],
      "source": [
        "print(one_set - another_set)  # разность\n",
        "print(one_set.difference(another_set))"
      ]
    },
    {
      "cell_type": "code",
      "execution_count": 43,
      "metadata": {
        "id": "-aYQdhk9xTxS",
        "colab": {
          "base_uri": "https://localhost:8080/"
        },
        "outputId": "a2c065f7-4673-4b48-dc36-c3eb70aee150"
      },
      "outputs": [
        {
          "output_type": "stream",
          "name": "stdout",
          "text": [
            "{'Polina', 'Yana', 'Sonya'}\n",
            "{'Polina', 'Yana', 'Sonya'}\n"
          ]
        }
      ],
      "source": [
        "print(one_set ^ another_set)  # симметрическая разность -- те, которые есть в обоих исключая пересечение\n",
        "print(one_set.symmetric_difference(another_set))"
      ]
    },
    {
      "cell_type": "code",
      "execution_count": 44,
      "metadata": {
        "id": "lBAu2DIWxTxS",
        "colab": {
          "base_uri": "https://localhost:8080/"
        },
        "outputId": "ed0a486e-b0be-45f3-9ef1-097f19166117"
      },
      "outputs": [
        {
          "output_type": "stream",
          "name": "stdout",
          "text": [
            "{'Yana'}\n"
          ]
        }
      ],
      "source": [
        "one_set -= another_set  # все это можно еще делать через -=, ^=, &= и так далее\n",
        "\n",
        "print(one_set)"
      ]
    },
    {
      "cell_type": "markdown",
      "source": [
        "#### **Задача 3**"
      ],
      "metadata": {
        "id": "czm1D8l9AKKo"
      }
    },
    {
      "cell_type": "markdown",
      "source": [
        "В задачах NLP достаточно часто встречается термин стоп-слов. Это такие слова, которые часто повторяются в текстах, типа союзов, местоимений или предлогов. Они \"портят\" статистику комплингвистам, так как являются самыми частотными и при этом не несут никакого смысла.\n",
        "\n",
        "Вам дан список нескольких стоп-слов в русском:\n",
        "\n",
        "```python\n",
        "stops_ru = ['и', 'в', 'во', 'не', 'что', 'он', 'на', 'я', 'с', 'со', 'как', 'а', 'то', 'все', 'она', 'из', 'его', 'мне']\n",
        "```\n",
        "\n",
        "Пользователь вводит сколько-то слова через пробелы. Удалите из них стоп-слова.\n",
        "\n",
        "**Ввод**:\n",
        "> я попросил его прочитать мне отрывок из поэмы пусть небольшой и он выдвинул ящик письменного стола вынул объемистую стопку листов со штампом и самодовольным звучным голосом прочел\n",
        "\n",
        "**Вывод**:\n",
        "> попросил прочитать отрывок поэмы пусть небольшой выдвинул ящик письменного стола вынул объемистую стопку листов штампом самодовольным звучным голосом прочел\n",
        "\n",
        "\n"
      ],
      "metadata": {
        "id": "w6UJVUTHAW4J"
      }
    },
    {
      "cell_type": "code",
      "source": [
        "# ваш код здесь"
      ],
      "metadata": {
        "id": "jQbHVhHNB4CQ"
      },
      "execution_count": null,
      "outputs": []
    },
    {
      "cell_type": "markdown",
      "metadata": {
        "id": "10ahHSeBxTxS"
      },
      "source": [
        "Ровно так же, как и списки, множества копируются по ссылке (изменяемые):"
      ]
    },
    {
      "cell_type": "code",
      "execution_count": 46,
      "metadata": {
        "id": "Ko3K1DNvxTxS",
        "colab": {
          "base_uri": "https://localhost:8080/"
        },
        "outputId": "71e0bb7e-46be-4530-85c4-e09a6274d8d9"
      },
      "outputs": [
        {
          "output_type": "stream",
          "name": "stdout",
          "text": [
            "{1, 3}\n"
          ]
        }
      ],
      "source": [
        "one_set = {1, 2, 3}\n",
        "another_set = one_set\n",
        "another_set.discard(2)\n",
        "\n",
        "print(one_set)"
      ]
    },
    {
      "cell_type": "markdown",
      "source": [
        "Поэтому нужно не забывать делать копии, если вам это нужно!"
      ],
      "metadata": {
        "id": "0hze5C5dDdcT"
      }
    },
    {
      "cell_type": "code",
      "execution_count": 48,
      "metadata": {
        "id": "R7Gfer7oxTxS"
      },
      "outputs": [],
      "source": [
        "from copy import deepcopy\n",
        "\n",
        "another_set = one_set.copy()\n",
        "another_set = deepcopy(one_set)"
      ]
    },
    {
      "cell_type": "markdown",
      "metadata": {
        "id": "luZKXlC8xTxT"
      },
      "source": [
        "**NB!** Положить во множества можно не абы что:"
      ]
    },
    {
      "cell_type": "code",
      "execution_count": 49,
      "metadata": {
        "id": "H3KVDEa3xTxT",
        "colab": {
          "base_uri": "https://localhost:8080/",
          "height": 141
        },
        "outputId": "7cebc17e-6234-4fa4-9e70-d6d1e8a69e9f"
      },
      "outputs": [
        {
          "output_type": "error",
          "ename": "TypeError",
          "evalue": "unhashable type: 'list'",
          "traceback": [
            "\u001b[0;31m---------------------------------------------------------------------------\u001b[0m",
            "\u001b[0;31mTypeError\u001b[0m                                 Traceback (most recent call last)",
            "\u001b[0;32m<ipython-input-49-555372e90ad2>\u001b[0m in \u001b[0;36m<cell line: 1>\u001b[0;34m()\u001b[0m\n\u001b[0;32m----> 1\u001b[0;31m \u001b[0ms\u001b[0m \u001b[0;34m=\u001b[0m \u001b[0;34m{\u001b[0m\u001b[0;34m[\u001b[0m\u001b[0;36m1\u001b[0m\u001b[0;34m,\u001b[0m \u001b[0;36m2\u001b[0m\u001b[0;34m,\u001b[0m \u001b[0;36m3\u001b[0m\u001b[0;34m]\u001b[0m\u001b[0;34m}\u001b[0m  \u001b[0;31m# выдаст ошибку, список нельзя захэшить\u001b[0m\u001b[0;34m\u001b[0m\u001b[0;34m\u001b[0m\u001b[0m\n\u001b[0m",
            "\u001b[0;31mTypeError\u001b[0m: unhashable type: 'list'"
          ]
        }
      ],
      "source": [
        "s = {[1, 2, 3]}  # выдаст ошибку, список нельзя захэшить"
      ]
    },
    {
      "cell_type": "code",
      "execution_count": 50,
      "metadata": {
        "id": "wJfNvqMIxTxT",
        "colab": {
          "base_uri": "https://localhost:8080/"
        },
        "outputId": "4e1f0296-d2d7-47a6-f1d5-865ae3f29ac7"
      },
      "outputs": [
        {
          "output_type": "stream",
          "name": "stdout",
          "text": [
            "[{1, 2, 3, 9}, {5, 6, 7}]\n"
          ]
        }
      ],
      "source": [
        "# а вот в списке хранить множество можно\n",
        "\n",
        "sets = [{1, 2, 3}, {5, 6, 7}]\n",
        "sets[0].add(9)\n",
        "print(sets)"
      ]
    },
    {
      "cell_type": "code",
      "execution_count": 51,
      "metadata": {
        "id": "SFZ9F3VXxTxT",
        "colab": {
          "base_uri": "https://localhost:8080/"
        },
        "outputId": "38f2b435-af6d-42a6-93de-07130fc20136"
      },
      "outputs": [
        {
          "output_type": "stream",
          "name": "stdout",
          "text": [
            "{(4, 5, 6, 7), (1, 2, 3)}\n"
          ]
        }
      ],
      "source": [
        "s = {(1, 2, 3), (4, 5, 6, 7)}  # зато можно кортежи: почему?\n",
        "print(s)"
      ]
    },
    {
      "cell_type": "code",
      "execution_count": 52,
      "metadata": {
        "id": "xyxt7qQhxTxT",
        "colab": {
          "base_uri": "https://localhost:8080/",
          "height": 141
        },
        "outputId": "6b71d1a2-2a67-4749-cb22-a2666feb37f1"
      },
      "outputs": [
        {
          "output_type": "error",
          "ename": "TypeError",
          "evalue": "unhashable type: 'set'",
          "traceback": [
            "\u001b[0;31m---------------------------------------------------------------------------\u001b[0m",
            "\u001b[0;31mTypeError\u001b[0m                                 Traceback (most recent call last)",
            "\u001b[0;32m<ipython-input-52-3257454019db>\u001b[0m in \u001b[0;36m<cell line: 1>\u001b[0;34m()\u001b[0m\n\u001b[0;32m----> 1\u001b[0;31m \u001b[0ms\u001b[0m \u001b[0;34m=\u001b[0m \u001b[0;34m{\u001b[0m\u001b[0;34m{\u001b[0m\u001b[0;36m5\u001b[0m\u001b[0;34m,\u001b[0m \u001b[0;36m6\u001b[0m\u001b[0;34m,\u001b[0m \u001b[0;36m7\u001b[0m\u001b[0;34m}\u001b[0m\u001b[0;34m,\u001b[0m \u001b[0;34m{\u001b[0m\u001b[0;36m6\u001b[0m\u001b[0;34m,\u001b[0m \u001b[0;36m7\u001b[0m\u001b[0;34m,\u001b[0m \u001b[0;36m8\u001b[0m\u001b[0;34m}\u001b[0m\u001b[0;34m}\u001b[0m  \u001b[0;31m# множество тоже нельзя положить во множество\u001b[0m\u001b[0;34m\u001b[0m\u001b[0;34m\u001b[0m\u001b[0m\n\u001b[0m",
            "\u001b[0;31mTypeError\u001b[0m: unhashable type: 'set'"
          ]
        }
      ],
      "source": [
        "s = {{5, 6, 7}, {6, 7, 8}}  # множество тоже нельзя положить во множество"
      ]
    },
    {
      "cell_type": "markdown",
      "source": [
        "Но можно положить `frozenset`. Если составлять пропорцию, то:<br>\n",
        "`list` : `tuple` = `set` : `frozenset`"
      ],
      "metadata": {
        "id": "_kDrqNOiDyfQ"
      }
    },
    {
      "cell_type": "code",
      "execution_count": 53,
      "metadata": {
        "id": "FfU3exXExTxT",
        "colab": {
          "base_uri": "https://localhost:8080/"
        },
        "outputId": "71b62f80-237e-4771-f71c-a186d761fd30"
      },
      "outputs": [
        {
          "output_type": "stream",
          "name": "stdout",
          "text": [
            "{frozenset({1, 2, 3}), 3, 'pampam'}\n"
          ]
        }
      ],
      "source": [
        "s = {frozenset({1, 2, 3}), frozenset({1, 2, 3}), 3, \"pampam\"}\n",
        "\n",
        "print(s)"
      ]
    },
    {
      "cell_type": "markdown",
      "metadata": {
        "id": "LBPo3fMqxTxY"
      },
      "source": [
        "### Практика"
      ]
    },
    {
      "cell_type": "markdown",
      "metadata": {
        "id": "kJTlO1xSxTxZ"
      },
      "source": [
        "#### **Задача 4**\n",
        "\n",
        "Каждый из N школьников некоторой школы знает $M_i$ языков. Определите, какие языки знают все школьники и языки, которые знает хотя бы один из школьников."
      ]
    },
    {
      "cell_type": "code",
      "execution_count": null,
      "metadata": {
        "id": "n-ALAnDKxTxZ"
      },
      "outputs": [],
      "source": []
    },
    {
      "cell_type": "markdown",
      "metadata": {
        "id": "Dho_bgBAxTxZ"
      },
      "source": [
        "#### **Задача 5**\n",
        "Во входной строке записана последовательность чисел через пробел. Для каждого числа выведите слово YES (в отдельной строке), если это число ранее встречалось в последовательности или NO, если не встречалось."
      ]
    },
    {
      "cell_type": "code",
      "execution_count": null,
      "metadata": {
        "id": "AhjkHFy_xTxa"
      },
      "outputs": [],
      "source": []
    },
    {
      "cell_type": "markdown",
      "metadata": {
        "id": "GeqQe-7cxTxa"
      },
      "source": [
        "#### **Задача 6**\n",
        "\n",
        "Август и Беатриса играют в игру. Август загадал натуральное число от $1$ до $n%. Беатриса пытается угадать это число, для этого она называет некоторые множества натуральных чисел. Август отвечает Беатрисе YES, если среди названных ей чисел есть задуманное или NO в противном случае. После нескольких заданных вопросов Беатриса запуталась в том, какие вопросы она задавала и какие ответы получила и просит вас помочь ей определить, какие числа мог задумать Август.\n",
        "\n",
        "**Формат ввода**\n",
        "\n",
        "Первая строка входных данных содержит число $n$ — наибольшее число, которое мог загадать Август. Далее идут строки, содержащие вопросы Беатрисы. Каждая строка представляет собой набор чисел, разделенных пробелами. После каждой строки с вопросом идет ответ Августа: YES или NO. Наконец, последняя строка входных данных содержит одно слово HELP."
      ]
    },
    {
      "cell_type": "code",
      "execution_count": null,
      "metadata": {
        "id": "bSYcZew5xTxa"
      },
      "outputs": [],
      "source": []
    }
  ],
  "metadata": {
    "kernelspec": {
      "display_name": "Python 3.9.13 64-bit",
      "language": "python",
      "name": "python3"
    },
    "language_info": {
      "codemirror_mode": {
        "name": "ipython",
        "version": 3
      },
      "file_extension": ".py",
      "mimetype": "text/x-python",
      "name": "python",
      "nbconvert_exporter": "python",
      "pygments_lexer": "ipython3",
      "version": "3.9.13"
    },
    "orig_nbformat": 4,
    "vscode": {
      "interpreter": {
        "hash": "b0fa6594d8f4cbf19f97940f81e996739fb7646882a419484c72d19e05852a7e"
      }
    },
    "colab": {
      "provenance": []
    }
  },
  "nbformat": 4,
  "nbformat_minor": 0
}
