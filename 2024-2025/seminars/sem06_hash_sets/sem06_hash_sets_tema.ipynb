{
 "cells": [
  {
   "cell_type": "markdown",
   "metadata": {},
   "source": [
    "# Семинар 4: хэш-таблицы и множества"
   ]
  },
  {
   "cell_type": "code",
   "execution_count": null,
   "metadata": {},
   "outputs": [],
   "source": [
    "# FIFO\n",
    "\n",
    "\n",
    "\n",
    "a = [2, 3, 4, 5, 6]\n",
    "a.append(-1)  # O(1) = 1 * const = const\n",
    "\n",
    "a.pop()  # O(1)\n",
    "a.pop(0)  # O(n)\n",
    "\n",
    "a.insert(0, -1)\n",
    "\n",
    "# вставка элемента в начало списка O(len(a)) = const * len(a)\n",
    "\n",
    "# g(x) = O(f(x)) <=> g(x) <= const * f(x)\n",
    "\n",
    "# O(a) + O(b) = O(a + b)\n",
    "# O(a) * O(b) = O(a * b)\n",
    "# O(const * n) = O(n)\n",
    "\n",
    "# O(2n) = O(n)\n",
    "\n",
    "\n",
    "for i in range(len(a)):\n",
    "    print(a.index(i ** 2))\n",
    "\n",
    "# O(n^2)"
   ]
  },
  {
   "cell_type": "markdown",
   "metadata": {},
   "source": [
    "### Глава 0: дэк\n",
    "Очень удобная структура данных, позволяющая добавлять элементы как в конец, так и в начало. На ее основе можно сделать очередь или двустороннюю очередь.\n",
    "Все добавления и удаления из конца происходят за константное количество операций, то есть за $O(1)$. Это быстро и очень удобно. Удаление из любой другой части **не гарантируют** такую быстроту. Под капотом дэк устроен из трех массивов на самом деле."
   ]
  },
  {
   "cell_type": "code",
   "execution_count": null,
   "metadata": {},
   "outputs": [],
   "source": [
    "from collections import deque  # deque потому что Double-Ended-QUEue\n",
    "\n",
    "# LIFO\n",
    "\n",
    "d = deque()\n",
    "# а также дэк можно создать из списка или чего-то другого, по чему можно пройтись, например, так\n",
    "# d = deque([1, 2, 3])\n",
    "\n",
    "d.append(\"Vasya\")  # O(1)\n",
    "d.appendleft(\"Petya\")  # O(1)\n",
    "print('deque contains:', d)\n",
    "\n",
    "print(d.popleft())  # O(1)\n",
    "print('after popleft:', d)\n",
    "print(d.pop())  # O(1)\n",
    "print('after pop:', d)"
   ]
  },
  {
   "cell_type": "markdown",
   "metadata": {},
   "source": [
    "### Глава 1: введение в хэши\n",
    "\n",
    "**Definition:** A hash function is a function that takes a set of inputs of any arbitrary size and fits them into a table or other data structure that contains fixed-size elements.\n",
    "\n",
    "\n",
    "Более просто (но это не общий случай), можно считать, что некоторый объект `obj` может быть передан некоторой функции $f$, такой что $f(obj) \\in H\\subset\\mathbb{Z}$.\n",
    "\n",
    "С точки зрения практики, это, например, позволяет \"укомплектовать\" любого размера строчки в числа. При этом могут быть коллизии:"
   ]
  },
  {
   "cell_type": "markdown",
   "metadata": {},
   "source": [
    "<img src=\"https://upload.wikimedia.org/wikipedia/commons/d/d0/Hash_table_5_0_1_1_1_1_1_LL.svg\" style=\"background-color:white\">"
   ]
  },
  {
   "cell_type": "markdown",
   "metadata": {},
   "source": [
    "**Пример:** как хэшировать строки? Например, пусть у нас есть некоторые простые числа $p > 2$ и $M$ (достаточно большое) и некоторая строка $s$ длины $n$, тогда\n",
    "$h(s) = s_1 * p + s_2 * p^2 + \\ldots + s_n * p^n \\mod M$\n",
    "\n",
    "Модуль здесь нужен, чтобы не хранить большие числа, так как такая полиномиальная функция обычно имеет без модуля очень большое значение. В питоне это не так критично, но в языках, где чаще всего размер числа ограничен 8 байтами, это может привести к проблемам.\n",
    "\n",
    "Простота чисел $p$ и $M$ здесь важна чтобы избежать случая, когда строки из одинаковых символов будут давать по модулю 0.\n",
    "\n",
    "Однако понятно, что тут все равно могут быть коллизии, причем коллизия будет порядка $\\frac{n - 1}{M}$ для строк длины $n$. Если $M$ достаточно большое простое, то это не так критично и хэш таблица такие случаи решать умеет (смотри картинку выше)."
   ]
  },
  {
   "cell_type": "markdown",
   "metadata": {},
   "source": [
    "### Глава 2: множества\n",
    "\n",
    "Множества в питоне -- это один из примеров реализации хэш-таблицы в питоне. Позволяет хранить неповторяющиеся объекты и быстро проверять их наличие. Добавление и проверка наличия происходит за $O(1)$, удаление -- тоже за $O(1)$ (с поправкой на коллизии)."
   ]
  },
  {
   "cell_type": "code",
   "execution_count": 1,
   "metadata": {},
   "outputs": [
    {
     "data": {
      "text/plain": [
       "-9041443076068326616"
      ]
     },
     "execution_count": 1,
     "metadata": {},
     "output_type": "execute_result"
    }
   ],
   "source": [
    "hash(\"abc\")"
   ]
  },
  {
   "cell_type": "code",
   "execution_count": 4,
   "metadata": {},
   "outputs": [
    {
     "name": "stdout",
     "output_type": "stream",
     "text": [
      "1 in s: True\n",
      "5 in s: False\n"
     ]
    }
   ],
   "source": [
    "s = {1, 2, 3}  # множество можно создать через фигурные скобки\n",
    "\n",
    "print(\"1 in s:\", 1 in s)\n",
    "print(\"5 in s:\", 5 in s)"
   ]
  },
  {
   "cell_type": "markdown",
   "metadata": {},
   "source": [
    "Давайте проведем небольшой тест, насколько это быстро работает:"
   ]
  },
  {
   "cell_type": "code",
   "execution_count": 6,
   "metadata": {},
   "outputs": [],
   "source": [
    "# знакомьтесь, это компрехеншны, возможно, подробнее поговорим про них позже, если останется время\n",
    "\n",
    "N_NUMBERS = 10 ** 4\n",
    "my_list = [i ** 2 for i in range(N_NUMBERS)]  # 0 ... N_NUMBERS - 1\n",
    "\n",
    "my_set = {i ** 2 for i in range(N_NUMBERS)}"
   ]
  },
  {
   "cell_type": "code",
   "execution_count": 7,
   "metadata": {},
   "outputs": [
    {
     "name": "stdout",
     "output_type": "stream",
     "text": [
      "549 ms ± 6.89 ms per loop (mean ± std. dev. of 7 runs, 1 loop each)\n"
     ]
    }
   ],
   "source": [
    "%%timeit  # с помощью %%timeit можно изменить среднее время работы ячейки +- std\n",
    "# если написать просто %%time будет результат одного запуска, без стандартного отклонения\n",
    "\n",
    "for i in range(N_NUMBERS):\n",
    "    i in my_list  # можно никуда не присваивать, питон так тоже умеет"
   ]
  },
  {
   "cell_type": "code",
   "execution_count": 11,
   "metadata": {},
   "outputs": [
    {
     "name": "stdout",
     "output_type": "stream",
     "text": [
      "240 μs ± 1.06 μs per loop (mean ± std. dev. of 7 runs, 1,000 loops each)\n"
     ]
    }
   ],
   "source": [
    "%%timeit\n",
    "for i in range(N_NUMBERS):\n",
    "    i in my_set  # можно никуда не присваивать, питон так тоже умеет"
   ]
  },
  {
   "cell_type": "code",
   "execution_count": null,
   "metadata": {},
   "outputs": [],
   "source": [
    "s = {1, 2, \"kek\", 1.2}  # можно хранить разные типы данных"
   ]
  },
  {
   "cell_type": "code",
   "execution_count": 12,
   "metadata": {},
   "outputs": [
    {
     "name": "stdout",
     "output_type": "stream",
     "text": [
      "<class 'dict'>\n"
     ]
    }
   ],
   "source": [
    "empty_set = {}  # это неправильно, это не множество!!!!\n",
    "print(type(empty_set))"
   ]
  },
  {
   "cell_type": "code",
   "execution_count": 13,
   "metadata": {},
   "outputs": [
    {
     "name": "stdout",
     "output_type": "stream",
     "text": [
      "<class 'set'>\n"
     ]
    }
   ],
   "source": [
    "empty_set = set()  # а надо вот так\n",
    "print(type(empty_set))"
   ]
  },
  {
   "cell_type": "markdown",
   "metadata": {},
   "source": [
    "Множество можно создать из любой другой коллекции, например, списка. Таким образом удобно находить только уникальные элементы."
   ]
  },
  {
   "cell_type": "code",
   "execution_count": 14,
   "metadata": {},
   "outputs": [
    {
     "name": "stdout",
     "output_type": "stream",
     "text": [
      "{1, 2, 3, 4, 5}\n",
      "5\n"
     ]
    }
   ],
   "source": [
    "values = [1, 2, 1, 1, 1, 2, 2, 3, 5, 4, 4, 3, 5, 2, 1]\n",
    "print(set(values))\n",
    "print(len(set(values)))"
   ]
  },
  {
   "cell_type": "code",
   "execution_count": 15,
   "metadata": {},
   "outputs": [
    {
     "name": "stdout",
     "output_type": "stream",
     "text": [
      "1 2 3 4 5\n",
      "1\n",
      "2\n",
      "3\n",
      "4\n",
      "5\n"
     ]
    }
   ],
   "source": [
    "print(*set(values))  # print(*[1, 2, 3, 4]) -> print(1, 2, 3, 4)\n",
    "\n",
    "for i in set(values):\n",
    "    print(i)"
   ]
  },
  {
   "cell_type": "markdown",
   "metadata": {},
   "source": [
    "Множество было бы не множеством, если было бы нельзя делать какие-то операции с ним. Только это не очень быстро, за $O(n + m)$, где $n$ и $m$ длины множеств."
   ]
  },
  {
   "cell_type": "code",
   "execution_count": 16,
   "metadata": {},
   "outputs": [],
   "source": [
    "one_set = {\"Yana\", \"Sasha\"}\n",
    "another_set = {\"Sonya\", \"Sasha\", \"Polina\"}"
   ]
  },
  {
   "cell_type": "code",
   "execution_count": 17,
   "metadata": {},
   "outputs": [],
   "source": [
    "one_set.add(\"Tema\")  # добавить во множество"
   ]
  },
  {
   "cell_type": "code",
   "execution_count": 18,
   "metadata": {},
   "outputs": [
    {
     "name": "stdout",
     "output_type": "stream",
     "text": [
      "{'Sasha'}\n",
      "{'Sasha'}\n"
     ]
    }
   ],
   "source": [
    "print(one_set & another_set)  # пересечение\n",
    "print(one_set.intersection(another_set))"
   ]
  },
  {
   "cell_type": "code",
   "execution_count": 19,
   "metadata": {},
   "outputs": [
    {
     "name": "stdout",
     "output_type": "stream",
     "text": [
      "{'Polina', 'Sasha', 'Tema', 'Sonya', 'Yana'}\n",
      "{'Polina', 'Sasha', 'Tema', 'Sonya', 'Yana'}\n"
     ]
    }
   ],
   "source": [
    "print(one_set | another_set)  # объединение\n",
    "print(one_set.union(another_set))"
   ]
  },
  {
   "cell_type": "code",
   "execution_count": 20,
   "metadata": {},
   "outputs": [
    {
     "name": "stdout",
     "output_type": "stream",
     "text": [
      "{'Tema', 'Yana'}\n",
      "{'Tema', 'Yana'}\n"
     ]
    }
   ],
   "source": [
    "print(one_set - another_set)  # разность\n",
    "print(one_set.difference(another_set))"
   ]
  },
  {
   "cell_type": "code",
   "execution_count": null,
   "metadata": {},
   "outputs": [
    {
     "name": "stdout",
     "output_type": "stream",
     "text": [
      "{'Polina', 'Tema', 'Sonya', 'Yana'}\n",
      "{'Polina', 'Tema', 'Sonya', 'Yana'}\n"
     ]
    }
   ],
   "source": [
    "print(one_set ^ another_set)  # симметрическая разность -- те, которые есть в обоих исключая пересечение\n",
    "print(one_set.symmetric_difference(another_set))\n",
    "\n",
    "# (one_set | another_set) - (one_set & another_set)"
   ]
  },
  {
   "cell_type": "code",
   "execution_count": null,
   "metadata": {},
   "outputs": [],
   "source": [
    "one_set -= another_set  # все это можно еще делать через -=, ^=, &= и так далее\n",
    "# еще можно написать вот так: one_set.difference_update(another_set)\n",
    "# по аналогии есть:\n",
    "# * one_set.symmetric_difference_update\n",
    "# * one_set.intersection_update\n",
    "# * one_set.update -- это объединение, оно пишется без union в начале\n",
    "\n",
    "print(one_set)"
   ]
  },
  {
   "cell_type": "code",
   "execution_count": 22,
   "metadata": {},
   "outputs": [
    {
     "name": "stdout",
     "output_type": "stream",
     "text": [
      "{'Sasha', 'Yana'}\n"
     ]
    }
   ],
   "source": [
    "one_set.discard(\"Tema\")\n",
    "print(one_set)"
   ]
  },
  {
   "cell_type": "code",
   "execution_count": 23,
   "metadata": {},
   "outputs": [
    {
     "name": "stdout",
     "output_type": "stream",
     "text": [
      "{'Sasha', 'Yana'}\n"
     ]
    }
   ],
   "source": [
    "one_set.discard(\"Tema\")  # не выдаст ошибку, несмотря на то, что элемента нет\n",
    "print(one_set)"
   ]
  },
  {
   "cell_type": "code",
   "execution_count": 24,
   "metadata": {},
   "outputs": [
    {
     "ename": "KeyError",
     "evalue": "'Yana'",
     "output_type": "error",
     "traceback": [
      "\u001b[0;31m---------------------------------------------------------------------------\u001b[0m",
      "\u001b[0;31mKeyError\u001b[0m                                  Traceback (most recent call last)",
      "Cell \u001b[0;32mIn[24], line 2\u001b[0m\n\u001b[1;32m      1\u001b[0m one_set\u001b[38;5;241m.\u001b[39mremove(\u001b[38;5;124m\"\u001b[39m\u001b[38;5;124mYana\u001b[39m\u001b[38;5;124m\"\u001b[39m)\n\u001b[0;32m----> 2\u001b[0m \u001b[43mone_set\u001b[49m\u001b[38;5;241;43m.\u001b[39;49m\u001b[43mremove\u001b[49m\u001b[43m(\u001b[49m\u001b[38;5;124;43m\"\u001b[39;49m\u001b[38;5;124;43mYana\u001b[39;49m\u001b[38;5;124;43m\"\u001b[39;49m\u001b[43m)\u001b[49m  \u001b[38;5;66;03m# выдаст ошибку, так как такого элемента уже нет\u001b[39;00m\n",
      "\u001b[0;31mKeyError\u001b[0m: 'Yana'"
     ]
    }
   ],
   "source": [
    "one_set.remove(\"Yana\")\n",
    "one_set.remove(\"Yana\")  # выдаст ошибку, так как такого элемента уже нет"
   ]
  },
  {
   "cell_type": "code",
   "execution_count": 25,
   "metadata": {},
   "outputs": [
    {
     "name": "stdout",
     "output_type": "stream",
     "text": [
      "Polina\n",
      "Sasha\n",
      "{'Sonya'}\n"
     ]
    }
   ],
   "source": [
    "s = {\"Sonya\", \"Sasha\", \"Polina\"}\n",
    "\n",
    "print(s.pop())\n",
    "print(s.pop())\n",
    "print(s)"
   ]
  },
  {
   "cell_type": "markdown",
   "metadata": {},
   "source": [
    "Множество НЕ гарантирует порядок!!!!"
   ]
  },
  {
   "cell_type": "code",
   "execution_count": 28,
   "metadata": {},
   "outputs": [
    {
     "name": "stdout",
     "output_type": "stream",
     "text": [
      "-12112312\n",
      "2349384593\n",
      "342453\n",
      "22222\n"
     ]
    }
   ],
   "source": [
    "s = {2349384593, 342453, -12112312, 22222}\n",
    "for i in s:\n",
    "    print(i)"
   ]
  },
  {
   "cell_type": "code",
   "execution_count": 30,
   "metadata": {},
   "outputs": [
    {
     "name": "stdout",
     "output_type": "stream",
     "text": [
      "-12112312 22222 342453 2349384593\n"
     ]
    }
   ],
   "source": [
    "print(*sorted(s))"
   ]
  },
  {
   "cell_type": "markdown",
   "metadata": {},
   "source": [
    "Ровно так же, как и списки, множества копируются по ссылке"
   ]
  },
  {
   "cell_type": "code",
   "execution_count": 32,
   "metadata": {},
   "outputs": [
    {
     "name": "stdout",
     "output_type": "stream",
     "text": [
      "{1, 3}\n"
     ]
    }
   ],
   "source": [
    "one_set = {1, 2, 3}\n",
    "another_set = one_set\n",
    "another_set.discard(2)\n",
    "\n",
    "print(one_set)"
   ]
  },
  {
   "cell_type": "code",
   "execution_count": null,
   "metadata": {},
   "outputs": [],
   "source": [
    "from copy import deepcopy\n",
    "\n",
    "another_set = one_set.copy()\n",
    "another_set = deepcopy(one_set)"
   ]
  },
  {
   "cell_type": "markdown",
   "metadata": {},
   "source": [
    "Важно! Положить во множества можно не абы что"
   ]
  },
  {
   "cell_type": "code",
   "execution_count": 33,
   "metadata": {},
   "outputs": [
    {
     "ename": "TypeError",
     "evalue": "unhashable type: 'list'",
     "output_type": "error",
     "traceback": [
      "\u001b[0;31m---------------------------------------------------------------------------\u001b[0m",
      "\u001b[0;31mTypeError\u001b[0m                                 Traceback (most recent call last)",
      "Cell \u001b[0;32mIn[33], line 1\u001b[0m\n\u001b[0;32m----> 1\u001b[0m s \u001b[38;5;241m=\u001b[39m {[\u001b[38;5;241m1\u001b[39m, \u001b[38;5;241m2\u001b[39m, \u001b[38;5;241m3\u001b[39m]}  \u001b[38;5;66;03m# выдаст ошибку, список нельзя захэшить\u001b[39;00m\n",
      "\u001b[0;31mTypeError\u001b[0m: unhashable type: 'list'"
     ]
    }
   ],
   "source": [
    "s = {[1, 2, 3]}  # выдаст ошибку, список нельзя захэшить"
   ]
  },
  {
   "cell_type": "code",
   "execution_count": 34,
   "metadata": {},
   "outputs": [
    {
     "name": "stdout",
     "output_type": "stream",
     "text": [
      "[{1, 2, 3, 9}, {5, 6, 7}]\n"
     ]
    }
   ],
   "source": [
    "# а вот в списке хранить множество можно\n",
    "\n",
    "sets = [{1, 2, 3}, {5, 6, 7}]\n",
    "sets[0].add(9)\n",
    "print(sets)"
   ]
  },
  {
   "cell_type": "code",
   "execution_count": 35,
   "metadata": {},
   "outputs": [
    {
     "name": "stdout",
     "output_type": "stream",
     "text": [
      "{(4, 5, 6, 7), (1, 2, 3)}\n"
     ]
    }
   ],
   "source": [
    "s = {(1, 2, 3), (4, 5, 6, 7)}  # зато можно кортежи. подумайте почему\n",
    "print(s)"
   ]
  },
  {
   "cell_type": "code",
   "execution_count": 36,
   "metadata": {},
   "outputs": [
    {
     "ename": "TypeError",
     "evalue": "unhashable type: 'set'",
     "output_type": "error",
     "traceback": [
      "\u001b[0;31m---------------------------------------------------------------------------\u001b[0m",
      "\u001b[0;31mTypeError\u001b[0m                                 Traceback (most recent call last)",
      "Cell \u001b[0;32mIn[36], line 1\u001b[0m\n\u001b[0;32m----> 1\u001b[0m s \u001b[38;5;241m=\u001b[39m {{\u001b[38;5;241m5\u001b[39m, \u001b[38;5;241m6\u001b[39m, \u001b[38;5;241m7\u001b[39m}, {\u001b[38;5;241m6\u001b[39m, \u001b[38;5;241m7\u001b[39m, \u001b[38;5;241m8\u001b[39m}}  \u001b[38;5;66;03m# множество тоже нельзя положить во множество\u001b[39;00m\n",
      "\u001b[0;31mTypeError\u001b[0m: unhashable type: 'set'"
     ]
    }
   ],
   "source": [
    "s = {{5, 6, 7}, {6, 7, 8}}  # множество тоже нельзя положить во множество"
   ]
  },
  {
   "cell_type": "code",
   "execution_count": null,
   "metadata": {},
   "outputs": [],
   "source": [
    "s = {frozenset({1, 2, 3}), frozenset({1, 2, 3}), 3, \"Kek\"}  # frozenset -- это аналог tuple, его вот положить можно\n",
    "\n",
    "print(s)"
   ]
  },
  {
   "cell_type": "code",
   "execution_count": 45,
   "metadata": {},
   "outputs": [
    {
     "name": "stdout",
     "output_type": "stream",
     "text": [
      "4531154368\n",
      "4531155488\n"
     ]
    }
   ],
   "source": [
    "t = frozenset({1, 2, 3})\n",
    "print(id(t))\n",
    "t |= {3, 4, 5}\n",
    "print(id(t))"
   ]
  },
  {
   "cell_type": "code",
   "execution_count": 43,
   "metadata": {},
   "outputs": [
    {
     "name": "stdout",
     "output_type": "stream",
     "text": [
      "4531157056\n",
      "4531157056\n"
     ]
    }
   ],
   "source": [
    "t = {1, 2, 3}\n",
    "print(id(t))\n",
    "t |= {3, 4, 5}\n",
    "print(id(t))"
   ]
  },
  {
   "cell_type": "code",
   "execution_count": null,
   "metadata": {},
   "outputs": [],
   "source": []
  }
 ],
 "metadata": {
  "kernelspec": {
   "display_name": "Python 3",
   "language": "python",
   "name": "python3"
  },
  "language_info": {
   "codemirror_mode": {
    "name": "ipython",
    "version": 3
   },
   "file_extension": ".py",
   "mimetype": "text/x-python",
   "name": "python",
   "nbconvert_exporter": "python",
   "pygments_lexer": "ipython3",
   "version": "3.12.4"
  },
  "orig_nbformat": 4
 },
 "nbformat": 4,
 "nbformat_minor": 2
}
