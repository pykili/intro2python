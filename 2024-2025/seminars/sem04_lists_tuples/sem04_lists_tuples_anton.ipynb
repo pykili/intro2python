{
  "nbformat": 4,
  "nbformat_minor": 0,
  "metadata": {
    "colab": {
      "provenance": []
    },
    "kernelspec": {
      "name": "python3",
      "display_name": "Python 3"
    },
    "language_info": {
      "name": "python"
    }
  },
  "cells": [
    {
      "cell_type": "code",
      "execution_count": null,
      "metadata": {
        "colab": {
          "base_uri": "https://localhost:8080/"
        },
        "id": "CVfUzM-Q4v-r",
        "outputId": "3f6c3e35-6001-48e5-c442-0cdd9c1ff135"
      },
      "outputs": [
        {
          "output_type": "execute_result",
          "data": {
            "text/plain": [
              "136460310457776"
            ]
          },
          "metadata": {},
          "execution_count": 5
        }
      ],
      "source": [
        "id('he')"
      ]
    },
    {
      "cell_type": "code",
      "source": [
        "x = 40\n",
        "x + 25\n",
        "print(x)"
      ],
      "metadata": {
        "colab": {
          "base_uri": "https://localhost:8080/"
        },
        "id": "a3-1lmR05l3V",
        "outputId": "034307da-57a2-4aa3-9b88-8a339b8355f4"
      },
      "execution_count": null,
      "outputs": [
        {
          "output_type": "stream",
          "name": "stdout",
          "text": [
            "40\n"
          ]
        }
      ]
    },
    {
      "cell_type": "code",
      "source": [
        "id(40), id(40)"
      ],
      "metadata": {
        "colab": {
          "base_uri": "https://localhost:8080/"
        },
        "id": "krruQuIh5pUr",
        "outputId": "5e0d3ef4-c9cf-4e6d-c91c-fcac253ddeed"
      },
      "execution_count": null,
      "outputs": [
        {
          "output_type": "execute_result",
          "data": {
            "text/plain": [
              "(136460317197776, 136460317197776)"
            ]
          },
          "metadata": {},
          "execution_count": 9
        }
      ]
    },
    {
      "cell_type": "code",
      "source": [
        "id('he')"
      ],
      "metadata": {
        "colab": {
          "base_uri": "https://localhost:8080/"
        },
        "id": "Nn1RSNUK5KvX",
        "outputId": "bd2da8d3-0dba-4179-eedb-2dd75f04c3ce"
      },
      "execution_count": null,
      "outputs": [
        {
          "output_type": "execute_result",
          "data": {
            "text/plain": [
              "136460310457776"
            ]
          },
          "metadata": {},
          "execution_count": 6
        }
      ]
    },
    {
      "cell_type": "code",
      "source": [
        "print(list('Goodbye Universe'))"
      ],
      "metadata": {
        "colab": {
          "base_uri": "https://localhost:8080/"
        },
        "id": "lkjq6ZRq6BPi",
        "outputId": "147c3ccd-6a84-4438-88ec-772c31ef23fd"
      },
      "execution_count": null,
      "outputs": [
        {
          "output_type": "stream",
          "name": "stdout",
          "text": [
            "['G', 'o', 'o', 'd', 'b', 'y', 'e', ' ', 'U', 'n', 'i', 'v', 'e', 'r', 's', 'e']\n"
          ]
        }
      ]
    },
    {
      "cell_type": "code",
      "source": [
        "guests = ['Вася', 'Татуся', 'Пётр Яковлевич', 'мама']  # список строк\n",
        "digits = [1, 2, 44, 3, 4, 5, 6, 7, 8, 9]  # список чисел\n",
        "empty_list = []  # а этот список абсолютно пуст\n",
        "mixed_list = ['Вася', 45, True, 'dsgjdf', 3.7]  # в одном списке могут храниться элементы разных типов\n",
        "matrix = [\n",
        "    [1, 2, 3],\n",
        "    [4, 5, 6],\n",
        "    [7, 8, 9]\n",
        "] # список списков"
      ],
      "metadata": {
        "id": "ZFP2Zyn065VP"
      },
      "execution_count": null,
      "outputs": []
    },
    {
      "cell_type": "code",
      "source": [
        "empty_string_list = ['']\n",
        "len(matrix)"
      ],
      "metadata": {
        "colab": {
          "base_uri": "https://localhost:8080/"
        },
        "id": "2qNfiQjL71pS",
        "outputId": "7b34f0d6-b594-40b8-d6b5-f1723ecbf12e"
      },
      "execution_count": null,
      "outputs": [
        {
          "output_type": "execute_result",
          "data": {
            "text/plain": [
              "3"
            ]
          },
          "metadata": {},
          "execution_count": 21
        }
      ]
    },
    {
      "cell_type": "code",
      "source": [
        "list_of_wishes = ['iPhone', 'MacBook', 'Свитшот']\n",
        "print(list_of_wishes[1])"
      ],
      "metadata": {
        "colab": {
          "base_uri": "https://localhost:8080/"
        },
        "id": "x8hJEVNi80YO",
        "outputId": "ea2fcf4a-dd21-42fa-bf2c-7d2e5a4e35a5"
      },
      "execution_count": null,
      "outputs": [
        {
          "output_type": "stream",
          "name": "stdout",
          "text": [
            "MacBook\n"
          ]
        }
      ]
    },
    {
      "cell_type": "code",
      "source": [
        "x = [1, 2, 3, 4, 5, 6, 7, 'sdfds']\n",
        "x_length = len(x)\n",
        "# print(len(x) + 1)\n",
        "# print(x + 1)\n",
        "print(x[x_length - 1])\n",
        "print(x[-1])"
      ],
      "metadata": {
        "colab": {
          "base_uri": "https://localhost:8080/"
        },
        "id": "tpwL6Ws09P34",
        "outputId": "5332294b-33d5-4012-c5d3-5e942d81496f"
      },
      "execution_count": null,
      "outputs": [
        {
          "output_type": "stream",
          "name": "stdout",
          "text": [
            "sdfds\n",
            "sdfds\n"
          ]
        }
      ]
    },
    {
      "cell_type": "code",
      "source": [
        "y = 'пенопласт'\n",
        "\n",
        "print(y[4])"
      ],
      "metadata": {
        "colab": {
          "base_uri": "https://localhost:8080/"
        },
        "id": "JcmzEud6_Qvf",
        "outputId": "59465b5a-ef18-4c71-d5e0-57e4381900ad"
      },
      "execution_count": null,
      "outputs": [
        {
          "output_type": "stream",
          "name": "stdout",
          "text": [
            "п\n"
          ]
        }
      ]
    },
    {
      "cell_type": "code",
      "source": [
        "y = 'пенопласт'\n",
        "\n",
        "print(y[1::3])"
      ],
      "metadata": {
        "colab": {
          "base_uri": "https://localhost:8080/"
        },
        "id": "oaXBJZLg_hbN",
        "outputId": "e28812fe-23fb-4d85-851a-acc91356b9a2"
      },
      "execution_count": null,
      "outputs": [
        {
          "output_type": "stream",
          "name": "stdout",
          "text": [
            "епс\n"
          ]
        }
      ]
    },
    {
      "cell_type": "code",
      "source": [
        "y = 'пенопласт'\n",
        "print(y[6:2:-1])"
      ],
      "metadata": {
        "colab": {
          "base_uri": "https://localhost:8080/"
        },
        "id": "twrzHHa9CJpd",
        "outputId": "e9ef17b8-c13d-4bd6-e6bf-8a3bbd4a6f3c"
      },
      "execution_count": null,
      "outputs": [
        {
          "output_type": "stream",
          "name": "stdout",
          "text": [
            "\n"
          ]
        }
      ]
    },
    {
      "cell_type": "code",
      "source": [
        "x = 40\n",
        "x + 25\n",
        "print(x)"
      ],
      "metadata": {
        "colab": {
          "base_uri": "https://localhost:8080/"
        },
        "id": "u4nx6SXfDhIy",
        "outputId": "4e8911a3-7e86-4799-b7e6-c56a7bd0027a"
      },
      "execution_count": null,
      "outputs": [
        {
          "output_type": "stream",
          "name": "stdout",
          "text": [
            "40\n"
          ]
        }
      ]
    },
    {
      "cell_type": "code",
      "source": [
        "pr = print('hello')\n",
        "print(pr)"
      ],
      "metadata": {
        "colab": {
          "base_uri": "https://localhost:8080/"
        },
        "id": "bS5_fxJODvcX",
        "outputId": "26140258-5829-46e8-aaad-2cdc47507467"
      },
      "execution_count": null,
      "outputs": [
        {
          "output_type": "stream",
          "name": "stdout",
          "text": [
            "hello\n",
            "None\n"
          ]
        }
      ]
    },
    {
      "cell_type": "code",
      "source": [
        "list_of_wishes = ['еда']  # Список моих желаний, когда меня спрашивают, что я хочу на НГ\n",
        "list_of_wishes.append('iPhone 15')  # После минутных раздумий\n",
        "# list_of_wishes = list_of_wishes.append('iphone 16')  # ТАК НЕ НАДО\n",
        "print(list_of_wishes)"
      ],
      "metadata": {
        "colab": {
          "base_uri": "https://localhost:8080/"
        },
        "id": "Uxl6rUAfDC9H",
        "outputId": "d4946ada-bcd5-452c-c9af-9974d997cbb0"
      },
      "execution_count": null,
      "outputs": [
        {
          "output_type": "stream",
          "name": "stdout",
          "text": [
            "['еда', 'iPhone 15']\n"
          ]
        }
      ]
    },
    {
      "cell_type": "code",
      "source": [
        "first = [1, 2, 3]\n",
        "second = [5, 6, 7]\n",
        "first.extend(second)\n",
        "print(len(first))\n",
        "print(first)"
      ],
      "metadata": {
        "colab": {
          "base_uri": "https://localhost:8080/"
        },
        "id": "EDNiabCxERCZ",
        "outputId": "a70154c7-eb1e-4200-96d2-2ba176903573"
      },
      "execution_count": null,
      "outputs": [
        {
          "output_type": "stream",
          "name": "stdout",
          "text": [
            "6\n",
            "[1, 2, 3, 5, 6, 7]\n"
          ]
        }
      ]
    }
  ]
}