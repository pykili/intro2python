{
  "cells": [
    {
      "cell_type": "markdown",
      "source": [
        "# Семинар 4"
      ],
      "metadata": {
        "id": "gnEIbz8zPpOZ"
      }
    },
    {
      "cell_type": "markdown",
      "source": [
        "## Глава минус первая: что было в прошлом модуле?\n",
        "1. ввод и вывод\n",
        "2. арифметика\n",
        "3. немного строк\n",
        "4. условия (`if`, `elif`, `else`)\n",
        "5. циклы (`for`, `while`)"
      ],
      "metadata": {
        "id": "ocbsHdSYKRY8"
      }
    },
    {
      "cell_type": "markdown",
      "source": [
        "## Глава нулевая: встроенные типы данных в Python"
      ],
      "metadata": {
        "id": "_3dn0-YhgQjo"
      }
    },
    {
      "cell_type": "markdown",
      "metadata": {
        "id": "hK_p1-ZYH6ZF"
      },
      "source": [
        "- изменяемые (`list`, `dict`, `set`)\n",
        "- неизменяемые (`tuple`, `float`, `int`, `string`, `bool`)"
      ]
    },
    {
      "cell_type": "code",
      "execution_count": 1,
      "metadata": {
        "id": "CUufKp0sH6ZF",
        "colab": {
          "base_uri": "https://localhost:8080/"
        },
        "outputId": "5a79fa8b-6dff-4061-a661-ea1bdd9a45a8"
      },
      "outputs": [
        {
          "output_type": "stream",
          "name": "stdout",
          "text": [
            "True 140243589884848 140243589884848\n",
            "False 140243589884848 140243573794928\n"
          ]
        }
      ],
      "source": [
        "x = 'Hello'\n",
        "y = x\n",
        "print(id(x) == id(y), id(x), id(y))  # правда, пока строчка / число достаточно малеькие\n",
        "\n",
        "y += '!'\n",
        "print(id(x) == id(y), id(x), id(y))"
      ]
    },
    {
      "cell_type": "markdown",
      "metadata": {
        "id": "NU8Bq-ADH6ZF"
      },
      "source": [
        "## Глава первая: списки (`list`)"
      ]
    },
    {
      "cell_type": "markdown",
      "source": [
        "> *Упорядоченные **изменяемые** коллекции объектов **произвольных типов**. Печатаются через запятую в квадратных скобках*.\n",
        "\n",
        "(Если вы когда-то программировали на каком-либо другом языке, скорее всего, в нем есть массивы или, например, векторы, как в C++.)"
      ],
      "metadata": {
        "id": "vAb4i74OLE9T"
      }
    },
    {
      "cell_type": "markdown",
      "source": [
        "### Создание списка\n",
        "\n",
        "Чтобы использовать списки, их нужно сначала создать. Создать список можно несколькими способами:\n",
        "\n",
        "1. Можно обработать любой итерируемый (по которому можно пробежаться, используя цикл `for`) объект (например, строку) встроенной функцией `list()`."
      ],
      "metadata": {
        "id": "bysYhUOmPjZS"
      }
    },
    {
      "cell_type": "code",
      "source": [
        "list('лингвистика - топ')"
      ],
      "metadata": {
        "colab": {
          "base_uri": "https://localhost:8080/"
        },
        "id": "ztx1YKdUiKzq",
        "outputId": "4d0d3284-97b3-466e-cc78-44db38aec59f"
      },
      "execution_count": 2,
      "outputs": [
        {
          "output_type": "execute_result",
          "data": {
            "text/plain": [
              "['л',\n",
              " 'и',\n",
              " 'н',\n",
              " 'г',\n",
              " 'в',\n",
              " 'и',\n",
              " 'с',\n",
              " 'т',\n",
              " 'и',\n",
              " 'к',\n",
              " 'а',\n",
              " ' ',\n",
              " '-',\n",
              " ' ',\n",
              " 'т',\n",
              " 'о',\n",
              " 'п']"
            ]
          },
          "metadata": {},
          "execution_count": 2
        }
      ]
    },
    {
      "cell_type": "markdown",
      "source": [
        "2. Можно создать пустые списки при помощи `list()` или встроенного литерала `[]`.<br>На самом деле, [лучше](https://habr.com/ru/articles/671602/) пользоваться последним `[]`."
      ],
      "metadata": {
        "id": "dMunoh3OMCe6"
      }
    },
    {
      "cell_type": "code",
      "execution_count": 3,
      "metadata": {
        "id": "OEy7R5EVH6ZG",
        "colab": {
          "base_uri": "https://localhost:8080/"
        },
        "outputId": "c80fcef2-daa2-4ce9-b54a-060b7e8c3a94"
      },
      "outputs": [
        {
          "output_type": "stream",
          "name": "stdout",
          "text": [
            "[] []\n"
          ]
        }
      ],
      "source": [
        "list_one = list()\n",
        "list_two = []\n",
        "\n",
        "print(list_one, list_two)"
      ]
    },
    {
      "cell_type": "markdown",
      "metadata": {
        "id": "RX2UHQGVH6ZG"
      },
      "source": [
        "3. Можно создавать непустые списки руками."
      ]
    },
    {
      "cell_type": "code",
      "source": [
        "guests = ['Вася', 'Татуся', 'Пётр Яковлевич', 'мама']  # список строк\n",
        "digits = [1, 2, 3, 4, 5, 6, 7, 8, 9]  # список чисел\n",
        "mixed_list = ['Вася', 45, True]  # в одном списке могут храниться элементы разных типов\n",
        "matrix = [[1, 2, 3], [4, 5, 6], [7, 8, 9]]  # список списков\n",
        "super_mixed_list = [1, 2.0, '3, 4, 5', [6, 7, [8]]]  # список списков с разными типами данных"
      ],
      "metadata": {
        "id": "5In3I_aVjkTM"
      },
      "execution_count": 4,
      "outputs": []
    },
    {
      "cell_type": "markdown",
      "metadata": {
        "id": "EqctdupRH6ZG"
      },
      "source": [
        "4. Можно создавать непустые списки при помощи **генераторов списков**.\n",
        "\n",
        "```python\n",
        "[{элемент или действие с ним} for {элемент} in {последовательность}]\n",
        "```\n"
      ]
    },
    {
      "cell_type": "code",
      "execution_count": 5,
      "metadata": {
        "id": "AW6CYI-kH6ZK",
        "colab": {
          "base_uri": "https://localhost:8080/"
        },
        "outputId": "e89b0806-c8e6-4c67-8980-5db4c061820a"
      },
      "outputs": [
        {
          "output_type": "stream",
          "name": "stdout",
          "text": [
            "[0, 1, 2, 3, 4, 5, 6, 7, 8, 9]\n",
            "\n",
            "[1, 2, 4, 8, 16, 32, 64, 128, 256, 512]\n"
          ]
        }
      ],
      "source": [
        "list_three = [i for i in range(0, 10)]\n",
        "list_four = [2 ** i for i in range(0, 10)]\n",
        "\n",
        "print(list_three, list_four, sep='\\n\\n')"
      ]
    },
    {
      "cell_type": "markdown",
      "source": [
        "5. Можно создать новый список сложением старых\n"
      ],
      "metadata": {
        "id": "UVMbSJ79t6rc"
      }
    },
    {
      "cell_type": "code",
      "source": [
        "sweet = ['конфета', 'шоколадка']\n",
        "salty = ['крекер', 'сухарик']\n",
        "basket = sweet + salty\n",
        "print(basket)"
      ],
      "metadata": {
        "colab": {
          "base_uri": "https://localhost:8080/"
        },
        "id": "6xBXe2o-t5pQ",
        "outputId": "ec7ed8c1-12ae-43ac-c60c-1e023966c0b9"
      },
      "execution_count": 6,
      "outputs": [
        {
          "output_type": "stream",
          "name": "stdout",
          "text": [
            "['конфета', 'шоколадка', 'крекер', 'сухарик']\n"
          ]
        }
      ]
    },
    {
      "cell_type": "markdown",
      "metadata": {
        "id": "5gG2OpNSH6ZK"
      },
      "source": [
        "### Индексы"
      ]
    },
    {
      "cell_type": "markdown",
      "source": [
        "- У каждого элемента списка есть свой индекс.\n",
        "- **ИНДЕКСАЦИЯ С НУЛЯ!!**\n",
        "- К элементам списка можно обращаться по их индексам."
      ],
      "metadata": {
        "id": "Nqcz08uGkZ0o"
      }
    },
    {
      "cell_type": "code",
      "source": [
        "list_of_wishes = ['iPhone', 'MacBook', 'Свитшот']\n",
        "\n",
        "print(list_of_wishes[1])"
      ],
      "metadata": {
        "colab": {
          "base_uri": "https://localhost:8080/"
        },
        "id": "d1uVzT1ZkugW",
        "outputId": "24664f7f-a810-46c9-f128-716682bcc392"
      },
      "execution_count": 7,
      "outputs": [
        {
          "output_type": "stream",
          "name": "stdout",
          "text": [
            "MacBook\n"
          ]
        }
      ]
    },
    {
      "cell_type": "code",
      "execution_count": 8,
      "metadata": {
        "id": "PBfhX4sbH6ZK",
        "colab": {
          "base_uri": "https://localhost:8080/"
        },
        "outputId": "e0a68545-ba28-4356-eb08-064d7c77691f"
      },
      "outputs": [
        {
          "output_type": "stream",
          "name": "stdout",
          "text": [
            "[6, 7, [8]]\n",
            "[8]\n",
            "8\n"
          ]
        }
      ],
      "source": [
        "super_mixed_list = [1, 2.0, '3, 4, 5', [6, 7, [8]]]\n",
        "\n",
        "print(super_mixed_list[3])\n",
        "print(super_mixed_list[3][2])\n",
        "print(super_mixed_list[3][2][0])"
      ]
    },
    {
      "cell_type": "markdown",
      "source": [
        "- Можно посмотреть длину списка при помощи `len()`"
      ],
      "metadata": {
        "id": "_hZ8YFJQoays"
      }
    },
    {
      "cell_type": "code",
      "source": [
        "super_mixed_list = [1, 2.0, '3, 4, 5', [6, 7, [8]]]\n",
        "\n",
        "print(len(super_mixed_list))"
      ],
      "metadata": {
        "colab": {
          "base_uri": "https://localhost:8080/"
        },
        "id": "P-KdNDB0oZh6",
        "outputId": "c5343973-dd7f-41a3-b859-50c2d101fa90"
      },
      "execution_count": 9,
      "outputs": [
        {
          "output_type": "stream",
          "name": "stdout",
          "text": [
            "4\n"
          ]
        }
      ]
    },
    {
      "cell_type": "markdown",
      "metadata": {
        "id": "Tla7WZqrH6ZK"
      },
      "source": [
        "- Если хочется получить самый последний элемент списка, то не придется считать сколько там всего элементов, можно использовать индекс `-1`: шорткат для `len(list) - 1`. Аналогично `-2` - это предпоследний элемент и т.д."
      ]
    },
    {
      "cell_type": "code",
      "execution_count": 10,
      "metadata": {
        "id": "1DulG-qJH6ZK",
        "colab": {
          "base_uri": "https://localhost:8080/"
        },
        "outputId": "2bfbb1e2-d4fc-41ce-8441-d6f1389ad829"
      },
      "outputs": [
        {
          "output_type": "stream",
          "name": "stdout",
          "text": [
            "Свитшот\n",
            "MacBook\n"
          ]
        }
      ],
      "source": [
        "list_of_wishes = ['iPhone', 'MacBook', 'Свитшот']\n",
        "\n",
        "print(list_of_wishes[-1])\n",
        "print(list_of_wishes[-2])"
      ]
    },
    {
      "cell_type": "markdown",
      "source": [
        "- К элементам строки тоже можно обращаться по их индексам!"
      ],
      "metadata": {
        "id": "bdfgLUe2liKe"
      }
    },
    {
      "cell_type": "markdown",
      "source": [
        "### Срезы"
      ],
      "metadata": {
        "id": "Tsh_zJbbmFQg"
      }
    },
    {
      "cell_type": "markdown",
      "source": [
        "Если нужно выделить из списка / строки не один элемент, а сразу несколько, то нужно использовать срезы.\n",
        "\n",
        "Как это выглядит?\n",
        "\n",
        "```python\n",
        "# {строка}[{начальное значение}:{конечное значение}:{шаг}]\n",
        "\n",
        "list[start:stop:step]\n",
        "```\n",
        "Пример:"
      ],
      "metadata": {
        "id": "01nbIeGJmJ-V"
      }
    },
    {
      "cell_type": "code",
      "execution_count": 11,
      "metadata": {
        "id": "IbrU7FDcH6ZK",
        "colab": {
          "base_uri": "https://localhost:8080/"
        },
        "outputId": "929a9af6-847f-4b9f-ab37-0e3be8a99f6a"
      },
      "outputs": [
        {
          "output_type": "stream",
          "name": "stdout",
          "text": [
            "тудент\n"
          ]
        }
      ],
      "source": [
        "list_of_chars = 'студент'\n",
        "\n",
        "print(list_of_chars[1:]) # взять все символы имени, кроме первого"
      ]
    },
    {
      "cell_type": "code",
      "execution_count": 12,
      "metadata": {
        "id": "dCB64bIuH6ZK",
        "colab": {
          "base_uri": "https://localhost:8080/"
        },
        "outputId": "dbdb7cbc-4069-46ef-f799-204a39df6747"
      },
      "outputs": [
        {
          "output_type": "stream",
          "name": "stdout",
          "text": [
            "cegikmo\n"
          ]
        }
      ],
      "source": [
        "letters = 'abcdefghijklmnopqrstuvwxyz'\n",
        "\n",
        "print(letters[2:15:2])  # взять символы с 2 по 15 (не включительно) с шагом в 2"
      ]
    },
    {
      "cell_type": "markdown",
      "source": [
        "В срезах можно значения пропускать.<br>**NB!** Одно значение в срезе до двоеточия $-$ начало. Одно значение в срезе после двоеточия $-$ конец. Два значения в срезе через двоеточие $-$ это начало и конец."
      ],
      "metadata": {
        "id": "YaeHi7jYLZHe"
      }
    },
    {
      "cell_type": "code",
      "source": [
        "print(letters[10:])  # с 10 по конец\n",
        "print(letters[:10])  # с начала до 10 (не включительно)\n",
        "print(letters[5:10])  # с 5 по 10 (не включительно)\n",
        "print(letters[-3:-1])  # с предпредпоследней до последней (не включительно)\n",
        "print(letters[::2])  # с начала до конца с через 1"
      ],
      "metadata": {
        "colab": {
          "base_uri": "https://localhost:8080/"
        },
        "id": "m8oYsyWeTH6N",
        "outputId": "afa82730-f3a9-48a5-fc10-c3ab71613745"
      },
      "execution_count": 13,
      "outputs": [
        {
          "output_type": "stream",
          "name": "stdout",
          "text": [
            "klmnopqrstuvwxyz\n",
            "abcdefghij\n",
            "fghij\n",
            "xy\n",
            "acegikmoqsuwy\n"
          ]
        }
      ]
    },
    {
      "cell_type": "code",
      "source": [
        "letters = 'abcdefghijklmnopqrstuvwxyz'\n",
        "letters[10:5:-1]  # с 10 по 5 (не включительно) в обратном порядке"
      ],
      "metadata": {
        "colab": {
          "base_uri": "https://localhost:8080/",
          "height": 36
        },
        "id": "WKwcXWldbg_k",
        "outputId": "0175adb3-0364-4f61-92de-ee8a6b475128"
      },
      "execution_count": 14,
      "outputs": [
        {
          "output_type": "execute_result",
          "data": {
            "text/plain": [
              "'kjihg'"
            ],
            "application/vnd.google.colaboratory.intrinsic+json": {
              "type": "string"
            }
          },
          "metadata": {},
          "execution_count": 14
        }
      ]
    },
    {
      "cell_type": "markdown",
      "source": [
        "**Задание**: Напишите программу, которая будет проверять является ли введённое пользователем слово палиндромом."
      ],
      "metadata": {
        "id": "SypUuZkco6Np"
      }
    },
    {
      "cell_type": "code",
      "source": [
        "word_is_poly = input()\n",
        "print(word_is_poly == word_is_poly[::-1])"
      ],
      "metadata": {
        "colab": {
          "base_uri": "https://localhost:8080/"
        },
        "id": "EjKWKUOMc3iq",
        "outputId": "439710d7-666d-448c-ecd3-b6f1f7da9aa4"
      },
      "execution_count": 15,
      "outputs": [
        {
          "output_type": "stream",
          "name": "stdout",
          "text": [
            "abcba\n",
            "True\n"
          ]
        }
      ]
    },
    {
      "cell_type": "markdown",
      "source": [
        "### Вставка элементов в список"
      ],
      "metadata": {
        "id": "XPHOqrJgnyoP"
      }
    },
    {
      "cell_type": "markdown",
      "source": [
        "Самая частая операция после `[]` (получение элемента списка по индексу) это операция вставки чего-либо в список. Называется она `.append()`.\n",
        "\n",
        "Только `.append()` это **не** отдельная функция, как например `len()`. Это так называемый *метод* списка. Смотрим как это работает:"
      ],
      "metadata": {
        "id": "T5CCoOzPoIym"
      }
    },
    {
      "cell_type": "code",
      "source": [
        "list_of_wishes = []  # cписок моих желаний, когда кто-то спрашивает, что я хочу на ДР\n",
        "list_of_wishes.append('iPhone 15')  # после минутных раздумий\n",
        "print(list_of_wishes)"
      ],
      "metadata": {
        "colab": {
          "base_uri": "https://localhost:8080/"
        },
        "id": "pMBLy7GLnFR1",
        "outputId": "40e52d1c-78c1-46cd-de90-cadb5d803e9d"
      },
      "execution_count": 16,
      "outputs": [
        {
          "output_type": "stream",
          "name": "stdout",
          "text": [
            "['iPhone 15']\n"
          ]
        }
      ]
    },
    {
      "cell_type": "markdown",
      "source": [
        "### Другие методы списка"
      ],
      "metadata": {
        "id": "0hXJ4InrpRwf"
      }
    },
    {
      "cell_type": "markdown",
      "source": [
        "- Можно развернуть список через `.reverse()`:"
      ],
      "metadata": {
        "id": "a6w4FijKLj-l"
      }
    },
    {
      "cell_type": "code",
      "source": [
        "list_four = [2 ** i for i in range(0, 10)]\n",
        "\n",
        "list_four.reverse()  # меняет саму переменную!!\n",
        "print(list_four)"
      ],
      "metadata": {
        "id": "x5IJUnqMLjY5",
        "colab": {
          "base_uri": "https://localhost:8080/"
        },
        "outputId": "0af165c0-81b3-4608-bc0c-e9d74f04b2dc"
      },
      "execution_count": 23,
      "outputs": [
        {
          "output_type": "stream",
          "name": "stdout",
          "text": [
            "[512, 256, 128, 64, 32, 16, 8, 4, 2, 1]\n"
          ]
        }
      ]
    },
    {
      "cell_type": "markdown",
      "source": [
        "- Можно сортировать список при помощи `.sort()`:\n",
        "    * по возрастанию (дефолтно)\n",
        "    * по убыванию (при помощи аргумента `reverse=True`)\n",
        "    * еще как-то (задав функцию)"
      ],
      "metadata": {
        "id": "yILOcJHKM0y9"
      }
    },
    {
      "cell_type": "code",
      "source": [
        "list_five = [-1, 100, 34, 1, 45, -132]\n",
        "list_five.sort()  # меняет саму переменную!!\n",
        "print(list_five)\n",
        "list_five.sort(reverse=True)\n",
        "print(list_five)"
      ],
      "metadata": {
        "colab": {
          "base_uri": "https://localhost:8080/"
        },
        "id": "1csWtjpdMz6L",
        "outputId": "2651663e-6e98-4c2a-8cc5-8c0fc52822c7"
      },
      "execution_count": 24,
      "outputs": [
        {
          "output_type": "stream",
          "name": "stdout",
          "text": [
            "[-132, -1, 1, 34, 45, 100]\n",
            "[100, 45, 34, 1, -1, -132]\n"
          ]
        }
      ]
    },
    {
      "cell_type": "markdown",
      "source": [
        "Можно добавлять в конец элементы из переданного списка при помощи `.extend(list)`."
      ],
      "metadata": {
        "id": "xlPLXys7MzCj"
      }
    },
    {
      "cell_type": "code",
      "source": [
        "list_of_wishes = []  # cписок моих желаний, когда кто-то спрашивает, что я хочу на ДР\n",
        "list_of_wishes.append('iPhone 15')  # после минутных раздумий\n",
        "print(list_of_wishes)"
      ],
      "metadata": {
        "colab": {
          "base_uri": "https://localhost:8080/"
        },
        "id": "M0VNaXQlMypl",
        "outputId": "e16ed7ff-0381-4ac1-d7db-7b0a78fb5359"
      },
      "execution_count": 25,
      "outputs": [
        {
          "output_type": "stream",
          "name": "stdout",
          "text": [
            "['iPhone 15']\n"
          ]
        }
      ]
    },
    {
      "cell_type": "code",
      "source": [
        "list_of_wishes.extend(['MacBook', 'Свитшот'])  # аналогично можно написать list_of_wishes += ['MacBook', 'Свитшот']\n",
        "print(list_of_wishes)"
      ],
      "metadata": {
        "colab": {
          "base_uri": "https://localhost:8080/"
        },
        "id": "a4-XpoIdqNRw",
        "outputId": "c9e5cb8e-725c-47a6-bde2-93e7213e1563"
      },
      "execution_count": 26,
      "outputs": [
        {
          "output_type": "stream",
          "name": "stdout",
          "text": [
            "['iPhone 15', 'MacBook', 'Свитшот']\n"
          ]
        }
      ]
    },
    {
      "cell_type": "markdown",
      "source": [
        "А тут мы забыли и... что-то пошло не так..."
      ],
      "metadata": {
        "id": "tYcGZN4kr2qX"
      }
    },
    {
      "cell_type": "code",
      "source": [
        "list_of_wishes.extend('Угощение')\n",
        "print(list_of_wishes)"
      ],
      "metadata": {
        "id": "kS_YQjmYFVgA",
        "colab": {
          "base_uri": "https://localhost:8080/"
        },
        "outputId": "80d81ad1-8640-439a-ea81-e03da17f5a96"
      },
      "execution_count": 27,
      "outputs": [
        {
          "output_type": "stream",
          "name": "stdout",
          "text": [
            "['iPhone 15', 'MacBook', 'Свитшот', 'У', 'г', 'о', 'щ', 'е', 'н', 'и', 'е']\n"
          ]
        }
      ]
    },
    {
      "cell_type": "markdown",
      "source": [
        "Можно еще немного [разного](https://docs.python.org/3/tutorial/datastructures.html#more-on-lists), например:\n",
        "* `.remove(x)` $-$ удаляет х (**НЕ!** х-овый элемент)\n",
        "* `.pop([i])` $-$ удаляет i-тый элемент и возвращает его на экран / в переменную (дефолтно удаляет последний)\n",
        "* `.clear()` $-$ удаляет весь список целиком"
      ],
      "metadata": {
        "id": "osYK0cPvO4Bm"
      }
    },
    {
      "cell_type": "code",
      "source": [
        "element = list_of_wishes.pop(3)\n",
        "print(list_of_wishes, element, sep='\\n')\n",
        "element = list_of_wishes.pop()\n",
        "print(list_of_wishes, element, sep='\\n')"
      ],
      "metadata": {
        "colab": {
          "base_uri": "https://localhost:8080/"
        },
        "id": "-s88weX6O3kB",
        "outputId": "3cc24044-b28a-498f-ec78-3020655992b0"
      },
      "execution_count": 28,
      "outputs": [
        {
          "output_type": "stream",
          "name": "stdout",
          "text": [
            "['iPhone 15', 'MacBook', 'Свитшот', 'г', 'о', 'щ', 'е', 'н', 'и', 'е']\n",
            "У\n",
            "['iPhone 15', 'MacBook', 'Свитшот', 'г', 'о', 'щ', 'е', 'н', 'и']\n",
            "е\n"
          ]
        }
      ]
    },
    {
      "cell_type": "markdown",
      "source": [
        "* `.insert(where, what)` $-$ вставляет `what` на место `where`"
      ],
      "metadata": {
        "id": "hjFEmhOxtn72"
      }
    },
    {
      "cell_type": "code",
      "source": [
        "list_of_wishes = list_of_wishes[:3]\n",
        "print(list_of_wishes)\n",
        "list_of_wishes.insert(1, 'Угощение')\n",
        "print(list_of_wishes)"
      ],
      "metadata": {
        "colab": {
          "base_uri": "https://localhost:8080/"
        },
        "id": "2bAbe-irs21D",
        "outputId": "dc733a80-5310-44e2-bab9-d90b1c0042f4"
      },
      "execution_count": 29,
      "outputs": [
        {
          "output_type": "stream",
          "name": "stdout",
          "text": [
            "['iPhone 15', 'MacBook', 'Свитшот']\n",
            "['iPhone 15', 'Угощение', 'MacBook', 'Свитшот']\n"
          ]
        }
      ]
    },
    {
      "cell_type": "markdown",
      "source": [
        "* `.count()` $-$ считает количество вхождений элемента в список"
      ],
      "metadata": {
        "id": "XHzsBKmnRxJj"
      }
    },
    {
      "cell_type": "code",
      "source": [
        "comparative_linguistics = list('лингвистика-компаративистика')\n",
        "comparative_linguistics.count('и')"
      ],
      "metadata": {
        "id": "44AUfdgiP61P",
        "colab": {
          "base_uri": "https://localhost:8080/"
        },
        "outputId": "f577625e-3cc0-43be-cfc1-758d145d9644"
      },
      "execution_count": 30,
      "outputs": [
        {
          "output_type": "execute_result",
          "data": {
            "text/plain": [
              "6"
            ]
          },
          "metadata": {},
          "execution_count": 30
        }
      ]
    },
    {
      "cell_type": "markdown",
      "source": [
        "### `.join()`"
      ],
      "metadata": {
        "id": "pY9tFWtlvHNR"
      }
    },
    {
      "cell_type": "markdown",
      "source": [
        "Есть прекрасный метод строк `.join()`, он позволяет соединять объекты чего-нибудь итерируемого **строкового** в строку с определённым разделителем (\n",
        "`.join()` обратен `.split()`). Синтаксис следующий:\n",
        "\n",
        "\n",
        "```\n",
        "{разделитель}.join({итерируемое})\n",
        "```\n"
      ],
      "metadata": {
        "id": "riYUWQPlvQO2"
      }
    },
    {
      "cell_type": "code",
      "source": [
        "# задача напечатать на новых строчках слова, которые пользователь ввёл через пробел\n",
        "user_input = 'молоко хлеб шоколадка'\n",
        "items = user_input.split()\n",
        "\n",
        "print('\\n'.join(items))"
      ],
      "metadata": {
        "colab": {
          "base_uri": "https://localhost:8080/"
        },
        "id": "SWBMO4BVvR6j",
        "outputId": "e7c2199f-571f-4d6d-b791-c14f46b98377"
      },
      "execution_count": 31,
      "outputs": [
        {
          "output_type": "stream",
          "name": "stdout",
          "text": [
            "молоко\n",
            "хлеб\n",
            "шоколадка\n"
          ]
        }
      ]
    },
    {
      "cell_type": "code",
      "source": [
        "list_five = [-1, 100, 34, 1, 45, -132]\n",
        "\n",
        "# print(' '.join(list_five)) - просто так не сработает))00)\n",
        "\n",
        "\n",
        "list_five = map(str, list_five)\n",
        "print(' '.join(list_five))"
      ],
      "metadata": {
        "colab": {
          "base_uri": "https://localhost:8080/"
        },
        "id": "zTiilvxmvoJm",
        "outputId": "346e9f02-4fab-499d-af49-cea423e69444"
      },
      "execution_count": 32,
      "outputs": [
        {
          "output_type": "stream",
          "name": "stdout",
          "text": [
            "-1 100 34 1 45 -132\n"
          ]
        }
      ]
    },
    {
      "cell_type": "markdown",
      "source": [
        "### Еще немного про не_изменяемость"
      ],
      "metadata": {
        "id": "ss-cY5uGxO0T"
      }
    },
    {
      "cell_type": "markdown",
      "source": [
        "Список изменяемый, можно даже присвоить срезу:"
      ],
      "metadata": {
        "id": "IfquniT1xWDH"
      }
    },
    {
      "cell_type": "code",
      "source": [
        "list_six = [1, 2, 3]\n",
        "\n",
        "list_six[0] = 0\n",
        "print(list_six)\n",
        "\n",
        "list_six[:2] = [5, 6]\n",
        "print(list_six)"
      ],
      "metadata": {
        "colab": {
          "base_uri": "https://localhost:8080/"
        },
        "id": "EltSG9dEw3g3",
        "outputId": "7223dc74-e40e-4905-9ffd-9145e1befc51"
      },
      "execution_count": 33,
      "outputs": [
        {
          "output_type": "stream",
          "name": "stdout",
          "text": [
            "[0, 2, 3]\n",
            "[5, 6, 3]\n"
          ]
        }
      ]
    },
    {
      "cell_type": "markdown",
      "source": [
        "Но вот так копировать плохо!"
      ],
      "metadata": {
        "id": "crHbo2kxxihr"
      }
    },
    {
      "cell_type": "code",
      "source": [
        "list_six = [1, 2, 3]\n",
        "list_seven = list_six"
      ],
      "metadata": {
        "id": "yXbKV9cwxoPY"
      },
      "execution_count": 34,
      "outputs": []
    },
    {
      "cell_type": "markdown",
      "source": [
        "Почему? А вот почему..."
      ],
      "metadata": {
        "id": "M8PDDFRRxqmC"
      }
    },
    {
      "cell_type": "code",
      "source": [
        "list_six[0] = 0\n",
        "\n",
        "print(list_six, id(list_six))  # ячейки памяти одинаковые\n",
        "print(list_seven, id(list_seven))"
      ],
      "metadata": {
        "colab": {
          "base_uri": "https://localhost:8080/"
        },
        "id": "AVJlZlWDw9XE",
        "outputId": "5340e762-403d-46fe-b90a-41c6c71ef625"
      },
      "execution_count": 35,
      "outputs": [
        {
          "output_type": "stream",
          "name": "stdout",
          "text": [
            "[0, 2, 3] 140243571773120\n",
            "[0, 2, 3] 140243571773120\n"
          ]
        }
      ]
    },
    {
      "cell_type": "markdown",
      "source": [
        "Но копировать можно так, потому что срез создает новый массив:"
      ],
      "metadata": {
        "id": "NoHwD6-Yx3gp"
      }
    },
    {
      "cell_type": "code",
      "source": [
        "list_six = [1, 2, 3]\n",
        "list_seven = list_six[:]\n",
        "\n",
        "list_six[0] = 0\n",
        "\n",
        "print(list_six, id(list_six))  # ячейки памяти разные\n",
        "print(list_seven, id(list_seven))"
      ],
      "metadata": {
        "id": "ux-_6rkOxBX8",
        "outputId": "436c6c0a-e993-4971-9a22-fc107cd14857",
        "colab": {
          "base_uri": "https://localhost:8080/"
        }
      },
      "execution_count": 36,
      "outputs": [
        {
          "output_type": "stream",
          "name": "stdout",
          "text": [
            "[0, 2, 3] 140243573164864\n",
            "[1, 2, 3] 140243568994816\n"
          ]
        }
      ]
    },
    {
      "cell_type": "markdown",
      "source": [
        "Или так:"
      ],
      "metadata": {
        "id": "d1bOeV9zzJss"
      }
    },
    {
      "cell_type": "code",
      "source": [
        "list_six = [1, 2, 3]\n",
        "list_seven = list_six.copy()\n",
        "list_six[0] = 0\n",
        "\n",
        "print(list_six, id(list_six))  # ячейки памяти разные\n",
        "print(list_seven, id(list_seven))"
      ],
      "metadata": {
        "colab": {
          "base_uri": "https://localhost:8080/"
        },
        "id": "QFYUfelxzC6M",
        "outputId": "1833759e-7dac-4d94-a1f7-6daf0c6f4941"
      },
      "execution_count": 37,
      "outputs": [
        {
          "output_type": "stream",
          "name": "stdout",
          "text": [
            "[0, 2, 3] 140243597771072\n",
            "[1, 2, 3] 140243571773056\n"
          ]
        }
      ]
    },
    {
      "cell_type": "markdown",
      "source": [
        "Или даже так:"
      ],
      "metadata": {
        "id": "kreEeed3zUvL"
      }
    },
    {
      "cell_type": "code",
      "source": [
        "from copy import deepcopy\n",
        "\n",
        "list_six = [1, 2, 3]\n",
        "list_seven = deepcopy(list_six)  # самый надежный спаособ для вложенных списков\n",
        "\n",
        "list_six[0] = 0\n",
        "\n",
        "print(list_six, id(list_six))  # ячейки памяти разные\n",
        "print(list_seven, id(list_seven))"
      ],
      "metadata": {
        "colab": {
          "base_uri": "https://localhost:8080/"
        },
        "id": "UgQtiYm-zUM5",
        "outputId": "aaffa14d-5f8f-4912-ab7b-b4c71e78352b"
      },
      "execution_count": 38,
      "outputs": [
        {
          "output_type": "stream",
          "name": "stdout",
          "text": [
            "[0, 2, 3] 140243578504832\n",
            "[1, 2, 3] 140243568704960\n"
          ]
        }
      ]
    },
    {
      "cell_type": "markdown",
      "metadata": {
        "id": "Q0vyhIlAH6ZK"
      },
      "source": [
        "### Циклы и списки"
      ]
    },
    {
      "cell_type": "code",
      "execution_count": 40,
      "metadata": {
        "id": "4i81tJMUH6ZL",
        "colab": {
          "base_uri": "https://localhost:8080/"
        },
        "outputId": "7e7d78d8-068b-4008-e519-750fcf3ab7ba"
      },
      "outputs": [
        {
          "output_type": "stream",
          "name": "stdout",
          "text": [
            "1 5 3 8 2 -1 0 \n",
            "1 5 3 8 2 -1 0 \n",
            "1 5 3 8 2 -1 0\n",
            "1.5.3.8.2.-1.0\n"
          ]
        }
      ],
      "source": [
        "# выводить список красиво можно разными способами\n",
        "\n",
        "numbers = [1, 5, 3, 8, 2, -1, 0]\n",
        "\n",
        "# for i in range(6) 0 1 2 3 4 5\n",
        "for i in range(len(numbers)):  # [0 1 ... len(numbers) - 1]\n",
        "    print(numbers[i], end=\" \")\n",
        "print()\n",
        "\n",
        "\n",
        "# по списку можно итерироваться с помощью цикла for (так же, как и по строке).\n",
        "for elem in numbers:\n",
        "    print(elem, end=\" \")\n",
        "print()  # пустой принт на самом деле выводит специальный символ \\n -- символ перевода строки\n",
        "\n",
        "\n",
        "print(*numbers)\n",
        "print(*numbers, sep=\".\")"
      ]
    },
    {
      "cell_type": "code",
      "source": [
        "# вот код, который бы печатал все элементы в списке вместе с их индексами\n",
        "\n",
        "list_of_items = ['cat', 'dog', 'spam', 'eggs', 'python']\n",
        "\n",
        "for index_of_item in range(len(list_of_items) - 1):\n",
        "    print(index_of_item, list_of_items[index_of_item])"
      ],
      "metadata": {
        "colab": {
          "base_uri": "https://localhost:8080/"
        },
        "id": "_m4bjZ2ofGPB",
        "outputId": "697100b1-e60b-4ec8-8f8d-6d8283df8a36"
      },
      "execution_count": 41,
      "outputs": [
        {
          "output_type": "stream",
          "name": "stdout",
          "text": [
            "0 cat\n",
            "1 dog\n",
            "2 spam\n",
            "3 eggs\n"
          ]
        }
      ]
    },
    {
      "cell_type": "code",
      "source": [
        "# но лучше (экономнее) так\n",
        "\n",
        "for index, item in enumerate(list_of_items):\n",
        "    print(index, item)"
      ],
      "metadata": {
        "colab": {
          "base_uri": "https://localhost:8080/"
        },
        "id": "Lf0fNsvPfUbw",
        "outputId": "8d3e7b1d-eb76-4e38-b2f3-0ed03d99764f"
      },
      "execution_count": 42,
      "outputs": [
        {
          "output_type": "stream",
          "name": "stdout",
          "text": [
            "0 cat\n",
            "1 dog\n",
            "2 spam\n",
            "3 eggs\n",
            "4 python\n"
          ]
        }
      ]
    },
    {
      "cell_type": "markdown",
      "source": [
        "Так, погодите, а почему вообще там две переменной в `for`'е..? А что будет, если останется только одна..?"
      ],
      "metadata": {
        "id": "nwKYmRPtfkoo"
      }
    },
    {
      "cell_type": "code",
      "source": [
        "for pair in enumerate(list_of_items):\n",
        "    print(pair)"
      ],
      "metadata": {
        "colab": {
          "base_uri": "https://localhost:8080/"
        },
        "id": "WrpbLU6-YvLy",
        "outputId": "f128fe25-a1e5-4e97-b926-8cb11385ed33"
      },
      "execution_count": 43,
      "outputs": [
        {
          "output_type": "stream",
          "name": "stdout",
          "text": [
            "(0, 'cat')\n",
            "(1, 'dog')\n",
            "(2, 'spam')\n",
            "(3, 'eggs')\n",
            "(4, 'python')\n"
          ]
        }
      ]
    },
    {
      "cell_type": "markdown",
      "source": [
        "*Это списки?*<br>*А в чем отличие от списков?*"
      ],
      "metadata": {
        "id": "xvudK_42ZJmk"
      }
    },
    {
      "cell_type": "markdown",
      "source": [
        "## Глава вторая: кортежи (`tuple`)"
      ],
      "metadata": {
        "id": "DzudINjoOChG"
      }
    },
    {
      "cell_type": "markdown",
      "source": [
        "\n",
        "\n",
        "> *__Упорядоченная__ **неизменяемая** коллекция элементов различных типов. (По сути, это просто неизменяемый список!)*\n",
        "\n",
        "А зачем он тогда вообще нужен?\n",
        "\n",
        "1. Защита от всяких шаловливых рук\n",
        "2. Памяти меньше занимает 🙃\n",
        "\n",
        "\n",
        "|bytes|  type   |      scaling notes     |\n",
        "|:---:|:-------:|------------------------|\n",
        "|  48 | `tuple` | +8 per additional item |\n",
        "|  64 | `list`  | +8 for each additional |\n",
        "\n",
        "\n",
        "\n"
      ],
      "metadata": {
        "id": "RJTuFDQlOUcB"
      }
    },
    {
      "cell_type": "code",
      "source": [
        "x = (1, 2, 3, 4, 5, 6)\n",
        "\n",
        "y = [1, 2, 3, 4, 5, 6]\n",
        "\n",
        "print(f'tuple size = {x.__sizeof__()}\\nlist size = {y.__sizeof__()}')"
      ],
      "metadata": {
        "colab": {
          "base_uri": "https://localhost:8080/"
        },
        "id": "oAk0ecVXOAro",
        "outputId": "0a8360ad-48fd-4b53-ceb4-458411b4a46a"
      },
      "execution_count": 44,
      "outputs": [
        {
          "output_type": "stream",
          "name": "stdout",
          "text": [
            "tuple size = 72\n",
            "list size = 88\n"
          ]
        }
      ]
    },
    {
      "cell_type": "markdown",
      "source": [
        "Как создать?\n",
        "* пустой"
      ],
      "metadata": {
        "id": "iQAPx0tvQ45R"
      }
    },
    {
      "cell_type": "code",
      "source": [
        "first_tuple = tuple()\n",
        "second_tuple = ()"
      ],
      "metadata": {
        "id": "EKoL6aynPGbL"
      },
      "execution_count": 45,
      "outputs": []
    },
    {
      "cell_type": "code",
      "source": [
        "print(first_tuple, second_tuple)"
      ],
      "metadata": {
        "colab": {
          "base_uri": "https://localhost:8080/"
        },
        "id": "luq--8coRBTi",
        "outputId": "c467b0aa-8288-49fb-f179-68f6738f14fc"
      },
      "execution_count": 47,
      "outputs": [
        {
          "output_type": "stream",
          "name": "stdout",
          "text": [
            "() ()\n"
          ]
        }
      ]
    },
    {
      "cell_type": "markdown",
      "source": [
        "* из списка или строки"
      ],
      "metadata": {
        "id": "vY87ALz2Swd0"
      }
    },
    {
      "cell_type": "code",
      "source": [
        "tuple('bacon and eggs')"
      ],
      "metadata": {
        "colab": {
          "base_uri": "https://localhost:8080/"
        },
        "id": "0PD3WW4LSzKJ",
        "outputId": "1cd89cf0-03e5-4ddb-a665-3628798b24d9"
      },
      "execution_count": 48,
      "outputs": [
        {
          "output_type": "execute_result",
          "data": {
            "text/plain": [
              "('b', 'a', 'c', 'o', 'n', ' ', 'a', 'n', 'd', ' ', 'e', 'g', 'g', 's')"
            ]
          },
          "metadata": {},
          "execution_count": 48
        }
      ]
    },
    {
      "cell_type": "code",
      "source": [
        "tuple([1, 2, 3])"
      ],
      "metadata": {
        "colab": {
          "base_uri": "https://localhost:8080/"
        },
        "id": "NTgw8yg0S5UC",
        "outputId": "2019494c-04c0-4a8f-960f-da258a323020"
      },
      "execution_count": 49,
      "outputs": [
        {
          "output_type": "execute_result",
          "data": {
            "text/plain": [
              "(1, 2, 3)"
            ]
          },
          "metadata": {},
          "execution_count": 49
        }
      ]
    },
    {
      "cell_type": "markdown",
      "source": [
        "* с элементами"
      ],
      "metadata": {
        "id": "RP1ooVi5RYea"
      }
    },
    {
      "cell_type": "code",
      "source": [
        "third_tuple = ('Hello!')\n",
        "\n",
        "print(third_tuple, type(third_tuple))"
      ],
      "metadata": {
        "id": "JSHQzZ1CRHQX",
        "colab": {
          "base_uri": "https://localhost:8080/"
        },
        "outputId": "ea50efdb-64d6-49fd-df4d-3255676ff1c8"
      },
      "execution_count": 56,
      "outputs": [
        {
          "output_type": "stream",
          "name": "stdout",
          "text": [
            "Hello! <class 'str'>\n"
          ]
        }
      ]
    },
    {
      "cell_type": "markdown",
      "source": [
        "Что-то пошло не так... Нужна запятая!"
      ],
      "metadata": {
        "id": "be47VrQQRabz"
      }
    },
    {
      "cell_type": "code",
      "source": [
        "third_tuple = ('Hello!',)\n",
        "\n",
        "print(third_tuple, type(third_tuple))"
      ],
      "metadata": {
        "id": "BCI2IjdIRTML",
        "colab": {
          "base_uri": "https://localhost:8080/"
        },
        "outputId": "86c3e1b2-8395-475a-a9f6-8d71b31e421a"
      },
      "execution_count": 57,
      "outputs": [
        {
          "output_type": "stream",
          "name": "stdout",
          "text": [
            "('Hello!',) <class 'tuple'>\n"
          ]
        }
      ]
    },
    {
      "cell_type": "markdown",
      "source": [
        "А скобки, например, совсем не обязательны!"
      ],
      "metadata": {
        "id": "6wd5pa1dRzLH"
      }
    },
    {
      "cell_type": "code",
      "source": [
        "fourth_tuple = 'Hello',\n",
        "\n",
        "print(fourth_tuple)"
      ],
      "metadata": {
        "id": "3FdCAdMeRkMv",
        "colab": {
          "base_uri": "https://localhost:8080/"
        },
        "outputId": "9c69baa0-cc71-4cf8-bd67-20e91a0eb8e7"
      },
      "execution_count": 60,
      "outputs": [
        {
          "output_type": "stream",
          "name": "stdout",
          "text": [
            "('Hello',)\n"
          ]
        }
      ]
    },
    {
      "cell_type": "code",
      "source": [
        "# Cколько типов переменных в этой строчке?\n",
        "\n",
        "a, b = [[True, 'True'], 1, 1.0][0]"
      ],
      "metadata": {
        "id": "lpnCiIxrRxQZ"
      },
      "execution_count": 61,
      "outputs": []
    },
    {
      "cell_type": "markdown",
      "source": [
        "На самом деле **6**:\n",
        "\n",
        "|  №   |  type   | examples                                      |\n",
        "|:-----|:-------:|-----------------------------------------------|\n",
        "|  1   | `bool` | `True`                                         |\n",
        "|  2   | `str` | `'True'`                                        |\n",
        "|  3   | `int` | `1` и `0`                                       |\n",
        "|  4   | `float` | `1.0`                                         |\n",
        "|  5   | `list`  | `[True, 'True']` и `[[True, 'True'], 1, 1.0]` |\n",
        "|  6   | `tuple` | `a, b`                                        |\n"
      ],
      "metadata": {
        "id": "FylHVKeLTBse"
      }
    },
    {
      "cell_type": "code",
      "source": [
        "a, b = b, a"
      ],
      "metadata": {
        "id": "yk5uOLQWSVvl"
      },
      "execution_count": 62,
      "outputs": []
    },
    {
      "cell_type": "code",
      "source": [
        "a, b"
      ],
      "metadata": {
        "colab": {
          "base_uri": "https://localhost:8080/"
        },
        "id": "Corx9RZGSXye",
        "outputId": "eea91e6d-3947-4f79-c56a-9d332b0c36cc"
      },
      "execution_count": 63,
      "outputs": [
        {
          "output_type": "execute_result",
          "data": {
            "text/plain": [
              "('True', True)"
            ]
          },
          "metadata": {},
          "execution_count": 63
        }
      ]
    },
    {
      "cell_type": "markdown",
      "source": [
        "### Еще немного про не_изменяемость"
      ],
      "metadata": {
        "id": "nrqwDBJlSfJ9"
      }
    },
    {
      "cell_type": "code",
      "source": [
        "a_list = [1, 2, 3] # список\n",
        "a_tuple = (1, 2, 3) # кортеж\n",
        "\n",
        "print(id(a_list))\n",
        "print(id(a_tuple))\n",
        "\n",
        "id_list_before = id(a_list)\n",
        "id_tuple_before = id(a_tuple)\n",
        "\n",
        "a_list.extend([3, 4])\n",
        "a_tuple = a_tuple + (3, 4)\n",
        "id_list_after = id(a_list)\n",
        "id_tuple_after = id(a_tuple)\n",
        "\n",
        "print(id_list_after == id_list_before)\n",
        "print(id_tuple_after == id_tuple_before)"
      ],
      "metadata": {
        "id": "91a27W3UxICv",
        "colab": {
          "base_uri": "https://localhost:8080/"
        },
        "outputId": "57e460b5-688a-4593-bf03-6e6ca1896590"
      },
      "execution_count": 64,
      "outputs": [
        {
          "output_type": "stream",
          "name": "stdout",
          "text": [
            "140243235080320\n",
            "140243235084928\n",
            "True\n",
            "False\n"
          ]
        }
      ]
    },
    {
      "cell_type": "markdown",
      "metadata": {
        "id": "mXT7CYByH6ZM"
      },
      "source": [
        "## Глава третья: практика"
      ]
    },
    {
      "cell_type": "markdown",
      "metadata": {
        "id": "-nHxXcJ-XoI6"
      },
      "source": [
        "#### Задача 1.\n",
        "Дан список некоторых целых чисел, найдите значение 20 в нем и, если оно присутствует, замените его на 200. Обновите список только при первом вхождении числа 20."
      ]
    },
    {
      "cell_type": "code",
      "execution_count": null,
      "metadata": {
        "id": "tkrk2N1-XoI6"
      },
      "outputs": [],
      "source": []
    },
    {
      "cell_type": "markdown",
      "metadata": {
        "id": "TnFG7t2wXoI6"
      },
      "source": [
        "#### Задача 2.\n",
        "Дан список чисел. Выведите значение наибольшего элемента в списке, а затем индекс этого элемента в списке. Если наибольших элементов несколько, выведите индекс первого из них."
      ]
    },
    {
      "cell_type": "code",
      "execution_count": null,
      "metadata": {
        "id": "dYXppWNCXoI6"
      },
      "outputs": [],
      "source": []
    },
    {
      "cell_type": "markdown",
      "metadata": {
        "id": "0B9kFV--XoI6"
      },
      "source": [
        "#### Задача 3.\n",
        "\n",
        "Заполнить список ста нулями, кроме первого и последнего элементов, которые должны быть равны единице."
      ]
    },
    {
      "cell_type": "code",
      "execution_count": null,
      "metadata": {
        "id": "hiyfXk7fXoI7"
      },
      "outputs": [],
      "source": []
    },
    {
      "cell_type": "markdown",
      "metadata": {
        "id": "Y298ejMxH6ZM"
      },
      "source": [
        "#### Задача 4.\n",
        "\n",
        "Сформировать возрастающий список из чётных чисел (количество элементов 45)."
      ]
    },
    {
      "cell_type": "code",
      "execution_count": null,
      "metadata": {
        "id": "TMgi9o6DH6ZN"
      },
      "outputs": [],
      "source": []
    }
  ],
  "metadata": {
    "kernelspec": {
      "display_name": "Python 3 (ipykernel)",
      "language": "python",
      "name": "python3"
    },
    "language_info": {
      "codemirror_mode": {
        "name": "ipython",
        "version": 3
      },
      "file_extension": ".py",
      "mimetype": "text/x-python",
      "name": "python",
      "nbconvert_exporter": "python",
      "pygments_lexer": "ipython3",
      "version": "3.9.13"
    },
    "vscode": {
      "interpreter": {
        "hash": "b0fa6594d8f4cbf19f97940f81e996739fb7646882a419484c72d19e05852a7e"
      }
    },
    "colab": {
      "provenance": []
    }
  },
  "nbformat": 4,
  "nbformat_minor": 0
}
