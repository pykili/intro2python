{
  "nbformat": 4,
  "nbformat_minor": 0,
  "metadata": {
    "colab": {
      "provenance": []
    },
    "kernelspec": {
      "name": "python3",
      "display_name": "Python 3"
    },
    "language_info": {
      "name": "python"
    }
  },
  "cells": [
    {
      "cell_type": "markdown",
      "source": [
        "# Семинар 5"
      ],
      "metadata": {
        "id": "gnEIbz8zPpOZ"
      }
    },
    {
      "cell_type": "markdown",
      "source": [
        "## Глава минус первая: что мы уже знаем про строки\n",
        "\n",
        "> С какого символа мы считаем элементы в строке?\n",
        "\n",
        "> Как вывести длину строки?\n",
        "\n",
        "> Как превратить строку в число и наоборот?\n",
        "\n",
        "> Как вывести последний символ в строке?"
      ],
      "metadata": {
        "id": "mKM1SZT8oyFT"
      }
    },
    {
      "cell_type": "markdown",
      "source": [
        "**Как сослаться на символ в строке?**\n",
        "\n",
        "```\n",
        "{строка}[{номер символа}]\n",
        "```\n",
        "Пример:"
      ],
      "metadata": {
        "id": "CrMrbHAqJetE"
      }
    },
    {
      "cell_type": "code",
      "source": [
        "# Что выведем?\n",
        "\n",
        "s = '123456789'\n",
        "\n",
        "print(s[1])"
      ],
      "metadata": {
        "id": "K5bSOp5qpUij"
      },
      "execution_count": null,
      "outputs": []
    },
    {
      "cell_type": "markdown",
      "source": [
        "**Помним, что строки неизменяемы!**"
      ],
      "metadata": {
        "id": "dfj4IpIaS-T8"
      }
    },
    {
      "cell_type": "code",
      "source": [
        "s = '123456789'\n",
        "\n",
        "s[0] = \"a\""
      ],
      "metadata": {
        "colab": {
          "base_uri": "https://localhost:8080/",
          "height": 176
        },
        "id": "ImFCtMQ2TJS1",
        "outputId": "c10a98ca-f58f-4194-f256-f6a6b348c55a"
      },
      "execution_count": 39,
      "outputs": [
        {
          "output_type": "error",
          "ename": "TypeError",
          "evalue": "'str' object does not support item assignment",
          "traceback": [
            "\u001b[0;31m---------------------------------------------------------------------------\u001b[0m",
            "\u001b[0;31mTypeError\u001b[0m                                 Traceback (most recent call last)",
            "\u001b[0;32m<ipython-input-39-167d1ef1f138>\u001b[0m in \u001b[0;36m<cell line: 3>\u001b[0;34m()\u001b[0m\n\u001b[1;32m      1\u001b[0m \u001b[0ms\u001b[0m \u001b[0;34m=\u001b[0m \u001b[0;34m'123456789'\u001b[0m\u001b[0;34m\u001b[0m\u001b[0;34m\u001b[0m\u001b[0m\n\u001b[1;32m      2\u001b[0m \u001b[0;34m\u001b[0m\u001b[0m\n\u001b[0;32m----> 3\u001b[0;31m \u001b[0ms\u001b[0m\u001b[0;34m[\u001b[0m\u001b[0;36m0\u001b[0m\u001b[0;34m]\u001b[0m \u001b[0;34m=\u001b[0m \u001b[0;34m\"a\"\u001b[0m\u001b[0;34m\u001b[0m\u001b[0;34m\u001b[0m\u001b[0m\n\u001b[0m",
            "\u001b[0;31mTypeError\u001b[0m: 'str' object does not support item assignment"
          ]
        }
      ]
    },
    {
      "cell_type": "markdown",
      "source": [
        "**Помним, что у строк есть  срезы**.\n",
        "\n",
        "```python\n",
        "<строка>[<начальное значение>:<конечное значение>:<шаг>]\n",
        "```\n",
        "Пример:"
      ],
      "metadata": {
        "id": "rQG_lvE-OdDS"
      }
    },
    {
      "cell_type": "code",
      "source": [
        "# Что выведем?\n",
        "s = '123456789'\n",
        "\n",
        "print(s[-1:2:-1])"
      ],
      "metadata": {
        "id": "Pv_xYt96p19L"
      },
      "execution_count": null,
      "outputs": []
    },
    {
      "cell_type": "code",
      "source": [
        "# А тут?\n",
        "\n",
        "print(s[1:7])"
      ],
      "metadata": {
        "id": "fF_focCnp8vL"
      },
      "execution_count": null,
      "outputs": []
    },
    {
      "cell_type": "code",
      "source": [
        "# А здесь..?\n",
        "\n",
        "print(s[::2])"
      ],
      "metadata": {
        "id": "k4Z3mubmqaSH"
      },
      "execution_count": null,
      "outputs": []
    },
    {
      "cell_type": "markdown",
      "source": [
        "**Всякие приколы**:"
      ],
      "metadata": {
        "id": "JU2aADKPeRlA"
      }
    },
    {
      "cell_type": "code",
      "source": [
        "# строки можно делать мультилайновыми\n",
        "\n",
        "s = \"\"\"Brian\n",
        "Top marks for not trying\n",
        "So kind of you to bless us\n",
        "With your effortlessness\n",
        "We're grateful and so strangely comforted.\n",
        "\"\"\"\n",
        "\n",
        "s"
      ],
      "metadata": {
        "colab": {
          "base_uri": "https://localhost:8080/",
          "height": 35
        },
        "id": "9G5w3_o6d-Di",
        "outputId": "4a6152f9-9c68-43f0-99b0-986e0e756b08"
      },
      "execution_count": 64,
      "outputs": [
        {
          "output_type": "execute_result",
          "data": {
            "text/plain": [
              "\"Brian\\nTop marks for not trying\\nSo kind of you to bless us\\nWith your effortlessness\\nWe're grateful and so strangely comforted.\\n\""
            ],
            "application/vnd.google.colaboratory.intrinsic+json": {
              "type": "string"
            }
          },
          "metadata": {},
          "execution_count": 64
        }
      ]
    },
    {
      "cell_type": "code",
      "source": [
        "# и неявно их конкатенировать\n",
        "\n",
        "s = \"hello, \" \"world\"\n",
        "s"
      ],
      "metadata": {
        "colab": {
          "base_uri": "https://localhost:8080/",
          "height": 35
        },
        "id": "rpIdmPhKeDIf",
        "outputId": "635c0f56-f972-4148-d949-1b82fa383fc9"
      },
      "execution_count": 65,
      "outputs": [
        {
          "output_type": "execute_result",
          "data": {
            "text/plain": [
              "'hello, world'"
            ],
            "application/vnd.google.colaboratory.intrinsic+json": {
              "type": "string"
            }
          },
          "metadata": {},
          "execution_count": 65
        }
      ]
    },
    {
      "cell_type": "code",
      "source": [
        "s = (  # зачем? чтобы делать так, если у вас она уже не помещается в экран\n",
        "    \"I can put some string here like this, \"\n",
        "    \"and I don't care about its length.\\n\"\n",
        "    \"Because I know Python\"\n",
        ")\n",
        "print(s)"
      ],
      "metadata": {
        "colab": {
          "base_uri": "https://localhost:8080/"
        },
        "id": "pdH-YUmSeGKD",
        "outputId": "27808ff0-646b-43aa-fcd3-6e2cfcaded3c"
      },
      "execution_count": 66,
      "outputs": [
        {
          "output_type": "stream",
          "name": "stdout",
          "text": [
            "I can put some string here like this, and I don't care about its length.\n",
            "Because I know Python\n"
          ]
        }
      ]
    },
    {
      "cell_type": "markdown",
      "source": [
        "## Глава нулевая: узнаем что-то новое про что-то старое"
      ],
      "metadata": {
        "id": "5ntK2D-IKB9K"
      }
    },
    {
      "cell_type": "markdown",
      "source": [
        "Взгляните на код ниже. Подумайте, что он делает, и все ли, что он делает правильно."
      ],
      "metadata": {
        "id": "4XlT9wvCKJJU"
      }
    },
    {
      "cell_type": "code",
      "source": [
        "x = input('Введите первое целое число: ')\n",
        "y = input('Введите второе целое число: ')\n",
        "\n",
        "if x > y:\n",
        "    print('Первое число больше второго!')"
      ],
      "metadata": {
        "id": "SkN90JBA7f1D"
      },
      "execution_count": null,
      "outputs": []
    },
    {
      "cell_type": "markdown",
      "source": [
        "**NB!** Не забывайте переводить строки в числа, если оно нужно!\n",
        "\n",
        "А почему вообще так происходит?"
      ],
      "metadata": {
        "id": "T_5T18AgB6AQ"
      }
    },
    {
      "cell_type": "code",
      "source": [
        "print('11' > '1',\n",
        "      '10' > '2',\n",
        "      '2' > '1', sep='\\n')"
      ],
      "metadata": {
        "colab": {
          "base_uri": "https://localhost:8080/"
        },
        "id": "kAVFkxADA1NH",
        "outputId": "39018403-7ac0-4e26-fd93-0f1fa4246877"
      },
      "execution_count": null,
      "outputs": [
        {
          "output_type": "stream",
          "name": "stdout",
          "text": [
            "True\n",
            "False\n",
            "True\n"
          ]
        }
      ]
    },
    {
      "cell_type": "markdown",
      "source": [
        "Есть чудесная функция `ord()`, которая показывает соответствующее символу число в кодировке ASCII (American standard code for information interchange) / Unicode.\n",
        "\n"
      ],
      "metadata": {
        "id": "NNs1mYxhCQGL"
      }
    },
    {
      "cell_type": "code",
      "source": [
        "print(ord('0'), ord('1'), ord('2'))"
      ],
      "metadata": {
        "colab": {
          "base_uri": "https://localhost:8080/"
        },
        "id": "Lm-R4pg7BVwH",
        "outputId": "c3b3a515-34ff-4245-c495-c4cf7f774f21"
      },
      "execution_count": 1,
      "outputs": [
        {
          "output_type": "stream",
          "name": "stdout",
          "text": [
            "48 49 50\n"
          ]
        }
      ]
    },
    {
      "cell_type": "code",
      "source": [
        "ord('a')  # Какое значение будет у ord('b')"
      ],
      "metadata": {
        "colab": {
          "base_uri": "https://localhost:8080/"
        },
        "id": "Q9_ylPPgLklw",
        "outputId": "c5fb5d79-4cff-485b-89ac-aad4262147ba"
      },
      "execution_count": 2,
      "outputs": [
        {
          "output_type": "execute_result",
          "data": {
            "text/plain": [
              "97"
            ]
          },
          "metadata": {},
          "execution_count": 2
        }
      ]
    },
    {
      "cell_type": "markdown",
      "source": [
        "![](https://github.com/KatiaKozlova/files/blob/main/ASCII_table.png?raw=true)\n",
        "\n",
        "\n",
        "\n",
        "| **Code Point Range** | **Class**                                |\n",
        "|----------------------|------------------------------------------|\n",
        "| 0 through 31         | Control/non-printable characters         |\n",
        "| 32 through 64        | Punctuation, symbols, numbers, and space |\n",
        "| 65 through 90        | Uppercase English alphabet letters       |\n",
        "| 91 through 96        | Additional graphemes, such as [ and \\    |\n",
        "| 97 through 122       | Lowercase English alphabet letters       |\n",
        "| 123 through 126      | Additional graphemes, such as { and \\|   |\n",
        "| 127                  | Control/non-printable character (DEL)    |"
      ],
      "metadata": {
        "id": "lNCmnIlqK7JW"
      }
    },
    {
      "cell_type": "markdown",
      "source": [
        "Когда компьютером стали пользоваться  не только в странах с \"базовой латиницей\", то возникла проблема: в таблице не хватало места → другие таблицы кодировок, например:\n",
        "* Windows-1251\n",
        "* КОИ-8\n",
        "* ISO-8859\n",
        "* Юникод / UTF-8\n",
        "* […](https://ru.wikipedia.org/wiki/%D0%9D%D0%B0%D0%B1%D0%BE%D1%80_%D1%81%D0%B8%D0%BC%D0%B2%D0%BE%D0%BB%D0%BE%D0%B2)\n",
        "\n",
        "Python 3 использует Unicode $-$ кодировку, которая включает в себя знаки почти всех письменных языков мира (а еще emoji 😀😃😇👩‍💻🐁)\n",
        "\n",
        "Сравнивая строки, Python переводит все символы строки в числа и производит последовательное сравнение чисел (по очереди). Если он уже на первом числе может ответить на вопрос “кто больше”, он прекращает сравнение и выдает ответ. Если же строки имеют одинаковую первую букву, то сравниваться они будут по второй и так далее. Такое сравнение называется **лексикографическим**.\n",
        "\n",
        "Переведем строки в списки чисел:\n",
        "```python\n",
        "'12' = [49, 50]\n",
        "'45' = [52, 53]\n",
        "'4' = [52]\n",
        "'30' = [51, 48]\n",
        "```\n",
        "\n",
        "`'12' ? '45'` → `49 < 52 == True` → `'12' < '45'`.\n",
        "\n",
        "А что получается, когда мы сравниваем `'4' ? '30'`?"
      ],
      "metadata": {
        "id": "9a0IiZCsPBTK"
      }
    },
    {
      "cell_type": "markdown",
      "source": [
        "Можно и в обратную сторону при помощи `chr()`:"
      ],
      "metadata": {
        "id": "QekN5MBaMFCD"
      }
    },
    {
      "cell_type": "code",
      "source": [
        "print(chr(48), chr(49), chr(50))"
      ],
      "metadata": {
        "colab": {
          "base_uri": "https://localhost:8080/"
        },
        "id": "g4fjsiQCLFpF",
        "outputId": "1d0850ad-c76b-4a18-9f53-20429c72011a"
      },
      "execution_count": null,
      "outputs": [
        {
          "output_type": "stream",
          "name": "stdout",
          "text": [
            "0 1 2\n"
          ]
        }
      ]
    },
    {
      "cell_type": "code",
      "source": [
        "chr(ord('0') + 9)"
      ],
      "metadata": {
        "colab": {
          "base_uri": "https://localhost:8080/",
          "height": 35
        },
        "id": "nZ1J9cMArenX",
        "outputId": "740e8d91-9fcb-4ca7-c9dd-354734c30330"
      },
      "execution_count": null,
      "outputs": [
        {
          "output_type": "execute_result",
          "data": {
            "text/plain": [
              "'9'"
            ],
            "application/vnd.google.colaboratory.intrinsic+json": {
              "type": "string"
            }
          },
          "metadata": {},
          "execution_count": 8
        }
      ]
    },
    {
      "cell_type": "markdown",
      "source": [
        "## Глава первая: новая информация про строки"
      ],
      "metadata": {
        "id": "kH1F1b0CL_H0"
      }
    },
    {
      "cell_type": "markdown",
      "source": [
        "### Поменять все буквы:\n",
        "- на большие (`upper()`)\n",
        "- на маленькие (`lower()`)\n",
        "- на другой регистр (`swapcase()`)"
      ],
      "metadata": {
        "id": "Qv_tm902reKr"
      }
    },
    {
      "cell_type": "code",
      "source": [
        "print('абВ'.upper(), 'абВ'.lower(), 'абВ'.swapcase())"
      ],
      "metadata": {
        "colab": {
          "base_uri": "https://localhost:8080/"
        },
        "id": "kVowkuhErdq_",
        "outputId": "b6347937-4eef-4cf2-8daf-a0f09c4025fb"
      },
      "execution_count": null,
      "outputs": [
        {
          "output_type": "stream",
          "name": "stdout",
          "text": [
            "АБВ абв АБв\n"
          ]
        }
      ]
    },
    {
      "cell_type": "markdown",
      "source": [
        "### Поменять часть букв на большие:\n",
        "- `title()`\n",
        "- `capitalize()`"
      ],
      "metadata": {
        "id": "LzHofsIqNSnN"
      }
    },
    {
      "cell_type": "code",
      "source": [
        "# В чем разница\n",
        "\n",
        "txt = 'сегодня мне на пары к 9(('\n",
        "print(txt.title())\n",
        "print(txt.capitalize())\n",
        "print('')\n",
        "\n",
        "txt = 'ПРИВЕТ, ХОчеШь ПоИГРаТЬ в ИГрУ?'\n",
        "print(txt.title())\n",
        "print(txt.capitalize())\n",
        "print('')\n",
        "\n",
        "txt = '101хак про питон...здесь'\n",
        "print(txt.title())\n",
        "print(txt.capitalize())"
      ],
      "metadata": {
        "colab": {
          "base_uri": "https://localhost:8080/"
        },
        "id": "AZftKJP4NgQ_",
        "outputId": "cc8627ab-8aca-4d35-e01a-94bdb988a486"
      },
      "execution_count": 18,
      "outputs": [
        {
          "output_type": "stream",
          "name": "stdout",
          "text": [
            "Сегодня Мне На Пары К 9((\n",
            "Сегодня мне на пары к 9((\n",
            "\n",
            "Привет, Хочешь Поиграть В Игру?\n",
            "Привет, хочешь поиграть в игру?\n",
            "\n",
            "101Хак Про Питон...Здесь\n",
            "101хак про питон...здесь\n"
          ]
        }
      ]
    },
    {
      "cell_type": "markdown",
      "source": [
        "### Проверить, все ли символы\n",
        "- в верхнем (`isupper()`) или нижнем (`islower()`) регистре,\n",
        "- состоят только из букв (`isalpha()`), цифр (`isdigit()`), букв + цифр (`isalnum()`)\n",
        "- и [т. д.](https://docs.python.org/3/library/stdtypes.html#string-methods)"
      ],
      "metadata": {
        "id": "7DmUrqmND3Uj"
      }
    },
    {
      "cell_type": "code",
      "source": [
        "print('аб'.islower())"
      ],
      "metadata": {
        "colab": {
          "base_uri": "https://localhost:8080/"
        },
        "id": "Ly_5PmbxrLO4",
        "outputId": "b5c8e833-ec98-4f89-90bf-0ef1423a8a87"
      },
      "execution_count": 41,
      "outputs": [
        {
          "output_type": "stream",
          "name": "stdout",
          "text": [
            "True\n"
          ]
        }
      ]
    },
    {
      "cell_type": "code",
      "source": [
        "# Что выведется?\n",
        "\n",
        "s = 'hello123!'\n",
        "print(s.isalnum())"
      ],
      "metadata": {
        "id": "LKEMq812G412"
      },
      "execution_count": null,
      "outputs": []
    },
    {
      "cell_type": "markdown",
      "source": [
        "#### **Задание 1**\n",
        "\n",
        "Напишите код, который проверял бы, что человек ввел фамилию большими латинскими буквами."
      ],
      "metadata": {
        "id": "j4F5yzs3PHYl"
      }
    },
    {
      "cell_type": "code",
      "source": [
        "# ваш код тут"
      ],
      "metadata": {
        "id": "WpctrxZHHkbI"
      },
      "execution_count": 46,
      "outputs": []
    },
    {
      "cell_type": "markdown",
      "source": [
        "### Проверить строка:\n",
        "- начинается с x? (`startswith()`)\n",
        "- заканчивается на x? (`endswith()`)"
      ],
      "metadata": {
        "id": "VGrnokbvHEXi"
      }
    },
    {
      "cell_type": "code",
      "source": [
        "s = '1234532'\n",
        "\n",
        "print(s.startswith('123'))\n",
        "print(s.endswith('453'))"
      ],
      "metadata": {
        "colab": {
          "base_uri": "https://localhost:8080/"
        },
        "id": "Zk11XQ_xIL5v",
        "outputId": "9148bd68-1028-4da8-f7f1-397c31550348"
      },
      "execution_count": 48,
      "outputs": [
        {
          "output_type": "stream",
          "name": "stdout",
          "text": [
            "True\n",
            "False\n"
          ]
        }
      ]
    },
    {
      "cell_type": "markdown",
      "source": [
        "#### **Задание 2**\n",
        "\n",
        "Проверьте, что человек вводит корпоративную вышкинскую учебную почту, а не личную (домен `@edu.hse.ru`)."
      ],
      "metadata": {
        "id": "BRFX9YXvQEgS"
      }
    },
    {
      "cell_type": "code",
      "source": [
        "# ваш код здесь"
      ],
      "metadata": {
        "id": "dws-dbzHG7br"
      },
      "execution_count": null,
      "outputs": []
    },
    {
      "cell_type": "markdown",
      "source": [
        "### Найти и / или заменить подстрочку в строке"
      ],
      "metadata": {
        "id": "Ybt_DR1AI196"
      }
    },
    {
      "cell_type": "markdown",
      "source": [
        "- `find()` находит **первое** вхождение подстроки в строке и возвращает индекс первого совпадающего символа. Или -1, если совпадений нет. Можно вторым аргументом подать, начиная с какого элемента искать."
      ],
      "metadata": {
        "id": "WG62MvbMRZg6"
      }
    },
    {
      "cell_type": "code",
      "source": [
        "coffee_s = 'пупупу, заварю-ка кофейку'\n",
        "\n",
        "print(coffee_s.find('кофе'))\n",
        "print(coffee_s.find('чай'))"
      ],
      "metadata": {
        "colab": {
          "base_uri": "https://localhost:8080/"
        },
        "id": "Yk25GZwmQY91",
        "outputId": "8b3f39fd-60b4-4556-9f2e-0f8dfdcaacea"
      },
      "execution_count": 49,
      "outputs": [
        {
          "output_type": "stream",
          "name": "stdout",
          "text": [
            "18\n",
            "-1\n"
          ]
        }
      ]
    },
    {
      "cell_type": "code",
      "source": [
        "first_pu = coffee_s.find('пу')\n",
        "second_pu = coffee_s.find('пу', first_pu + 1)\n",
        "third_pu = coffee_s.find('пу', second_pu + 1)\n",
        "\n",
        "print(first_pu, second_pu, third_pu)"
      ],
      "metadata": {
        "colab": {
          "base_uri": "https://localhost:8080/"
        },
        "id": "JfnPIfM8RgGB",
        "outputId": "4d43caaa-8ef5-45ad-b386-398dc42fe4a4"
      },
      "execution_count": 50,
      "outputs": [
        {
          "output_type": "stream",
          "name": "stdout",
          "text": [
            "0 2 4\n"
          ]
        }
      ]
    },
    {
      "cell_type": "markdown",
      "source": [
        "- если вам не нужен номер элемента, а только да / нет, то это стоит делать при помощи `in`..."
      ],
      "metadata": {
        "id": "A6IPYVABNici"
      }
    },
    {
      "cell_type": "code",
      "source": [
        "'кот' in 'бойкотировать'"
      ],
      "metadata": {
        "colab": {
          "base_uri": "https://localhost:8080/"
        },
        "id": "zx1ZV8iINgbG",
        "outputId": "31941df7-abeb-4872-cb8b-c736144408ee"
      },
      "execution_count": 30,
      "outputs": [
        {
          "output_type": "execute_result",
          "data": {
            "text/plain": [
              "True"
            ]
          },
          "metadata": {},
          "execution_count": 30
        }
      ]
    },
    {
      "cell_type": "markdown",
      "source": [
        "- `replace(old, new)` находит все вхождения подстроки в строку и заменяет их на новую подстроку. Можно третьим аргументом еще кол-во замен подать."
      ],
      "metadata": {
        "id": "cfyXzngOQuVg"
      }
    },
    {
      "cell_type": "code",
      "source": [
        "'абракадабра'.replace('бра', 'люстра')"
      ],
      "metadata": {
        "colab": {
          "base_uri": "https://localhost:8080/",
          "height": 35
        },
        "id": "MrkGu4RHN3UP",
        "outputId": "489511e0-0f1d-4992-8ab0-f995850dea12"
      },
      "execution_count": 31,
      "outputs": [
        {
          "output_type": "execute_result",
          "data": {
            "text/plain": [
              "'алюстракадалюстра'"
            ],
            "application/vnd.google.colaboratory.intrinsic+json": {
              "type": "string"
            }
          },
          "metadata": {},
          "execution_count": 31
        }
      ]
    },
    {
      "cell_type": "code",
      "source": [
        "# а тут что будет?\n",
        "\n",
        "s = \"aaaaa\"\n",
        "print(s.replace(\"aa\", \"b\"))"
      ],
      "metadata": {
        "id": "FvWwsnOwWZL0"
      },
      "execution_count": null,
      "outputs": []
    },
    {
      "cell_type": "markdown",
      "source": [
        "#### **Задание 3**\n",
        "\n",
        "Удалите из введенной строки все буквы ё?"
      ],
      "metadata": {
        "id": "tlj3fRSySE0A"
      }
    },
    {
      "cell_type": "code",
      "source": [
        "# код тут"
      ],
      "metadata": {
        "id": "_iD8hNt1TjX2"
      },
      "execution_count": 35,
      "outputs": []
    },
    {
      "cell_type": "markdown",
      "source": [
        "### Посчитать количество вхождений (под)строки"
      ],
      "metadata": {
        "id": "FK9sbARCXBeL"
      }
    },
    {
      "cell_type": "code",
      "source": [
        "s = 'abrakadabra'\n",
        "\n",
        "print(s.count('a'))\n",
        "print(s.count('bra'))"
      ],
      "metadata": {
        "colab": {
          "base_uri": "https://localhost:8080/"
        },
        "id": "G0J0CYe6XG4v",
        "outputId": "9479283e-d22f-41d1-aa77-700810417547"
      },
      "execution_count": 57,
      "outputs": [
        {
          "output_type": "stream",
          "name": "stdout",
          "text": [
            "5\n",
            "2\n"
          ]
        }
      ]
    },
    {
      "cell_type": "code",
      "source": [
        "# Что тут может пойти не так?\n",
        "\n",
        "print(s.count('а'))"
      ],
      "metadata": {
        "id": "q_HiVuenXUvf"
      },
      "execution_count": null,
      "outputs": []
    },
    {
      "cell_type": "markdown",
      "source": [
        "### Убрать какие-то символы на краях при помощи `strip()`\n",
        "\n",
        "Можно подать внутрь строку, содержащую все символы (подряд без запятых / пробелов), которые будут убираться на концах строки. Если оставить содержимое скобок пустым, то автоматически будут убираться все пробельные символы (пробелы, табы, переносы строк).\n",
        "\n",
        "У него есть два брата поменбше:\n",
        "- `rstrip()` удадяет только справа\n",
        "- `lstrip()` удаляет только слева"
      ],
      "metadata": {
        "id": "Cf7pvxhZTOPD"
      }
    },
    {
      "cell_type": "code",
      "source": [
        "# Что выведется?\n",
        "\n",
        "'11213'.strip('13')"
      ],
      "metadata": {
        "id": "v16gIE_uTCnc"
      },
      "execution_count": null,
      "outputs": []
    },
    {
      "cell_type": "code",
      "source": [
        "s = \"    hello, honey!   \"\n",
        "\n",
        "print(s.__repr__())  # __repr__ тут нужен, чтобы увидеть скрытые символы\n",
        "print(s.strip().__repr__())  # обрезать с двух сторон все пробельные символы\n",
        "print(s.rstrip().__repr__())  # только справа\n",
        "print(s.lstrip().__repr__())  # только слева"
      ],
      "metadata": {
        "colab": {
          "base_uri": "https://localhost:8080/"
        },
        "id": "MrPXD4azSwhG",
        "outputId": "59aac82b-6f39-48d4-d264-f6fc7400f3f1"
      },
      "execution_count": 36,
      "outputs": [
        {
          "output_type": "stream",
          "name": "stdout",
          "text": [
            "'    hello, honey!   '\n",
            "'hello, honey!'\n",
            "'    hello, honey!'\n",
            "'hello, honey!   '\n"
          ]
        }
      ]
    },
    {
      "cell_type": "markdown",
      "source": [
        "### Модуль `string`, который помогает при работе со строками.\n",
        "\n",
        "**NB!** Подключаем сторонние встроенные модули мы при помощи `import`, а выводим документацию при помощи функции `help()`."
      ],
      "metadata": {
        "id": "CsFckThmqtX-"
      }
    },
    {
      "cell_type": "code",
      "source": [
        "import string"
      ],
      "metadata": {
        "id": "OjLjkMh-qs4v"
      },
      "execution_count": 3,
      "outputs": []
    },
    {
      "cell_type": "code",
      "source": [
        "# help(string)"
      ],
      "metadata": {
        "id": "T837lv-uqeGl"
      },
      "execution_count": 7,
      "outputs": []
    },
    {
      "cell_type": "code",
      "source": [
        "# вся латиница\n",
        "print(string.ascii_letters, end='\\n\\n')\n",
        "\n",
        "# (почти) вся пунктуация\n",
        "print(string.punctuation)"
      ],
      "metadata": {
        "colab": {
          "base_uri": "https://localhost:8080/"
        },
        "id": "CU_cZu86MZLK",
        "outputId": "ce07ce7c-a150-4877-a81c-004578b9ea3c"
      },
      "execution_count": 10,
      "outputs": [
        {
          "output_type": "stream",
          "name": "stdout",
          "text": [
            "abcdefghijklmnopqrstuvwxyzABCDEFGHIJKLMNOPQRSTUVWXYZ\n",
            "\n",
            "!\"#$%&'()*+,-./:;<=>?@[\\]^_`{|}~\n"
          ]
        }
      ]
    },
    {
      "cell_type": "markdown",
      "source": [
        "6. Разбить строку на части по символу / последовательности символов `split()`, а потом соединить при помощи `join()`\n",
        "\n",
        "Опять же, если не уточнять, биться все будет по пробельным символам."
      ],
      "metadata": {
        "id": "935IQE1bWTfy"
      }
    },
    {
      "cell_type": "code",
      "source": [
        "s = 'Больше всего на свете я люблю спать'\n",
        "s = s.split()\n",
        "\n",
        "print(s)\n",
        "print('_'.join(s))"
      ],
      "metadata": {
        "colab": {
          "base_uri": "https://localhost:8080/"
        },
        "id": "w7hAUKbkVfZo",
        "outputId": "f20f7e5e-b47d-4962-dd4b-12658decba75"
      },
      "execution_count": 52,
      "outputs": [
        {
          "output_type": "stream",
          "name": "stdout",
          "text": [
            "['Больше', 'всего', 'на', 'свете', 'я', 'люблю', 'спать']\n",
            "Больше_всего_на_свете_я_люблю_спать\n"
          ]
        }
      ]
    },
    {
      "cell_type": "code",
      "source": [
        "# Как разобьется строка?\n",
        "\n",
        "text = '''Я люблю орехи!\n",
        "А какие орехи твои любимые?\n",
        "Например, мне нравится грецкие орехи. Или кешью'''\n",
        "\n",
        "print(text.split('.!?'))"
      ],
      "metadata": {
        "id": "dvX8dyRMWwEg"
      },
      "execution_count": null,
      "outputs": []
    },
    {
      "cell_type": "markdown",
      "source": [
        "Мы хотели разбить текст на предложения по знакам, но ничего не вышло... Почему так?"
      ],
      "metadata": {
        "id": "qUxLSlyuXsmg"
      }
    },
    {
      "cell_type": "markdown",
      "source": [
        "Потому что, в отличие от `.strip()`, он воспринимает строку не как набор из символов, а как подстроку, и разбивает по ней!\n",
        "\n",
        "Что делать, если хочется и по `.`, и по `?` и по `!`:"
      ],
      "metadata": {
        "id": "BA_9Mn4EYWz2"
      }
    },
    {
      "cell_type": "markdown",
      "source": [
        "#### **Задание 4**\n",
        "Пользователь вводит один или несколько символов подряд. Разбейте текст по каждому из этих символов."
      ],
      "metadata": {
        "id": "XrzalU_5bulq"
      }
    },
    {
      "cell_type": "code",
      "source": [
        "# код тут"
      ],
      "metadata": {
        "id": "qPkepHrcbulr"
      },
      "execution_count": null,
      "outputs": []
    },
    {
      "cell_type": "code",
      "source": [
        "# еще можно так, но это в следующих сериях\n",
        "\n",
        "import re\n",
        "\n",
        "text = '''Я люблю орехи!\n",
        "А какие орехи твои любимые?\n",
        "Например, мне нравится грецкие орехи. Или кешью'''\n",
        "\n",
        "re.split(r'[!?.]\\s', text)"
      ],
      "metadata": {
        "colab": {
          "base_uri": "https://localhost:8080/"
        },
        "id": "7PWAOM6WYKoS",
        "outputId": "5ca85948-1cde-4adb-df9c-4506c3e597ce"
      },
      "execution_count": 60,
      "outputs": [
        {
          "output_type": "execute_result",
          "data": {
            "text/plain": [
              "['Я люблю орехи',\n",
              " 'А какие орехи твои любимые',\n",
              " 'Например, мне нравится грецкие орехи',\n",
              " 'Или кешью']"
            ]
          },
          "metadata": {},
          "execution_count": 60
        }
      ]
    },
    {
      "cell_type": "markdown",
      "source": [
        "### Глава вторая: ура, еще практика!"
      ],
      "metadata": {
        "id": "bKf6L_Nadigr"
      }
    },
    {
      "cell_type": "markdown",
      "source": [
        "#### **Задание 5**\n",
        "\n",
        "Дана строка, состоящая ровно из двух слов, разделенных пробелом. Переставьте эти слова местами. Результат запишите в строку и выведите получившуюся строку. При решении этой задачи нельзя пользоваться циклами и `if`'ом."
      ],
      "metadata": {
        "id": "T3dbLx8FdnJQ"
      }
    },
    {
      "cell_type": "code",
      "source": [
        "# ваш код тут"
      ],
      "metadata": {
        "id": "WjYr7M2PdiKH"
      },
      "execution_count": null,
      "outputs": []
    },
    {
      "cell_type": "markdown",
      "source": [
        "#### **Задание 6**\n",
        "\n",
        "Дана строка. Замените в этой строке все появления буквы h на букву H, кроме первого и последнего вхождения."
      ],
      "metadata": {
        "id": "HX9lYYlneg1U"
      }
    },
    {
      "cell_type": "code",
      "source": [
        "# ваш код тут"
      ],
      "metadata": {
        "id": "76Yv0u91bGP7"
      },
      "execution_count": null,
      "outputs": []
    },
    {
      "cell_type": "markdown",
      "source": [
        "#### **Задание 7**\n",
        "\n",
        "Дана строка. Найдите в этой строке второе вхождение буквы f, и выведите индекс этого вхождения. Если буква f в данной строке встречается только один раз, выведите число -1, а если не встречается ни разу, выведите число -2. При решении этой задачи нельзя использовать метод `count`."
      ],
      "metadata": {
        "id": "xg4ldDzIevzw"
      }
    },
    {
      "cell_type": "code",
      "source": [
        "# ваш код тут"
      ],
      "metadata": {
        "id": "B1OF03uhe2Tp"
      },
      "execution_count": null,
      "outputs": []
    }
  ]
}