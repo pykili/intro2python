{
 "cells": [
  {
   "cell_type": "markdown",
   "metadata": {},
   "source": [
    "# Семинар 5"
   ]
  },
  {
   "cell_type": "markdown",
   "metadata": {},
   "source": [
    "###  СТРОЧЕЧКИ"
   ]
  },
  {
   "cell_type": "code",
   "execution_count": null,
   "metadata": {},
   "outputs": [],
   "source": [
    "s = \"somebody once told me\"\n",
    "t = \"GO DOWN MOSES\""
   ]
  },
  {
   "cell_type": "code",
   "execution_count": null,
   "metadata": {},
   "outputs": [],
   "source": [
    "print(s.capitalize())  # оставить все буквы строчные, первую сделать заглавной\n",
    "print(s)  # заметьте, что сама строка не меняется, потому что иммутабельна\n",
    "print(s.upper())  # все заглавные\n",
    "print(t.lower())  # все строчные\n",
    "print(t.capitalize())"
   ]
  },
  {
   "cell_type": "code",
   "execution_count": null,
   "metadata": {},
   "outputs": [],
   "source": [
    "# можно работать с индексами как со списками и кортежами\n",
    "\n",
    "print(s[0])\n",
    "print(s[2:10:2])"
   ]
  },
  {
   "cell_type": "code",
   "execution_count": null,
   "metadata": {},
   "outputs": [],
   "source": [
    "# но при этом строки неизменяемы\n",
    "s[0] = \"a\""
   ]
  },
  {
   "cell_type": "code",
   "execution_count": null,
   "metadata": {},
   "outputs": [],
   "source": [
    "s = s.replace(\"somebody\", \"nobody\")  # заменить все вхождения подстроки на другую\n",
    "print(s)"
   ]
  },
  {
   "cell_type": "code",
   "execution_count": null,
   "metadata": {},
   "outputs": [],
   "source": [
    "s = \"aaaaa\"\n",
    "print(s.replace(\"aa\", \"b\"))  # хм, а тут что будет?"
   ]
  },
  {
   "cell_type": "code",
   "execution_count": null,
   "metadata": {},
   "outputs": [],
   "source": [
    "print(\", \".join([\"bread\", \"milk\", \"cheese\"]))"
   ]
  },
  {
   "cell_type": "code",
   "execution_count": null,
   "metadata": {},
   "outputs": [],
   "source": [
    "print(\", \".join([1, 2, 3]))  # так нельзя, надо приводить к строкам"
   ]
  },
  {
   "cell_type": "code",
   "execution_count": null,
   "metadata": {},
   "outputs": [],
   "source": [
    "numbers = [1, 2, 3]\n",
    "print(\", \".join(map(str, numbers)))"
   ]
  },
  {
   "cell_type": "code",
   "execution_count": null,
   "metadata": {},
   "outputs": [],
   "source": [
    "print(s.count(\"e\"))  # количество вхождений символа\n",
    "print(\"abracadabra\".count(\"ra\"))  # или целой подстроки"
   ]
  },
  {
   "cell_type": "code",
   "execution_count": null,
   "metadata": {},
   "outputs": [],
   "source": [
    "\"aaaaa\".count(\"aa\")"
   ]
  },
  {
   "cell_type": "code",
   "execution_count": null,
   "metadata": {},
   "outputs": [],
   "source": [
    "s = \"say what again, i dare you, i double dare you\"\n",
    "print(s.find(\"dare\"))  # индекс первого вхождения, вторым аргументом можно указать, с какого индекса начинать искать"
   ]
  },
  {
   "cell_type": "code",
   "execution_count": null,
   "metadata": {},
   "outputs": [],
   "source": [
    "s = \"say what again, i dare you, i double dare you\"\n",
    "print(s.rfind(\"dare\"))  # индекс последнего вхождения"
   ]
  },
  {
   "cell_type": "code",
   "execution_count": null,
   "metadata": {},
   "outputs": [],
   "source": [
    "print(s.startswith(\"say\"))  # начинается с say\n",
    "print(s.endswith(\"you\"))  # заканчивается на you\n",
    "print(s.startswith(\"cry\"))"
   ]
  },
  {
   "cell_type": "code",
   "execution_count": null,
   "metadata": {},
   "outputs": [],
   "source": [
    "s = \"    hello, honey!   \"\n",
    "\n",
    "print(s.__repr__())  # __repr__ тут нужен, чтобы увидеть скрытые символы\n",
    "print(s.strip().__repr__())  # обрезать с двух сторон все пробельные символы\n",
    "print(s.rstrip().__repr__())  # только справа\n",
    "print(s.lstrip().__repr__())  # только слева"
   ]
  },
  {
   "cell_type": "code",
   "execution_count": null,
   "metadata": {},
   "outputs": [],
   "source": [
    "s = \"hello world\"\n",
    "print(s.split())\n",
    "\n",
    "s = \"hello, world\"\n",
    "print(s.split(\",\"))  # можно делать сплит по любой строке\n",
    "\n",
    "s = \"hello\"\n",
    "print(s.isalpha())  # только буквы\n",
    "\n",
    "s = \"hello!\"\n",
    "print(s.isalpha())\n",
    "\n",
    "s = \"12345\"\n",
    "print(s.isdigit())  # только цифры\n",
    "\n",
    "s = \"abc123\"\n",
    "print(s.isalnum())  # буквы и цифры\n",
    "\n",
    "print(s.islower())  # только нижний регистр (и цифры)\n",
    "\n",
    "print(s.isupper())  # только нижний регистр (и цифры)\n",
    "\n",
    "s = \"   \\n\\t\"\n",
    "print(s.isspace())  # проверка что строка состоит из пробельных символов (в том числе табы и \\n)\n"
   ]
  },
  {
   "cell_type": "code",
   "execution_count": null,
   "metadata": {},
   "outputs": [],
   "source": [
    "s = \"\"\"Brian\n",
    "Top marks for not trying\n",
    "So kind of you to bless us\n",
    "With your effortlessness\n",
    "We're grateful and so strangely comforted.\n",
    "\"\"\"  # строки можно делать мультилайновыми\n",
    "\n",
    "s"
   ]
  },
  {
   "cell_type": "code",
   "execution_count": null,
   "metadata": {},
   "outputs": [],
   "source": [
    "s = \"hello, \" \"world\"  # и неявно их конкатенировать\n",
    "s"
   ]
  },
  {
   "cell_type": "code",
   "execution_count": null,
   "metadata": {},
   "outputs": [],
   "source": [
    "s = (  # зачем? чтобы делать так, если у вас она уже не помещается в экран\n",
    "    \"I can put some string here like this, \"\n",
    "    \"and I don't care about its length.\\n\"\n",
    "    \"Because I know Python\"\n",
    ")\n",
    "print(s)"
   ]
  },
  {
   "cell_type": "markdown",
   "metadata": {},
   "source": [
    "# БОНУС"
   ]
  },
  {
   "cell_type": "code",
   "execution_count": null,
   "metadata": {},
   "outputs": [],
   "source": [
    "s = \"I'm going back to 505\"\n",
    "\n",
    "# можно указать, например, enumerate(s, start=1),\n",
    "# тогда перечисление idx начнется с 1, а не 0\n",
    "for idx, symbol in enumerate(s):\n",
    "    print(f\"Symbol on position {idx} is {symbol}\")"
   ]
  }
 ],
 "metadata": {
  "kernelspec": {
   "display_name": "Python 3.9.13 64-bit",
   "language": "python",
   "name": "python3"
  },
  "language_info": {
   "codemirror_mode": {
    "name": "ipython",
    "version": 3
   },
   "file_extension": ".py",
   "mimetype": "text/x-python",
   "name": "python",
   "nbconvert_exporter": "python",
   "pygments_lexer": "ipython3",
   "version": "3.9.13"
  },
  "orig_nbformat": 4,
  "vscode": {
   "interpreter": {
    "hash": "b0fa6594d8f4cbf19f97940f81e996739fb7646882a419484c72d19e05852a7e"
   }
  }
 },
 "nbformat": 4,
 "nbformat_minor": 2
}
