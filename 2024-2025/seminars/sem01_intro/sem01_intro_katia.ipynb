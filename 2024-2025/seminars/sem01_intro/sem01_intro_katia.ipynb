{
  "cells": [
    {
      "cell_type": "markdown",
      "id": "fad65813",
      "metadata": {
        "id": "fad65813"
      },
      "source": [
        "# Семинар 1: (небольшое) знакомство с Jupyter Notebook, базовые арифметические операции, базовые типы данных в Python"
      ]
    },
    {
      "cell_type": "markdown",
      "id": "8c8037c6",
      "metadata": {
        "id": "8c8037c6"
      },
      "source": [
        "Это Jupyter-ноутбук. Тут можно писать код прямо в ячейках и выполнять его пошагово. Это удобно и часто, например, используется в анализе данных. Тут можно *по-разному* **форматировать** ~текст~. Можно запускать его со своего копьютера, если у вас есть соответствующая программа, или пользоваться онлайн-версией (например, [google colab](https://colab.google), в котором вы сейчас смотрите эту тетрадку). Мы в этом году джупитером скорее всего не будем пользоваться, но, возможно, некоторые конспекты с пар будут в таком формате."
      ]
    },
    {
      "cell_type": "markdown",
      "id": "01592098",
      "metadata": {
        "id": "01592098"
      },
      "source": [
        "Тут можно создавать ячейки, писать в них код и запускать их (с помощью кнопочки Run со стрекочкой вверху слева или `ctrl`+`enter`)."
      ]
    },
    {
      "cell_type": "code",
      "execution_count": null,
      "id": "3ba4e468",
      "metadata": {
        "id": "3ba4e468",
        "outputId": "71dd46ad-f1fd-45db-e3cf-5b59ac5a7376",
        "colab": {
          "base_uri": "https://localhost:8080/"
        }
      },
      "outputs": [
        {
          "output_type": "execute_result",
          "data": {
            "text/plain": [
              "7"
            ]
          },
          "metadata": {},
          "execution_count": 2
        }
      ],
      "source": [
        "2 + 5"
      ]
    },
    {
      "cell_type": "markdown",
      "id": "f03b0b52",
      "metadata": {
        "id": "f03b0b52"
      },
      "source": [
        "Всё работает, а мы заодно познакомились с операцией сложения. Посмотрим, что еще умеет питон и как это написать."
      ]
    },
    {
      "cell_type": "markdown",
      "id": "32b1ab01",
      "metadata": {
        "id": "32b1ab01"
      },
      "source": [
        "## Арифметика"
      ]
    },
    {
      "cell_type": "code",
      "execution_count": null,
      "id": "1bf201e4",
      "metadata": {
        "id": "1bf201e4",
        "outputId": "e311000e-4f07-45de-f33f-85678aacb399",
        "colab": {
          "base_uri": "https://localhost:8080/"
        }
      },
      "outputs": [
        {
          "output_type": "execute_result",
          "data": {
            "text/plain": [
              "21"
            ]
          },
          "metadata": {},
          "execution_count": 2
        }
      ],
      "source": [
        "# умножение (да-да, с помощью решеточки в питоне можно писать комментарии)\n",
        "3 * (2 + 5)"
      ]
    },
    {
      "cell_type": "code",
      "execution_count": null,
      "id": "3566f963",
      "metadata": {
        "id": "3566f963",
        "outputId": "c30c2864-8eb9-4157-81f1-22d861434786",
        "colab": {
          "base_uri": "https://localhost:8080/"
        }
      },
      "outputs": [
        {
          "output_type": "execute_result",
          "data": {
            "text/plain": [
              "2.5714285714285716"
            ]
          },
          "metadata": {},
          "execution_count": 3
        }
      ],
      "source": [
        "# деление\n",
        "18 / 7"
      ]
    },
    {
      "cell_type": "code",
      "execution_count": null,
      "id": "a7babe7e",
      "metadata": {
        "id": "a7babe7e",
        "outputId": "ed48b0bb-991f-4815-faf4-51abbafb51c0",
        "colab": {
          "base_uri": "https://localhost:8080/"
        }
      },
      "outputs": [
        {
          "output_type": "execute_result",
          "data": {
            "text/plain": [
              "2"
            ]
          },
          "metadata": {},
          "execution_count": 4
        }
      ],
      "source": [
        "# целочисленное деление (всё, что до запятой)\n",
        "18 // 7"
      ]
    },
    {
      "cell_type": "code",
      "execution_count": null,
      "id": "36358ad3",
      "metadata": {
        "id": "36358ad3",
        "outputId": "b025fcf0-0ad0-42fe-9492-7a78f4699661",
        "colab": {
          "base_uri": "https://localhost:8080/"
        }
      },
      "outputs": [
        {
          "output_type": "execute_result",
          "data": {
            "text/plain": [
              "4"
            ]
          },
          "metadata": {},
          "execution_count": 5
        }
      ],
      "source": [
        "# остаток от деления\n",
        "18 % 7"
      ]
    },
    {
      "cell_type": "code",
      "execution_count": null,
      "id": "37369aac",
      "metadata": {
        "id": "37369aac",
        "outputId": "63ce5fdc-097f-4059-a599-2c8cd010072f",
        "colab": {
          "base_uri": "https://localhost:8080/"
        }
      },
      "outputs": [
        {
          "output_type": "execute_result",
          "data": {
            "text/plain": [
              "8"
            ]
          },
          "metadata": {},
          "execution_count": 6
        }
      ],
      "source": [
        "# возведение в степень (осторожно! не ^)\n",
        "2 ** 3"
      ]
    },
    {
      "cell_type": "code",
      "execution_count": null,
      "id": "b0ad4586",
      "metadata": {
        "id": "b0ad4586",
        "outputId": "d138442c-b785-40a9-d3aa-c87bb7c0249a",
        "colab": {
          "base_uri": "https://localhost:8080/"
        }
      },
      "outputs": [
        {
          "output_type": "execute_result",
          "data": {
            "text/plain": [
              "1"
            ]
          },
          "metadata": {},
          "execution_count": 7
        }
      ],
      "source": [
        "# ^ делает другое (пока не углубляемся, что, если интересно, можно загуглить)\n",
        "2 ^ 3"
      ]
    },
    {
      "cell_type": "code",
      "source": [
        "5 / 0  # а на ноль делить нельзя..."
      ],
      "metadata": {
        "colab": {
          "base_uri": "https://localhost:8080/",
          "height": 141
        },
        "id": "BAhyNSFGwG7F",
        "outputId": "9e81d335-1adb-4c6b-9ce9-04f7c1cb7b4f"
      },
      "id": "BAhyNSFGwG7F",
      "execution_count": null,
      "outputs": [
        {
          "output_type": "error",
          "ename": "ZeroDivisionError",
          "evalue": "division by zero",
          "traceback": [
            "\u001b[0;31m---------------------------------------------------------------------------\u001b[0m",
            "\u001b[0;31mZeroDivisionError\u001b[0m                         Traceback (most recent call last)",
            "\u001b[0;32m<ipython-input-24-adafc2937013>\u001b[0m in \u001b[0;36m<cell line: 1>\u001b[0;34m()\u001b[0m\n\u001b[0;32m----> 1\u001b[0;31m \u001b[0;36m5\u001b[0m \u001b[0;34m/\u001b[0m \u001b[0;36m0\u001b[0m\u001b[0;34m\u001b[0m\u001b[0;34m\u001b[0m\u001b[0m\n\u001b[0m",
            "\u001b[0;31mZeroDivisionError\u001b[0m: division by zero"
          ]
        }
      ]
    },
    {
      "cell_type": "markdown",
      "id": "e7d8d915",
      "metadata": {
        "id": "e7d8d915"
      },
      "source": [
        "## Переменные"
      ]
    },
    {
      "cell_type": "markdown",
      "id": "180a560e",
      "metadata": {
        "id": "180a560e"
      },
      "source": [
        "В python есть 2 типа сущностей: объекты и операции.\n",
        "\n",
        "Объекты существуют, операции их изменяют, перебирают, сохраняют или удаляют. Мы уже научились некоторым операциям. Теперь научимся сохранять результаты этих операций в переменые."
      ]
    },
    {
      "cell_type": "code",
      "execution_count": null,
      "id": "eba223c8",
      "metadata": {
        "id": "eba223c8",
        "outputId": "11c87ed7-e869-4bbe-c39c-c086fe336968",
        "colab": {
          "base_uri": "https://localhost:8080/"
        }
      },
      "outputs": [
        {
          "output_type": "stream",
          "name": "stdout",
          "text": [
            "2 7\n"
          ]
        }
      ],
      "source": [
        "a = 2\n",
        "b = 7\n",
        "print(a, b)"
      ]
    },
    {
      "cell_type": "markdown",
      "id": "f508e86d",
      "metadata": {
        "id": "f508e86d"
      },
      "source": [
        "Мы сохранили числовые значения в переменные и напечатали их с помощью функции `print()`. `a`, `b` в данном случае – это аргументы данной функции. Подробнее о `print()` еще поговорим дальше."
      ]
    },
    {
      "cell_type": "code",
      "execution_count": null,
      "id": "798c430e",
      "metadata": {
        "id": "798c430e",
        "outputId": "07aa314e-9c62-4297-f42f-f4eb3d0e91d9",
        "colab": {
          "base_uri": "https://localhost:8080/"
        }
      },
      "outputs": [
        {
          "output_type": "execute_result",
          "data": {
            "text/plain": [
              "5"
            ]
          },
          "metadata": {},
          "execution_count": 9
        }
      ],
      "source": [
        "a + 3"
      ]
    },
    {
      "cell_type": "code",
      "execution_count": null,
      "id": "e4192634",
      "metadata": {
        "id": "e4192634",
        "outputId": "870ba948-cc2a-47c6-ddce-96486358fda4",
        "colab": {
          "base_uri": "https://localhost:8080/"
        }
      },
      "outputs": [
        {
          "output_type": "stream",
          "name": "stdout",
          "text": [
            "2\n"
          ]
        }
      ],
      "source": [
        "print(a)"
      ]
    },
    {
      "cell_type": "markdown",
      "id": "d9907ae8",
      "metadata": {
        "id": "d9907ae8"
      },
      "source": [
        "Мы же добавили 3 к `a`, почему `a` всё ещё 2, а не 5? Потому что мы не сохранили значение выражения в переменную! Если хотим изменить именно `a`, можно записать это несколькими способами."
      ]
    },
    {
      "cell_type": "code",
      "source": [
        "a = 2\n",
        "b = 7"
      ],
      "metadata": {
        "id": "rGJeKmbytLHV"
      },
      "id": "rGJeKmbytLHV",
      "execution_count": null,
      "outputs": []
    },
    {
      "cell_type": "code",
      "source": [
        "print(a, b)"
      ],
      "metadata": {
        "colab": {
          "base_uri": "https://localhost:8080/"
        },
        "id": "rT3nmQEftTYg",
        "outputId": "665d9c1e-bd25-4ef9-a8fe-998ec008ae3b"
      },
      "id": "rT3nmQEftTYg",
      "execution_count": null,
      "outputs": [
        {
          "output_type": "stream",
          "name": "stdout",
          "text": [
            "2 7\n"
          ]
        }
      ]
    },
    {
      "cell_type": "code",
      "execution_count": null,
      "id": "43a60fcf",
      "metadata": {
        "id": "43a60fcf"
      },
      "outputs": [],
      "source": [
        "a = a + 2\n",
        "# a += 2\n",
        "# то же самое, только покороче записали, такая вот красота от питона\n",
        "# перед = может быть любой арифм знак с той же логикой"
      ]
    },
    {
      "cell_type": "code",
      "execution_count": null,
      "id": "6c318164",
      "metadata": {
        "id": "6c318164",
        "outputId": "6c70ee0b-3db8-4f55-fa03-69b4993c82b9",
        "colab": {
          "base_uri": "https://localhost:8080/"
        }
      },
      "outputs": [
        {
          "output_type": "stream",
          "name": "stdout",
          "text": [
            "4\n"
          ]
        }
      ],
      "source": [
        "print(a)"
      ]
    },
    {
      "cell_type": "markdown",
      "id": "7856dbce",
      "metadata": {
        "id": "7856dbce"
      },
      "source": [
        "Вот теперь всё как надо."
      ]
    },
    {
      "cell_type": "code",
      "execution_count": null,
      "id": "0ea7e779",
      "metadata": {
        "id": "0ea7e779"
      },
      "outputs": [],
      "source": [
        "c = 4 + 7\n",
        "d = a + b"
      ]
    },
    {
      "cell_type": "markdown",
      "id": "21fc4164",
      "metadata": {
        "id": "21fc4164"
      },
      "source": [
        "Сохранили в переменные результаты операции сложения. Еще переменные можно сравнивать между собой. При этом получаем ответ – либо истина (`True`), либо ложь (`False`)."
      ]
    },
    {
      "cell_type": "code",
      "execution_count": null,
      "id": "ec26e50c",
      "metadata": {
        "id": "ec26e50c",
        "outputId": "11c10999-b026-4d31-e889-9a88d52f098f",
        "colab": {
          "base_uri": "https://localhost:8080/"
        }
      },
      "outputs": [
        {
          "output_type": "execute_result",
          "data": {
            "text/plain": [
              "True"
            ]
          },
          "metadata": {},
          "execution_count": 18
        }
      ],
      "source": [
        "# равенство (два знака равно! один это присваивание значения переменной)\n",
        "c == d"
      ]
    },
    {
      "cell_type": "code",
      "execution_count": null,
      "id": "9735b1ee",
      "metadata": {
        "id": "9735b1ee",
        "outputId": "69e3ff9a-21ba-45af-aec9-597600ab0954",
        "colab": {
          "base_uri": "https://localhost:8080/"
        }
      },
      "outputs": [
        {
          "output_type": "execute_result",
          "data": {
            "text/plain": [
              "False"
            ]
          },
          "metadata": {},
          "execution_count": 19
        }
      ],
      "source": [
        "# неравенство\n",
        "c != d"
      ]
    },
    {
      "cell_type": "code",
      "execution_count": null,
      "id": "7e260200",
      "metadata": {
        "id": "7e260200",
        "outputId": "ecccf926-13d8-4558-aec5-8167bd12d7bf",
        "colab": {
          "base_uri": "https://localhost:8080/"
        }
      },
      "outputs": [
        {
          "output_type": "execute_result",
          "data": {
            "text/plain": [
              "True"
            ]
          },
          "metadata": {},
          "execution_count": 20
        }
      ],
      "source": [
        "# больше (больше или равно >=)\n",
        "c > b"
      ]
    },
    {
      "cell_type": "code",
      "execution_count": null,
      "id": "a3197672",
      "metadata": {
        "id": "a3197672",
        "outputId": "e778c175-aefd-40ee-90a3-aa9f12843361",
        "colab": {
          "base_uri": "https://localhost:8080/"
        }
      },
      "outputs": [
        {
          "output_type": "execute_result",
          "data": {
            "text/plain": [
              "False"
            ]
          },
          "metadata": {},
          "execution_count": 21
        }
      ],
      "source": [
        "# меньше (меньше или равно <=)\n",
        "c < a"
      ]
    },
    {
      "cell_type": "markdown",
      "source": [
        "Собирать значения `True` / `False` можно при помощи логических операторов `and`, `or`, `not`... Работает все по принципу табличек на информатике."
      ],
      "metadata": {
        "id": "d9OHYnikY_1C"
      },
      "id": "d9OHYnikY_1C"
    },
    {
      "cell_type": "code",
      "source": [
        "print(True and True, True and False, False and False)\n",
        "print(True or True, True or False, False or False)"
      ],
      "metadata": {
        "colab": {
          "base_uri": "https://localhost:8080/"
        },
        "id": "2bDBwZEfZUS_",
        "outputId": "476e0251-b8de-428f-92e9-f421fa0eb4fd"
      },
      "id": "2bDBwZEfZUS_",
      "execution_count": null,
      "outputs": [
        {
          "output_type": "stream",
          "name": "stdout",
          "text": [
            "True False False\n",
            "True True False\n"
          ]
        }
      ]
    },
    {
      "cell_type": "markdown",
      "id": "2e9cb6cb",
      "metadata": {
        "id": "2e9cb6cb"
      },
      "source": [
        "## Типы данных"
      ]
    },
    {
      "cell_type": "markdown",
      "id": "3d3a9255",
      "metadata": {
        "id": "3d3a9255"
      },
      "source": [
        "У всех объектов в python есть тип/класс. Узнать его можно вот так."
      ]
    },
    {
      "cell_type": "code",
      "execution_count": null,
      "id": "3bc0d6e0",
      "metadata": {
        "id": "3bc0d6e0",
        "outputId": "e1b00212-d498-4089-92bf-27146a6900fd",
        "colab": {
          "base_uri": "https://localhost:8080/"
        }
      },
      "outputs": [
        {
          "output_type": "execute_result",
          "data": {
            "text/plain": [
              "int"
            ]
          },
          "metadata": {},
          "execution_count": 18
        }
      ],
      "source": [
        "type(a)"
      ]
    },
    {
      "cell_type": "markdown",
      "id": "098807e8",
      "metadata": {
        "id": "098807e8"
      },
      "source": [
        "До сих пор мы заводили переменные с целочисленным типом (integer, `int`). Но во время операций нам так же встречались вещественные числа или числа с плавающей точкой (`float`) и булевый тип, т.е. True/False (`bool`)."
      ]
    },
    {
      "cell_type": "code",
      "execution_count": null,
      "id": "5d947b66",
      "metadata": {
        "id": "5d947b66",
        "outputId": "7f396246-1e7d-414a-d2ad-14c3c3825cd2",
        "colab": {
          "base_uri": "https://localhost:8080/"
        }
      },
      "outputs": [
        {
          "output_type": "stream",
          "name": "stdout",
          "text": [
            "5 <class 'int'>\n",
            "2.17 <class 'float'>\n",
            "True <class 'bool'>\n"
          ]
        }
      ],
      "source": [
        "x = 5  # целое число\n",
        "print(x, type(x))\n",
        "\n",
        "z = 2.17  # вещественное число\n",
        "print(z, type(z))\n",
        "\n",
        "u = True\n",
        "print(u, type(u))"
      ]
    },
    {
      "cell_type": "markdown",
      "source": [
        " При помощи соответствующих функций `int()`, `float()`, `bool()` и т.д. можно менять типы переменных."
      ],
      "metadata": {
        "id": "eZNNExKCZhMe"
      },
      "id": "eZNNExKCZhMe"
    },
    {
      "cell_type": "code",
      "source": [
        "print(int(True), int(False), float(True), float(False))\n",
        "print(int(2.13), int(2.74))\n",
        "print(float(5))\n",
        "print(bool(2), bool(-4), bool(0), bool(0.0), bool(-0.00001))"
      ],
      "metadata": {
        "colab": {
          "base_uri": "https://localhost:8080/"
        },
        "id": "7M-FuaZLZ1T-",
        "outputId": "2d121d42-3397-4d24-ef27-92bf63c213fb"
      },
      "id": "7M-FuaZLZ1T-",
      "execution_count": null,
      "outputs": [
        {
          "output_type": "stream",
          "name": "stdout",
          "text": [
            "1 0 1.0 0.0\n",
            "2 2\n",
            "5.0\n",
            "True True False False True\n"
          ]
        }
      ]
    },
    {
      "cell_type": "markdown",
      "id": "73c6ebb9",
      "metadata": {
        "id": "73c6ebb9"
      },
      "source": [
        "Ещё в питоне есть сторки. Они оформляются в кавычки. Можно одинарные, можно двойные."
      ]
    },
    {
      "cell_type": "code",
      "execution_count": null,
      "id": "da0ab2c8",
      "metadata": {
        "id": "da0ab2c8"
      },
      "outputs": [],
      "source": [
        "a = 'never'"
      ]
    },
    {
      "cell_type": "code",
      "source": [
        "type(a)"
      ],
      "metadata": {
        "colab": {
          "base_uri": "https://localhost:8080/"
        },
        "id": "7vO4kcFUvMWd",
        "outputId": "203c6181-ed14-4c30-d0ac-853cea6cbc20"
      },
      "id": "7vO4kcFUvMWd",
      "execution_count": null,
      "outputs": [
        {
          "output_type": "execute_result",
          "data": {
            "text/plain": [
              "str"
            ]
          },
          "metadata": {},
          "execution_count": 21
        }
      ]
    },
    {
      "cell_type": "markdown",
      "id": "a50908cd",
      "metadata": {
        "id": "a50908cd"
      },
      "source": [
        "Важно: если у вас в строке присутствуют кавычки как часть строки, надо чтобы кавычки-элементы_строки и кавычки-оформители_строки были разные, иначе питон не будет вас понимать (см. подсветку) и будет ругаться."
      ]
    },
    {
      "cell_type": "code",
      "execution_count": null,
      "id": "665fc644",
      "metadata": {
        "id": "665fc644",
        "outputId": "12ecb430-39d3-4482-d3f6-c28edf7a6227",
        "colab": {
          "base_uri": "https://localhost:8080/",
          "height": 106
        }
      },
      "outputs": [
        {
          "output_type": "error",
          "ename": "SyntaxError",
          "evalue": "unterminated string literal (detected at line 3) (<ipython-input-22-694da6fad679>, line 3)",
          "traceback": [
            "\u001b[0;36m  File \u001b[0;32m\"<ipython-input-22-694da6fad679>\"\u001b[0;36m, line \u001b[0;32m3\u001b[0m\n\u001b[0;31m    q = 'Национальный исследовательский унивеситет 'Высшая школа экономики\"'\u001b[0m\n\u001b[0m                                                                          ^\u001b[0m\n\u001b[0;31mSyntaxError\u001b[0m\u001b[0;31m:\u001b[0m unterminated string literal (detected at line 3)\n"
          ]
        }
      ],
      "source": [
        "x = 'Национальный исследовательский унивеситет \"Высшая школа экономики\"'\n",
        "y = \"Национальный исследовательский унивеситет 'Высшая школа экономики'\"\n",
        "q = 'Национальный исследовательский унивеситет 'Высшая школа экономики\"'"
      ]
    },
    {
      "cell_type": "markdown",
      "id": "d3334ede",
      "metadata": {
        "id": "d3334ede"
      },
      "source": [
        "*Вот так, кстати, выглядит ошибка. Ошибок бояться не надо! Они не кусаются (хотя нервы могут изрядно подпортить). Надо читать, что написано, и если непонятно, гуглить.*"
      ]
    },
    {
      "cell_type": "markdown",
      "source": [
        "Можно использовать тройные кавычки, чтобы сохранить переносы строк в тексте. Например, так:\n",
        "```python\n",
        "some_text = \"\"\"Какой-то\n",
        "текст\n",
        "на\n",
        "разных\n",
        "строках\"\"\"\n",
        "```\n",
        "\n",
        "Еще один способ: использовать спецсимвол `\\n`:\n",
        "```python\n",
        "some_text = \"Какой-то\\nтекст\\nна\\nразных\\nстроках\"\"\"\n",
        "```\n",
        "Еще можно при помощи обратного слэша экранировать кавычки:"
      ],
      "metadata": {
        "id": "2_R0YarSaXHw"
      },
      "id": "2_R0YarSaXHw"
    },
    {
      "cell_type": "code",
      "source": [
        "print('dog\\'s tail')"
      ],
      "metadata": {
        "colab": {
          "base_uri": "https://localhost:8080/"
        },
        "id": "ij9zOo5Nvo57",
        "outputId": "b61ae6f0-7688-4302-b9dd-31ccbe432fc9"
      },
      "id": "ij9zOo5Nvo57",
      "execution_count": null,
      "outputs": [
        {
          "output_type": "stream",
          "name": "stdout",
          "text": [
            "dog's tail\n"
          ]
        }
      ]
    },
    {
      "cell_type": "markdown",
      "id": "9d3990e5",
      "metadata": {
        "id": "9d3990e5"
      },
      "source": [
        "Строки можно складывать, можно умножать. А вот возвести в степень уже не получится."
      ]
    },
    {
      "cell_type": "code",
      "execution_count": null,
      "id": "ff0ee731",
      "metadata": {
        "id": "ff0ee731",
        "colab": {
          "base_uri": "https://localhost:8080/",
          "height": 228
        },
        "outputId": "b5276f71-c5b2-4609-9913-4da4a89bc84b"
      },
      "outputs": [
        {
          "output_type": "stream",
          "name": "stdout",
          "text": [
            "never gonna give you up\n",
            "upupupup\n"
          ]
        },
        {
          "output_type": "error",
          "ename": "TypeError",
          "evalue": "unsupported operand type(s) for ** or pow(): 'str' and 'int'",
          "traceback": [
            "\u001b[0;31m---------------------------------------------------------------------------\u001b[0m",
            "\u001b[0;31mTypeError\u001b[0m                                 Traceback (most recent call last)",
            "\u001b[0;32m<ipython-input-29-614662990a79>\u001b[0m in \u001b[0;36m<cell line: 8>\u001b[0;34m()\u001b[0m\n\u001b[1;32m      6\u001b[0m \u001b[0mprint\u001b[0m\u001b[0;34m(\u001b[0m\u001b[0ma\u001b[0m \u001b[0;34m+\u001b[0m \u001b[0;34m' '\u001b[0m \u001b[0;34m+\u001b[0m \u001b[0mb\u001b[0m \u001b[0;34m+\u001b[0m \u001b[0;34m' '\u001b[0m \u001b[0;34m+\u001b[0m \u001b[0mc\u001b[0m \u001b[0;34m+\u001b[0m \u001b[0;34m' '\u001b[0m \u001b[0;34m+\u001b[0m \u001b[0md\u001b[0m \u001b[0;34m+\u001b[0m \u001b[0;34m' '\u001b[0m \u001b[0;34m+\u001b[0m \u001b[0me\u001b[0m\u001b[0;34m)\u001b[0m \u001b[0;31m# hehe (' ' -- это строка, состоящая из одного пробела)\u001b[0m\u001b[0;34m\u001b[0m\u001b[0;34m\u001b[0m\u001b[0m\n\u001b[1;32m      7\u001b[0m \u001b[0mprint\u001b[0m\u001b[0;34m(\u001b[0m\u001b[0me\u001b[0m \u001b[0;34m*\u001b[0m \u001b[0;36m4\u001b[0m\u001b[0;34m)\u001b[0m\u001b[0;34m\u001b[0m\u001b[0;34m\u001b[0m\u001b[0m\n\u001b[0;32m----> 8\u001b[0;31m \u001b[0mprint\u001b[0m\u001b[0;34m(\u001b[0m\u001b[0me\u001b[0m \u001b[0;34m**\u001b[0m \u001b[0;36m2\u001b[0m\u001b[0;34m)\u001b[0m\u001b[0;34m\u001b[0m\u001b[0;34m\u001b[0m\u001b[0m\n\u001b[0m",
            "\u001b[0;31mTypeError\u001b[0m: unsupported operand type(s) for ** or pow(): 'str' and 'int'"
          ]
        }
      ],
      "source": [
        "b = 'gonna'\n",
        "c = 'give'\n",
        "d = 'you'\n",
        "e = 'up'\n",
        "\n",
        "print(a + ' ' + b + ' ' + c + ' ' + d + ' ' + e) # hehe (' ' -- это строка, состоящая из одного пробела)\n",
        "print(e * 4)\n",
        "print(e ** 2)"
      ]
    },
    {
      "cell_type": "markdown",
      "id": "69d690cc",
      "metadata": {
        "id": "69d690cc"
      },
      "source": [
        "Ещё раз: сложение строк и сложение чисел – это про разное! Хоть и используется одинаковый значок."
      ]
    },
    {
      "cell_type": "code",
      "execution_count": null,
      "id": "8befa7bf",
      "metadata": {
        "id": "8befa7bf",
        "colab": {
          "base_uri": "https://localhost:8080/"
        },
        "outputId": "31f15b2b-0050-4134-bf70-7d15a018faa0"
      },
      "outputs": [
        {
          "output_type": "stream",
          "name": "stdout",
          "text": [
            "12\n",
            "3\n"
          ]
        }
      ],
      "source": [
        "print('1' + '2')\n",
        "print(1 + 2)"
      ]
    },
    {
      "cell_type": "code",
      "source": [
        "'34' > '101'"
      ],
      "metadata": {
        "colab": {
          "base_uri": "https://localhost:8080/"
        },
        "id": "Xr4CE_WPwvTY",
        "outputId": "fc8a1246-0fe4-44bd-bb88-a816cd87b1b3"
      },
      "id": "Xr4CE_WPwvTY",
      "execution_count": null,
      "outputs": [
        {
          "output_type": "execute_result",
          "data": {
            "text/plain": [
              "True"
            ]
          },
          "metadata": {},
          "execution_count": 27
        }
      ]
    },
    {
      "cell_type": "markdown",
      "source": [
        "Единственная \"неправда\" - это пустая строка!"
      ],
      "metadata": {
        "id": "NjoX_fTv30Sc"
      },
      "id": "NjoX_fTv30Sc"
    },
    {
      "cell_type": "code",
      "source": [
        "print(bool(' '), bool('0'), bool('1'), bool(''))"
      ],
      "metadata": {
        "colab": {
          "base_uri": "https://localhost:8080/"
        },
        "id": "lEAfz8e-11Hq",
        "outputId": "b453e22e-53ce-4091-825f-b74dc1d940c3"
      },
      "id": "lEAfz8e-11Hq",
      "execution_count": null,
      "outputs": [
        {
          "output_type": "stream",
          "name": "stdout",
          "text": [
            "True True True False\n"
          ]
        }
      ]
    },
    {
      "cell_type": "markdown",
      "id": "3636dfd0",
      "metadata": {
        "id": "3636dfd0"
      },
      "source": [
        "## Вывод и ввод"
      ]
    },
    {
      "cell_type": "markdown",
      "id": "1c3a3e03",
      "metadata": {
        "id": "1c3a3e03"
      },
      "source": [
        "Мы уже умеем выводить результат с помощью функции `print()`. У функций помимо **аргументов** (== с чем делать), у нее также есть **параметры** (== как делать). У функции `print()` есть, например, параметры `sep` и `end`. Попробуйте сами понять их значение и мотивацию названия из примеров ниже. А еще рекомендуется найти какие-нибудь другие параметры функции `print()` (зАгУгЛиВ) и поиграться с ними."
      ]
    },
    {
      "cell_type": "code",
      "execution_count": null,
      "id": "4b192e35",
      "metadata": {
        "id": "4b192e35",
        "colab": {
          "base_uri": "https://localhost:8080/"
        },
        "outputId": "501dab04-3773-4d4a-beb6-f2177cbe5a4f"
      },
      "outputs": [
        {
          "output_type": "stream",
          "name": "stdout",
          "text": [
            "never_gonna_give_you_up..."
          ]
        }
      ],
      "source": [
        "print(a, b, c, d, e, sep='_', end='...')"
      ]
    },
    {
      "cell_type": "code",
      "execution_count": null,
      "id": "cea94689",
      "metadata": {
        "id": "cea94689",
        "colab": {
          "base_uri": "https://localhost:8080/"
        },
        "outputId": "29177862-407a-42db-ce71-880196c60b6c"
      },
      "outputs": [
        {
          "output_type": "stream",
          "name": "stdout",
          "text": [
            "never gonna give you up!"
          ]
        }
      ],
      "source": [
        "print(a, b, c, d, e, sep=' ', end='!')"
      ]
    },
    {
      "cell_type": "markdown",
      "id": "5aa0258c",
      "metadata": {
        "id": "5aa0258c"
      },
      "source": [
        "Теперь представим, что мы написали код, который спрашивает у пользователя логин и дальше что-то с ним делает. Пользователь не имеет доступа к нашему коду (это неудобно и опасно для всех). Поэтому надо научиться считывать строку с клавиатуры, записывать ее в переменную, и уже дальше, вдали от пользователя, с ней работать. В этом нам помогает функция `input()`. При запуске кода надо ввести значение, тогда код будет работать дальше."
      ]
    },
    {
      "cell_type": "code",
      "execution_count": null,
      "id": "46677a69",
      "metadata": {
        "id": "46677a69",
        "colab": {
          "base_uri": "https://localhost:8080/"
        },
        "outputId": "f33b66a6-6c4a-47b1-8eca-b8e5c7b077c2"
      },
      "outputs": [
        {
          "output_type": "stream",
          "name": "stdout",
          "text": [
            "Катя\n",
            "Кто сегодня молодец? Ну, конечно, Катя!"
          ]
        }
      ],
      "source": [
        "x = input()\n",
        "print('Кто сегодня молодец? Ну, конечно,', x, sep=' ', end='!')"
      ]
    },
    {
      "cell_type": "code",
      "execution_count": null,
      "id": "c6e04933",
      "metadata": {
        "id": "c6e04933",
        "colab": {
          "base_uri": "https://localhost:8080/"
        },
        "outputId": "941be5b1-f816-4cfc-929e-1d86042c3f50"
      },
      "outputs": [
        {
          "output_type": "stream",
          "name": "stdout",
          "text": [
            "Введите своё имя: Катя\n",
            "Кто сегодня молодец? Ну, конечно, Катя!"
          ]
        }
      ],
      "source": [
        "# можно добавить пользователю подсказку\n",
        "# которая при этом не будет записываться в переменную\n",
        "x = input('Введите своё имя: ')\n",
        "print('Кто сегодня молодец? Ну, конечно,', x, sep=' ', end='!')"
      ]
    },
    {
      "cell_type": "markdown",
      "id": "bf04b37a",
      "metadata": {
        "id": "bf04b37a"
      },
      "source": [
        "Важно: `input()` всегда принимает и возвращает строку."
      ]
    },
    {
      "cell_type": "code",
      "execution_count": null,
      "id": "8ec73d2f",
      "metadata": {
        "id": "8ec73d2f",
        "colab": {
          "base_uri": "https://localhost:8080/"
        },
        "outputId": "418b960d-a565-4b77-f6d7-cc94d8ad036e"
      },
      "outputs": [
        {
          "output_type": "stream",
          "name": "stdout",
          "text": [
            "Введите количество часов, которое вы поработали сегодня: 1\n",
            "Ого, вы поработали целых  111111111111111111111111111111111111111111111111111111111111  минут! Это много, можно и сериальчик посмотреть.\n"
          ]
        }
      ],
      "source": [
        "hours = input('Введите количество часов, которое вы поработали сегодня: ')\n",
        "minutes = hours * 60\n",
        "print('Ого, вы поработали целых ', minutes, ' минут! Это много, можно и сериальчик посмотреть.')"
      ]
    },
    {
      "cell_type": "markdown",
      "id": "ca89b746",
      "metadata": {
        "id": "ca89b746"
      },
      "source": [
        "Поэтому, если нам нужно число, надо превратить строку в число. Сделать это можно с помощью функции `int()` (попробуйте сами догадаться, как превратить строку (тип `str`) в число)."
      ]
    },
    {
      "cell_type": "code",
      "execution_count": null,
      "id": "b31294dd",
      "metadata": {
        "id": "b31294dd",
        "colab": {
          "base_uri": "https://localhost:8080/"
        },
        "outputId": "2defcfb4-6095-460a-80bd-3be27b95a760"
      },
      "outputs": [
        {
          "output_type": "stream",
          "name": "stdout",
          "text": [
            "Введите количество часов, которое вы поработали сегодня: 1\n",
            "Ого, вы поработали целых 60 минут! Это много, можно и сериальчик посмотреть.\n"
          ]
        }
      ],
      "source": [
        "hours = input('Введите количество часов, которое вы поработали сегодня: ')\n",
        "hours = int(hours)\n",
        "minutes = hours * 60\n",
        "print('Ого, вы поработали целых', minutes, 'минут! Это много, можно и сериальчик посмотреть.')"
      ]
    },
    {
      "cell_type": "code",
      "execution_count": null,
      "id": "4c1b9cc8",
      "metadata": {
        "id": "4c1b9cc8",
        "colab": {
          "base_uri": "https://localhost:8080/"
        },
        "outputId": "9b8b9521-a02d-4d67-c918-196ebdb9a271"
      },
      "outputs": [
        {
          "output_type": "stream",
          "name": "stdout",
          "text": [
            "Введите количество часов, которое вы поработали сегодня: 1\n",
            "Ого, вы поработали целых  60  минут! Это много, можно и сериальчик посмотреть.\n"
          ]
        }
      ],
      "source": [
        "# а можно в одну строчку\n",
        "hours = int(input('Введите количество часов, которое вы поработали сегодня: '))\n",
        "minutes = hours * 60\n",
        "print('Ого, вы поработали целых ', minutes, ' минут! Это много, можно и сериальчик посмотреть.')"
      ]
    },
    {
      "cell_type": "markdown",
      "id": "76c56f12",
      "metadata": {
        "id": "76c56f12"
      },
      "source": [
        "## Последнее на сегодня"
      ]
    },
    {
      "cell_type": "markdown",
      "id": "f4fb7445",
      "metadata": {
        "id": "f4fb7445"
      },
      "source": [
        "* У python есть свои стандартны красоты. Например, ставить пробельчики с двух сторон от арифметических знаков. Это не влияет на исполнение вашего кода, но гораздо упрощает его чтение другому человеку. Прочитать подробнее можно [тут](https://peps.python.org/pep-0008/) (душно, но можно найти более юзерфрендли туториалы и шпаргалки). Учить не стоит, мы будем это упоминать по ходу курса. (*Дисклеймер: в средах разработки есть специальные штуки, которые наводят на код марафет за вас, но наш совет -- приучать себя к PEP8 смолоду.*)\n",
        "* Если у вас на компьютере нет python и/или какой-нибудь из сред разработки (VS Code, Pycharm, etc.) обязательно напишите преподам\n",
        "* Если вы не поняли что-то с семинара, спрашивайте преподов и ассистентов\n",
        "* Если что-то нужно, но вы это не умете и мы про это не сказали на семинаре – не бойтесь взять и загуглить"
      ]
    },
    {
      "cell_type": "markdown",
      "id": "3a033679",
      "metadata": {
        "id": "3a033679"
      },
      "source": [
        "![](https://i.pinimg.com/originals/41/3e/4d/413e4d7b652424798252f362bcbecb14.png)"
      ]
    },
    {
      "cell_type": "code",
      "source": [],
      "metadata": {
        "id": "s5HWqKOx_J7A"
      },
      "id": "s5HWqKOx_J7A",
      "execution_count": null,
      "outputs": []
    }
  ],
  "metadata": {
    "kernelspec": {
      "display_name": "Python 3 (ipykernel)",
      "language": "python",
      "name": "python3"
    },
    "language_info": {
      "codemirror_mode": {
        "name": "ipython",
        "version": 3
      },
      "file_extension": ".py",
      "mimetype": "text/x-python",
      "name": "python",
      "nbconvert_exporter": "python",
      "pygments_lexer": "ipython3",
      "version": "3.9.6"
    },
    "colab": {
      "provenance": []
    }
  },
  "nbformat": 4,
  "nbformat_minor": 5
}