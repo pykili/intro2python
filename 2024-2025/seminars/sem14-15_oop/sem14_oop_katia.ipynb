{
  "cells": [
    {
      "cell_type": "markdown",
      "metadata": {
        "id": "qWqiJOT3r7pQ"
      },
      "source": [
        "# Классы и ООП\n",
        "\n",
        "Давайте попробуем вспомнить, что было на лекции:\n",
        "\n",
        "- В питоне всё объекты\n",
        "- Есть объекты, про которые мы будем сегодня подробно говорить $-$ классы\n",
        "- ~~Три~~ Четыре кита ООП:\n",
        "    - **Инкапсуляция**: хранение вместе объекта и связанных с ним характеристик и действий (атрибутов и методов)\n",
        "    - **Наследование**: можем перенимать атрибуты и методы у другого класса (наследовать их)\n",
        "    - **Полиморфизм**: можем использовать одинаковый интерфейс у разных объектов (основано на наследовании) \n",
        "    - **Абстракция** (четвертый не совсем кит): пользователь должен иметь доступ только к интерфейсу, но не к деталям внутренней реализации.\n",
        "- У классов есть методы\n",
        "- Методы бывают особенные (волшебные): `__init__`, `__add__`, `__str__` и т.д.\n",
        "- Бывают атрибуты классов\n",
        "- Бывают экземпляры классов"
      ]
    },
    {
      "cell_type": "markdown",
      "metadata": {
        "id": "sPzYIutEGvgE"
      },
      "source": [
        "## Сегодня\n",
        "\n",
        "Сегодня мы попробуем сохранить глоссированные разборы текста в питоне. Для этого давайте сначала создадим объект, в котором будем хранить данные о слове."
      ]
    },
    {
      "cell_type": "code",
      "execution_count": null,
      "metadata": {
        "id": "bvORKVD9oS4z"
      },
      "outputs": [],
      "source": [
        "class Word:\n",
        "\n",
        "    def __init__(self, glossed, gloss):\n",
        "        self.glossed = glossed\n",
        "        self.gloss = gloss\n",
        "\n",
        "    def __str__(self):\n",
        "        return f'{self.glossed}\\n{self.gloss}'\n",
        "\n",
        "    __repr__ = __str__"
      ]
    },
    {
      "cell_type": "markdown",
      "metadata": {
        "id": "GusiikbK421b"
      },
      "source": [
        "Про разницу `__str__` и `__repr__` можно погуглить отдельно, но, если не вдаваться в подробности, то `__repr__` позволяет рассказать питону, как надо отображать объект этого класса, а `__str__` как надо его переводить в строку (да, это разные вещи)."
      ]
    },
    {
      "cell_type": "code",
      "execution_count": 10,
      "metadata": {
        "id": "X8f2L1FH1pMx"
      },
      "outputs": [],
      "source": [
        "mother = Word(glossed='мам-а', gloss='mother-NOM.SG')"
      ]
    },
    {
      "cell_type": "code",
      "execution_count": 11,
      "metadata": {
        "colab": {
          "base_uri": "https://localhost:8080/"
        },
        "id": "0K4w3L043tKG",
        "outputId": "f09fbba9-a708-4a0c-b2de-336a60d53ef5"
      },
      "outputs": [
        {
          "data": {
            "text/plain": [
              "'мам-а\\nmother-NOM.SG'"
            ]
          },
          "execution_count": 11,
          "metadata": {},
          "output_type": "execute_result"
        }
      ],
      "source": [
        "str(mother)  # эквивалент mother.__str__()"
      ]
    },
    {
      "cell_type": "code",
      "execution_count": 12,
      "metadata": {},
      "outputs": [
        {
          "name": "stdout",
          "output_type": "stream",
          "text": [
            "мам-а\n",
            "mother-NOM.SG\n"
          ]
        }
      ],
      "source": [
        "print(mother)"
      ]
    },
    {
      "cell_type": "code",
      "execution_count": 13,
      "metadata": {},
      "outputs": [
        {
          "data": {
            "text/plain": [
              "<__main__.Word at 0x249fe54bbc0>"
            ]
          },
          "execution_count": 13,
          "metadata": {},
          "output_type": "execute_result"
        }
      ],
      "source": [
        "mother"
      ]
    },
    {
      "cell_type": "markdown",
      "metadata": {
        "id": "YZmvuEAJ1nyg"
      },
      "source": [
        "Мы ещё хотим уметь узнавать длину слова. Как это сделать?"
      ]
    },
    {
      "cell_type": "code",
      "execution_count": 14,
      "metadata": {
        "colab": {
          "base_uri": "https://localhost:8080/",
          "height": 143
        },
        "id": "HVohJBVg18_k",
        "outputId": "fc9a2aaa-a736-4bf4-cf2d-2d2500c021a3"
      },
      "outputs": [
        {
          "ename": "TypeError",
          "evalue": "object of type 'Word' has no len()",
          "output_type": "error",
          "traceback": [
            "\u001b[1;31m---------------------------------------------------------------------------\u001b[0m",
            "\u001b[1;31mTypeError\u001b[0m                                 Traceback (most recent call last)",
            "Cell \u001b[1;32mIn[14], line 1\u001b[0m\n\u001b[1;32m----> 1\u001b[0m \u001b[38;5;28;43mlen\u001b[39;49m\u001b[43m(\u001b[49m\u001b[43mmother\u001b[49m\u001b[43m)\u001b[49m\n",
            "\u001b[1;31mTypeError\u001b[0m: object of type 'Word' has no len()"
          ]
        }
      ],
      "source": [
        "len(mother)"
      ]
    },
    {
      "cell_type": "markdown",
      "metadata": {
        "id": "-18EhQnq5Tom"
      },
      "source": [
        "Что нужно добавить в код класса, чтобы всё заработало?"
      ]
    },
    {
      "cell_type": "code",
      "execution_count": null,
      "metadata": {
        "id": "HS1z9tQI5Sqx"
      },
      "outputs": [],
      "source": [
        "import re\n",
        "\n",
        "class Word:\n",
        "\n",
        "    def __init__(self, glossed, gloss):\n",
        "        self.glossed = glossed\n",
        "        self.gloss = gloss\n",
        "\n",
        "    # раз\n",
        "    # def __len__(self):\n",
        "    #     count_letters = 0\n",
        "    #     for letter in self.glossed:\n",
        "    #         if letter not in '=-.:<>':\n",
        "    #             count_letters += 1\n",
        "    #     return count_letters\n",
        "\n",
        "    # два\n",
        "    # def __len__(self):\n",
        "    #     clear_word = self.glossed.replace('=', '').replace('.', '').replace('-', '')\n",
        "    #     return len(clear_word)\n",
        "\n",
        "    # три\n",
        "    def __len__(self):\n",
        "        clear_word = re.sub(r'[=.:<>-]', '', self.glossed)\n",
        "        return len(clear_word)\n",
        "\n",
        "\n",
        "    def __str__(self):\n",
        "        return f'{self.glossed}\\n{self.gloss}'\n",
        "\n",
        "    __repr__ = __str__"
      ]
    },
    {
      "cell_type": "code",
      "execution_count": 29,
      "metadata": {
        "colab": {
          "base_uri": "https://localhost:8080/"
        },
        "id": "ypZhtpDwgbUv",
        "outputId": "a0a5b140-3a1e-4cae-e2d4-d37cea198215"
      },
      "outputs": [
        {
          "data": {
            "text/plain": [
              "5"
            ]
          },
          "execution_count": 29,
          "metadata": {},
          "output_type": "execute_result"
        }
      ],
      "source": [
        "mother = Word(glossed='ма=м-а:а', gloss='mother-NOM.SG')\n",
        "len(mother)"
      ]
    },
    {
      "cell_type": "markdown",
      "metadata": {
        "id": "op9pIgPIrcDL"
      },
      "source": [
        "## Тайпинг\n",
        "\n",
        "Python $-$ язык программирования со строгой динамической типизацией.\n",
        "\n",
        "«Строгая» означает, что язык не производит неявные преобразования типов и не создаёт сюрпризов при их случайном смешении.\n",
        "\n",
        "Сравните поведение питона и джаваскрипта при сложении объектов разных типов:"
      ]
    },
    {
      "cell_type": "markdown",
      "metadata": {
        "id": "BeuCrYYgs-Y3"
      },
      "source": [
        "![image.png](data:image/png;base64,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)\n",
        "\n",
        "![image.png](data:image/png;base64,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)"
      ]
    },
    {
      "cell_type": "markdown",
      "metadata": {
        "id": "oq6DAmmdtFO2"
      },
      "source": [
        "При написании кода мы так или иначе предполагаем переменные каких типов будут использоваться (это может быть вызвано ограничением алгоритма или бизнес логики). И для корректной работы программы нам важно как можно раньше найти ошибки, связанные с передачей данных неверного типа.\n",
        "\n",
        "Аннотации типов просто считываются интерпретатором Python и никак более не обрабатываются, но доступны для использования из стороннего кода и в первую очередь рассчитаны для использования статическими анализаторами."
      ]
    },
    {
      "cell_type": "markdown",
      "metadata": {
        "id": "Se1At8wWtTTi"
      },
      "source": [
        "### Синтаксис тайпинга\n",
        "\n",
        "То, что принимаем, пишем через двоеточие (`:`), а то что отдаём через стрелочку (`->`). Попробуем сделать тайпинг того кода, который у нас уже есть.\n",
        "\n",
        "P.S. `__init__` никогда ничего не возвращает, поэтому писать `None` избыточно. Это необходимо только если `__init__` не принимает никаких других аннотированных аргументов. То есть `__init__` считается полностью аннотированным, если есть аннотированные аргументы, либо если их нет, но есть аннотированный `None`."
      ]
    },
    {
      "cell_type": "code",
      "execution_count": null,
      "metadata": {
        "id": "1z4dEXFRtR_w"
      },
      "outputs": [],
      "source": [
        "import re\n",
        "\n",
        "class Word:\n",
        "\n",
        "    def __init__(self, glossed: str, gloss: str):\n",
        "        self.glossed = glossed\n",
        "        self.gloss = gloss\n",
        "\n",
        "\n",
        "    def __len__(self) -> int:\n",
        "       word = re.sub(r'[-.=:]', '', self.glossed)\n",
        "       return len(word)\n",
        "\n",
        "\n",
        "    def __str__(self) -> str:\n",
        "        return f'{self.glossed}\\n{self.gloss}'\n",
        "\n",
        "    __repr__ = __str__"
      ]
    },
    {
      "cell_type": "markdown",
      "metadata": {
        "id": "Tg0ZEp_6Byvd"
      },
      "source": [
        "## Продолжение работы с классом `Word`"
      ]
    },
    {
      "cell_type": "markdown",
      "metadata": {
        "id": "v_WDQ1im506p"
      },
      "source": [
        "Давайте теперь напишем, слова на каких языках, могут быть в нашем коде. Сделаем это в атрибуте класса."
      ]
    },
    {
      "cell_type": "code",
      "execution_count": null,
      "metadata": {
        "id": "QjTD0eqm8Ola"
      },
      "outputs": [],
      "source": [
        "class Word:\n",
        "\n",
        "    allowed_languages = ['русский', 'английский']\n",
        "\n",
        "    def __init__(self, glossed: str, gloss: str):\n",
        "        self.glossed = glossed\n",
        "        self.gloss = gloss\n",
        "\n",
        "\n",
        "    def __len__(self) -> int:\n",
        "       word = re.sub(r'[-.=:]', '', self.glossed)\n",
        "       return len(word)\n",
        "\n",
        "\n",
        "    def __str__(self) -> str:\n",
        "        return f'{self.glossed}\\n{self.gloss}'\n",
        "\n",
        "    __repr__ = __str__"
      ]
    },
    {
      "cell_type": "code",
      "execution_count": 32,
      "metadata": {
        "colab": {
          "base_uri": "https://localhost:8080/"
        },
        "id": "NhC8bXB68bSV",
        "outputId": "b1f46170-54a2-44bf-c2c5-7a74b5ef5728"
      },
      "outputs": [
        {
          "data": {
            "text/plain": [
              "['русский', 'английский']"
            ]
          },
          "execution_count": 32,
          "metadata": {},
          "output_type": "execute_result"
        }
      ],
      "source": [
        "# Word.allowed_languages\n",
        "\n",
        "mother = Word(glossed='ма=м-а:а', gloss='mother-NOM.SG')\n",
        "mother.allowed_languages"
      ]
    },
    {
      "cell_type": "markdown",
      "metadata": {
        "id": "QH4_xgv78zM2"
      },
      "source": [
        "Давайте изначально наш класс будет принимать ещё один аргумент $-$ язык. Если язык, который пытается ввести пользователь, отсутствует в списке разрешённых языков, то нужно спросить у пользователя хочет ли он добавить язык в список разрешённых: если да, то создать экземпляр класса, если нет $-$ вывести ошибку `Выберите поддерживаемый язык, список поддерживаемых языков: [список]`."
      ]
    },
    {
      "cell_type": "code",
      "execution_count": 40,
      "metadata": {
        "id": "FOWNkoB5m9BU"
      },
      "outputs": [],
      "source": [
        "class Word:\n",
        "\n",
        "    allowed_languages = ['русский', 'английский']\n",
        "\n",
        "    def __init__(self, glossed: str, gloss: str, language: str):\n",
        "        self.glossed = glossed\n",
        "        self.gloss = gloss\n",
        "        self.language = language\n",
        "        \n",
        "        if self.language in self.allowed_languages:\n",
        "            return\n",
        "        self._check_language()\n",
        "\n",
        "\n",
        "    def _check_language(self):\n",
        "        verdict = input('Языка нет в списке разрешенных. Добавить? (да / нет)')\n",
        "        if verdict == 'да':\n",
        "            self.allowed_languages.append(self.language)\n",
        "        else:\n",
        "            raise ValueError(f'Выберите поддерживаемый язык, список поддерживаемых языков: {self.allowed_languages}')\n",
        "\n",
        "\n",
        "    def __len__(self) -> int:\n",
        "       word = re.sub(r'[-.=:]', '', self.glossed)\n",
        "       return len(word)\n",
        "\n",
        "\n",
        "    def __str__(self) -> str:\n",
        "        return f'{self.glossed}\\n{self.gloss}'\n",
        "\n",
        "    __repr__ = __str__"
      ]
    },
    {
      "cell_type": "code",
      "execution_count": 41,
      "metadata": {},
      "outputs": [
        {
          "ename": "ValueError",
          "evalue": "Выберите поддерживаемый язык, список поддерживаемых языков: ['русский', 'английский']",
          "output_type": "error",
          "traceback": [
            "\u001b[1;31m---------------------------------------------------------------------------\u001b[0m",
            "\u001b[1;31mValueError\u001b[0m                                Traceback (most recent call last)",
            "Cell \u001b[1;32mIn[41], line 1\u001b[0m\n\u001b[1;32m----> 1\u001b[0m mother \u001b[38;5;241m=\u001b[39m \u001b[43mWord\u001b[49m\u001b[43m(\u001b[49m\u001b[43mglossed\u001b[49m\u001b[38;5;241;43m=\u001b[39;49m\u001b[38;5;124;43m'\u001b[39;49m\u001b[38;5;124;43mма=м-а:а\u001b[39;49m\u001b[38;5;124;43m'\u001b[39;49m\u001b[43m,\u001b[49m\u001b[43m \u001b[49m\u001b[43mgloss\u001b[49m\u001b[38;5;241;43m=\u001b[39;49m\u001b[38;5;124;43m'\u001b[39;49m\u001b[38;5;124;43mmother-NOM.SG\u001b[39;49m\u001b[38;5;124;43m'\u001b[39;49m\u001b[43m,\u001b[49m\u001b[43m \u001b[49m\u001b[43mlanguage\u001b[49m\u001b[38;5;241;43m=\u001b[39;49m\u001b[38;5;124;43m'\u001b[39;49m\u001b[38;5;124;43mхантыйский\u001b[39;49m\u001b[38;5;124;43m'\u001b[39;49m\u001b[43m)\u001b[49m\n",
            "Cell \u001b[1;32mIn[40], line 12\u001b[0m, in \u001b[0;36mWord.__init__\u001b[1;34m(self, glossed, gloss, language)\u001b[0m\n\u001b[0;32m     10\u001b[0m \u001b[38;5;28;01mif\u001b[39;00m \u001b[38;5;28mself\u001b[39m\u001b[38;5;241m.\u001b[39mlanguage \u001b[38;5;129;01min\u001b[39;00m \u001b[38;5;28mself\u001b[39m\u001b[38;5;241m.\u001b[39mallowed_languages:\n\u001b[0;32m     11\u001b[0m     \u001b[38;5;28;01mreturn\u001b[39;00m\n\u001b[1;32m---> 12\u001b[0m \u001b[38;5;28;43mself\u001b[39;49m\u001b[38;5;241;43m.\u001b[39;49m\u001b[43m_check_language\u001b[49m\u001b[43m(\u001b[49m\u001b[43m)\u001b[49m\n",
            "Cell \u001b[1;32mIn[40], line 20\u001b[0m, in \u001b[0;36mWord._check_language\u001b[1;34m(self)\u001b[0m\n\u001b[0;32m     18\u001b[0m     \u001b[38;5;28mself\u001b[39m\u001b[38;5;241m.\u001b[39mallowed_languages\u001b[38;5;241m.\u001b[39mappend(\u001b[38;5;28mself\u001b[39m\u001b[38;5;241m.\u001b[39mlanguage)\n\u001b[0;32m     19\u001b[0m \u001b[38;5;28;01melse\u001b[39;00m:\n\u001b[1;32m---> 20\u001b[0m     \u001b[38;5;28;01mraise\u001b[39;00m \u001b[38;5;167;01mValueError\u001b[39;00m(\u001b[38;5;124mf\u001b[39m\u001b[38;5;124m'\u001b[39m\u001b[38;5;124mВыберите поддерживаемый язык, список поддерживаемых языков: \u001b[39m\u001b[38;5;132;01m{\u001b[39;00m\u001b[38;5;28mself\u001b[39m\u001b[38;5;241m.\u001b[39mallowed_languages\u001b[38;5;132;01m}\u001b[39;00m\u001b[38;5;124m'\u001b[39m)\n",
            "\u001b[1;31mValueError\u001b[0m: Выберите поддерживаемый язык, список поддерживаемых языков: ['русский', 'английский']"
          ]
        }
      ],
      "source": [
        "mother = Word(glossed='ма=м-а:а', gloss='mother-NOM.SG', language='хантыйский')"
      ]
    },
    {
      "cell_type": "code",
      "execution_count": 39,
      "metadata": {},
      "outputs": [
        {
          "data": {
            "text/plain": [
              "'хантыйский'"
            ]
          },
          "execution_count": 39,
          "metadata": {},
          "output_type": "execute_result"
        }
      ],
      "source": [
        "mother.language"
      ]
    },
    {
      "cell_type": "markdown",
      "metadata": {
        "id": "QEQz6KCWCIt_"
      },
      "source": [
        "Нужно написать метод `count_morphemes`, который скажет, сколько в слове морфем. На вход этот метод принимает строку с возможными разделителями, например `.-=<>`."
      ]
    },
    {
      "cell_type": "code",
      "execution_count": null,
      "metadata": {
        "cellView": "form",
        "id": "mTSnMV7lCICh"
      },
      "outputs": [],
      "source": [
        "class Word:\n",
        "\n",
        "    allowed_languages = ['русский', 'английский']\n",
        "\n",
        "    def __init__(self, glossed: str, gloss: str, language: str):\n",
        "        self.glossed = glossed\n",
        "        self.gloss = gloss\n",
        "        self.language = language\n",
        "        \n",
        "        if self.language in self.allowed_languages:\n",
        "            return\n",
        "        self._check_language()\n",
        "\n",
        "\n",
        "    def _check_language(self):\n",
        "        verdict = input('Языка нет в списке разрешенных. Добавить? (да / нет)')\n",
        "        if verdict == 'да':\n",
        "            self.allowed_languages.append(self.language)\n",
        "        else:\n",
        "            raise ValueError(f'Выберите поддерживаемый язык, список поддерживаемых языков: {self.allowed_languages}')\n",
        "\n",
        "\n",
        "    def __len__(self) -> int:\n",
        "       word = re.sub(r'[-.=:]', '', self.glossed)\n",
        "       return len(word)\n",
        "    \n",
        "    # неидеальное\n",
        "    # def count_morphemes(self, delimiters: str) -> int:\n",
        "    #     count_morph = 1\n",
        "    #     for symb in self.glossed:\n",
        "    #         if symb in delimiters:\n",
        "    #             count_morph += 1\n",
        "    #     return count_morph\n",
        "\n",
        "    def count_morphemes(self, delimiters: str) -> int:\n",
        "        delimiters = delimiters.replace('-', '') + '-'\n",
        "        word = re.sub(f'[{delimiters}]', '@', self.glossed)\n",
        "        splitted_word = word.split('@')\n",
        "\n",
        "        return len([word for word in splitted_word if word != ''])\n",
        "\n",
        "    def __str__(self) -> str:\n",
        "        return f'{self.glossed}\\n{self.gloss}'\n",
        "\n",
        "    __repr__ = __str__"
      ]
    },
    {
      "cell_type": "code",
      "execution_count": 57,
      "metadata": {
        "colab": {
          "base_uri": "https://localhost:8080/"
        },
        "id": "u_0vi5k-DaF2",
        "outputId": "fd7c9bfe-7558-4a66-9271-3ed41ed4bc83"
      },
      "outputs": [
        {
          "data": {
            "text/plain": [
              "3"
            ]
          },
          "execution_count": 57,
          "metadata": {},
          "output_type": "execute_result"
        }
      ],
      "source": [
        "Word('мам-а==аааааааааа.', 'mother-NOM.SG=а', 'русский').count_morphemes('.-=')"
      ]
    },
    {
      "cell_type": "markdown",
      "metadata": {},
      "source": [
        "А если мы хотим еще сами морфемы получить?"
      ]
    },
    {
      "cell_type": "code",
      "execution_count": null,
      "metadata": {},
      "outputs": [],
      "source": [
        "class Word:\n",
        "\n",
        "    allowed_languages = ['русский', 'английский']\n",
        "\n",
        "    def __init__(self, glossed: str, gloss: str, language: str):\n",
        "        self.glossed = glossed\n",
        "        self.gloss = gloss\n",
        "        self.language = language\n",
        "        \n",
        "        if self.language in self.allowed_languages:\n",
        "            return\n",
        "        self._check_language()\n",
        "\n",
        "\n",
        "    def _check_language(self):\n",
        "        verdict = input('Языка нет в списке разрешенных. Добавить? (да / нет)')\n",
        "        if verdict == 'да':\n",
        "            self.allowed_languages.append(self.language)\n",
        "        else:\n",
        "            raise ValueError(f'Выберите поддерживаемый язык, список поддерживаемых языков: {self.allowed_languages}')\n",
        "\n",
        "\n",
        "    def __len__(self) -> int:\n",
        "       word = re.sub(r'[-.=:]', '', self.glossed)\n",
        "       return len(word)\n",
        "    \n",
        "    def count_morphemes(self, delimiters: str) -> int:\n",
        "        return len(self.get_morphemes(delimiters))\n",
        "\n",
        "    def get_morphemes(self, delimiters: str) -> str:\n",
        "        delimiters = delimiters.replace('-', '') + '-'\n",
        "        word = re.sub(f'[{delimiters}]', '@', self.glossed)\n",
        "        splitted_word = word.split('@')\n",
        "\n",
        "        return [word for word in splitted_word if word != '']\n",
        "\n",
        "    def __str__(self) -> str:\n",
        "        return f'{self.glossed}\\n{self.gloss}'\n",
        "\n",
        "    __repr__ = __str__"
      ]
    },
    {
      "cell_type": "code",
      "execution_count": 61,
      "metadata": {},
      "outputs": [
        {
          "data": {
            "text/plain": [
              "['мам', 'а', 'аааааааааа']"
            ]
          },
          "execution_count": 61,
          "metadata": {},
          "output_type": "execute_result"
        }
      ],
      "source": [
        "Word('мам-а==аааааааааа.', 'mother-NOM.SG=а', 'русский').get_morphemes('.-=')"
      ]
    },
    {
      "cell_type": "code",
      "execution_count": null,
      "metadata": {},
      "outputs": [],
      "source": []
    }
  ],
  "metadata": {
    "colab": {
      "provenance": []
    },
    "kernelspec": {
      "display_name": "Python 3",
      "name": "python3"
    },
    "language_info": {
      "codemirror_mode": {
        "name": "ipython",
        "version": 3
      },
      "file_extension": ".py",
      "mimetype": "text/x-python",
      "name": "python",
      "nbconvert_exporter": "python",
      "pygments_lexer": "ipython3",
      "version": "3.12.0"
    }
  },
  "nbformat": 4,
  "nbformat_minor": 0
}
