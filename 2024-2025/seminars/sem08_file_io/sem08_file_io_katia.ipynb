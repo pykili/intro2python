{
 "cells": [
  {
   "cell_type": "markdown",
   "metadata": {
    "id": "1wd2kxIJGO9p"
   },
   "source": [
    "## Работа с файлами"
   ]
  },
  {
   "cell_type": "markdown",
   "metadata": {
    "id": "2hZTILZ6M1qw"
   },
   "source": [
    "### *Путь к файлу*"
   ]
  },
  {
   "cell_type": "markdown",
   "metadata": {
    "id": "qksPAkW-LfV8"
   },
   "source": [
    "Для начала стоит вообще понять, *где мы находимся*. \n",
    "\n",
    "Путь к файлу бывает:\n",
    "* абсолютный,\n",
    "* относительный.\n",
    "\n",
    "***В чем разница?***\n",
    "\n",
    "**Абсолютный путь** $-$ это весь путь от \"корневой папки\". В Colab / Linux он начинается со слэша, а в Windows - с названия диска (`C:\\Users\\User\\Documents\\py1\\sem08_file_io_katia.ipynb`).<br>\n",
    "**Относительный путь** $-$ это путь от домашней / рабочей директории. Начинается с названия папки / файла внутри директории.\n",
    "\n",
    "***Чем плох относительный путь?***\n",
    "\n",
    "а. Вы можете забыть, где ваша рабочая / домашняя директория.<br>\n",
    "б. Человеку, запускающему ваш код придется подстраивать его под свои директории.\n",
    "\n",
    "***Чем плох абсолютный путь?***\n",
    "\n",
    "Он специфичен относительно операционной системы (как раз, корневая папка, направление слэшей)"
   ]
  },
  {
   "cell_type": "markdown",
   "metadata": {
    "id": "eG_sufm2PPtJ"
   },
   "source": [
    "Способы решения проблемы:\n",
    "1. класть в рабочую директорию всегда и без всяких подпапок, что бы путь выглядел просто так: `'my_file.txt'`\n",
    "2. пользоваться библиотекой `pathlib`, которая за вас построит путь\n",
    "\n",
    "Для второго способа потребуются:\n",
    "* `pathlib.Path()` $-$ генерирует путь из аргументов, поданных через запятую\n",
    "* `pathlib.Path.cwd()` $-$ показывает рабочую директорию"
   ]
  },
  {
   "cell_type": "code",
   "execution_count": 2,
   "metadata": {
    "id": "u9Z9LRuaP1yT"
   },
   "outputs": [],
   "source": [
    "import pathlib\n",
    "\n",
    "\n",
    "path_to_file = pathlib.Path(pathlib.Path.cwd(), 'some_folder', 'some_file.csv')"
   ]
  },
  {
   "cell_type": "code",
   "execution_count": 3,
   "metadata": {
    "colab": {
     "base_uri": "https://localhost:8080/"
    },
    "id": "JGHhZG87Qiuq",
    "outputId": "c4711540-2662-49a3-ce11-7d5782c42f6e"
   },
   "outputs": [
    {
     "name": "stdout",
     "output_type": "stream",
     "text": [
      "c:\\Users\\User\\Documents\\семики\\py1\\some_folder\\some_file.csv\n"
     ]
    }
   ],
   "source": [
    "print(path_to_file)"
   ]
  },
  {
   "cell_type": "markdown",
   "metadata": {
    "id": "tGqLgUgoRrJJ"
   },
   "source": [
    "### *Файлы*\n",
    "\n",
    "***Порядок действий***:\n",
    "1. открыть файл\n",
    "2. выполнить какие-то действия\n",
    "3. закрыть файл (!!)\n",
    "\n",
    "Все постоянно забывают о последнем пункте, но так делать низя!"
   ]
  },
  {
   "cell_type": "markdown",
   "metadata": {
    "id": "q7GyUdtlWH9K"
   },
   "source": [
    "1. ***Как открыть файл?***\n",
    "\n",
    "При помощи функции `open()`:\n",
    "\n",
    "```python\n",
    "open('path/to/file.txt', 'mode', encoding='encoding_of_file')\n",
    "```\n",
    "\n",
    "У нее есть три аргумента:\n",
    "1. путь к файлу (тут мы уже все обсудили)\n",
    "2. режим открытия:\n",
    "\n",
    "| Режим | Обозначение                                                     |\n",
    "|-------|-----------------------------------------------------------------|\n",
    "| `'r'` | открытие на чтение (значение по умолчанию)                      |\n",
    "| `'w'` | открытие на запись:<br> - содержимое файла **удаляется**, если файл существует,<br> - создается новый, если файла не существует               |\n",
    "| `'x'` | открытие на запись, если файла не существует, иначе исключение  |\n",
    "| `'a'` | открытие на дозапись, информация добавляется в конец файла      |\n",
    "| `'b'` | открытие в двоичном режиме                                      |\n",
    "\n",
    "3. кодировка (чаще всего `encoding='utf-8'`, но иногда случается...)\n",
    "\n"
   ]
  },
  {
   "cell_type": "code",
   "execution_count": 4,
   "metadata": {
    "id": "XFR0dsBeWHe7"
   },
   "outputs": [],
   "source": [
    "matrix_file = open('the_matrix.txt', 'r', encoding='utf-8')"
   ]
  },
  {
   "cell_type": "code",
   "execution_count": 5,
   "metadata": {
    "id": "7uXY699ATjXH"
   },
   "outputs": [],
   "source": [
    "new_file = open('new_file.txt', 'w', encoding='utf-8')"
   ]
  },
  {
   "cell_type": "code",
   "execution_count": 6,
   "metadata": {
    "colab": {
     "base_uri": "https://localhost:8080/",
     "height": 166
    },
    "id": "yp2IkkgnZX68",
    "outputId": "306be999-c0e4-49aa-8897-a23b0d9006a6"
   },
   "outputs": [
    {
     "ename": "FileExistsError",
     "evalue": "[Errno 17] File exists: 'new_file.txt'",
     "output_type": "error",
     "traceback": [
      "\u001b[1;31m---------------------------------------------------------------------------\u001b[0m",
      "\u001b[1;31mFileExistsError\u001b[0m                           Traceback (most recent call last)",
      "Cell \u001b[1;32mIn[6], line 1\u001b[0m\n\u001b[1;32m----> 1\u001b[0m new_file \u001b[38;5;241m=\u001b[39m \u001b[38;5;28;43mopen\u001b[39;49m\u001b[43m(\u001b[49m\u001b[38;5;124;43m'\u001b[39;49m\u001b[38;5;124;43mnew_file.txt\u001b[39;49m\u001b[38;5;124;43m'\u001b[39;49m\u001b[43m,\u001b[49m\u001b[43m \u001b[49m\u001b[38;5;124;43m'\u001b[39;49m\u001b[38;5;124;43mx\u001b[39;49m\u001b[38;5;124;43m'\u001b[39;49m\u001b[43m,\u001b[49m\u001b[43m \u001b[49m\u001b[43mencoding\u001b[49m\u001b[38;5;241;43m=\u001b[39;49m\u001b[38;5;124;43m'\u001b[39;49m\u001b[38;5;124;43mutf-8\u001b[39;49m\u001b[38;5;124;43m'\u001b[39;49m\u001b[43m)\u001b[49m\n",
      "File \u001b[1;32mc:\\Users\\User\\AppData\\Local\\Programs\\Python\\Python312\\Lib\\site-packages\\IPython\\core\\interactiveshell.py:324\u001b[0m, in \u001b[0;36m_modified_open\u001b[1;34m(file, *args, **kwargs)\u001b[0m\n\u001b[0;32m    317\u001b[0m \u001b[38;5;28;01mif\u001b[39;00m file \u001b[38;5;129;01min\u001b[39;00m {\u001b[38;5;241m0\u001b[39m, \u001b[38;5;241m1\u001b[39m, \u001b[38;5;241m2\u001b[39m}:\n\u001b[0;32m    318\u001b[0m     \u001b[38;5;28;01mraise\u001b[39;00m \u001b[38;5;167;01mValueError\u001b[39;00m(\n\u001b[0;32m    319\u001b[0m         \u001b[38;5;124mf\u001b[39m\u001b[38;5;124m\"\u001b[39m\u001b[38;5;124mIPython won\u001b[39m\u001b[38;5;124m'\u001b[39m\u001b[38;5;124mt let you open fd=\u001b[39m\u001b[38;5;132;01m{\u001b[39;00mfile\u001b[38;5;132;01m}\u001b[39;00m\u001b[38;5;124m by default \u001b[39m\u001b[38;5;124m\"\u001b[39m\n\u001b[0;32m    320\u001b[0m         \u001b[38;5;124m\"\u001b[39m\u001b[38;5;124mas it is likely to crash IPython. If you know what you are doing, \u001b[39m\u001b[38;5;124m\"\u001b[39m\n\u001b[0;32m    321\u001b[0m         \u001b[38;5;124m\"\u001b[39m\u001b[38;5;124myou can use builtins\u001b[39m\u001b[38;5;124m'\u001b[39m\u001b[38;5;124m open.\u001b[39m\u001b[38;5;124m\"\u001b[39m\n\u001b[0;32m    322\u001b[0m     )\n\u001b[1;32m--> 324\u001b[0m \u001b[38;5;28;01mreturn\u001b[39;00m \u001b[43mio_open\u001b[49m\u001b[43m(\u001b[49m\u001b[43mfile\u001b[49m\u001b[43m,\u001b[49m\u001b[43m \u001b[49m\u001b[38;5;241;43m*\u001b[39;49m\u001b[43margs\u001b[49m\u001b[43m,\u001b[49m\u001b[43m \u001b[49m\u001b[38;5;241;43m*\u001b[39;49m\u001b[38;5;241;43m*\u001b[39;49m\u001b[43mkwargs\u001b[49m\u001b[43m)\u001b[49m\n",
      "\u001b[1;31mFileExistsError\u001b[0m: [Errno 17] File exists: 'new_file.txt'"
     ]
    }
   ],
   "source": [
    "new_file = open('new_file.txt', 'x', encoding='utf-8')"
   ]
  },
  {
   "cell_type": "markdown",
   "metadata": {
    "id": "L8gUdG1eZv--"
   },
   "source": [
    "2. ***Как закрыть файл?***\n",
    "\n",
    "При помощи операции над переменной `.close()`"
   ]
  },
  {
   "cell_type": "code",
   "execution_count": 7,
   "metadata": {
    "id": "Ft6uHwMLZc_P"
   },
   "outputs": [],
   "source": [
    "matrix_file.close()\n",
    "new_file.close()"
   ]
  },
  {
   "cell_type": "markdown",
   "metadata": {
    "id": "FPzdIVWocd24"
   },
   "source": [
    "3. ***Как не забывать закрывать файл?***\n",
    "\n",
    "Пользоваться альтернативной конструкцией:\n",
    "\n",
    "```python\n",
    "with open('path/to/file.txt', 'mode', encoding='utf-8') as file_name:\n",
    "    # do something\n",
    "```\n",
    "\n",
    "*Что важно?*\n",
    "- не надо думать о том, чтобы закрывать файл, так как он автоматически закрывается по окончании тела конструкции\n",
    "- сначала кажется более громоздкой, но действительно удобнее!"
   ]
  },
  {
   "cell_type": "markdown",
   "metadata": {
    "id": "zQjX0MVFeVCF"
   },
   "source": [
    "4. ***Как прочитать текст в файле?***\n",
    "    * `.read()` - читает текст целиком и возвращает строку;\n",
    "    * `.readlines()` - читает текст по строкам (до переноса строки, заметьте, что `\\n` на уонце останется) и возвращает список строк (`list`);\n",
    "    * `.readline()` - читает одну строку из текста (до переноса строки) и возвращает.\n",
    "\n",
    "Прочитать текст можно только один раз (чтобы сделать это второй раз из того же файла, надо его закрыть и открыть заново)!\n"
   ]
  },
  {
   "cell_type": "code",
   "execution_count": 8,
   "metadata": {
    "colab": {
     "base_uri": "https://localhost:8080/"
    },
    "id": "8Du3FlNyeK9g",
    "outputId": "ab786b9b-54fc-41db-9f11-a43247905579"
   },
   "outputs": [
    {
     "name": "stdout",
     "output_type": "stream",
     "text": [
      "           by\n",
      "\n",
      "Larry and Andy Wachowski\n",
      "\n",
      "\n",
      "\n",
      "\n",
      "                 NUMBERED SHOOTING SCRIPT\n",
      "\n",
      "             \n"
     ]
    }
   ],
   "source": [
    "with open('the_matrix.txt', encoding='utf-8') as matrix_file:\n",
    "    text_matrix = matrix_file.read()\n",
    "    print(text_matrix[:100])"
   ]
  },
  {
   "cell_type": "code",
   "execution_count": 16,
   "metadata": {},
   "outputs": [
    {
     "name": "stdout",
     "output_type": "stream",
     "text": [
      "           by\n",
      "\n",
      "Larry and Andy Wachowski\n",
      "\n",
      "\n",
      "\n",
      "\n",
      "                 NUMBERED SHOOTING SCRIPT\n",
      "\n",
      "             \n",
      "\n",
      "-------------------\n",
      "\n",
      "\n",
      "\n",
      "-------------------\n",
      "\n",
      "    March 29, 1998\n",
      "\f    FADE IN:\n",
      "\n",
      "\n",
      "1   ON COMPUTER SCREEN                                           \n",
      "\n",
      "-------------------\n",
      "\n"
     ]
    }
   ],
   "source": [
    "with open('the_matrix.txt', encoding='utf-8') as matrix_file:\n",
    "    text_matrix_1 = matrix_file.read()\n",
    "    print(text_matrix_1[:100])\n",
    "    print('\\n-------------------\\n')\n",
    "\n",
    "    # второй раз файл открыть не получится...\n",
    "    text_matrix_2 = matrix_file.read()\n",
    "    print(text_matrix_2[100:200])\n",
    "    print('\\n-------------------\\n')\n",
    "    \n",
    "    # но если очень хочется...\n",
    "    matrix_file.seek(0)\n",
    "    text_matrix_3 = matrix_file.read()\n",
    "    print(text_matrix_3[100:200])\n",
    "    print('\\n-------------------\\n')"
   ]
  },
  {
   "cell_type": "code",
   "execution_count": 21,
   "metadata": {
    "colab": {
     "base_uri": "https://localhost:8080/"
    },
    "id": "0WHB7euBf34X",
    "outputId": "1d721d25-d549-4b51-8fe4-3a9021d7ea44"
   },
   "outputs": [
    {
     "name": "stdout",
     "output_type": "stream",
     "text": [
      "['                 I intend to, believe me. Someone\\n', '                 has to.\\n', '\\n', '    The final NUMBER POPS into place --\\n', '\\n']\n",
      "                 I intend to, believe me. Someone\n",
      "                 has to.\n",
      "\n",
      "    The final NUMBER POPS into place --\n",
      "\n"
     ]
    }
   ],
   "source": [
    "with open('the_matrix.txt', encoding='utf-8') as matrix_file:\n",
    "    text_matrix = matrix_file.readlines()\n",
    "    print(text_matrix[100:105])\n",
    "    for i in range(100, 105):\n",
    "        print(text_matrix[i], end='')"
   ]
  },
  {
   "cell_type": "code",
   "execution_count": null,
   "metadata": {},
   "outputs": [],
   "source": [
    "with open('the_matrix.txt', encoding='utf-8') as matrix_file:\n",
    "    while (line := matrix_file.readline()):\n",
    "        print(line.strip())"
   ]
  },
  {
   "cell_type": "markdown",
   "metadata": {
    "id": "pf2PmIhVhgAZ"
   },
   "source": [
    "Еще можно дешево и сердито (но не оптимально по памяти):"
   ]
  },
  {
   "cell_type": "code",
   "execution_count": null,
   "metadata": {
    "colab": {
     "base_uri": "https://localhost:8080/"
    },
    "id": "BLZ_m5K5f79K",
    "outputId": "4f6f039e-d716-4d65-e52e-e5f3e83dae8c"
   },
   "outputs": [],
   "source": [
    "with open('the_matrix.txt', encoding='utf-8') as matrix_file:\n",
    "    for line in matrix_file:\n",
    "      print(line)"
   ]
  },
  {
   "cell_type": "markdown",
   "metadata": {},
   "source": [
    "#### Задание 1"
   ]
  },
  {
   "cell_type": "markdown",
   "metadata": {},
   "source": [
    "Возьмите [этот](https://raw.githubusercontent.com/KatiaKozlova/files/refs/heads/main/three_thousand_years.txt) текст, сохраните его себе в формате `.txt`. Напишите программу, которая читает файл и…:\n",
    "1. печатает сколько в этом файле строк.\n",
    "2. выводит количество символов в каждой строке, а после этого — сколько всего символов во всем файле."
   ]
  },
  {
   "cell_type": "code",
   "execution_count": 8,
   "metadata": {},
   "outputs": [],
   "source": [
    "# ваш код здесь"
   ]
  },
  {
   "cell_type": "markdown",
   "metadata": {},
   "source": [
    "5. ***Как записать текст в файл?***\n",
    "    * `print('some_string', file=file_var)` $-$ печать в файл\n",
    "    * `.write('some_string')` $-$ записывает строку;\n",
    "    * `.writelines(['list ', 'of ', 'strings!'])` $-$ записывает список строк."
   ]
  },
  {
   "cell_type": "code",
   "execution_count": 31,
   "metadata": {},
   "outputs": [],
   "source": [
    "with open('new_file.txt', 'w', encoding='utf-8') as output_file:\n",
    "    print('hello world!', file=output_file)"
   ]
  },
  {
   "cell_type": "code",
   "execution_count": null,
   "metadata": {},
   "outputs": [],
   "source": [
    "with open('new_file.txt', 'a', encoding='utf-8') as output_file:\n",
    "    # не забываем про переносы в случае write(lines)!\n",
    "    output_file.write('This is the file!\\n\\n')\n",
    "    output_file.writelines(['Это файл\\n', 'Я в него что-то пишу'])"
   ]
  },
  {
   "cell_type": "markdown",
   "metadata": {},
   "source": [
    "*В чем проблема файлов?*\n",
    "\n",
    "В том, что в них много лишнего! Поэтому файлы часто надо чистить:"
   ]
  },
  {
   "cell_type": "code",
   "execution_count": null,
   "metadata": {},
   "outputs": [],
   "source": [
    "with open('the_matrix.txt', encoding='utf-8') as matrix_file:\n",
    "    for line in matrix_file:\n",
    "        if line.strip():\n",
    "            print(line.strip())"
   ]
  },
  {
   "cell_type": "markdown",
   "metadata": {},
   "source": [
    "#### Задание 2"
   ]
  },
  {
   "cell_type": "markdown",
   "metadata": {},
   "source": [
    "Однажды во время написания программы для учета заказов разработчик забыл добавить функцию, которая приводит имена пользователей к одинаковому виду (все имена должны быть с маленькой буквы). Из-за этого в базе данных заказов вида: `{имя_пользователя : [заказ1, заказ2, ...]}` появились двойники, e.g. *Андрей* / *андрей*. При этом заказы оказались разделены по двойникам. Помогите разработчику починить словарь $-$ собрать всех двойников воедино.\n",
    "\n",
    "Изначальный словарь:\n",
    "```python\n",
    "{'андрей': [1202, 1203], 'Алексей': [2101, 2811], 'Андрей': [505], 'петр': [219, 303]}\n",
    "```\n",
    "Починенный словарь:\n",
    "```python\n",
    "{'андрей': [1202, 1203, 505], 'алексей': [2101, 2811], 'петр': [219, 303]}\n",
    "```\n",
    "\n"
   ]
  },
  {
   "cell_type": "code",
   "execution_count": null,
   "metadata": {},
   "outputs": [],
   "source": [
    "# место для вашего кода"
   ]
  },
  {
   "cell_type": "markdown",
   "metadata": {},
   "source": [
    "#### Задание 3"
   ]
  },
  {
   "cell_type": "markdown",
   "metadata": {},
   "source": [
    "У пользователя есть несколько файлов. Он хочет объединить их в один. Напишите программу, которая спросит у пользователя все пути к файлам (названия вводятся одной строчкой через пробел) и соединит содержимое всех введенных файлов в один с именем, которое тоже нужно спросить у пользователя. В новом файле лучше как-то отделить содержимое изначальных файлов. Например, с помощью 2 переносов строк."
   ]
  },
  {
   "cell_type": "markdown",
   "metadata": {},
   "source": [
    "*Пример*\n",
    "|Ввод                                                |\n",
    "|:---------------------------------------------------|\n",
    "|`file_one.txt` `file_two.txt`<br>`merge_result.txt` |\n",
    "\n",
    "Содержимое исходных файлов:\n",
    "- `file_one.txt`\n",
    "    ```txt\n",
    "    hello\n",
    "    hi\n",
    "    привет\n",
    "    ```\n",
    "- `file_two.txt`\n",
    "    ```txt\n",
    "    good bye\n",
    "    bye\n",
    "    пока\n",
    "    ```\n",
    "Содержимое полученного файла `merge_result.txt`:\n",
    "```txt\n",
    "hello\n",
    "hi\n",
    "привет\n",
    "\n",
    "\n",
    "good bye\n",
    "bye\n",
    "пока\n",
    "```"
   ]
  },
  {
   "cell_type": "code",
   "execution_count": null,
   "metadata": {},
   "outputs": [],
   "source": [
    "# ваш код тут"
   ]
  },
  {
   "cell_type": "markdown",
   "metadata": {},
   "source": [
    "#### Задание 4"
   ]
  },
  {
   "cell_type": "markdown",
   "metadata": {},
   "source": [
    "1. Имеется [файл](https://raw.githubusercontent.com/KatiaKozlova/files/main/marks.txt) с оценками: фамилия студента и его оценка через пробел (у одного человека может быть больше одной записи). Скачайте и прочитайте этот файл. Запишите его в словарь, где ключи — их фамилии, а значения — списки с их оценками (могут содержать одно значение).\n",
    "2. Пользователь через пробел вводит фамилию студента и его оценку. Добавьте введенную строку в файл. Если студент есть в словаре, добавить в его список оценок введенную оценку, если нет — добавить студента в словарь.\n",
    "3. Вывести пары: фамилия студента, его средняя оценка.\n",
    "4. Сделать предыдущий пункт, но в лексикографическом (=алфавитном) порядке"
   ]
  },
  {
   "cell_type": "code",
   "execution_count": null,
   "metadata": {},
   "outputs": [],
   "source": [
    "# место для кода"
   ]
  }
 ],
 "metadata": {
  "colab": {
   "provenance": []
  },
  "kernelspec": {
   "display_name": "Python 3",
   "name": "python3"
  },
  "language_info": {
   "codemirror_mode": {
    "name": "ipython",
    "version": 3
   },
   "file_extension": ".py",
   "mimetype": "text/x-python",
   "name": "python",
   "nbconvert_exporter": "python",
   "pygments_lexer": "ipython3",
   "version": "3.12.0"
  }
 },
 "nbformat": 4,
 "nbformat_minor": 0
}
