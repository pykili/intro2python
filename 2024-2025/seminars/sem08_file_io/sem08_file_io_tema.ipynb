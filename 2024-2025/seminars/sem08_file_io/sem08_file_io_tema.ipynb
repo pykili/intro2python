{
 "cells": [
  {
   "cell_type": "code",
   "execution_count": null,
   "metadata": {},
   "outputs": [],
   "source": [
    "f = open(\"input.txt\", \"r\")  # открыть файл\n",
    "f.readlines()  # прочитать все строчки, заметьте, что они с \\n"
   ]
  },
  {
   "cell_type": "code",
   "execution_count": null,
   "metadata": {},
   "outputs": [],
   "source": [
    "f = open(\"input.txt\", \"r\")  # открыть файл\n",
    "f.read().split('\\n')  # прочитать весь файл одной строкой"
   ]
  },
  {
   "cell_type": "code",
   "execution_count": null,
   "metadata": {},
   "outputs": [],
   "source": [
    "print(f.read())  # второй раз прочитать файл не получится\n",
    "# если оч нужно, то можно сделать так:\n",
    "f.seek(0)  # это вернет указатель в начало файла и его снова можно будет читать сначала\n",
    "\n",
    "print(f.read())"
   ]
  },
  {
   "cell_type": "code",
   "execution_count": null,
   "metadata": {},
   "outputs": [],
   "source": [
    "f.close()  # закрыть файл после окончания работы с ним"
   ]
  },
  {
   "cell_type": "code",
   "execution_count": null,
   "metadata": {},
   "outputs": [],
   "source": [
    "bool('\\n')"
   ]
  },
  {
   "cell_type": "code",
   "execution_count": null,
   "metadata": {},
   "outputs": [],
   "source": [
    "with open(\"input.txt\", \"r\") as f:  # чтобы руками не закрывать файл, можно писать вот так\n",
    "    while line := f.readline().strip():  # читать файл построчно, пока строчки есть\n",
    "        # strip тут на всякий случай, можно и не писать\n",
    "        print(line)  # если не написать strip, то будет лишняя пустая строка\n",
    "        # так как readline читает и пробельные символы тоже\n"
   ]
  },
  {
   "cell_type": "code",
   "execution_count": null,
   "metadata": {},
   "outputs": [],
   "source": [
    "with open(\"input.txt\", \"r\") as f:\n",
    "    for i, line in enumerate(f):\n",
    "        if line.strip():\n",
    "            print(f\"line number {i + 1}: {line.strip()}\")"
   ]
  },
  {
   "cell_type": "code",
   "execution_count": null,
   "metadata": {},
   "outputs": [],
   "source": [
    "with open(\"input.txt\", \"r\") as f:\n",
    "    for line in f:  # не делаем .readlines(), это сильно менее эффективно по памяти, будем хранить весь список строк :(\n",
    "        if line.strip():\n",
    "            print(f\"yet another line: {line.strip()}\")"
   ]
  },
  {
   "cell_type": "code",
   "execution_count": null,
   "metadata": {},
   "outputs": [],
   "source": [
    "with open(\"output.txt\", \"w\") as f:\n",
    "    print(\"hello world!\", file=f)  # самый обычный принт со всеми sep и end, только в файл"
   ]
  },
  {
   "cell_type": "code",
   "execution_count": null,
   "metadata": {},
   "outputs": [],
   "source": [
    "with open(\"output.txt\", \"a\") as f:\n",
    "    print(\"hello world!\", file=f)  # самый обычный принт со всеми sep и end, только в файл"
   ]
  },
  {
   "cell_type": "code",
   "execution_count": null,
   "metadata": {},
   "outputs": [],
   "source": [
    "with open(\"output.txt\", \"w\") as f:\n",
    "    f.write(\"hello world\\n\")  # можно еще так, но write не переводит строку, поэтому надо на конце писать явно \\n\n",
    "    f.write(\"goodbye\")"
   ]
  },
  {
   "cell_type": "code",
   "execution_count": null,
   "metadata": {},
   "outputs": [],
   "source": [
    "name = input()"
   ]
  },
  {
   "cell_type": "code",
   "execution_count": null,
   "metadata": {},
   "outputs": [],
   "source": [
    "import sys\n",
    "\n",
    "print(sys.stdin.readlines())  # можно читать как из файла со стандартного потока вывода"
   ]
  },
  {
   "cell_type": "code",
   "execution_count": null,
   "metadata": {},
   "outputs": [],
   "source": [
    "print(\"hello\", file=sys.stdin)  # так нельзя, можно только читать"
   ]
  },
  {
   "cell_type": "code",
   "execution_count": null,
   "metadata": {},
   "outputs": [],
   "source": [
    "import sys\n",
    "\n",
    "sys.stdout.write(\"hello world\")  # и писать на поток тоже, если есть необходимость\n",
    "pass"
   ]
  },
  {
   "cell_type": "code",
   "execution_count": null,
   "metadata": {},
   "outputs": [],
   "source": []
  }
 ],
 "metadata": {
  "kernelspec": {
   "display_name": "Python 3",
   "language": "python",
   "name": "python3"
  },
  "language_info": {
   "codemirror_mode": {
    "name": "ipython",
    "version": 3
   },
   "file_extension": ".py",
   "mimetype": "text/x-python",
   "name": "python",
   "nbconvert_exporter": "python",
   "pygments_lexer": "ipython3",
   "version": "3.12.4"
  },
  "orig_nbformat": 4
 },
 "nbformat": 4,
 "nbformat_minor": 2
}
