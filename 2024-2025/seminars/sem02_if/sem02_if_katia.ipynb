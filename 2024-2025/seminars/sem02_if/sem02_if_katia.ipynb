{
  "cells": [
    {
      "cell_type": "markdown",
      "metadata": {
        "id": "clCJEiR4XoIk"
      },
      "source": [
        "# Семинар 2"
      ]
    },
    {
      "cell_type": "markdown",
      "metadata": {
        "id": "I0AhEmnZXoIn"
      },
      "source": [
        "### Глава минус первая: что было в прошлый раз?\n",
        "1. Арифметика (`+`, `-`, `*`, `/`, `//`, `**` и т.д.),\n",
        "2. Переменные (запись в переменную и ее изменение),\n",
        "3. Операции српвнения (`>`, `<`, `==` и т.д.) и логические операции (`and`, `or`, `not`),\n",
        "4. Типы данных (`int`, `float`, `bool`, `str`),\n",
        "5. Ввод и вывод (`print`, `input`)"
      ]
    },
    {
      "cell_type": "markdown",
      "metadata": {
        "id": "LXehcKPfXoIn"
      },
      "source": [
        "### Глава нулевая: по следам семинара 1"
      ]
    },
    {
      "cell_type": "markdown",
      "metadata": {
        "id": "58stP4hVXoIo"
      },
      "source": [
        "0. В питоне есть функции минимума `max()` и максимума `min()`, а еще, например модуля `abs()` и округления `round()`."
      ]
    },
    {
      "cell_type": "code",
      "execution_count": null,
      "metadata": {
        "id": "P6Az7969XoIo",
        "outputId": "988f56b3-2606-4170-ed18-1fae6c0772da",
        "colab": {
          "base_uri": "https://localhost:8080/"
        }
      },
      "outputs": [
        {
          "output_type": "stream",
          "name": "stdout",
          "text": [
            "10\n",
            "5\n"
          ]
        }
      ],
      "source": [
        "a = 5\n",
        "b = 10\n",
        "print(max(a, b))\n",
        "print(min(a, b))"
      ]
    },
    {
      "cell_type": "code",
      "execution_count": null,
      "metadata": {
        "id": "irh-Vys5XoIq",
        "outputId": "d087cc8a-95f8-4029-8177-51fdef1293c8"
      },
      "outputs": [
        {
          "name": "stdout",
          "output_type": "stream",
          "text": [
            "4 0 4\n",
            "3 3.142\n"
          ]
        }
      ],
      "source": [
        "print(abs(-4), abs(0), abs(4))\n",
        "print(round(3.1415926535897932384626433832795), round(3.1415926535897932384626433832795, 3))"
      ]
    },
    {
      "cell_type": "markdown",
      "metadata": {
        "id": "p9nrkdTQXoIq"
      },
      "source": [
        "1. Есть такой особый вид строк $-$ форматированные строки (formatted strings) или f-строки (f-strins). Они требуют букву `f` перед открывающей кавычкой, и позволяют удобнее работать с выводом. Так, внутрь фигурных скобок `{...}` можно подавать переменные."
      ]
    },
    {
      "cell_type": "code",
      "execution_count": null,
      "metadata": {
        "id": "_EKqF9q-XoIq",
        "outputId": "484cd990-6f82-4999-d3cb-c5deb56ca3c9"
      },
      "outputs": [
        {
          "name": "stdout",
          "output_type": "stream",
          "text": [
            "Катя 173 сантиметра ростом.\n",
            "Рост Кати - 1 м 73 см.\n",
            "Рост Кати - 1м 73см.\n"
          ]
        }
      ],
      "source": [
        "height = 173\n",
        "\n",
        "print('Катя', height, 'сантиметра ростом.')\n",
        "print('Рост Кати -', height // 100, 'м', height % 100, 'см.')\n",
        "print('Рост Кати - ' + str(height // 100) + 'м ' + str(height % 100) + 'см.')"
      ]
    },
    {
      "cell_type": "code",
      "execution_count": null,
      "metadata": {
        "id": "t5CKSuP3XoIr",
        "outputId": "f2eaac32-aba7-4e69-bc87-2237c2a3cc7c"
      },
      "outputs": [
        {
          "name": "stdout",
          "output_type": "stream",
          "text": [
            "Рост Кати - 1м 73см.\n"
          ]
        }
      ],
      "source": [
        "print(f'Рост Кати - {height // 100}м {height % 100}см.')"
      ]
    },
    {
      "cell_type": "markdown",
      "metadata": {
        "id": "dG8mOHe-XoIr"
      },
      "source": [
        "А еще при помощи них можно, например:\n",
        "- обрезать / добавлять знаки после точки\n",
        "- дополнять символами по краям\n",
        "\n",
        "Подробнее читайте [тут](https://docs.python.org/3/tutorial/inputoutput.html#fancier-output-formatting)."
      ]
    },
    {
      "cell_type": "code",
      "execution_count": null,
      "metadata": {
        "id": "fBbUMqc8XoIr",
        "outputId": "e28dde40-4884-46e2-874e-36be30619625"
      },
      "outputs": [
        {
          "name": "stdout",
          "output_type": "stream",
          "text": [
            "Если округлить число пи до трех знаков, оно будет равно 3.142!\n"
          ]
        }
      ],
      "source": [
        "pi = 3.1415926535897932384626433832795\n",
        "print(f'Если округлить число пи до трех знаков, оно будет равно {pi:.3f}!')"
      ]
    },
    {
      "cell_type": "code",
      "execution_count": null,
      "metadata": {
        "id": "leIn0eQMXoIs",
        "outputId": "13a7a463-b81e-4f98-efb5-0747024f8938"
      },
      "outputs": [
        {
          "name": "stdout",
          "output_type": "stream",
          "text": [
            "Катя       ==>        173\n",
            "Антон      ==>        181\n"
          ]
        }
      ],
      "source": [
        "name_1 = 'Катя'\n",
        "height_1 = 173\n",
        "name_2 = 'Антон'\n",
        "height_2 = 181\n",
        "\n",
        "print(f'{name_1:10} ==> {height_1:10d}')\n",
        "print(f'{name_2:10} ==> {height_2:10d}')"
      ]
    },
    {
      "cell_type": "code",
      "execution_count": null,
      "metadata": {
        "id": "125fo_ZWXoIs",
        "outputId": "6a6a9625-3d26-4c84-8540-bd8234f9eeb2"
      },
      "outputs": [
        {
          "name": "stdout",
          "output_type": "stream",
          "text": [
            "Left Text............Centered Text...........Right Text\n"
          ]
        }
      ],
      "source": [
        "left_alignment = 'Left Text'\n",
        "center_alignment = 'Centered Text'\n",
        "right_alignment = 'Right Text'\n",
        "\n",
        "print(f'{left_alignment:.<20}{center_alignment:.^15}{right_alignment:.>20}')"
      ]
    },
    {
      "cell_type": "markdown",
      "metadata": {
        "id": "t3fcjSaFXoIs"
      },
      "source": [
        "2. Вводить в питоне можно не только одно число/строку. Вот такая конструкция позволяет ввести несколько чисел через пробел:"
      ]
    },
    {
      "cell_type": "code",
      "execution_count": null,
      "metadata": {
        "id": "HOAR1hY3XoIs"
      },
      "outputs": [],
      "source": [
        "x, y, z = map(int, input().split())"
      ]
    },
    {
      "cell_type": "markdown",
      "metadata": {
        "id": "8LypctblXoIt"
      },
      "source": [
        "Давайте разбемся, как это работает.\n",
        "Пусть мы введем числа 1 2 3\n",
        "\n",
        "```(python)\n",
        "input()  # '1 2 3'\n",
        "input().split()  # ['1', '2', '3']\n",
        "map(int, input().split())  # [1, 2, 3] -- на самом деле это не совсем правда, но грубо говоря так\n",
        "```"
      ]
    },
    {
      "cell_type": "markdown",
      "metadata": {
        "id": "VdxdgTrsXoIt"
      },
      "source": [
        "Более того, вводить можно не только через пробел:"
      ]
    },
    {
      "cell_type": "code",
      "execution_count": null,
      "metadata": {
        "id": "SKknAmoDXoIt"
      },
      "outputs": [],
      "source": [
        "year, month, day = map(int, input().split(\"-\"))"
      ]
    },
    {
      "cell_type": "markdown",
      "metadata": {
        "id": "NNykUiWqXoIt"
      },
      "source": [
        "Из этого следует, что вводить можно не только числа, но и"
      ]
    },
    {
      "cell_type": "code",
      "execution_count": null,
      "metadata": {
        "id": "GM0cGob_XoIt"
      },
      "outputs": [],
      "source": [
        "first_name, last_name = input().split()  # строки\n",
        "\n",
        "latitude, longitude = map(float, input().split())  # вещественные числа\n",
        "\n",
        "first_name, last_name, _ = input().split()  # вот так можно проигнорить отчество\n",
        "first_name, last_name, *_ = input().split()  # вот так можно проигнорить вообще все что введется после"
      ]
    },
    {
      "cell_type": "markdown",
      "metadata": {
        "id": "FIBjEwOnXoIu"
      },
      "source": [
        "А еще, параллельное присваивание работает не только с вводом:"
      ]
    },
    {
      "cell_type": "code",
      "execution_count": null,
      "metadata": {
        "id": "O5JHjxSnXoIu",
        "outputId": "766c5772-67ff-4114-ecc5-e88b54a9ff90"
      },
      "outputs": [
        {
          "name": "stdout",
          "output_type": "stream",
          "text": [
            "5 3\n"
          ]
        }
      ],
      "source": [
        "x, y = 3, 5\n",
        "x, y = y, x  # поменяли местами\n",
        "print(x, y)"
      ]
    },
    {
      "cell_type": "markdown",
      "metadata": {
        "id": "HwLCoWHeXoIu"
      },
      "source": [
        "### Глава первая: условные операторы\n",
        "\n",
        "#### База"
      ]
    },
    {
      "cell_type": "markdown",
      "metadata": {
        "id": "aZxr_C0nXoIu"
      },
      "source": [
        "Программы, которые мы видели раньше, имели линейную структуру: все действия выполняются обязательно и в той последовательности, что мы написали их в скрипте. Иногда нам хочется получать разное поведение в зависимости от какого-либо условия. Давайте подумаем над таким примером задачи.\n",
        "\n",
        "> *Спросите у пользователя его рост в сантиметрах и скажите на сколько целых вершков он ниже, чем Петр I (рост Петра I = 203 см, один вершок = 4.445 см).*\n",
        "\n",
        "<details><summary>Возможное решение:</summary>\n",
        "    \n",
        "```python\n",
        "user_height = int(input('Введите свой рост в сантиметрах\\n'))\n",
        "peter_height = 203\n",
        "delta = int((peter_height - user_height) // 4.445)\n",
        "print(f\"Петр I выше вас на {delta} вершков\")\n",
        "```\n",
        "</details>"
      ]
    },
    {
      "cell_type": "markdown",
      "metadata": {
        "id": "NfrCUumXXoIv"
      },
      "source": [
        "Но если вдруг пользователь выше двух метров, то мы получим отрицательную разницу. В таком случае логичнее сказать, что Петр ниже на Х вершков. Для таких случаев в питоне есть условный оператор **`if/else`**.\n",
        "\n",
        "Выглядит он следующим образом:\n",
        "\n",
        "```python\n",
        "if Условие:\n",
        "    Блок инструкций 1\n",
        "else:\n",
        "    Блок инструкций 2\n",
        "```"
      ]
    },
    {
      "cell_type": "code",
      "execution_count": null,
      "metadata": {
        "scrolled": true,
        "id": "hjGVFxVMXoIv"
      },
      "outputs": [],
      "source": [
        "user_height = int(input('Введите свой рост в сантиметрах\\n'))\n",
        "peter_height = 203\n",
        "delta = int((peter_height - user_height) // 4.445)\n",
        "\n",
        "if delta >= 0:  # если разница неотрицательная, то\n",
        "    print(f\"Петр I выше вас на {delta} вершков\")\n",
        "else:  # иначе/если разница отрицательная\n",
        "    print(f\"Петр I ниже вас на {-delta} вершков\")"
      ]
    },
    {
      "cell_type": "markdown",
      "metadata": {
        "id": "yz3wg4HpXoIv"
      },
      "source": [
        "**Внутри условий могут быть:**\n",
        "\n",
        "- операторы сравнения (`==`, `<`, `>`, `!=`, ...)"
      ]
    },
    {
      "cell_type": "code",
      "execution_count": null,
      "metadata": {
        "scrolled": true,
        "id": "3bHfGvo2XoIw"
      },
      "outputs": [],
      "source": [
        "tutor_name = input()\n",
        "\n",
        "if tutor_name == \"Катя\":\n",
        "    print(\"Я в группе 4.\")\n",
        "else:\n",
        "    print(\"Наверное, я ошибся семинаром...\")"
      ]
    },
    {
      "cell_type": "code",
      "execution_count": null,
      "metadata": {
        "scrolled": true,
        "id": "a37YCh0UXoIw"
      },
      "outputs": [],
      "source": [
        "number = int(input())\n",
        "\n",
        "if number % 2 != 0:  # можно писать просто if number % 2, ведь 1 это True, а 0 -- это False\n",
        "    print(\"Number is odd\")\n",
        "else:\n",
        "    print(\"Number is even\")"
      ]
    },
    {
      "cell_type": "markdown",
      "metadata": {
        "id": "JaEvuhnvXoIw"
      },
      "source": [
        "- нулевые vs ненулевые значения"
      ]
    },
    {
      "cell_type": "code",
      "execution_count": null,
      "metadata": {
        "id": "DdBrdgouXoIw"
      },
      "outputs": [],
      "source": [
        "some_string = input()\n",
        "\n",
        "if some_string:\n",
        "    print(\"Case 1\")  # <---- подумайте, в каких случаях выведется это\n",
        "else:\n",
        "    print(\"Case 2\")  # <---- а в каких это"
      ]
    },
    {
      "cell_type": "markdown",
      "metadata": {
        "id": "aSsDZInlXoIw"
      },
      "source": [
        "- выражения с `in`"
      ]
    },
    {
      "cell_type": "code",
      "execution_count": null,
      "metadata": {
        "scrolled": true,
        "id": "UyhlggENXoIw"
      },
      "outputs": [],
      "source": [
        "some_word = input('Введите слово, в котором есть буква Ю:\\n')\n",
        "\n",
        "if 'ю' in some_word:  # в строке есть буква Ю\n",
        "    print('Ю-ху!')\n",
        "else:\n",
        "    print(\"Я же просила с Ю ;(\")"
      ]
    },
    {
      "cell_type": "markdown",
      "metadata": {
        "id": "TILWg6D4XoIx"
      },
      "source": [
        "- и другие вещи, которые каким-либо образом могут преобразоваться в bool (например, `is`)"
      ]
    },
    {
      "cell_type": "markdown",
      "metadata": {
        "id": "FJA_SX6DXoIx"
      },
      "source": [
        "Также условие может включать логическое выражение с несколькими условиями с использованием `and`, `or`, `not`."
      ]
    },
    {
      "cell_type": "code",
      "execution_count": null,
      "metadata": {
        "id": "Y7LX-qegXoIx"
      },
      "outputs": [],
      "source": [
        "# Выведем ошибку, если число не соответствует условию\n",
        "x = int(input('Введите однозначное положительное число\\n'))\n",
        "if 0 < x and x < 10:  # или 0 < x < 10\n",
        "    print('Спасибо!')\n",
        "else:\n",
        "    print('Что-то пошло не так')"
      ]
    },
    {
      "cell_type": "markdown",
      "metadata": {
        "id": "7lWgDCydXoIx"
      },
      "source": [
        "При этом блок `else` может отсутствовать."
      ]
    },
    {
      "cell_type": "code",
      "execution_count": null,
      "metadata": {
        "scrolled": true,
        "id": "oNQC1CUAXoIx"
      },
      "outputs": [],
      "source": [
        "# Преобразуем число, если оно отрицательное\n",
        "x = int(input('Введите число\\n'))\n",
        "if x < 0:\n",
        "    x = -x\n",
        "print(x)"
      ]
    },
    {
      "cell_type": "markdown",
      "metadata": {
        "id": "5YTSaEVKXoIx"
      },
      "source": [
        "#### Вложенные условия"
      ]
    },
    {
      "cell_type": "markdown",
      "source": [
        "Внутри условных операторов можно использовать любые блоки кода, например, все те же условные операторы, чтобы получить двойную вложенность.\n",
        "\n",
        "Например, представьте, что вы пытаетесь проверить является ли год високосным.\n",
        "1. Если год делится на 4 без остатка, перейдите на шаг 2. В противном случае перейдите к выполнению действия 5.\n",
        "2. Если год делится на 100 без остатка, перейдите на шаг 3. В противном случае перейдите к выполнению действия 4.\n",
        "3. Если год делится на 400 без остатка, перейдите на шаг 4. В противном случае перейдите к выполнению действия 5.\n",
        "4. Год високосный (366 дней).\n",
        "5. Год не високосный год (365 дней)."
      ],
      "metadata": {
        "id": "fmnzdczKX-JP"
      }
    },
    {
      "cell_type": "code",
      "execution_count": null,
      "metadata": {
        "scrolled": true,
        "id": "VEh0qfVrXoI2"
      },
      "outputs": [],
      "source": [
        "year = int(input())\n",
        "\n",
        "if year % 4 == 0:  # можно еще просто if year % 4:\n",
        "    if year % 100 == 0:\n",
        "        if year % 400 == 0:\n",
        "            print('Год високосный')\n",
        "        else:\n",
        "            print('Год не високосный')\n",
        "    else:\n",
        "        print('Год високосный')\n",
        "else:\n",
        "    print('Год не високосный')"
      ]
    },
    {
      "cell_type": "markdown",
      "metadata": {
        "id": "rq9R8HDjXoI2"
      },
      "source": [
        "#### Каскадные условия"
      ]
    },
    {
      "cell_type": "markdown",
      "source": [
        "Питон позволяет писать блок из нескольких условий, которые будут проверяться последовательно с помощью выражения `elif`\n",
        "\n",
        "В такой конструкции условия `if`, ..., `elif` проверяются по очереди, выполняется блок, соответствующий первому из истинных условий. Если все проверяемые условия ложны, то выполняется блок `else`, если он присутствует."
      ],
      "metadata": {
        "id": "FOj-xAYHYAta"
      }
    },
    {
      "cell_type": "code",
      "execution_count": null,
      "metadata": {
        "id": "BCQT-5ywXoI3"
      },
      "outputs": [],
      "source": [
        "song_name = input()\n",
        "\n",
        "if song_name == \"Wind of change\":\n",
        "    print(\"Seems like it's Scorpions\")\n",
        "elif song_name == \"My mistakes were made for you\":\n",
        "    print(\"I know it's The Last Shadow Puppets\")\n",
        "elif song_name == \"Californication\":\n",
        "    print(\"Is it RHCP?\")\n",
        "else:\n",
        "    print(\"Cannot understand you. Try again\")"
      ]
    },
    {
      "cell_type": "code",
      "execution_count": null,
      "metadata": {
        "id": "oVUxKdUoXoI3"
      },
      "outputs": [],
      "source": [
        "n = int(input())\n",
        "\n",
        "if n % 2 == 0 and n % 3 == 0:  # можно также if not n % 2 and not n % 3\n",
        "    print(\"Делится на 6\")\n",
        "elif n % 2 == 0:\n",
        "    print(\"Делится на 2\")\n",
        "elif n % 3 == 0:\n",
        "    print(\"Делится на 3\")\n",
        "else:\n",
        "    print(\"Не делится ни на 2, ни на 3\")"
      ]
    },
    {
      "cell_type": "markdown",
      "metadata": {
        "id": "tJX2TMsWXoI3"
      },
      "source": [
        "Все условия работают лениво: сначала проверяется первое, потом второе и так далее:"
      ]
    },
    {
      "cell_type": "code",
      "execution_count": null,
      "metadata": {
        "id": "saHdVltYXoI3"
      },
      "outputs": [],
      "source": [
        "n = int(input())\n",
        "\n",
        "if n % 2 == 0 and n % 3 == 0:\n",
        "    print(\"Делится на 6\")\n",
        "elif n % 2 == 0:\n",
        "    print(\"Делится на 2\")\n",
        "elif n % 3 == 0:\n",
        "    print(\"Делится на 3\")\n",
        "elif n % 2 == 0 or n % 3 == 0:\n",
        "    print(\"Делится или на 2 или на 3\")  # <---- никогда не выведется\n",
        "else:\n",
        "    print(\"Не делится ни на 2, ни на 3\")"
      ]
    },
    {
      "cell_type": "code",
      "execution_count": null,
      "metadata": {
        "id": "7Xpl0HF5XoI4"
      },
      "outputs": [],
      "source": [
        "n = int(input())\n",
        "\n",
        "if n > 0 and n / 0 == 0:\n",
        "    print(\"Программа не упала\")  # Всегда выведет ошибку, если число больше 0"
      ]
    },
    {
      "cell_type": "code",
      "execution_count": null,
      "metadata": {
        "id": "leGmlERBXoI4"
      },
      "outputs": [],
      "source": [
        "n = int(input())\n",
        "\n",
        "if n > 0 or n / 0 == 0:\n",
        "    print(\"Программа не упала\")  # Никогда не выведет ошибку, если число больше 0"
      ]
    },
    {
      "cell_type": "code",
      "execution_count": null,
      "metadata": {
        "id": "0ZEV72yXXoI4"
      },
      "outputs": [],
      "source": [
        "n = int(input())\n",
        "\n",
        "if n > 0 or not n / 0:  # <---- обратите внимание, несмотря на not, это тоже не упадет, если n > 0\n",
        "    print(\"Программа не упала\")"
      ]
    },
    {
      "cell_type": "markdown",
      "metadata": {
        "id": "xbGLOHlwXoI4"
      },
      "source": [
        "<details><summary>Дополнительно</summary>\n",
        "В питоне есть хитрые и менее очевидные способы использовать условия:\n",
        "\n",
        "```python\n",
        "num = int(input(\"Введите число\"))\n",
        "print(\"Отрицательное\" if num < 0 else \"Неотрицательное\")\n",
        "\n",
        "best_num = num if num > 0 else 0\n",
        "print(f'Лучшее на свете число - {best_num}')\n",
        "```\n",
        "</details>"
      ]
    },
    {
      "cell_type": "markdown",
      "metadata": {
        "id": "IJkutEejXoI4"
      },
      "source": [
        "<details><summary>[Факультативно] В Python 3.10 появился Pattern Matching</summary>\n",
        "который позволяет делать это вот так:\n",
        "\n",
        "```python\n",
        "match tutor_name:\n",
        "    case \"Катя\":\n",
        "        print(\"Я в группе 4.\")\n",
        "    case _:\n",
        "        print(\"Наверное, я ошибся семинаром.\")\n",
        "```\n",
        "\n",
        "Но мы намеренно не рассматриваем эту конструкцию сейчас, она сильно более обширна, чем матчинг примитивов, поэтому постараемся поговорить про нее позже.\n",
        "</details>"
      ]
    },
    {
      "cell_type": "markdown",
      "metadata": {
        "id": "tNCrHMD0XoI4"
      },
      "source": [
        "##### Немного о моржах"
      ]
    },
    {
      "cell_type": "markdown",
      "metadata": {
        "id": "Ptbn-oR5XoI5"
      },
      "source": [
        "Давайте упростим конструкцию за счет возможностей Python 3.8:"
      ]
    },
    {
      "cell_type": "code",
      "execution_count": null,
      "metadata": {
        "id": "9A--p-a5XoI5"
      },
      "outputs": [],
      "source": [
        "if (tutor_name := input()) == \"Катя\":\n",
        "    print(\"Я в группе 4.\")\n",
        "else:\n",
        "    print(f\"Кажется {tutor_name} - семинарист другой группы\")"
      ]
    },
    {
      "cell_type": "markdown",
      "metadata": {
        "id": "us9MlMvBXoI5"
      },
      "source": [
        "Но вообще моржовый оператор очень коварен и может вводить в заблуждение. Вокруг него в целом было много шумихи в сообществе языка, и это спровоцировало уход из комитета самого Гвидо Ван Россума."
      ]
    },
    {
      "cell_type": "code",
      "execution_count": null,
      "metadata": {
        "id": "mAjvULrVXoI5",
        "collapsed": true
      },
      "outputs": [],
      "source": [
        "if tutor_name := input() == \"Катя\":  # что станет если мы забудем про скобки?\n",
        "    print(\"Я в группе 4.\")\n",
        "else:\n",
        "    print(f\"Кажется {tutor_name} - семинарист другой группы\")"
      ]
    },
    {
      "cell_type": "markdown",
      "metadata": {
        "id": "DbSNJxMDXoI5"
      },
      "source": [
        "### Практика"
      ]
    },
    {
      "cell_type": "markdown",
      "metadata": {
        "id": "-nHxXcJ-XoI6"
      },
      "source": [
        "#### Задача 1.\n",
        "\n",
        "Напишите код, который принимает на вход имя пользователя и здоровается с ним. При этом если имя длиннее 7 букв, то сначала переспросите у пользователя его краткое имя и только потом поздоровайтесь, используя его."
      ]
    },
    {
      "cell_type": "code",
      "execution_count": null,
      "metadata": {
        "id": "tkrk2N1-XoI6"
      },
      "outputs": [],
      "source": []
    },
    {
      "cell_type": "markdown",
      "metadata": {
        "id": "TnFG7t2wXoI6"
      },
      "source": [
        "#### Задача 2.\n",
        "\n",
        "Напишите программу, которая проверяет, верно ли пользователь ввел электронную почту. Вводится одна строка с почтой.\n",
        "\n",
        "**Выходные данные:**\n",
        "\n",
        "- Выводится строка «Почта введена верно» если в строке есть знак «@» и «.».\n",
        "- Выводится строка «Отсутствует @» если нет соответствующего символа.\n",
        "- Выводится строка «Отсутствует .» если нет соответствующего символа.\n",
        "- Выводится строка «Отсутствует @ и .» если нет соответствующих символов."
      ]
    },
    {
      "cell_type": "code",
      "execution_count": null,
      "metadata": {
        "id": "dYXppWNCXoI6"
      },
      "outputs": [],
      "source": []
    },
    {
      "cell_type": "markdown",
      "metadata": {
        "id": "0B9kFV--XoI6"
      },
      "source": [
        "#### Задача 3.\n",
        "\n",
        "Запросите стороны треугольника и определите, является ли он разносторонним, равнобедренным или равносторонним. Учтите условие условие: третья сторона не должна превышать сумму двух других, иначе треугольник не существует."
      ]
    },
    {
      "cell_type": "code",
      "execution_count": null,
      "metadata": {
        "id": "hiyfXk7fXoI7"
      },
      "outputs": [],
      "source": []
    },
    {
      "cell_type": "markdown",
      "metadata": {
        "id": "mVOeyWMDXoI7"
      },
      "source": [
        "#### Задача 4\n",
        "\n",
        "Запрограммируйте шуточный тест. Пользователю предлагается ответить на 7 вопросов:\n",
        "\n",
        "1. Одно яйцо варится 10 минут. Сколько минут надо варить 5 яиц? (10)\n",
        "2. На двух руках 10 пальцев. Сколько пальцев на 10? (50)\n",
        "3. Сколько цифр в дюжине? (2)\n",
        "4. Сколько нужно сделать запилов, чтобы распилить бревно на 12 частей? (11)\n",
        "5. Врач сделал три укола в интервале 30 минут. Сколько времени он затратил? (30)\n",
        "6. Сколько цифр 9 в интервале от 1 до 100? (1)\n",
        "7. У пастуха было 30 овец. Все кроме одной разбежались. Сколько овец осталось? (1)\n",
        "\n",
        "*Оценка ответов пользователя:*\n",
        "- если 7 правильных, то печатается \"Гений\";\n",
        "- если 6 правильных, то печатается \"Эрудит\";\n",
        "- если 5 правильных, то печатается \"Нормальный\";\n",
        "- если 4 правильных, то печатается \"Способности средние\";\n",
        "- если 3 правильных, то печатается \"Способности ниже среднего\";\n",
        "- если <2 правильных, то печатается \"Вам надо отдохнуть!\"."
      ]
    },
    {
      "cell_type": "code",
      "source": [],
      "metadata": {
        "id": "KVD-ZZLqshUw"
      },
      "execution_count": null,
      "outputs": []
    },
    {
      "cell_type": "markdown",
      "metadata": {
        "id": "3eSwq6PPXoI7"
      },
      "source": [
        "### Решение задач из первой недомашки"
      ]
    },
    {
      "cell_type": "markdown",
      "metadata": {
        "id": "qh9hOUMzXoI7"
      },
      "source": [
        "**Не смотрите, если не хотите спойлеров!**\n",
        "\n",
        "<details><summary>C. Дележ яблок-2</summary>\n",
        "$N$ школьников делят $K$ яблок поровну, неделяющийся остаток остается в корзинке. Сколько яблок останется в корзинке?\n",
        "\n",
        "```python\n",
        "n = int(input())\n",
        "k = int(input())\n",
        "\n",
        "print(k % n)\n",
        "```\n",
        "</details>\n",
        "\n",
        "<details><summary>G. Вторая справа цифра</summary>\n",
        "Дано натуральное число. Найдите число десятков в его десятичной записи (вторую справа цифру).\n",
        "\n",
        "```python\n",
        "number = int(input())\n",
        "\n",
        "print(number // 10 % 10)\n",
        "```\n",
        "</details>\n",
        "\n",
        "<details><summary>K. Стоимость покупки</summary>\n",
        "Пирожок в столовой стоит $A$ рублей и $B$ копеек. Определите, сколько рублей и копеек нужно заплатить за $N$ пирожков.\n",
        "\n",
        "```python\n",
        "rub = int(input())\n",
        "kop = int(input())\n",
        "pie = int(input())\n",
        "\n",
        "rub = rub * pie + (kop * pie) // 100\n",
        "kop = (kop * pie) % 100\n",
        "\n",
        "print(rub, kop)\n",
        "```\n",
        "</details>\n",
        "\n",
        "<details><summary>M. 0 в 1 и наоборот</summary>\n",
        "Вводится число 0 или 1, необходимо вывести 1 или 0 соответственно.\n",
        "\n",
        "```python\n",
        "one_zero = int(input())\n",
        "\n",
        "print(int(not bool(one_zero)))\n",
        "```\n",
        "</details>\n",
        "\n",
        "<details><summary>V. Проверка на делимость*</summary>\n",
        "В этой задаче необходимо проверить, делится ли число $A$ на число $B$ нацело. Использовать можно только арифметические операции, использование любых видов ветвлений, функций и т.п. запрещено.\n",
        "\n",
        "```python\n",
        "number_1 = int(input())\n",
        "number_2 = int(input())\n",
        "\n",
        "print((not bool(number_1 % number_2)) * 'YES' + bool(number_1 % number_2) * 'NO')\n",
        "```\n",
        "</details>\n",
        "\n",
        "<details><summary>Q. Электронные часы-2</summary>\n",
        "Электронные часы показывают время в формате h:mm:ss, то есть сначала записывается количество часов, потом обязательно двузначное количество минут, затем обязательно двузначное количество секунд. Количество минут и секунд при необходимости дополняются до двузначного числа нулями.\n",
        "\n",
        "С начала суток прошло $N$ секунд. Выведите, что покажут часы.\n",
        "\n",
        "```python\n",
        "seconds = int(input())\n",
        "\n",
        "hours = (seconds // 3600) % 24\n",
        "minutes = seconds % 3600 // 60\n",
        "seconds = seconds % 3600 % 60\n",
        "\n",
        "print(f\"{hours}:{minutes:02}:{seconds:02}\")\n",
        "```\n",
        "</details>"
      ]
    }
  ],
  "metadata": {
    "kernelspec": {
      "display_name": "Python 3 (ipykernel)",
      "language": "python",
      "name": "python3"
    },
    "language_info": {
      "codemirror_mode": {
        "name": "ipython",
        "version": 3
      },
      "file_extension": ".py",
      "mimetype": "text/x-python",
      "name": "python",
      "nbconvert_exporter": "python",
      "pygments_lexer": "ipython3",
      "version": "3.11.5"
    },
    "vscode": {
      "interpreter": {
        "hash": "b0fa6594d8f4cbf19f97940f81e996739fb7646882a419484c72d19e05852a7e"
      }
    },
    "colab": {
      "provenance": []
    }
  },
  "nbformat": 4,
  "nbformat_minor": 0
}