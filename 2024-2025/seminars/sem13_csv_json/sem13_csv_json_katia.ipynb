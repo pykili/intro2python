{
  "nbformat": 4,
  "nbformat_minor": 0,
  "metadata": {
    "colab": {
      "provenance": []
    },
    "kernelspec": {
      "name": "python3",
      "display_name": "Python 3"
    },
    "language_info": {
      "name": "python"
    }
  },
  "cells": [
    {
      "cell_type": "markdown",
      "source": [
        "# Работа с файлами и таблицами"
      ],
      "metadata": {
        "id": "CkYWt8qipe9p"
      }
    },
    {
      "cell_type": "markdown",
      "source": [
        "## Таблицы"
      ],
      "metadata": {
        "id": "V1Fuim1tpj1x"
      }
    },
    {
      "cell_type": "markdown",
      "source": [
        "* CSV $-$ comma separated values ака. значения разделенные запятой.\n",
        "* TSV $-$ tab separated values ака. значения разделенные знаком табуляции (`\\t`).\n",
        "* XLS(X) $-$ сложный бинарный формат, используемый Excel."
      ],
      "metadata": {
        "id": "ak4o_fVnpW8R"
      }
    },
    {
      "cell_type": "markdown",
      "source": [
        "Будем работать с файлом с десертами:"
      ],
      "metadata": {
        "id": "8CQpMuGvtYsS"
      }
    },
    {
      "cell_type": "code",
      "source": [
        "# сработает если у вас Colab / Linux.\n",
        "# иначе можно импортировать модуль wget\n",
        "# и написать wget.download(...)\n",
        "\n",
        "!wget -q 'https://raw.githubusercontent.com/KatiaKozlova/files/main/desserts.csv'"
      ],
      "metadata": {
        "id": "vNrt7c2KJbdS"
      },
      "execution_count": null,
      "outputs": []
    },
    {
      "cell_type": "markdown",
      "source": [
        "Как CSV, так и TSV можно прочитать как обычные файлы с указанием кодировки."
      ],
      "metadata": {
        "id": "lEeqh3nFp6x-"
      }
    },
    {
      "cell_type": "code",
      "source": [
        "# ваш код тут"
      ],
      "metadata": {
        "id": "WwexrHUdqFGc"
      },
      "execution_count": null,
      "outputs": []
    },
    {
      "cell_type": "markdown",
      "source": [
        "Дальнейший план работы прост:\n",
        "1. Разбить текст по строкам.\n",
        "2. (опционально) Сохранить заголовки\n",
        "3. Разделить каждую строку по символу табуляции `\\t` или по запятым.\n",
        "4. Сохранить в виде списка списков или списка словарей.\n",
        "\n",
        "Как вы думаете, какие у этого метода минусы / подводные камни?\n"
      ],
      "metadata": {
        "id": "OUNd_g0dqbQo"
      }
    },
    {
      "cell_type": "markdown",
      "source": [
        "## **Модуль `csv`**"
      ],
      "metadata": {
        "id": "LWkHyR5eIfV3"
      }
    },
    {
      "cell_type": "markdown",
      "source": [
        "Нужен для удобной работы с форматами:\n",
        "\n",
        "[Ссылка](https://docs.python.org/3/library/csv.html) на документацию."
      ],
      "metadata": {
        "id": "z3j7ao1ZImtu"
      }
    },
    {
      "cell_type": "markdown",
      "source": [
        "Так как это модуль, его надо импортировать:"
      ],
      "metadata": {
        "id": "pMXrDKsaJXOR"
      }
    },
    {
      "cell_type": "code",
      "execution_count": null,
      "metadata": {
        "id": "cWvSOduxISXj"
      },
      "outputs": [],
      "source": [
        "import csv"
      ]
    },
    {
      "cell_type": "markdown",
      "source": [
        "### *Чтение*:"
      ],
      "metadata": {
        "id": "SgL36YX6JnZR"
      }
    },
    {
      "cell_type": "markdown",
      "source": [
        "Чтобы работать с файлом любого формата, его надо открыть, как мы это всегда делаем!\n",
        "\n",
        "1. `csv.reader(file)`"
      ],
      "metadata": {
        "id": "x8Ia8tkAJurp"
      }
    },
    {
      "cell_type": "code",
      "source": [
        "with open('desserts.csv', 'r', encoding='utf-8') as csv_desserts:\n",
        "    desserts = csv.reader(csv_desserts)\n",
        "    stop = 5\n",
        "    for row in desserts:\n",
        "        print(row)\n",
        "        stop -= 1\n",
        "\n",
        "        if not stop:\n",
        "            break"
      ],
      "metadata": {
        "colab": {
          "base_uri": "https://localhost:8080/"
        },
        "id": "MGmM3i7VKFIA",
        "outputId": "5ac3a83f-9a47-4d1d-d272-81bdaed0f371"
      },
      "execution_count": null,
      "outputs": [
        {
          "output_type": "stream",
          "name": "stdout",
          "text": [
            "['ingredient', 'amount', 'name']\n",
            "['Яйцо куриное', '4 штуки', 'pirog s jablochnimi rozami']\n",
            "['Сахарная пудра', '50 г', 'pirog s jablochnimi rozami']\n",
            "['Пшеничная мука', '200 г', 'pirog s jablochnimi rozami']\n",
            "['Соль', 'щепотка', 'pirog s jablochnimi rozami']\n"
          ]
        }
      ]
    },
    {
      "cell_type": "markdown",
      "source": [
        "По сути, это замена `.read()` + `.split()`.\n",
        "\n",
        "**NB!** Сейчас в переменной `desserts` хранится итератор:"
      ],
      "metadata": {
        "id": "Pt717R9IKoGr"
      }
    },
    {
      "cell_type": "code",
      "source": [
        "print(desserts)"
      ],
      "metadata": {
        "colab": {
          "base_uri": "https://localhost:8080/"
        },
        "id": "A-Plmn--KkCv",
        "outputId": "f3ff136a-410f-4e57-a234-22fc2124573c"
      },
      "execution_count": null,
      "outputs": [
        {
          "output_type": "stream",
          "name": "stdout",
          "text": [
            "<_csv.reader object at 0x7b6079aadb60>\n"
          ]
        }
      ]
    },
    {
      "cell_type": "code",
      "source": [
        "# Как сделать из desserts список списков?\n",
        "with open('desserts.csv', 'r', encoding='utf-8') as csv_desserts:\n",
        "    desserts = csv.reader(csv_desserts)\n",
        "    print(list(desserts)[:10])"
      ],
      "metadata": {
        "id": "32OebhbxK7cr",
        "colab": {
          "base_uri": "https://localhost:8080/"
        },
        "outputId": "78ab8169-7878-4c6c-b496-cf3bc8b90360"
      },
      "execution_count": null,
      "outputs": [
        {
          "output_type": "stream",
          "name": "stdout",
          "text": [
            "[['ingredient', 'amount', 'name'], ['Яйцо куриное', '4 штуки', 'pirog s jablochnimi rozami'], ['Сахарная пудра', '50 г', 'pirog s jablochnimi rozami'], ['Пшеничная мука', '200 г', 'pirog s jablochnimi rozami'], ['Соль', 'щепотка', 'pirog s jablochnimi rozami'], ['Сливочное масло', '100 г', 'pirog s jablochnimi rozami'], ['Молоко', '400 мл', 'pirog s jablochnimi rozami'], ['Белое сухое вино', '100 мл', 'pirog s jablochnimi rozami'], ['Ванилин', '1 чайная ложка', 'pirog s jablochnimi rozami'], ['Цедра апельсина', '1 чайная ложка', 'pirog s jablochnimi rozami']]\n"
          ]
        }
      ]
    },
    {
      "cell_type": "markdown",
      "source": [
        "В любой нормальной табличке сверху находятся заголовки (headers), которые описывают, что за информация находится в каждом столбце. Так как `csv.reader()` возвращает итератор, можно их сохранить отдельно так:"
      ],
      "metadata": {
        "id": "Rs3ttGOuQM6Y"
      }
    },
    {
      "cell_type": "code",
      "source": [
        "with open('desserts.csv', 'r', encoding='utf-8') as csv_desserts:\n",
        "    desserts = csv.reader(csv_desserts)\n",
        "    headers = next(desserts)\n",
        "    rows = list(desserts)[:5]\n",
        "\n",
        "print(headers)\n",
        "print(rows)"
      ],
      "metadata": {
        "colab": {
          "base_uri": "https://localhost:8080/"
        },
        "id": "wtiQ9YXxMJmk",
        "outputId": "7fd6c72b-167f-48ff-ad12-a1c334314ee4"
      },
      "execution_count": null,
      "outputs": [
        {
          "output_type": "stream",
          "name": "stdout",
          "text": [
            "['ingredient', 'amount', 'name']\n",
            "[['Яйцо куриное', '4 штуки', 'pirog s jablochnimi rozami'], ['Сахарная пудра', '50 г', 'pirog s jablochnimi rozami'], ['Пшеничная мука', '200 г', 'pirog s jablochnimi rozami'], ['Соль', 'щепотка', 'pirog s jablochnimi rozami'], ['Сливочное масло', '100 г', 'pirog s jablochnimi rozami']]\n"
          ]
        }
      ]
    },
    {
      "cell_type": "markdown",
      "source": [
        "2. `csv.DictReader(file)`"
      ],
      "metadata": {
        "id": "sfLMe5rYRoQf"
      }
    },
    {
      "cell_type": "markdown",
      "source": [
        "(да-да, с больших букв!)\n",
        "\n",
        "Каждая строка становится значениями словаря с ключами-заголовками:"
      ],
      "metadata": {
        "id": "ML8RBNhOSNV1"
      }
    },
    {
      "cell_type": "code",
      "source": [
        "with open('desserts.csv', 'r', encoding='utf-8') as csv_desserts:\n",
        "    desserts = csv.DictReader(csv_desserts)\n",
        "\n",
        "    for row in desserts:\n",
        "        print(row)\n",
        "        break"
      ],
      "metadata": {
        "colab": {
          "base_uri": "https://localhost:8080/"
        },
        "id": "wTievro4Q8C0",
        "outputId": "1acabb62-e5c4-4118-a750-a01c6c285359"
      },
      "execution_count": null,
      "outputs": [
        {
          "output_type": "stream",
          "name": "stdout",
          "text": [
            "{'ingredient': 'Яйцо куриное', 'amount': '4 штуки', 'name': 'pirog s jablochnimi rozami'}\n"
          ]
        }
      ]
    },
    {
      "cell_type": "markdown",
      "source": [
        "### Задача №1"
      ],
      "metadata": {
        "id": "PbkFvq-p714V"
      }
    },
    {
      "cell_type": "markdown",
      "source": [
        "У вас есть [датасет](https://raw.githubusercontent.com/KatiaKozlova/files/main/language_codes.csv) с языками и их кодами в формате CSV (`language_codes.csv`). Каждая строчка состоит из значений, разделенных запятыми:\n",
        "\n",
        "- столбец `alpha2`: двухбуквенный код языка;\n",
        "- столбец `English`: английское название языка.\n",
        "    \n",
        "Например, `av,Avaric`.\n",
        "    \n",
        "Напишите программу, которая принимала бы на вход имя и фамилию человека на латинице, а возвращала язык, код которого совпадает с первыми буквами имени и фамилии.\n",
        "    \n",
        "|**Ввод**|**Вывод**|\n",
        "|---|---|\n",
        "|`Kate Moss`|`Central Khmer`|\n",
        "|`Federico Fellini`|`Fulah`|"
      ],
      "metadata": {
        "id": "r1WaXP-v75fU"
      }
    },
    {
      "cell_type": "code",
      "source": [
        "# ваш код тут"
      ],
      "metadata": {
        "id": "8Fgn9IpUaLCS"
      },
      "execution_count": null,
      "outputs": []
    },
    {
      "cell_type": "markdown",
      "source": [
        "### *Запись*:"
      ],
      "metadata": {
        "id": "tNHsy9-hTV4p"
      }
    },
    {
      "cell_type": "markdown",
      "source": [
        "1. `csv.writer(file)`\n",
        "\n",
        "Опять же, надо открыть файл в нужном режиме, создать переменную для записи, а потом писать через `.writerow()` / `.writerows()`. Первый принимает на вход итерируемый объект (например, кортеж / список / ...), а второй - итерируемый объект из итерируемых объектов (спиок списков / список кортежей / ...)."
      ],
      "metadata": {
        "id": "P5Aqdp8NQiKM"
      }
    },
    {
      "cell_type": "code",
      "source": [
        "data = [['hostname', 'vendor', 'model', 'location'],\n",
        "        ['sw1', 'Cisco', '3750', 'London, Best str'],\n",
        "        ['sw2', 'Cisco', '3850', 'Liverpool, Better str'],\n",
        "        ['sw3', 'Cisco', '3650', 'Liverpool, Better str'],\n",
        "        ['sw4', 'Cisco', '3650', 'London, Best str']]\n",
        "\n",
        "\n",
        "with open('sw_data_new.csv', 'w', encoding='utf-8') as csv_file:\n",
        "    writer = csv.writer(csv_file)\n",
        "    for row in data:\n",
        "        writer.writerow(row)\n",
        "\n",
        "#  или так\n",
        "\n",
        "with open('sw_data_new.csv', 'w', encoding='utf-8') as csv_file:\n",
        "    writer = csv.writer(csv_file)\n",
        "    writer.writerows(data)"
      ],
      "metadata": {
        "id": "uiL1_aXjTVqE"
      },
      "execution_count": null,
      "outputs": []
    },
    {
      "cell_type": "code",
      "source": [
        "with open('sw_data_new.csv', 'r', encoding='utf-8') as csv_file:\n",
        "    csv_read = csv_file.read()\n",
        "print(csv_read)"
      ],
      "metadata": {
        "colab": {
          "base_uri": "https://localhost:8080/"
        },
        "id": "xEUjv3z1R3yd",
        "outputId": "1a626047-53c1-4ee1-9b98-a805da252f2f"
      },
      "execution_count": null,
      "outputs": [
        {
          "output_type": "stream",
          "name": "stdout",
          "text": [
            "hostname,vendor,model,location\n",
            "sw1,Cisco,3750,\"London, Best str\"\n",
            "sw2,Cisco,3850,\"Liverpool, Better str\"\n",
            "sw3,Cisco,3650,\"Liverpool, Better str\"\n",
            "sw4,Cisco,3650,\"London, Best str\"\n",
            "\n"
          ]
        }
      ]
    },
    {
      "cell_type": "markdown",
      "source": [
        "Почему кавычки?"
      ],
      "metadata": {
        "id": "BdMX6PoxS2bv"
      }
    },
    {
      "cell_type": "markdown",
      "source": [
        "2. `csv.DictWriter(file)`\n",
        "\n",
        "Работа со словарями. Тоже через `.writerow()`, но еще `.writeheader()` для записи заголовка. Предварительно заголовки подаются в `csv.DictWriter()` списком под аргументом `fieldnames`."
      ],
      "metadata": {
        "id": "N5A9mSzYS6wV"
      }
    },
    {
      "cell_type": "code",
      "source": [
        "data = [{\n",
        "    'hostname': 'sw1',\n",
        "    'location': 'London',\n",
        "    'model': '3750',\n",
        "    'vendor': 'Cisco'\n",
        "}, {\n",
        "    'hostname': 'sw2',\n",
        "    'location': 'Liverpool',\n",
        "    'model': '3850',\n",
        "    'vendor': 'Cisco'\n",
        "}, {\n",
        "    'hostname': 'sw3',\n",
        "    'location': 'Liverpool',\n",
        "    'model': '3650',\n",
        "    'vendor': 'Cisco'\n",
        "}, {\n",
        "    'hostname': 'sw4',\n",
        "    'location': 'London',\n",
        "    'model': '3650',\n",
        "    'vendor': 'Cisco'\n",
        "}]"
      ],
      "metadata": {
        "id": "HGLS6A-FS11x"
      },
      "execution_count": null,
      "outputs": []
    },
    {
      "cell_type": "code",
      "source": [
        "with open('csv_write_dictwriter.csv', 'w', encoding='utf-8') as csv_file:\n",
        "    writer = csv.DictWriter(csv_file, fieldnames=list(data[0].keys()))\n",
        "    writer.writeheader()\n",
        "    for d in data:\n",
        "        writer.writerow(d)"
      ],
      "metadata": {
        "id": "2ebWL5A2SkWO"
      },
      "execution_count": null,
      "outputs": []
    },
    {
      "cell_type": "markdown",
      "source": [
        "### *Разделители*"
      ],
      "metadata": {
        "id": "4rfU-2ShUYMk"
      }
    },
    {
      "cell_type": "markdown",
      "source": [
        "Мы все говорили о CSV файлах. А как дела обстоят с TSV?"
      ],
      "metadata": {
        "id": "DKGe1byqUdn1"
      }
    },
    {
      "cell_type": "code",
      "source": [
        "!wget -q 'https://gist.githubusercontent.com/cdroulers/1a919d7f9ce701a716b0/raw/77dbd5e7e3db7017ae64e3f420e53f7e8b90aca1/Sample.tsv'"
      ],
      "metadata": {
        "id": "XU7TGRL3UKOJ"
      },
      "execution_count": null,
      "outputs": []
    },
    {
      "cell_type": "code",
      "source": [
        "with open('Sample.tsv', 'r', encoding='utf-8') as csv_desserts:\n",
        "    desserts = csv.DictReader(csv_desserts)\n",
        "    for row in desserts:\n",
        "        print(row)"
      ],
      "metadata": {
        "colab": {
          "base_uri": "https://localhost:8080/"
        },
        "id": "KHi1j8wlUrhY",
        "outputId": "15695ca4-51d6-4525-8817-54cdd2cad67a"
      },
      "execution_count": null,
      "outputs": [
        {
          "output_type": "stream",
          "name": "stdout",
          "text": [
            "{'Some parameter\\tOther parameter\\tLast parameter': 'CONST\\t123456\\t12.45'}\n"
          ]
        }
      ]
    },
    {
      "cell_type": "markdown",
      "source": [
        "Начего не получилось! Почему так?\n",
        "\n",
        "Потому что разделитель (delimiter) другой! Его можно указать любым (по дефолту - запятая)."
      ],
      "metadata": {
        "id": "wQJpxWKeU_QS"
      }
    },
    {
      "cell_type": "code",
      "source": [
        "with open('Sample.tsv', 'r', encoding='utf-8') as csv_desserts:\n",
        "    desserts = csv.DictReader(csv_desserts, delimiter='\\t')\n",
        "    for row in desserts:\n",
        "        print(row)"
      ],
      "metadata": {
        "colab": {
          "base_uri": "https://localhost:8080/"
        },
        "id": "uAssElwtU9J2",
        "outputId": "5cdad9f2-ddd2-424f-9619-08561b695b89"
      },
      "execution_count": null,
      "outputs": [
        {
          "output_type": "stream",
          "name": "stdout",
          "text": [
            "{'Some parameter': 'CONST', 'Other parameter': '123456', 'Last parameter': '12.45'}\n"
          ]
        }
      ]
    },
    {
      "cell_type": "markdown",
      "source": [
        "### Задача №2"
      ],
      "metadata": {
        "id": "WVvJS0zj9BU-"
      }
    },
    {
      "cell_type": "markdown",
      "source": [
        " У вас есть [корпус](https://raw.githubusercontent.com/KatiaKozlova/files/main/princess_corpus.tsv) с репликами из диснеевских мультфильмов в формате TSV (`princess_corpus.tsv`). Каждая строчка состоит из значений, разделенных знаком табуляции:\n",
        "    \n",
        "- столбец `Disney_Period`: один из трех периодов Диснея `EARLY / MID / LATE`;\n",
        "- столбец `Text`: реплика;\n",
        "- столбец `Speaker_Status`: один из трех вариантов `PRINCE / PRINCESS / NON-P` (реплика принца, принцессы или другого персонажа);\n",
        "- столбец `Movie`: английское название мультфильма;\n",
        "- столбец `Speaker`: английское название героя;\n",
        "- столбец `Year`: год выпуска мультфильма;\n",
        "- столбец `UTTERANCE_NUMBER`: номер реплики для каждого мультфильма;\n",
        "    \n",
        "Например, `EARLY yes, your majesty. NON-P Snow White guard 1937 15`.\n",
        "    \n",
        "1. Переведите TSV формат в CSV и сохраните как `princess_corpus.сsv`.\n",
        "2. Посчитайте, сколько реплик за фильм произносит каждая принцесса и сколько реплик в среднем произносят принцессы каждого периода."
      ],
      "metadata": {
        "id": "OO1Cgsh49EVU"
      }
    },
    {
      "cell_type": "code",
      "source": [
        "# ваш код тут"
      ],
      "metadata": {
        "id": "mnfSKzyw9KsK"
      },
      "execution_count": null,
      "outputs": []
    },
    {
      "cell_type": "markdown",
      "source": [
        "## JSON-файлы"
      ],
      "metadata": {
        "id": "dpexsfk8qnr-"
      }
    },
    {
      "cell_type": "markdown",
      "source": [
        "> **JSON** (JavaScript Object Notation) $-$ это текстовый формат для хранения и обмена данными. Чаще всего используется для хранения словарей и списков в удобном формате.\n",
        "\n",
        "    \"paper_id\": \"0036b28fddf7e93da0970303672934ea2f9944e7\",\n",
        "    \"metadata\": {\n",
        "        \"title\": \"The fecal microbiota and unconjugated fecal bile acids in dogs with diabetes mellitus ESCG-O-2 Impact of antibiotic administration on fecal bacterial groups potentially associated with dysbiosis in kittens ESCG-O-3 Fecal microbial metabolism is altered in dogs with chronic enteropathy ESCG-O-4 The pug breed demonstrates a worse response to treatment of protein-losing enteropathy than other breeds of dog ESCG-O-6 Dogs with acute haemorrhagic diarrhoea syndrome not receiving antibiotics have a good prognosis despite initial high AHDS-score and systemic inflammation ESCG-O-7 Faecal bile acid profiles in dogs with acute haemorrhagic diarrhoea syndrome over time and compared to healthy dogs ESCG-O-8 Long-term consequences of acute hemorrhagic diarrhea syndrome in dogs ESVC-O-1 Acute effect of oral pimobendan on left atrial function and mitral valve regurgitation severity in dogs with stage B2 myxomatous mitral valve disease -A pilot study ESVC-O-2 Retrospective evaluation of the safety and tolerability of pimobendan in cats with obstructive versus nonobstructive hypertrophic cardiomyopathy\",\n",
        "        \"authors\": [\n",
        "            {\n",
        "                \"first\": \"B\",\n",
        "                \"middle\": [],\n",
        "                \"last\": \"Ruggerone\",\n",
        "                \"suffix\": \"\",\n",
        "                \"affiliation\": {\n",
        "                    \"laboratory\": \"\",\n",
        "                    \"institution\": \"University of Thessaly\",\n",
        "                    \"location\": {\n",
        "                        \"settlement\": \"Karditsa\",\n",
        "                        \"country\": \"Greece\"\n",
        "                    }\n",
        "                },\n",
        "                \"email\": \"\"\n",
        "            },\n",
        "            {\n",
        "                \"first\": \"A\",\n",
        "                \"middle\": [\n",
        "                    \"C\"\n",
        "                ],\n",
        "                \"last\": \"Manchester\",\n",
        "                \"suffix\": \"\",\n",
        "                \"affiliation\": {\n",
        "                    \"laboratory\": \"Gastrointestinal laboratory\",\n",
        "                    \"institution\": \"Texas A&M University\",\n",
        "                    \"location\": {\n",
        "                        \"settlement\": \"College Station\",\n",
        "                        \"country\": \"United States of America\"\n",
        "                    }\n",
        "                }\n",
        "            ]\n",
        "        }\n",
        "\n"
      ],
      "metadata": {
        "id": "vfPMbE33rTRG"
      }
    },
    {
      "cell_type": "markdown",
      "source": [
        "Для работы с этим форматом помогает одноименный модуль `json`."
      ],
      "metadata": {
        "id": "ionJM24StPG1"
      }
    },
    {
      "cell_type": "code",
      "execution_count": null,
      "metadata": {
        "id": "SRLvppw4qkM-"
      },
      "outputs": [],
      "source": [
        "import json"
      ]
    },
    {
      "cell_type": "code",
      "source": [
        "!wget -q 'https://raw.githubusercontent.com/KatiaKozlova/files/main/unece.json'"
      ],
      "metadata": {
        "id": "gJboZrd7umf5"
      },
      "execution_count": null,
      "outputs": []
    },
    {
      "cell_type": "markdown",
      "source": [
        "#### Чтение:"
      ],
      "metadata": {
        "id": "u0HjWKhi0N0J"
      }
    },
    {
      "cell_type": "markdown",
      "source": [
        "Для чтения в модуле `json` есть два метода:\n",
        "- `json.load()` $-$ метод считывает **файл** в формате JSON и возвращает объекты Python\n",
        "- `json.loads()` $-$ метод считывает **строку** в формате JSON и возвращает объекты Python\n",
        "\n",
        "Как с этим работать? Сначала все так же, как с файлом! А потом один из методов."
      ],
      "metadata": {
        "id": "pIJ8MkuNutht"
      }
    },
    {
      "cell_type": "code",
      "source": [
        "with open('unece.json', 'r', encoding='utf-8') as json_file:\n",
        "    dict_file = json.load(json_file)"
      ],
      "metadata": {
        "id": "4TSu0mG5v4dK"
      },
      "execution_count": null,
      "outputs": []
    },
    {
      "cell_type": "code",
      "source": [
        "with open('unece.json', 'r', encoding='utf-8') as json_file:\n",
        "    json_text = json_file.read()\n",
        "    dict_file = json.loads(json_text)"
      ],
      "metadata": {
        "id": "BtEZuVN1wicc"
      },
      "execution_count": null,
      "outputs": []
    },
    {
      "cell_type": "code",
      "source": [
        "dict_file[1]"
      ],
      "metadata": {
        "colab": {
          "base_uri": "https://localhost:8080/"
        },
        "id": "GUnMcZHPwN8p",
        "outputId": "811289e0-a899-485e-c493-ba1bb01a2dcc"
      },
      "execution_count": null,
      "outputs": [
        {
          "output_type": "execute_result",
          "data": {
            "text/plain": [
              "{'Country': 'Albania',\n",
              " 'Year': '2001',\n",
              " 'Area (square kilometres)': 28748,\n",
              " 'Total population': 3073734,\n",
              " 'Population density, pers. per sq. km': 106.91992,\n",
              " 'Population aged 0-14, male': 460732,\n",
              " 'Population aged 0-14, female': 436652,\n",
              " 'Population aged 15-64, male': 963612,\n",
              " 'Population aged 15-64, female': 980800,\n",
              " 'Population aged 64+, male': 108254,\n",
              " 'Population aged 64+, female': 123684,\n",
              " 'Total population, male (%)': 49.86111,\n",
              " 'Total population, female (%)': 50.13889,\n",
              " 'Life expectancy at birth, women': 80.45,\n",
              " 'Life expectancy at birth, men': 74.12,\n",
              " 'Life expectancy at age 65, women': 19.51,\n",
              " 'Life expectancy at age 65, men': 15.85,\n",
              " 'Total fertility rate': 2.1,\n",
              " 'Adolescent fertility rate': 16.49547,\n",
              " 'Mean age of women at birth of first child': None,\n",
              " 'Computer use, 16-24, male': None,\n",
              " 'Computer use, 16-24, female': None,\n",
              " 'Computer use, 25-54, male': None,\n",
              " 'Computer use, 25-54, female': None,\n",
              " 'Computer use, 55-74, male': None,\n",
              " 'Computer use, 55-74, female': None,\n",
              " 'Women in the Labour Force, Percent of corresponding total for both sexes': 40.64015,\n",
              " 'Female part-time employment, percent of both sexes': None,\n",
              " 'Gender pay gap in monthly earnings': None,\n",
              " 'Gender pay gap in hourly earning wage rate': None,\n",
              " 'Female tertiary students, percent of total': 61.96395,\n",
              " 'Women Researchers, Percent of corresponding total for both sexes': None,\n",
              " 'Female legislators, senior officials and managers, percent of total': None,\n",
              " 'Female professionals, percent of total for both sexes': None,\n",
              " 'Female clerks, percent of total for both sexes': None,\n",
              " 'Female craft and related workers, percent of total for both sexes': None,\n",
              " 'Female plant and machine operators and assemblers, percent of total for both sexes': None,\n",
              " 'Female government ministers, percent of total': 16.66667,\n",
              " 'Female members of parliament, percent of total': 5.16129,\n",
              " 'Female ambassadors, percent of total': None,\n",
              " 'Female judges, percent of total': None,\n",
              " 'Women, percent of all victims of homicides': None,\n",
              " 'Total employment, growth rate': -13.81973,\n",
              " 'Unemployment rate': 16.4,\n",
              " 'Youth unemployment rate': None,\n",
              " 'Economic acivity rate, women 15-64': 55.69606,\n",
              " 'Economic activity rate, men 15-64': 82.64509,\n",
              " 'GDP at current prices and PPPs, millions of US$': 13326.07246,\n",
              " 'GDP at current prices, millions of NCUs': 563448.8,\n",
              " 'GDP per capita at current prices and PPPs, US$': 4354.68371,\n",
              " 'GDP per capita at current prices, NCUs': 184123.3657,\n",
              " 'Final consumption expenditure per capita, US Dollars, current PPPs': 3868.50614,\n",
              " 'Purchasing power parity (PPP), NCU per US$': 42.28169,\n",
              " 'Exchange rate (XR), NCU per US$': 143.48483,\n",
              " 'Consumer price index, growth rate': 3.10842,\n",
              " 'Export of goods and services, per cent of GDP': 21.33342,\n",
              " 'Import of goods and services, per cent of GDP': 45.15763,\n",
              " 'External balance on goods and services, per cent of GDP': -23.82421,\n",
              " 'GDP in agriculture (ISIC4 A): output approach, index, 2005=100': 88.93947,\n",
              " 'GDP in industry (incl. construction) (ISIC4 B-F): output approach, index, 2005=100': 72.6648,\n",
              " 'GDP in services (ISIC4 G-U): output approach, index, 2005=100': 86.16708,\n",
              " 'GDP: in agriculture etc. (ISIC4 A), output approach, per cent share of GVA': 25.41113,\n",
              " 'GDP: in industry etc. (ISIC4 B-E), output approach, per cent share of GVA': 8.60389,\n",
              " 'GDP: in construction (ISIC4 F), output approach, per cent share of GVA': 15.7104,\n",
              " 'GDP: in trade, hospitality, transport and communication (ISIC4 G-J), output approach, per cent share of GVA': 26.90267,\n",
              " 'GDP: in finance and business services (ISIC4 K-N), output approach, per cent share of GVA': 12.26481,\n",
              " 'GDP: in public administration, education and health (ISIC4 O-Q), output approach, per cent share of GVA': 9.81242,\n",
              " 'GDP: in other service activities (ISIC4 R-U), output approach, per cent share of GVA': 1.29468,\n",
              " 'Employment in agriculture, hunting, forestry and fishing (ISIC Rev. 4 A), share of total employment': None,\n",
              " 'Employment in industry and energy (ISIC Rev. 4 B-E), share of total employment': None,\n",
              " 'Employment in construction (ISIC Rev. 4 F), share of total employment': None,\n",
              " 'Employment in trade, hotels, restaurants, transport and communications (ISIC Rev. 4 G-J), share of total employment': None,\n",
              " 'Employment in finance, real estate and business services (ISIC Rev. 4 K-N), share of total employment': None,\n",
              " 'Employment in public administration, education and health (ISIC Rev. 4 O-Q), share of total employment': None,\n",
              " 'Employment in other service activities (ISIC Rev. 4 R-U), share of total employment': None,\n",
              " 'Persons killed in road accidents': 297,\n",
              " 'Persons injured in road accidents': 250,\n",
              " 'Total length of motorways (km)': None,\n",
              " 'Total length of railway lines (km)': 409}"
            ]
          },
          "metadata": {},
          "execution_count": 18
        }
      ]
    },
    {
      "cell_type": "markdown",
      "source": [
        "#### Запись:"
      ],
      "metadata": {
        "id": "wFyZio1R0Sju"
      }
    },
    {
      "cell_type": "markdown",
      "source": [
        "Для записи информации в формате JSON в модуле `json` также два метода:\n",
        "- `json.dump()` $-$ метод **записывает объект Python в файл** в формате JSON\n",
        "- `json.dumps()` $-$ метод **возвращает строку** в формате JSON"
      ],
      "metadata": {
        "id": "YjLSYcS2w5ZB"
      }
    },
    {
      "cell_type": "markdown",
      "source": [
        "**Важное отступление!** Так как JSON основан на подмножестве синтаксиса JavaScript, у него есть несколько особенностей, свойственных JS...\n",
        "\n",
        "Так, например, вот таблица конвертации данных Python в JSON:\n",
        "\n",
        "|    Python   |  JSON  |\n",
        "|:-----------:|:------:|\n",
        "| dict        | object |\n",
        "| list, tuple | array  |\n",
        "| str         | string |\n",
        "| int, float  | number |\n",
        "| True        | true   |\n",
        "| False       | false  |\n",
        "| None        | null   |\n",
        "\n",
        "А вот обратная (из JSON в Python):\n",
        "\n",
        "|      JSON     | Python |\n",
        "|:-------------:|:------:|\n",
        "| object        | dict   |\n",
        "| array         | list   |\n",
        "| string        | str    |\n",
        "| number (int)  | int    |\n",
        "| number (real) | float  |\n",
        "| true          | True   |\n",
        "| false         | False  |\n",
        "| null          | None   |\n",
        "\n",
        "\n",
        "Можно заметить, что JSON **не различает** списки и кортежи!"
      ],
      "metadata": {
        "id": "1l1M5Q7Uxs0N"
      }
    },
    {
      "cell_type": "markdown",
      "source": [
        "Для записи мы, опять же, должны открыть файл, а потом использовать один из методов!"
      ],
      "metadata": {
        "id": "cHpPuGimzKyu"
      }
    },
    {
      "cell_type": "code",
      "source": [
        "with open('unece_new.json', 'w', encoding='utf-8') as f:\n",
        "    f.write(json.dumps(dict_file))"
      ],
      "metadata": {
        "id": "3AEsnAjPwO90"
      },
      "execution_count": null,
      "outputs": []
    },
    {
      "cell_type": "code",
      "source": [
        "with open('unece_new.json', 'w', encoding='utf-8') as f:\n",
        "    json.dump(dict_file, f)"
      ],
      "metadata": {
        "id": "wPVXt0hMzcZ5"
      },
      "execution_count": null,
      "outputs": []
    },
    {
      "cell_type": "markdown",
      "source": [
        "#### Дополнительные параметры методов записи"
      ],
      "metadata": {
        "id": "2z4-vsTH0Iyu"
      }
    },
    {
      "cell_type": "markdown",
      "source": [
        "В формат JSON нельзя записать словарь, у которого ключи $-$ кортежи (вызовет ошибку `TypeError`; для того, чтобы ее избежать см. далее). И вообще ключами словаря могут быть **только строки**. Но, если в словаре Python использовались числа, ошибки не будет. Вместо этого выполнится конвертация чисел в строки..."
      ],
      "metadata": {
        "id": "U9tKWDuC1pBj"
      }
    },
    {
      "cell_type": "markdown",
      "source": [
        "1. `sort_keys=True` $-$ сортировка ключей;\n",
        "2. `indent` $-$ отступ (может быть равен числу или строке);\n",
        "3. `ensure_ascii=True` $-$ гарантия, что все не-ASCII символы в выводе будут экранированы;\n",
        "4. `skipkeys=True` $-$ ключи словаря не базового типа будут проигнорированы."
      ],
      "metadata": {
        "id": "XIw80wTq0WJq"
      }
    },
    {
      "cell_type": "code",
      "source": [
        "with open('unece_new_new.json', 'w') as f:\n",
        "    json.dump(dict_file, f, sort_keys=True, indent=4, ensure_ascii=True)"
      ],
      "metadata": {
        "id": "TOGoq36Izom3"
      },
      "execution_count": null,
      "outputs": []
    },
    {
      "cell_type": "markdown",
      "source": [
        "### Задача №3"
      ],
      "metadata": {
        "id": "dKOzltwP7x5L"
      }
    },
    {
      "cell_type": "markdown",
      "source": [
        "Ник в мессендже Lenagram $-$ это собака, затем от 7 до 9 латинских букв. Допускаются подчеркивания и точки, но не более одного подряд. Если вы хотите дать кому-то свой контакт, то буквы могут быть в любом регистре, т.е. `@LOGIN` и `@login` $-$ это один и тот же человек.  \n",
        "\n",
        "В [TSV-файле](https://raw.githubusercontent.com/KatiaKozlova/files/main/lenagram.csv) затесались несколько невалидных ников. Найдите валидные ники и выведите из них три случайных (вместе с соответствующими emoji), сохранив все валидные записи в JSON-файл подобной структуры:\n",
        "    \n",
        "```Plain\n",
        "[\n",
        "    {\n",
        "        \"nick\": \"@1231__231:,\n",
        "        \"emojis\": \"💋 💌\"\n",
        "    },\n",
        "    {\n",
        "        \"nick\": \"@1__2!@###$1:,\n",
        "        \"emojis\": \"💌\"\n",
        "    }\n",
        "]\n",
        "```\n"
      ],
      "metadata": {
        "id": "y10eqx-pPMUt"
      }
    },
    {
      "cell_type": "code",
      "source": [
        "# ваш код тут"
      ],
      "metadata": {
        "id": "amdIXNafiRXp"
      },
      "execution_count": null,
      "outputs": []
    },
    {
      "cell_type": "markdown",
      "source": [
        "### Задача №4"
      ],
      "metadata": {
        "id": "6bNAtLGsQGy8"
      }
    },
    {
      "cell_type": "markdown",
      "source": [
        "Найти открытый API (например, OpenWeather) и получить данные о погоде в заданном городе. Распарсить JSON и вывести температуру и условия погоды."
      ],
      "metadata": {
        "id": "dl818F-gQKoQ"
      }
    },
    {
      "cell_type": "code",
      "source": [
        "# ваш код туть"
      ],
      "metadata": {
        "id": "ZOZxC_fwQJZw"
      },
      "execution_count": null,
      "outputs": []
    }
  ]
}