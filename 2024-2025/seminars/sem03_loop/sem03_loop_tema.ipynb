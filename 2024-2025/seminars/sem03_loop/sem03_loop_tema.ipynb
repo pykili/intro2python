{
  "cells": [
    {
      "cell_type": "markdown",
      "metadata": {
        "id": "gnEIbz8zPpOZ"
      },
      "source": [
        "# Семинар 3"
      ]
    },
    {
      "cell_type": "markdown",
      "metadata": {
        "id": "ocbsHdSYKRY8"
      },
      "source": [
        "## Глава минус первая: что было в прошлый раз?\n",
        "1. Форматированные строки (f-строки)\n",
        "2. Условные операторы: `if`, `elif`, `else`\n",
        "3. Вложенные и каскадные условия\n",
        "4. Моржовый оператор"
      ]
    },
    {
      "cell_type": "markdown",
      "metadata": {
        "id": "NU8Bq-ADH6ZF"
      },
      "source": [
        "## Глава первая: циклы"
      ]
    },
    {
      "cell_type": "markdown",
      "metadata": {
        "id": "hK_p1-ZYH6ZF"
      },
      "source": [
        "Пусть я хочу найти сумму квадратов целых чисел от 1 до $n$:\n",
        "$$\n",
        "s = 1 + 2^2 + \\ldots + n^2\n",
        "$$"
      ]
    },
    {
      "cell_type": "code",
      "execution_count": null,
      "metadata": {
        "id": "CUufKp0sH6ZF"
      },
      "outputs": [],
      "source": [
        "s = 0\n",
        "\n",
        "s = s + 1\n",
        "print(s)\n",
        "s = s + 2**2\n",
        "print(s)\n",
        "s = s + 3**2\n",
        "print(s)\n",
        "# ну и сколько мы так будем продолжать?"
      ]
    },
    {
      "cell_type": "markdown",
      "metadata": {
        "id": "vAb4i74OLE9T"
      },
      "source": [
        "> Здесь мы приходим к циклам. Они (грубо говоря) нужны, чтобы не повторять один и тот же кусок кода! А еще чтобы количество повторений (**итераций**) опиралось на данные!\n",
        "\n",
        "Первый тип циклов $-$ это `for`. Его синтаксис такой:\n",
        "```python\n",
        "for Переменная in Список значений:\n",
        "    # четыре пробела\n",
        "    Дейстие/я, которые нужно выполнить, ПОКА переменная в списке значений\n",
        "```\n",
        "\n",
        "Что важно:\n",
        "1. переменную в цикле **не** нужно инициализировать (создавать)\n",
        "2. дефолтное значение для переменной `i`. если оно занято, то `j`, в крайнем случае `k`\n",
        "3. двоеточие и пробелы **обязательны**!\n",
        "4. пробелов обязательно 4 (четыре)\n",
        "5. пробелов перед двоеточием **не** надо!"
      ]
    },
    {
      "cell_type": "markdown",
      "metadata": {
        "id": "bysYhUOmPjZS"
      },
      "source": [
        "### Как задать список значений?"
      ]
    },
    {
      "cell_type": "markdown",
      "metadata": {
        "id": "dMunoh3OMCe6"
      },
      "source": [
        "* `range`\n",
        "\n",
        "Синтаксис `range`:\n",
        "```python\n",
        "for Переменная in range(Начальное значание, Конечное значение, Шаг):\n",
        "```\n",
        "Пояснения (все, кроме конца, опционально):\n",
        "1. Начальное значение $-$ то, с которого начинается перебор значений (включительно).\n",
        "2. Конечное значение $-$ то, на котором перебор останавливается (если переменная больше или равна конечному значению, т.е. не включительно): `range(a, b)` $-$ это `[a, b)`\n",
        "3. Шаг $-$ то, какая разница будет между каждым из значений.\n",
        "\n",
        "Пример:"
      ]
    },
    {
      "cell_type": "code",
      "execution_count": null,
      "metadata": {
        "id": "OEy7R5EVH6ZG"
      },
      "outputs": [],
      "source": [
        "n = int(input())\n",
        "\n",
        "s = 0\n",
        "for i in range(1, n + 1):  # обратите внимание, что range(a, b) - это [a, b)\n",
        "    s = s + i ** 2\n",
        "    # s += i**2   # более короткая форма записи\n",
        "\n",
        "print(s)"
      ]
    },
    {
      "cell_type": "markdown",
      "metadata": {
        "id": "RX2UHQGVH6ZG"
      },
      "source": [
        "Такое же, но сумма четных:"
      ]
    },
    {
      "cell_type": "code",
      "execution_count": null,
      "metadata": {
        "id": "FOL5ZI-CH6ZG"
      },
      "outputs": [],
      "source": [
        "n = int(input())\n",
        "\n",
        "s = 0\n",
        "for x in range(1, n + 1):\n",
        "    if x % 2 == 0:\n",
        "        s += x\n",
        "print(s)"
      ]
    },
    {
      "cell_type": "markdown",
      "metadata": {
        "id": "EqctdupRH6ZG"
      },
      "source": [
        "Или еще чуть проще:"
      ]
    },
    {
      "cell_type": "code",
      "execution_count": null,
      "metadata": {
        "id": "AW6CYI-kH6ZK"
      },
      "outputs": [],
      "source": [
        "n = int(input())\n",
        "\n",
        "s = 0\n",
        "for x in range(2, n + 1, 2):  # а можно еще проще\n",
        "    s += x\n",
        "print(s)\n"
      ]
    },
    {
      "cell_type": "markdown",
      "metadata": {
        "id": "5gG2OpNSH6ZK"
      },
      "source": [
        "Можно сразу две суммы считать:"
      ]
    },
    {
      "cell_type": "code",
      "execution_count": null,
      "metadata": {
        "id": "PBfhX4sbH6ZK"
      },
      "outputs": [],
      "source": [
        "n = int(input())\n",
        "\n",
        "s1, s2 = 0, 0\n",
        "for x in range(1, n + 1):\n",
        "    if x % 2 == 0:\n",
        "        s1 += x\n",
        "    else:\n",
        "        s2 += x\n",
        "\n",
        "print(s1, s2)"
      ]
    },
    {
      "cell_type": "markdown",
      "metadata": {
        "id": "Tla7WZqrH6ZK"
      },
      "source": [
        "Если левая граница (начало) `range` не указана, то она считается 0, если не указан шаг, по умолчанию он равен 1.\n",
        "\n",
        "А еще `range` можно делать не только по положительным и не только вперед!"
      ]
    },
    {
      "cell_type": "code",
      "execution_count": null,
      "metadata": {
        "id": "1DulG-qJH6ZK"
      },
      "outputs": [],
      "source": [
        "for _ in range(6):\n",
        "    print(\"Hello, world\")"
      ]
    },
    {
      "cell_type": "code",
      "execution_count": null,
      "metadata": {
        "id": "liXnCDInH6ZK"
      },
      "outputs": [],
      "source": [
        "for i in range(-10, 0):  # что выведет?\n",
        "    print(i)"
      ]
    },
    {
      "cell_type": "code",
      "execution_count": null,
      "metadata": {
        "id": "IbrU7FDcH6ZK"
      },
      "outputs": [],
      "source": [
        "for i in range(10, 1, -1):  # а тут?\n",
        "    print(i)"
      ]
    },
    {
      "cell_type": "code",
      "execution_count": null,
      "metadata": {
        "id": "dCB64bIuH6ZK"
      },
      "outputs": [],
      "source": [
        "for i in range(10, 0, -2):  # а вот тут?\n",
        "    print(i)"
      ]
    },
    {
      "cell_type": "markdown",
      "metadata": {
        "id": "Q0vyhIlAH6ZK"
      },
      "source": [
        "Обратите внимание на самую верхнюю ячейку. Там мы видим `_` вместо переменной для игнорирования ненужных нам значений переменной в цикле. Так правильно делать, когда вы не используете переменную в теле цикла.\n",
        "\n",
        "Из (бес)полезного: после выполнения цикла переменная на самом деле никуда не удаляется."
      ]
    },
    {
      "cell_type": "code",
      "execution_count": null,
      "metadata": {
        "id": "4i81tJMUH6ZL"
      },
      "outputs": [],
      "source": [
        "for i in range(10): # числа от 0 до 9 включительно\n",
        "    pass  # так можно просто скипнуть, ничего не делая, еще работает просто написать ...\n",
        "\n",
        "print(i)"
      ]
    },
    {
      "cell_type": "markdown",
      "metadata": {
        "id": "_dxwf_YDH6ZL"
      },
      "source": [
        "* по строчкам (правильнее сказать, что по итерируемым объектам)\n",
        "\n",
        "```python\n",
        "for Переменная in Строка\n",
        "```"
      ]
    },
    {
      "cell_type": "code",
      "execution_count": null,
      "metadata": {
        "id": "5xDknj7zH6ZL"
      },
      "outputs": [],
      "source": [
        "word = input()\n",
        "\n",
        "vowels = 'aeiou'\n",
        "for letter in word:\n",
        "    if letter in vowels:\n",
        "        print(letter)"
      ]
    },
    {
      "cell_type": "markdown",
      "metadata": {
        "id": "OSXqYKT9H6ZL"
      },
      "source": [
        "Вам не начинает казаться, что код выше читается буквально как анлийский? Вот она сила читабельных переменных!"
      ]
    },
    {
      "cell_type": "markdown",
      "metadata": {
        "id": "2sBHoh-iPcQ0"
      },
      "source": [
        "* `enumerate`\n",
        "\n",
        "Синтаксис `enumerate`:\n",
        "```python\n",
        "for Переменная №1, Переменная №2 in enumerate(Список значений):\n",
        "```\n",
        "Это счетчик, где **переменная №1** $-$ это номер элемента в списке, а **переменная №2** $-$ это сам элемент в списке.\n",
        "\n",
        "Пример:"
      ]
    },
    {
      "cell_type": "code",
      "execution_count": null,
      "metadata": {
        "id": "daVIO4o2QZde"
      },
      "outputs": [],
      "source": [
        "english = 'abcdefghijklmnopqrstuvwxyzABCDEFGHIJKLMNOPQRSTUVWXYZ'"
      ]
    },
    {
      "cell_type": "code",
      "execution_count": null,
      "metadata": {
        "id": "v54JmtP8QSN_"
      },
      "outputs": [],
      "source": [
        "for number, letter in enumerate(english):\n",
        "    print(number + 1, letter, sep=' - ')"
      ]
    },
    {
      "cell_type": "markdown",
      "metadata": {
        "id": "bwgYb_aMRM-V"
      },
      "source": [
        "### Еще немного о важном:"
      ]
    },
    {
      "cell_type": "markdown",
      "metadata": {
        "id": "y93Y9fgzH6ZL"
      },
      "source": [
        "Есть два оператора:\n",
        "* `continue`: начинает следующий проход цикла, минуя оставшееся тело цикла\n",
        "* `break`: досрочно прерывает цикл\n",
        "\n",
        "Иногда хочется уметь просто перейти на следующую итерацию цикла. Код немного выше можно переписать вот так:"
      ]
    },
    {
      "cell_type": "code",
      "execution_count": null,
      "metadata": {
        "id": "5mEyJc8fH6ZL"
      },
      "outputs": [],
      "source": [
        "word = input()\n",
        "\n",
        "vowels = 'aeiou'\n",
        "for letter in word:\n",
        "    if letter not in vowels:\n",
        "        continue\n",
        "    print(letter)  # выполнится только тогда, когда не сделали continue, поэтому else можно опустить"
      ]
    },
    {
      "cell_type": "markdown",
      "metadata": {
        "id": "-7BpHYBhH6ZL"
      },
      "source": [
        "Цикл можно завершать преждевременно. Внутри цикла `for` можно прописать `else`, который проверит, был ли произведен выход из цикла при помощи `break`, или \"естественно\". Выполняется, только если обошлось без `break`."
      ]
    },
    {
      "cell_type": "code",
      "execution_count": null,
      "metadata": {
        "id": "dMfaxTKpH6ZL"
      },
      "outputs": [],
      "source": [
        "word = input()\n",
        "\n",
        "vowels = 'aeiou'\n",
        "for letter in word:\n",
        "    if letter in vowels:\n",
        "        print(\"Found first vowel:\", letter)\n",
        "        break  # завершает цикл\n",
        "else:  # else после цикла выполнится если в нем не был сделан break и только тогда\n",
        "    print(\"Word has no vowels\")"
      ]
    },
    {
      "cell_type": "markdown",
      "metadata": {
        "id": "zNqOTI2oH6ZL"
      },
      "source": [
        "Циклы можно вкладывать друг в друга:"
      ]
    },
    {
      "cell_type": "code",
      "execution_count": null,
      "metadata": {
        "id": "UaOex7kdH6ZM"
      },
      "outputs": [],
      "source": [
        "n = 10\n",
        "\n",
        "for i in range(1, n + 1):\n",
        "    s = 0\n",
        "    for j in range(1, i + 1):\n",
        "        s += j\n",
        "    print(\"Sum of numbers from 1 to\", i, \"is\", s)"
      ]
    },
    {
      "cell_type": "markdown",
      "metadata": {
        "id": "Jd4y0UkQH6ZM"
      },
      "source": [
        "Кроме того, есть еще цикл `while`, позволяющий выполнять определенные действия, пока верно некоторое условие.\n",
        "\n",
        "```python\n",
        "while Условие/я выполнения тела цикла:\n",
        "    # четыре пробела\n",
        "    Дейстие/я, которые нужно выполнить, ПОКА утверждение/я истинно/ы\n",
        "```\n",
        "\n",
        "Этот цикл удобен, если переменная в условии меняется в теле цикла. Пример, хочу возводить вводимые числа в квадрат, пока мне не введут 0:"
      ]
    },
    {
      "cell_type": "code",
      "execution_count": null,
      "metadata": {
        "id": "okFXMA1IH6ZM"
      },
      "outputs": [],
      "source": [
        "n = int(input())\n",
        "while n != 0:\n",
        "    print(n ** 2)\n",
        "    n = int(input())"
      ]
    },
    {
      "cell_type": "code",
      "execution_count": null,
      "metadata": {
        "id": "UCpP3oX7H6ZM"
      },
      "outputs": [],
      "source": [
        "while (n := int(input())) != 0:  # то же самое\n",
        "    print(n ** 2)"
      ]
    },
    {
      "cell_type": "code",
      "execution_count": null,
      "metadata": {
        "id": "FRDZ5pUOTNFJ"
      },
      "outputs": [],
      "source": [
        "# Задача вводить все числа, пока не будет пустой строки и считать положительные среди чисел.\n",
        "\n",
        "positive = 0\n",
        "\n",
        "while (x := input('Введите целое число: ')):  # x != ''\n",
        "    x = int(x)\n",
        "    if x > 0:\n",
        "        positive += 1\n",
        "print('Среди чисел положительных было', positive)"
      ]
    },
    {
      "cell_type": "markdown",
      "metadata": {
        "id": "qMjfCQn5H6ZM"
      },
      "source": [
        "Всегда можно заменить `while` на `for`:"
      ]
    },
    {
      "cell_type": "code",
      "execution_count": null,
      "metadata": {
        "id": "uqRj6YYpH6ZM"
      },
      "outputs": [],
      "source": [
        "n = int(input())\n",
        "i, s = 1, 0\n",
        "while i <= n:  # давайте подумаем, чего не хватает, чтобы цикл не выполнялся бесконечно?\n",
        "    s += i\n",
        "print(s)"
      ]
    }
  ],
  "metadata": {
    "colab": {
      "provenance": []
    },
    "kernelspec": {
      "display_name": "Python 3",
      "language": "python",
      "name": "python3"
    },
    "language_info": {
      "codemirror_mode": {
        "name": "ipython",
        "version": 3
      },
      "file_extension": ".py",
      "mimetype": "text/x-python",
      "name": "python",
      "nbconvert_exporter": "python",
      "pygments_lexer": "ipython3",
      "version": "3.12.4"
    }
  },
  "nbformat": 4,
  "nbformat_minor": 0
}
