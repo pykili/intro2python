{
  "cells": [
    {
      "cell_type": "markdown",
      "source": [
        "# Семинар 3"
      ],
      "metadata": {
        "id": "gnEIbz8zPpOZ"
      }
    },
    {
      "cell_type": "markdown",
      "source": [
        "## Глава минус первая: что было в прошлый раз?\n",
        "1. Форматированные строки (f-строки)\n",
        "2. Условные операторы: `if`, `elif`, `else`\n",
        "3. Вложенные и каскадные условия"
      ],
      "metadata": {
        "id": "ocbsHdSYKRY8"
      }
    },
    {
      "cell_type": "markdown",
      "source": [
        "## Глава нулевая: по следам семинара 2"
      ],
      "metadata": {
        "id": "2Wnvc9G9Ky-N"
      }
    },
    {
      "cell_type": "markdown",
      "metadata": {
        "id": "BJbsFRswH6ZE"
      },
      "source": [
        "<details><summary>[Факультативно] В Python 3.10 появился Pattern Matching</summary>\n",
        "который позволяет делать это вот так:\n",
        "\n",
        "```(python)\n",
        "match tutor_name:\n",
        "    case \"Катя\":\n",
        "        print(\"Я в группе 4\")\n",
        "    case _:\n",
        "        print(\"Наверное, я ошибся семинаром\")\n",
        "```\n",
        "\n",
        "Но мы намеренно не рассматриваем эту конструкцию сейчас, она сильно более обширна, чем матчинг примитивов, поэтому постараемся поговорить про нее позже.\n",
        "</details>"
      ]
    },
    {
      "cell_type": "markdown",
      "metadata": {
        "id": "Zp06lpCMH6ZE"
      },
      "source": [
        "#### Немного о моржах"
      ]
    },
    {
      "cell_type": "markdown",
      "metadata": {
        "id": "-95YUAHMH6ZF"
      },
      "source": [
        "Давайте упростим конструкцию за счет возможностей Python 3.8:"
      ]
    },
    {
      "cell_type": "code",
      "execution_count": null,
      "metadata": {
        "id": "zqNFYShoH6ZF",
        "outputId": "40cc6c1e-f3ed-4040-8e7d-8bb65f6c6346",
        "colab": {
          "base_uri": "https://localhost:8080/"
        }
      },
      "outputs": [
        {
          "output_type": "stream",
          "name": "stdout",
          "text": [
            "Катя\n",
            "Я в группе 4\n"
          ]
        }
      ],
      "source": [
        "if (tutor_name := input()) == \"Катя\":\n",
        "    print(\"Я в группе 4\")\n",
        "else:\n",
        "    print(f\"Кажется {tutor_name} - семинарист другой группы\")"
      ]
    },
    {
      "cell_type": "markdown",
      "metadata": {
        "id": "qy5EqoO-H6ZF"
      },
      "source": [
        "Но вообще моржовый оператор очень коварен и может вводить в заблуждение. Вокруг него в целом было много шумихи в сообществе языка, и это спровоцировало уход из комитета самого Гвидо Ван Россума."
      ]
    },
    {
      "cell_type": "code",
      "execution_count": null,
      "metadata": {
        "id": "uy_MDiMGH6ZF"
      },
      "outputs": [],
      "source": [
        "if tutor_name := input() == \"Катя\":  # что станет если мы забудем про скобки?\n",
        "    print(\"Я в группе 4\")\n",
        "else:\n",
        "    print(f\"Кажется {tutor_name} - семинарист другой группы\")"
      ]
    },
    {
      "cell_type": "markdown",
      "metadata": {
        "id": "NU8Bq-ADH6ZF"
      },
      "source": [
        "## Глава первая: циклы"
      ]
    },
    {
      "cell_type": "markdown",
      "metadata": {
        "id": "hK_p1-ZYH6ZF"
      },
      "source": [
        "Пусть я хочу найти сумму квадратов целых чисел от 1 до $n$:\n",
        "$$\n",
        "s = 1 + 2^2 + \\ldots + n^2\n",
        "$$"
      ]
    },
    {
      "cell_type": "code",
      "execution_count": null,
      "metadata": {
        "id": "CUufKp0sH6ZF"
      },
      "outputs": [],
      "source": [
        "s = 0\n",
        "\n",
        "s = s + 1\n",
        "print(s)\n",
        "s = s + 2**2\n",
        "print(s)\n",
        "s = s + 3**2\n",
        "print(s)\n",
        "# ну и сколько мы так будем продолжать?"
      ]
    },
    {
      "cell_type": "markdown",
      "source": [
        "> Здесь мы приходим к циклам. Они (грубо говоря) нужны, чтобы не повторять один и тот же кусок кода! А еще чтобы количество повторений (**итераций**) опиралось на данные!\n",
        "\n",
        "Первый тип циклов $-$ это `for`. Его синтаксис такой:\n",
        "```python\n",
        "for Переменная in Список значений:\n",
        "    # четыре пробела\n",
        "    Дейстие/я, которые нужно выполнить, ПОКА переменная в списке значений\n",
        "```\n",
        "\n",
        "Что важно:\n",
        "1. переменную в цикле **не** нужно инициализировать (создавать)\n",
        "2. дефолтное значение для переменной `i`. если оно занято, то `j`, в крайнем случае `k`\n",
        "3. двоеточие и пробелы **обязательны**!\n",
        "4. пробелов обязательно 4 (четыре)\n",
        "5. пробелов перед двоеточием **не** надо!"
      ],
      "metadata": {
        "id": "vAb4i74OLE9T"
      }
    },
    {
      "cell_type": "markdown",
      "source": [
        "### Как задать список значений?"
      ],
      "metadata": {
        "id": "bysYhUOmPjZS"
      }
    },
    {
      "cell_type": "markdown",
      "source": [
        "* `range`\n",
        "\n",
        "Синтаксис `range`:\n",
        "```python\n",
        "for Переменная in range(Начальное значание, Конечное значение, Шаг):\n",
        "```\n",
        "Пояснения (все, кроме конца, опционально):\n",
        "1. Начальное значение $-$ то, с которого начинается перебор значений (включительно).\n",
        "2. Конечное значение $-$ то, на котором перебор останавливается (если переменная больше или равна конечному значению, т.е. не включительно): `range(a, b)` $-$ это `[a, b)`\n",
        "3. Шаг $-$ то, какая разница будет между каждым из значений.\n",
        "\n",
        "Пример:"
      ],
      "metadata": {
        "id": "dMunoh3OMCe6"
      }
    },
    {
      "cell_type": "code",
      "execution_count": null,
      "metadata": {
        "id": "OEy7R5EVH6ZG"
      },
      "outputs": [],
      "source": [
        "n = int(input())\n",
        "\n",
        "s = 0\n",
        "for i in range(1, n + 1):  # обратите внимание, что range(a, b) - это [a, b)\n",
        "    s = s + i ** 2\n",
        "    # s += i**2   # более короткая форма записи\n",
        "\n",
        "print(s)"
      ]
    },
    {
      "cell_type": "markdown",
      "metadata": {
        "id": "RX2UHQGVH6ZG"
      },
      "source": [
        "Такое же, но сумма четных:"
      ]
    },
    {
      "cell_type": "code",
      "execution_count": null,
      "metadata": {
        "id": "FOL5ZI-CH6ZG"
      },
      "outputs": [],
      "source": [
        "n = int(input())\n",
        "\n",
        "s = 0\n",
        "for x in range(1, n + 1):\n",
        "    if x % 2 == 0:\n",
        "        s += x\n",
        "print(s)"
      ]
    },
    {
      "cell_type": "markdown",
      "metadata": {
        "id": "EqctdupRH6ZG"
      },
      "source": [
        "Или еще чуть проще:"
      ]
    },
    {
      "cell_type": "code",
      "execution_count": null,
      "metadata": {
        "id": "AW6CYI-kH6ZK"
      },
      "outputs": [],
      "source": [
        "n = int(input())\n",
        "\n",
        "s = 0\n",
        "for x in range(2, n + 1, 2):  # а можно еще проще\n",
        "    s += x\n",
        "print(s)\n"
      ]
    },
    {
      "cell_type": "markdown",
      "metadata": {
        "id": "5gG2OpNSH6ZK"
      },
      "source": [
        "Можно сразу две суммы считать:"
      ]
    },
    {
      "cell_type": "code",
      "execution_count": null,
      "metadata": {
        "id": "PBfhX4sbH6ZK"
      },
      "outputs": [],
      "source": [
        "n = int(input())\n",
        "\n",
        "s1, s2 = 0, 0\n",
        "for x in range(1, n + 1):\n",
        "    if x % 2 == 0:\n",
        "        s1 += x\n",
        "    else:\n",
        "        s2 += x\n",
        "\n",
        "print(s1, s2)"
      ]
    },
    {
      "cell_type": "markdown",
      "metadata": {
        "id": "Tla7WZqrH6ZK"
      },
      "source": [
        "Если левая граница (начало) `range` не указана, то она считается 0, если не указан шаг, по умолчанию он равен 1.\n",
        "\n",
        "А еще `range` можно делать не только по положительным и не только вперед!"
      ]
    },
    {
      "cell_type": "code",
      "execution_count": null,
      "metadata": {
        "id": "1DulG-qJH6ZK"
      },
      "outputs": [],
      "source": [
        "for _ in range(6):\n",
        "    print(\"Hello, world\")"
      ]
    },
    {
      "cell_type": "code",
      "execution_count": null,
      "metadata": {
        "id": "liXnCDInH6ZK"
      },
      "outputs": [],
      "source": [
        "for i in range(-10, 0):  # что выведет?\n",
        "    print(i)"
      ]
    },
    {
      "cell_type": "code",
      "execution_count": null,
      "metadata": {
        "id": "IbrU7FDcH6ZK"
      },
      "outputs": [],
      "source": [
        "for i in range(10, 1, -1):  # а тут?\n",
        "    print(i)"
      ]
    },
    {
      "cell_type": "code",
      "execution_count": null,
      "metadata": {
        "id": "dCB64bIuH6ZK"
      },
      "outputs": [],
      "source": [
        "for i in range(10, 0, -2):  # а вот тут?\n",
        "    print(i)"
      ]
    },
    {
      "cell_type": "markdown",
      "metadata": {
        "id": "Q0vyhIlAH6ZK"
      },
      "source": [
        "Обратите внимание на самую верхнюю ячейку. Там мы видим `_` вместо переменной для игнорирования ненужных нам значений переменной в цикле. Так правильно делать, когда вы не используете переменную в теле цикла.\n",
        "\n",
        "Из (бес)полезного: после выполнения цикла переменная на самом деле никуда не удаляется."
      ]
    },
    {
      "cell_type": "code",
      "execution_count": null,
      "metadata": {
        "id": "4i81tJMUH6ZL"
      },
      "outputs": [],
      "source": [
        "for i in range(10): # числа от 0 до 9 включительно\n",
        "    pass  # так можно просто скипнуть, ничего не делая, еще работает просто написать ...\n",
        "\n",
        "print(i)"
      ]
    },
    {
      "cell_type": "markdown",
      "metadata": {
        "id": "_dxwf_YDH6ZL"
      },
      "source": [
        "* по строчкам (правильнее сказать, что по итерируемым объектам)\n",
        "\n",
        "```python\n",
        "for Переменная in Строка\n",
        "```"
      ]
    },
    {
      "cell_type": "code",
      "execution_count": null,
      "metadata": {
        "id": "5xDknj7zH6ZL"
      },
      "outputs": [],
      "source": [
        "word = input()\n",
        "\n",
        "vowels = 'aeiou'\n",
        "for letter in word:\n",
        "    if letter in vowels:\n",
        "        print(letter)"
      ]
    },
    {
      "cell_type": "markdown",
      "metadata": {
        "id": "OSXqYKT9H6ZL"
      },
      "source": [
        "Вам не начинает казаться, что код выше читается буквально как анлийский? Вот она сила читабельных переменных!"
      ]
    },
    {
      "cell_type": "markdown",
      "source": [
        "* `enumerate`\n",
        "\n",
        "Синтаксис `enumerate`:\n",
        "```python\n",
        "for Переменная №1, Переменная №2 in enumerate(Список значений):\n",
        "```\n",
        "Это счетчик, где **переменная №1** $-$ это номер элемента в списке, а **переменная №2** $-$ это сам элемент в списке.\n",
        "\n",
        "Пример:"
      ],
      "metadata": {
        "id": "2sBHoh-iPcQ0"
      }
    },
    {
      "cell_type": "code",
      "source": [
        "english = 'abcdefghijklmnopqrstuvwxyzABCDEFGHIJKLMNOPQRSTUVWXYZ'"
      ],
      "metadata": {
        "id": "daVIO4o2QZde"
      },
      "execution_count": null,
      "outputs": []
    },
    {
      "cell_type": "code",
      "source": [
        "for number, letter in enumerate(english):\n",
        "    print(number + 1, letter, sep=' - ')"
      ],
      "metadata": {
        "id": "v54JmtP8QSN_"
      },
      "execution_count": null,
      "outputs": []
    },
    {
      "cell_type": "markdown",
      "source": [
        "### Еще немного о важном:"
      ],
      "metadata": {
        "id": "bwgYb_aMRM-V"
      }
    },
    {
      "cell_type": "markdown",
      "metadata": {
        "id": "y93Y9fgzH6ZL"
      },
      "source": [
        "Есть два оператора:\n",
        "* `continue`: начинает следующий проход цикла, минуя оставшееся тело цикла\n",
        "* `break`: досрочно прерывает цикл\n",
        "\n",
        "Иногда хочется уметь просто перейти на следующую итерацию цикла. Код немного выше можно переписать вот так:"
      ]
    },
    {
      "cell_type": "code",
      "execution_count": null,
      "metadata": {
        "id": "5mEyJc8fH6ZL"
      },
      "outputs": [],
      "source": [
        "word = input()\n",
        "\n",
        "vowels = 'aeiou'\n",
        "for letter in word:\n",
        "    if letter not in vowels:\n",
        "        continue\n",
        "    print(letter)  # выполнится только тогда, когда не сделали continue, поэтому else можно опустить"
      ]
    },
    {
      "cell_type": "markdown",
      "metadata": {
        "id": "-7BpHYBhH6ZL"
      },
      "source": [
        "Цикл можно завершать преждевременно. Внутри цикла `for` можно прописать `else`, который проверит, был ли произведен выход из цикла при помощи `break`, или \"естественно\". Выполняется, только если обошлось без `break`."
      ]
    },
    {
      "cell_type": "code",
      "execution_count": null,
      "metadata": {
        "id": "dMfaxTKpH6ZL"
      },
      "outputs": [],
      "source": [
        "word = input()\n",
        "\n",
        "vowels = 'aeiou'\n",
        "for letter in word:\n",
        "    if letter in vowels:\n",
        "        print(\"Found first vowel:\", letter)\n",
        "        break  # завершает цикл\n",
        "else:  # else после цикла выполнится если в нем не был сделан break и только тогда\n",
        "    print(\"Word has no vowels\")"
      ]
    },
    {
      "cell_type": "markdown",
      "metadata": {
        "id": "zNqOTI2oH6ZL"
      },
      "source": [
        "Циклы можно вкладывать друг в друга:"
      ]
    },
    {
      "cell_type": "code",
      "execution_count": null,
      "metadata": {
        "id": "UaOex7kdH6ZM"
      },
      "outputs": [],
      "source": [
        "n = 10\n",
        "\n",
        "for i in range(1, n + 1):\n",
        "    s = 0\n",
        "    for j in range(1, i + 1):\n",
        "        s += j\n",
        "    print(\"Sum of numbers from 1 to\", i, \"is\", s)"
      ]
    },
    {
      "cell_type": "markdown",
      "metadata": {
        "id": "Jd4y0UkQH6ZM"
      },
      "source": [
        "Кроме того, есть еще цикл `while`, позволяющий выполнять определенные действия, пока верно некоторое условие.\n",
        "\n",
        "```python\n",
        "while Условие/я выполнения тела цикла:\n",
        "    # четыре пробела\n",
        "    Дейстие/я, которые нужно выполнить, ПОКА утверждение/я истинно/ы\n",
        "```\n",
        "\n",
        "Этот цикл удобен, если переменная в условии меняется в теле цикла. Пример, хочу возводить вводимые числа в квадрат, пока мне не введут 0:"
      ]
    },
    {
      "cell_type": "code",
      "execution_count": null,
      "metadata": {
        "id": "okFXMA1IH6ZM"
      },
      "outputs": [],
      "source": [
        "n = int(input())\n",
        "while n != 0:\n",
        "    print(n ** 2)\n",
        "    n = int(input())"
      ]
    },
    {
      "cell_type": "code",
      "execution_count": null,
      "metadata": {
        "id": "UCpP3oX7H6ZM"
      },
      "outputs": [],
      "source": [
        "while (n := int(input())) != 0:  # то же самое\n",
        "    print(n ** 2)"
      ]
    },
    {
      "cell_type": "code",
      "source": [
        "# Задача вводить все числа, пока не будет пустой строки и считать положительные среди чисел.\n",
        "\n",
        "positive = 0\n",
        "\n",
        "while (x := input('Введите целое число: ')):  # x != ''\n",
        "    x = int(x)\n",
        "    if x > 0:\n",
        "        positive += 1\n",
        "print('Среди чисел положительных было', positive)"
      ],
      "metadata": {
        "id": "FRDZ5pUOTNFJ"
      },
      "execution_count": null,
      "outputs": []
    },
    {
      "cell_type": "markdown",
      "metadata": {
        "id": "qMjfCQn5H6ZM"
      },
      "source": [
        "Всегда можно заменить `while` на `for`:"
      ]
    },
    {
      "cell_type": "code",
      "execution_count": null,
      "metadata": {
        "id": "uqRj6YYpH6ZM"
      },
      "outputs": [],
      "source": [
        "n = int(input())\n",
        "i, s = 1, 0\n",
        "while i <= n:  # давайте подумаем, чего не хватает, чтобы цикл не выполнялся бесконечно?\n",
        "    s += i\n",
        "print(s)"
      ]
    },
    {
      "cell_type": "markdown",
      "metadata": {
        "id": "mXT7CYByH6ZM"
      },
      "source": [
        "## Глава вторая: практика"
      ]
    },
    {
      "cell_type": "markdown",
      "metadata": {
        "id": "DbSNJxMDXoI5"
      },
      "source": [
        "### Условные операторы"
      ]
    },
    {
      "cell_type": "markdown",
      "metadata": {
        "id": "-nHxXcJ-XoI6"
      },
      "source": [
        "#### Задача 1.\n",
        "\n",
        "Напишите код, который принимает на вход имя пользователя и здоровается с ним. При этом если имя длиннее 7 букв, то сначала переспросите у пользователя его краткое имя и только потом поздоровайтесь, используя его."
      ]
    },
    {
      "cell_type": "code",
      "execution_count": null,
      "metadata": {
        "id": "tkrk2N1-XoI6"
      },
      "outputs": [],
      "source": []
    },
    {
      "cell_type": "markdown",
      "metadata": {
        "id": "TnFG7t2wXoI6"
      },
      "source": [
        "#### Задача 2.\n",
        "\n",
        "Напишите программу, которая проверяет, верно ли пользователь ввел электронную почту. Вводится одна строка с почтой.\n",
        "\n",
        "**Выходные данные:**\n",
        "\n",
        "- Выводится строка «Почта введена верно» если в строке есть знак «@» и «.».\n",
        "- Выводится строка «Отсутствует @» если нет соответствующего символа.\n",
        "- Выводится строка «Отсутствует .» если нет соответствующего символа.\n",
        "- Выводится строка «Отсутствует @ и .» если нет соответствующих символов."
      ]
    },
    {
      "cell_type": "code",
      "execution_count": null,
      "metadata": {
        "id": "dYXppWNCXoI6"
      },
      "outputs": [],
      "source": []
    },
    {
      "cell_type": "markdown",
      "metadata": {
        "id": "0B9kFV--XoI6"
      },
      "source": [
        "#### Задача 3.\n",
        "\n",
        "Запросите стороны треугольника и определите, является ли он разносторонним, равнобедренным или равносторонним. Учтите условие условие: третья сторона не должна превышать сумму двух других, иначе треугольник не существует."
      ]
    },
    {
      "cell_type": "code",
      "execution_count": null,
      "metadata": {
        "id": "hiyfXk7fXoI7"
      },
      "outputs": [],
      "source": []
    },
    {
      "cell_type": "markdown",
      "source": [
        "### Циклы"
      ],
      "metadata": {
        "id": "IIqah_c_VgFR"
      }
    },
    {
      "cell_type": "markdown",
      "metadata": {
        "id": "Y298ejMxH6ZM"
      },
      "source": [
        "#### Задача 1.\n",
        "\n",
        "По данному натуральному $n\\le9$ выведите лесенку из n ступенек, $i$-я ступенька состоит из чисел от 1 до $i$ без пробелов.\n",
        "Например, для числа 4:\n",
        "\n",
        "1<br>\n",
        "12<br>\n",
        "123<br>\n",
        "1234<br>"
      ]
    },
    {
      "cell_type": "code",
      "execution_count": null,
      "metadata": {
        "id": "TMgi9o6DH6ZN"
      },
      "outputs": [],
      "source": []
    },
    {
      "cell_type": "markdown",
      "metadata": {
        "id": "69zCdufaH6ZN"
      },
      "source": [
        "#### Задача 2.\n",
        "\n",
        "Последовательность состоит из натуральных чисел и завершается числом 0. Определите значение наибольшего элемента последовательности.\n",
        "\n",
        "**Ввод**:\n",
        "```\n",
        "7\n",
        "9\n",
        "2\n",
        "0\n",
        "```\n",
        "**Вывод**:\n",
        "```\n",
        "9\n",
        "```"
      ]
    },
    {
      "cell_type": "code",
      "execution_count": null,
      "metadata": {
        "id": "JXPImlVAH6ZN"
      },
      "outputs": [],
      "source": []
    },
    {
      "cell_type": "markdown",
      "metadata": {
        "id": "oskizU1MH6ZN"
      },
      "source": [
        "#### Задача 3\n",
        "\n",
        "По данному натуральному числу $n$ выведите такое наименьшее целое число $k$, что $2^k \\ge n$.\n",
        "\n",
        "Операцией возведения в степень пользоваться нельзя!"
      ]
    },
    {
      "cell_type": "code",
      "execution_count": null,
      "metadata": {
        "id": "Bxq0HY6gH6ZN"
      },
      "outputs": [],
      "source": []
    }
  ],
  "metadata": {
    "kernelspec": {
      "display_name": "Python 3 (ipykernel)",
      "language": "python",
      "name": "python3"
    },
    "language_info": {
      "codemirror_mode": {
        "name": "ipython",
        "version": 3
      },
      "file_extension": ".py",
      "mimetype": "text/x-python",
      "name": "python",
      "nbconvert_exporter": "python",
      "pygments_lexer": "ipython3",
      "version": "3.9.13"
    },
    "vscode": {
      "interpreter": {
        "hash": "b0fa6594d8f4cbf19f97940f81e996739fb7646882a419484c72d19e05852a7e"
      }
    },
    "colab": {
      "provenance": []
    }
  },
  "nbformat": 4,
  "nbformat_minor": 0
}