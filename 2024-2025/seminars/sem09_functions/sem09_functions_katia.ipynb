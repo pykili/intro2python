{
  "cells": [
    {
      "cell_type": "markdown",
      "metadata": {
        "id": "nR16_Cf5Hk4D"
      },
      "source": [
        "# Семинар 9: функции"
      ]
    },
    {
      "cell_type": "markdown",
      "metadata": {
        "id": "mdnZwd_wQlBJ"
      },
      "source": [
        "## База функций"
      ]
    },
    {
      "cell_type": "markdown",
      "metadata": {
        "id": "VdtagYaaHr4X"
      },
      "source": [
        "Синтаксис привычный:\n",
        "\n",
        "Вводится при помощи `def`, дальше идет название функции, ее аргумент_ы, двоеточие. Тело функции с отступом.\n",
        "\n",
        "```python\n",
        "def function_name(argument_1, argument_2, ...):\n",
        "    # something to do\n",
        "    return ...\n",
        "```\n",
        "\n",
        "Обычно функция что-то выводит при помощи `return` (**БЕЗ** скобок)."
      ]
    },
    {
      "cell_type": "code",
      "execution_count": 1,
      "metadata": {
        "id": "PUZ1WlvSItsy"
      },
      "outputs": [],
      "source": [
        "def multiplication(a, b):\n",
        "    return a * b"
      ]
    },
    {
      "cell_type": "markdown",
      "metadata": {
        "id": "QR9U37nuI5bW"
      },
      "source": [
        "Функция запустилась, но ничего не произошло... Почему?\n",
        "\n",
        "Нам надо ее вызвать через ее название, передав в качестве аргументов реальные значения!"
      ]
    },
    {
      "cell_type": "code",
      "execution_count": 18,
      "metadata": {
        "colab": {
          "base_uri": "https://localhost:8080/"
        },
        "id": "LZuZDvX-It1q",
        "outputId": "db2b093d-56bd-40de-85ba-edd9f5a8eddd"
      },
      "outputs": [
        {
          "name": "stdout",
          "output_type": "stream",
          "text": [
            "30\n"
          ]
        }
      ],
      "source": [
        "print(multiplication(5, 6))"
      ]
    },
    {
      "cell_type": "code",
      "execution_count": 19,
      "metadata": {
        "colab": {
          "base_uri": "https://localhost:8080/"
        },
        "id": "JhIOOngEHgwn",
        "outputId": "1d98954a-73e4-4a93-e3de-f2996deb37fd"
      },
      "outputs": [
        {
          "name": "stdout",
          "output_type": "stream",
          "text": [
            "aaaaaa\n"
          ]
        }
      ],
      "source": [
        "print(multiplication('a', 6))"
      ]
    },
    {
      "cell_type": "markdown",
      "metadata": {
        "id": "3iuuSGw-LrdA"
      },
      "source": [
        "Аргументы существуют только внутри функции, поэтому вне функции пытаться делать что-то с ними бесполезно. С другой стороны, если аргумент был определен где-то вне функции, то может случиться беда (но об этом позже)..."
      ]
    },
    {
      "cell_type": "code",
      "execution_count": 4,
      "metadata": {
        "colab": {
          "base_uri": "https://localhost:8080/",
          "height": 145
        },
        "id": "aepBGpmtLlPb",
        "outputId": "7bc7f453-3280-4a49-a72d-ee36b0b81f0d"
      },
      "outputs": [
        {
          "ename": "NameError",
          "evalue": "name 'a' is not defined",
          "output_type": "error",
          "traceback": [
            "\u001b[0;31m---------------------------------------------------------------------------\u001b[0m",
            "\u001b[0;31mNameError\u001b[0m                                 Traceback (most recent call last)",
            "\u001b[0;32m<ipython-input-4-bca0e2660b9f>\u001b[0m in \u001b[0;36m<cell line: 0>\u001b[0;34m()\u001b[0m\n\u001b[0;32m----> 1\u001b[0;31m \u001b[0mprint\u001b[0m\u001b[0;34m(\u001b[0m\u001b[0ma\u001b[0m\u001b[0;34m)\u001b[0m\u001b[0;34m\u001b[0m\u001b[0;34m\u001b[0m\u001b[0m\n\u001b[0m",
            "\u001b[0;31mNameError\u001b[0m: name 'a' is not defined"
          ]
        }
      ],
      "source": [
        "print(a)"
      ]
    },
    {
      "cell_type": "markdown",
      "metadata": {
        "id": "fHhZVKpOJcd7"
      },
      "source": [
        "Функция может быть любой сложности, вложена одна в другую и возвращать любой тип данных:"
      ]
    },
    {
      "cell_type": "code",
      "execution_count": 5,
      "metadata": {
        "id": "Qzx326YZJZoq"
      },
      "outputs": [],
      "source": [
        "def addition_1(n):\n",
        "     def addition_2(x):\n",
        "         return x + n\n",
        "     return addition_2"
      ]
    },
    {
      "cell_type": "code",
      "execution_count": 6,
      "metadata": {
        "colab": {
          "base_uri": "https://localhost:8080/"
        },
        "id": "u0S5hWrzJqv8",
        "outputId": "07caeb44-2667-4b57-c605-2b8000626199"
      },
      "outputs": [
        {
          "name": "stdout",
          "output_type": "stream",
          "text": [
            "<class 'function'>\n"
          ]
        }
      ],
      "source": [
        "new = addition_1(100)  # Какой тип данных у переменной new?\n",
        "print(type(new))"
      ]
    },
    {
      "cell_type": "code",
      "execution_count": 20,
      "metadata": {
        "colab": {
          "base_uri": "https://localhost:8080/"
        },
        "id": "Drs5KkVKJxdK",
        "outputId": "88670f3e-d767-4a38-9914-169254ab8e87"
      },
      "outputs": [
        {
          "name": "stdout",
          "output_type": "stream",
          "text": [
            "600\n"
          ]
        }
      ],
      "source": [
        "print(new(500))"
      ]
    },
    {
      "cell_type": "markdown",
      "metadata": {
        "id": "jGIcBcrsKPG5"
      },
      "source": [
        "Функция может и ничего не возвращать. Тогда вместо `return` используется `pass` (или ничего):"
      ]
    },
    {
      "cell_type": "code",
      "execution_count": 8,
      "metadata": {
        "id": "b-_KiNULJzvR"
      },
      "outputs": [],
      "source": [
        "def my_function():\n",
        "    pass"
      ]
    },
    {
      "cell_type": "code",
      "execution_count": 9,
      "metadata": {
        "colab": {
          "base_uri": "https://localhost:8080/"
        },
        "id": "pN2veIZUKipa",
        "outputId": "90f6a27b-684c-4eb3-8a91-425bf1db2c8b"
      },
      "outputs": [
        {
          "name": "stdout",
          "output_type": "stream",
          "text": [
            "None\n"
          ]
        }
      ],
      "source": [
        "print(my_function())"
      ]
    },
    {
      "cell_type": "markdown",
      "metadata": {
        "id": "8FWRagX0Gqma"
      },
      "source": [
        "Еще одна важная идея: `return` всегда выкидывает нас из функции."
      ]
    },
    {
      "cell_type": "code",
      "execution_count": 15,
      "metadata": {
        "id": "JmxTEksuGliC"
      },
      "outputs": [],
      "source": [
        "def has_negative_number(list_numbers):\n",
        "    for num in list_numbers:\n",
        "        if num < 0:\n",
        "            print(num)\n",
        "            return True\n",
        "\n",
        "    return False  # вопрос: что вернет функция, если я забуду здесь return False написать?"
      ]
    },
    {
      "cell_type": "code",
      "execution_count": 17,
      "metadata": {
        "colab": {
          "base_uri": "https://localhost:8080/"
        },
        "id": "smhfItR2Hnp0",
        "outputId": "4490e31d-501f-4c90-acc2-118a8d6014d2"
      },
      "outputs": [
        {
          "name": "stdout",
          "output_type": "stream",
          "text": [
            "-10\n",
            "True\n"
          ]
        }
      ],
      "source": [
        "print(has_negative_number([1, 2, -10, 0, -6]))"
      ]
    },
    {
      "cell_type": "markdown",
      "metadata": {
        "id": "pKC9VEqQH_ea"
      },
      "source": [
        "Чтобы сообщить, какие типы данных наша функция принимает и возвращает, используются тайпинги, которые улучшают читаемость кода. Есть всякие чеккеры, типа [`mypy`](https://mypy-lang.org/), которые проверяют их корректность."
      ]
    },
    {
      "cell_type": "code",
      "execution_count": 21,
      "metadata": {
        "id": "0GnVsDbbH9XE"
      },
      "outputs": [],
      "source": [
        "def has_negative_number(numbers: list[int]) -> bool:\n",
        "    for num in numbers:\n",
        "        if num < 0:\n",
        "            return True\n",
        "\n",
        "    return False"
      ]
    },
    {
      "cell_type": "markdown",
      "metadata": {
        "id": "MKW5UTk8JT4r"
      },
      "source": [
        "### Задача №1"
      ]
    },
    {
      "cell_type": "markdown",
      "metadata": {
        "id": "E4aE3KtpJWux"
      },
      "source": [
        "Напишите функцию `jumble()`, которая берёт на вход слово и случайным образом перемешивает буквы внутри него, кроме первой и последней. Затем возвращает это слово с перемешанными буквами.\n",
        "    \n",
        "**Примеры работы функции:**\n",
        "   \n",
        "```python\n",
        ">>> print(jumble('банан'))\n",
        "<<< бнаан\n",
        "```\n",
        "    \n",
        "```python\n",
        ">>> print(jumble('университет'))\n",
        "<<< урнтиеесивт\n",
        "```"
      ]
    },
    {
      "cell_type": "code",
      "execution_count": 36,
      "metadata": {
        "id": "CHAVZneVJnbY"
      },
      "outputs": [],
      "source": [
        "from random import shuffle\n",
        "\n",
        "\n",
        "def jumble(word: str) -> str:\n",
        "    first, middle, last = word[0], word[1:-1], word[-1]\n",
        "    middle = list(middle)\n",
        "    shuffle(middle)\n",
        "    word = first + ''.join(middle) + last\n",
        "    return word"
      ]
    },
    {
      "cell_type": "code",
      "execution_count": 37,
      "metadata": {},
      "outputs": [
        {
          "name": "stdout",
          "output_type": "stream",
          "text": [
            "чеизнас\n"
          ]
        }
      ],
      "source": [
        "print(jumble('чиназес'))"
      ]
    },
    {
      "cell_type": "markdown",
      "metadata": {
        "id": "gykBdeULQwpL"
      },
      "source": [
        "## Позиционные и именованные аргументы"
      ]
    },
    {
      "cell_type": "markdown",
      "metadata": {
        "id": "dfctmevtK-Bb"
      },
      "source": [
        "Сейчас мы смотрели на функции с обязательными позиционными аргументами. Но есть еще необязательные именованные. Их мы прописываем **после** обязательных с равно, где после равно идет дефолтное значение для этой переменной.\n",
        "\n",
        "Если этот аргумент прописан в вызове функции, то мы его подставляем. Иначе используем дефолтный:"
      ]
    },
    {
      "cell_type": "code",
      "execution_count": 30,
      "metadata": {
        "id": "T8LVx0tLKj_z"
      },
      "outputs": [],
      "source": [
        "def greeting(name: str, surname: str, age: int = 7) -> str:  # Вопрос: где мы это уже встречали?\n",
        "    return f'Happy {age}-th BDay, {name} {surname}!'"
      ]
    },
    {
      "cell_type": "code",
      "execution_count": 31,
      "metadata": {
        "colab": {
          "base_uri": "https://localhost:8080/"
        },
        "id": "mAyENZLdMZa2",
        "outputId": "08302bf9-abf2-4ed9-d952-7a41e1fe37be"
      },
      "outputs": [
        {
          "name": "stdout",
          "output_type": "stream",
          "text": [
            "Happy 26-th BDay, Mark Renton!\n"
          ]
        }
      ],
      "source": [
        "print(greeting('Mark', 'Renton', age=26))  # или так: greeting('Mark', 'Renton', 26)"
      ]
    },
    {
      "cell_type": "code",
      "execution_count": 32,
      "metadata": {
        "colab": {
          "base_uri": "https://localhost:8080/"
        },
        "id": "pN9i6WP7MlsH",
        "outputId": "a3a8ca33-fa2a-4b0a-cd62-08197f0eda5b"
      },
      "outputs": [
        {
          "name": "stdout",
          "output_type": "stream",
          "text": [
            "Happy 7-th BDay, Dora Márquez!\n"
          ]
        }
      ],
      "source": [
        "print(greeting('Dora', 'Márquez'))"
      ]
    },
    {
      "cell_type": "markdown",
      "metadata": {
        "id": "OUaZfL8ZNLF9"
      },
      "source": [
        "С обязательными аргументами так нельзя:"
      ]
    },
    {
      "cell_type": "code",
      "execution_count": 33,
      "metadata": {
        "colab": {
          "base_uri": "https://localhost:8080/",
          "height": 145
        },
        "id": "1roF-71sMxpw",
        "outputId": "eac10fb9-46a6-493b-8772-fa978bb64a60"
      },
      "outputs": [
        {
          "ename": "TypeError",
          "evalue": "greeting() missing 1 required positional argument: 'surname'",
          "output_type": "error",
          "traceback": [
            "\u001b[0;31m---------------------------------------------------------------------------\u001b[0m",
            "\u001b[0;31mTypeError\u001b[0m                                 Traceback (most recent call last)",
            "\u001b[0;32m<ipython-input-33-1d379f612f3c>\u001b[0m in \u001b[0;36m<cell line: 0>\u001b[0;34m()\u001b[0m\n\u001b[0;32m----> 1\u001b[0;31m \u001b[0mgreeting\u001b[0m\u001b[0;34m(\u001b[0m\u001b[0;34m'Kate'\u001b[0m\u001b[0;34m)\u001b[0m\u001b[0;34m\u001b[0m\u001b[0;34m\u001b[0m\u001b[0m\n\u001b[0m",
            "\u001b[0;31mTypeError\u001b[0m: greeting() missing 1 required positional argument: 'surname'"
          ]
        }
      ],
      "source": [
        "greeting('Kate')"
      ]
    },
    {
      "cell_type": "markdown",
      "metadata": {
        "id": "9AvoKBVqR0W8"
      },
      "source": [
        "Так тоже нельзя:"
      ]
    },
    {
      "cell_type": "code",
      "execution_count": 55,
      "metadata": {
        "colab": {
          "base_uri": "https://localhost:8080/",
          "height": 109
        },
        "id": "K-pRnRCgRuBH",
        "outputId": "92d5c4f8-7786-4655-f7df-aeaf0eaffff9"
      },
      "outputs": [
        {
          "ename": "SyntaxError",
          "evalue": "positional argument follows keyword argument (<ipython-input-55-16222151d1f7>, line 1)",
          "output_type": "error",
          "traceback": [
            "\u001b[0;36m  File \u001b[0;32m\"<ipython-input-55-16222151d1f7>\"\u001b[0;36m, line \u001b[0;32m1\u001b[0m\n\u001b[0;31m    greeting(age=22, 'Kate', 'Kozlova')\u001b[0m\n\u001b[0m                                      ^\u001b[0m\n\u001b[0;31mSyntaxError\u001b[0m\u001b[0;31m:\u001b[0m positional argument follows keyword argument\n"
          ]
        }
      ],
      "source": [
        "greeting(age=22, 'Kate', 'Kozlova')"
      ]
    },
    {
      "cell_type": "markdown",
      "metadata": {
        "id": "AMrASlUcOOsU"
      },
      "source": [
        "### Задача №2"
      ]
    },
    {
      "cell_type": "markdown",
      "metadata": {
        "id": "mYlsU4L1ORtp"
      },
      "source": [
        "Напишите функцию `odd_even()`, которая на вход получает два обязательных аргумента-числа $-$ начало и конец вычисляемого промежутка и один необязательный (`bool`) $-$ четный (`True`) или нечетный (`False`). При этом значение по умолчанию $-$ нечетный.\n",
        "    \n",
        "В результате посчитайте сумму всех не_четных чисел соответственно внутри вычисляемого промежутка (включая границы).\n",
        "    \n",
        "**Примеры работы функции:**\n",
        "```python\n",
        ">>> print(odd_even(1, 4, True))\n",
        "<<< 6\n",
        "```\n",
        "\n",
        "```python\n",
        ">>> print(odd_even(1, 6))\n",
        "<<< 9\n",
        "```"
      ]
    },
    {
      "cell_type": "code",
      "execution_count": 23,
      "metadata": {
        "id": "aUc6gUFpOuaE"
      },
      "outputs": [],
      "source": [
        "def odd_even(start: int, stop: int, is_even: bool = False) -> int:\n",
        "    number_sum = 0\n",
        "    for i in range(start, stop + 1):\n",
        "        if is_even and i % 2 == 0:\n",
        "            number_sum += i\n",
        "        elif not is_even and i % 2 == 1:\n",
        "            number_sum += i\n",
        "    return number_sum"
      ]
    },
    {
      "cell_type": "markdown",
      "metadata": {
        "id": "krJ85yuuNSdi"
      },
      "source": [
        "Функция также может принимать переменное количество позиционных аргументов, тогда перед именем ставится `*`. Перепишем функцию поиска отрицательных чисел из начала:"
      ]
    },
    {
      "cell_type": "code",
      "execution_count": 37,
      "metadata": {
        "id": "i9A4DquOM7FU"
      },
      "outputs": [],
      "source": [
        "def has_negative_number(*numbers: int) -> bool:\n",
        "    for num in numbers:\n",
        "        if num < 0:\n",
        "            return True\n",
        "\n",
        "    return False"
      ]
    },
    {
      "cell_type": "code",
      "execution_count": 38,
      "metadata": {
        "colab": {
          "base_uri": "https://localhost:8080/"
        },
        "id": "TtPlQwXLNIr8",
        "outputId": "a1aa0358-010f-4a63-a491-b8559d449ba5"
      },
      "outputs": [
        {
          "name": "stdout",
          "output_type": "stream",
          "text": [
            "True\n"
          ]
        }
      ],
      "source": [
        "print(has_negative_number(1, 2, 3, 4, -1))"
      ]
    },
    {
      "cell_type": "markdown",
      "metadata": {
        "id": "6vjV17M6NbvX"
      },
      "source": [
        "А какой это вообще тип данных?"
      ]
    },
    {
      "cell_type": "code",
      "execution_count": 56,
      "metadata": {
        "id": "-Q9HMVH2M1x1"
      },
      "outputs": [],
      "source": [
        "from typing import Any\n",
        "\n",
        "\n",
        "def returning(*args: Any) -> ...:\n",
        "     return args\n",
        "\n",
        "\n",
        "# print(returning(1, 2, 'abc', ['red', 'black']))"
      ]
    },
    {
      "cell_type": "markdown",
      "metadata": {
        "id": "ulLiz-qTOAZd"
      },
      "source": [
        "Если это кортеж, то с ним можно делать все, к чему привыкли с кортежами:"
      ]
    },
    {
      "cell_type": "code",
      "execution_count": 51,
      "metadata": {
        "id": "q02kPBagN8Qi"
      },
      "outputs": [],
      "source": [
        "def summary(*args: int | float) -> int | float:\n",
        "     return sum(args)"
      ]
    },
    {
      "cell_type": "code",
      "execution_count": 52,
      "metadata": {
        "colab": {
          "base_uri": "https://localhost:8080/"
        },
        "id": "F9tpLD3MONvn",
        "outputId": "303ef9c2-d100-42b6-b1f7-b95d555acd32"
      },
      "outputs": [
        {
          "name": "stdout",
          "output_type": "stream",
          "text": [
            "16.7\n"
          ]
        }
      ],
      "source": [
        "print(summary(1, 4, 5, 6.7))"
      ]
    },
    {
      "cell_type": "code",
      "execution_count": 53,
      "metadata": {
        "id": "6R1rFCP6OcW1"
      },
      "outputs": [],
      "source": [
        "def multiplication_args(*args: int | float) -> int | float:\n",
        "     mult = 1\n",
        "     for arg in args:\n",
        "         mult *= arg\n",
        "     return mult"
      ]
    },
    {
      "cell_type": "code",
      "execution_count": 54,
      "metadata": {
        "colab": {
          "base_uri": "https://localhost:8080/"
        },
        "id": "lNEykyedOZsl",
        "outputId": "04f98da8-6025-4c40-fce1-75342d8fa8c6"
      },
      "outputs": [
        {
          "data": {
            "text/plain": [
              "120"
            ]
          },
          "execution_count": 54,
          "metadata": {},
          "output_type": "execute_result"
        }
      ],
      "source": [
        "multiplication_args(1, 4, 5, 6)"
      ]
    },
    {
      "cell_type": "markdown",
      "metadata": {
        "id": "yWmV7NglQBP0"
      },
      "source": [
        "### Задача №3"
      ]
    },
    {
      "cell_type": "markdown",
      "metadata": {
        "id": "a3DLLX7hQERb"
      },
      "source": [
        "Журнал “Ёралаш” не очень прибыльный, поэтому ему приходится экономить на чернилах и вместо букв Ё/ё в текстах использовать Е/е. В штат недавно наняли нового журналиста, который написал статью, в которой очень много букв Ё/ё. Помогите исправить ситуацию.\n",
        "    \n",
        "Напишите функцию `replacer()`, которая принимает в качестве параметра неизвестное число строк, заменяя во всех строках Ё/ё на Е/е. Функция возвращает список поданых ей строк."
      ]
    },
    {
      "cell_type": "code",
      "execution_count": 26,
      "metadata": {
        "id": "jKVJpHrZQdel"
      },
      "outputs": [],
      "source": [
        "def replacer(*strings: str) -> list[str]:\n",
        "    list_of_strings = []\n",
        "    \n",
        "    for strng in strings:\n",
        "        list_of_strings.append(strng.replace('ё', 'е').replace('Ё', 'Е'))\n",
        "    return list_of_strings"
      ]
    },
    {
      "cell_type": "code",
      "execution_count": 27,
      "metadata": {},
      "outputs": [
        {
          "data": {
            "text/plain": [
              "['Еж', 'кутеж', 'резко', 'елкаЕре']"
            ]
          },
          "execution_count": 27,
          "metadata": {},
          "output_type": "execute_result"
        }
      ],
      "source": [
        "replacer('Ёж', 'кутёж', 'резко', 'ёлкаЁрё')"
      ]
    },
    {
      "cell_type": "markdown",
      "metadata": {
        "id": "0oCRsOPaSMvc"
      },
      "source": [
        "Помимо `*args` есть еще и `**kwargs` для переменного количества именованных аргументов."
      ]
    },
    {
      "cell_type": "code",
      "execution_count": 57,
      "metadata": {
        "id": "hB3UF_k0SMhe"
      },
      "outputs": [],
      "source": [
        "def max_value(*values: int | str, **params: bool) -> int | str | None:\n",
        "    return_idx = params.get(\"return_idx\", False)  # достаем позиционный аргумент\n",
        "\n",
        "    if not values:  # если список пустой, вернем None\n",
        "        return None\n",
        "\n",
        "    max_value = values[0]\n",
        "    max_value_idx = 0\n",
        "    for i, value in enumerate(values):\n",
        "        if value > max_value:\n",
        "            max_value = value\n",
        "            max_value_idx = i\n",
        "\n",
        "    if return_idx:\n",
        "        return max_value_idx\n",
        "    return max_value"
      ]
    },
    {
      "cell_type": "code",
      "execution_count": 58,
      "metadata": {
        "colab": {
          "base_uri": "https://localhost:8080/"
        },
        "id": "aiNcOdeeSs6h",
        "outputId": "bd1200f3-d0ed-4bdc-a380-243e27246089"
      },
      "outputs": [
        {
          "name": "stdout",
          "output_type": "stream",
          "text": [
            "max value: 9\n",
            "max value index: 3\n"
          ]
        }
      ],
      "source": [
        "print(\"max value:\", max_value(6, -1, 2, 9, 1))  # сам максимум\n",
        "print(\"max value index:\", max_value(6, -1, 2, 9, 1, return_idx=True)) # индекс максимума"
      ]
    },
    {
      "cell_type": "markdown",
      "metadata": {
        "id": "VzK0xVyzbHhq"
      },
      "source": [
        "А это-то какой тип данных?"
      ]
    },
    {
      "cell_type": "code",
      "execution_count": 118,
      "metadata": {
        "id": "nbx-gbNFbHhq"
      },
      "outputs": [],
      "source": [
        "from typing import Any\n",
        "\n",
        "\n",
        "def returning(**kwargs: Any) -> ...:\n",
        "     return kwargs\n",
        "\n",
        "\n",
        "# print(returning(a=1, b=2.5, c=True, d=[1, 2], e=None))"
      ]
    },
    {
      "cell_type": "markdown",
      "metadata": {
        "id": "6wJlmHmqT3bZ"
      },
      "source": [
        "## Рестрикшены"
      ]
    },
    {
      "cell_type": "markdown",
      "metadata": {
        "id": "FVGKL7ltT7ZF"
      },
      "source": [
        "В аргументы функции можно написать пустую `*`. Тогда будет считаться, что все после этой звездочки $-$ это именованные аргументы и больше позиционные использовать нельзя. Ранее мы могли вызвать функцию вот так:"
      ]
    },
    {
      "cell_type": "code",
      "execution_count": 60,
      "metadata": {
        "colab": {
          "base_uri": "https://localhost:8080/"
        },
        "id": "1z0HqdCIUN3b",
        "outputId": "a944c2c9-36d7-4e7e-eed8-03300dc1e92e"
      },
      "outputs": [
        {
          "name": "stdout",
          "output_type": "stream",
          "text": [
            "2\n"
          ]
        }
      ],
      "source": [
        "def my_max(a, b, print_hello=True, **kwargs):\n",
        "    if print_hello:\n",
        "        print(a, b, **kwargs)\n",
        "\n",
        "    if a > b:\n",
        "        return a\n",
        "    return b\n",
        "\n",
        "\n",
        "print(my_max(1, 2, False))"
      ]
    },
    {
      "cell_type": "markdown",
      "metadata": {
        "id": "fje_ykU8UTVy"
      },
      "source": [
        "А если добавить `*`, то уже нельзя:"
      ]
    },
    {
      "cell_type": "code",
      "execution_count": 61,
      "metadata": {
        "id": "vr5xy7uEUXhS"
      },
      "outputs": [],
      "source": [
        "def my_max(a, b, *, print_hello=True, **kwargs):\n",
        "    if print_hello:\n",
        "        print(a, b, **kwargs)\n",
        "\n",
        "    if a > b:\n",
        "        return a\n",
        "    return b"
      ]
    },
    {
      "cell_type": "code",
      "execution_count": 64,
      "metadata": {
        "colab": {
          "base_uri": "https://localhost:8080/",
          "height": 145
        },
        "id": "HvMSivSVUZ71",
        "outputId": "7671424c-f95e-4e58-ec4b-c6725b8e150e"
      },
      "outputs": [
        {
          "ename": "TypeError",
          "evalue": "my_max() takes 2 positional arguments but 3 were given",
          "output_type": "error",
          "traceback": [
            "\u001b[0;31m---------------------------------------------------------------------------\u001b[0m",
            "\u001b[0;31mTypeError\u001b[0m                                 Traceback (most recent call last)",
            "\u001b[0;32m<ipython-input-64-e74039a8035d>\u001b[0m in \u001b[0;36m<cell line: 0>\u001b[0;34m()\u001b[0m\n\u001b[0;32m----> 1\u001b[0;31m \u001b[0mprint\u001b[0m\u001b[0;34m(\u001b[0m\u001b[0mmy_max\u001b[0m\u001b[0;34m(\u001b[0m\u001b[0;36m1\u001b[0m\u001b[0;34m,\u001b[0m \u001b[0;36m2\u001b[0m\u001b[0;34m,\u001b[0m \u001b[0;32mTrue\u001b[0m\u001b[0;34m,\u001b[0m \u001b[0msep\u001b[0m\u001b[0;34m=\u001b[0m\u001b[0;34m'.'\u001b[0m\u001b[0;34m,\u001b[0m \u001b[0mend\u001b[0m\u001b[0;34m=\u001b[0m\u001b[0;34m'!'\u001b[0m\u001b[0;34m)\u001b[0m\u001b[0;34m)\u001b[0m  \u001b[0;31m# ошибка\u001b[0m\u001b[0;34m\u001b[0m\u001b[0;34m\u001b[0m\u001b[0m\n\u001b[0m",
            "\u001b[0;31mTypeError\u001b[0m: my_max() takes 2 positional arguments but 3 were given"
          ]
        }
      ],
      "source": [
        "print(my_max(1, 2, True, sep='.', end='!'))  # ошибка"
      ]
    },
    {
      "cell_type": "code",
      "execution_count": 66,
      "metadata": {
        "colab": {
          "base_uri": "https://localhost:8080/"
        },
        "id": "CnHjEjomUdde",
        "outputId": "4a5ad73e-6250-4ff8-be2a-d484c8d9469c"
      },
      "outputs": [
        {
          "name": "stdout",
          "output_type": "stream",
          "text": [
            "1.2!2\n",
            "1.2!2\n"
          ]
        }
      ],
      "source": [
        "print(my_max(1, 2, print_hello=True, sep='.', end='!'))  # все ОК\n",
        "\n",
        "print(my_max(a=1, b=2, print_hello=True, sep='.', end='!'))  # и так тоже работать будет"
      ]
    },
    {
      "cell_type": "markdown",
      "metadata": {
        "id": "NFqV3XhGUrSg"
      },
      "source": [
        "Можно, наоборот, запретить первым аргументам быть именованными в принципе. Это делается через `/`:"
      ]
    },
    {
      "cell_type": "code",
      "execution_count": 67,
      "metadata": {
        "id": "2Sci68H3UyMX"
      },
      "outputs": [],
      "source": [
        "def my_max(a, b, /, c, *, print_hello=True, **kwargs):\n",
        "    if print_hello:\n",
        "        print(a, b, c, **kwargs)\n",
        "\n",
        "    if a > b:\n",
        "        return a\n",
        "    return b"
      ]
    },
    {
      "cell_type": "code",
      "execution_count": 68,
      "metadata": {
        "colab": {
          "base_uri": "https://localhost:8080/",
          "height": 145
        },
        "id": "cwuvkXrjU4af",
        "outputId": "9c3962a3-9e10-4d6e-d24e-b9aa0f4aff83"
      },
      "outputs": [
        {
          "ename": "TypeError",
          "evalue": "my_max() missing 2 required positional arguments: 'a' and 'b'",
          "output_type": "error",
          "traceback": [
            "\u001b[0;31m---------------------------------------------------------------------------\u001b[0m",
            "\u001b[0;31mTypeError\u001b[0m                                 Traceback (most recent call last)",
            "\u001b[0;32m<ipython-input-68-3b907269fe48>\u001b[0m in \u001b[0;36m<cell line: 0>\u001b[0;34m()\u001b[0m\n\u001b[0;32m----> 1\u001b[0;31m \u001b[0mprint\u001b[0m\u001b[0;34m(\u001b[0m\u001b[0mmy_max\u001b[0m\u001b[0;34m(\u001b[0m\u001b[0ma\u001b[0m\u001b[0;34m=\u001b[0m\u001b[0;36m1\u001b[0m\u001b[0;34m,\u001b[0m \u001b[0mb\u001b[0m\u001b[0;34m=\u001b[0m\u001b[0;36m2\u001b[0m\u001b[0;34m,\u001b[0m \u001b[0mc\u001b[0m\u001b[0;34m=\u001b[0m\u001b[0;36m3\u001b[0m\u001b[0;34m,\u001b[0m \u001b[0mprint_hello\u001b[0m\u001b[0;34m=\u001b[0m\u001b[0;32mTrue\u001b[0m\u001b[0;34m,\u001b[0m \u001b[0msep\u001b[0m\u001b[0;34m=\u001b[0m\u001b[0;34m'.'\u001b[0m\u001b[0;34m,\u001b[0m \u001b[0mend\u001b[0m\u001b[0;34m=\u001b[0m\u001b[0;34m'!'\u001b[0m\u001b[0;34m)\u001b[0m\u001b[0;34m)\u001b[0m  \u001b[0;31m# ошибка\u001b[0m\u001b[0;34m\u001b[0m\u001b[0;34m\u001b[0m\u001b[0m\n\u001b[0m",
            "\u001b[0;31mTypeError\u001b[0m: my_max() missing 2 required positional arguments: 'a' and 'b'"
          ]
        }
      ],
      "source": [
        "print(my_max(a=1, b=2, c=3, print_hello=True, sep='.', end='!'))  # ошибка"
      ]
    },
    {
      "cell_type": "code",
      "execution_count": 69,
      "metadata": {
        "colab": {
          "base_uri": "https://localhost:8080/"
        },
        "id": "Z5ziu_8QU0-n",
        "outputId": "2c145bdf-7ae8-46f0-8554-77353819861f"
      },
      "outputs": [
        {
          "name": "stdout",
          "output_type": "stream",
          "text": [
            "1.2.3!2\n",
            "1.2.3!2\n"
          ]
        }
      ],
      "source": [
        "print(my_max(1, 2, 3, print_hello=True, sep='.', end='!'))  # все работает\n",
        "\n",
        "print(my_max(1, 2, c=3, print_hello=True, sep='.', end='!'))  # и так тоже работает"
      ]
    },
    {
      "cell_type": "markdown",
      "metadata": {
        "id": "AjCvT77HTurq"
      },
      "source": [
        "### Задача №4"
      ]
    },
    {
      "cell_type": "markdown",
      "metadata": {
        "id": "YowIYx-YT0Rk"
      },
      "source": [
        "Создайте функцию `four_args()`, которая принимает строго от 1 до 4 **именованных** аргумента.\n",
        "В результате ее работы возвращаются названия аргументов и их значения в случае, если они не `None`.\n",
        "\n",
        "**Примеры работы функции:**\n",
        "```python\n",
        ">>> print(four_args(arg_1 = 1, arg_3 = 500))\n",
        "<<< Аргументы: arg_1 = 1, arg_3 = 500\n",
        "```\n",
        "\n",
        "```python\n",
        ">>> print(four_args(arg_1 = 1, arg_3 = 500, arg_4 = None))\n",
        "<<< Аргументы: arg_1 = 1, arg_3 = 500\n",
        "```"
      ]
    },
    {
      "cell_type": "code",
      "execution_count": 122,
      "metadata": {
        "id": "4Fw5jZ9xTuO_"
      },
      "outputs": [],
      "source": [
        "# ваш код туть"
      ]
    },
    {
      "cell_type": "markdown",
      "metadata": {
        "id": "NLPoWoPhKeJS"
      },
      "source": [
        "## Глобальные и локальные переменные"
      ]
    },
    {
      "cell_type": "markdown",
      "metadata": {
        "id": "a9P_8lT8KtlV"
      },
      "source": [
        "1. Внутри функции **можно** использовать переменные, объявленные вне этой функции: их называют *глобальными*."
      ]
    },
    {
      "cell_type": "code",
      "execution_count": 1,
      "metadata": {
        "colab": {
          "base_uri": "https://localhost:8080/"
        },
        "id": "4fYuPYcjKdjc",
        "outputId": "7646987d-855a-47c3-d268-890b483a8af6"
      },
      "outputs": [
        {
          "name": "stdout",
          "output_type": "stream",
          "text": [
            "1\n"
          ]
        }
      ],
      "source": [
        "a = 1\n",
        "\n",
        "def isglobal_a():\n",
        "    print(a)\n",
        "\n",
        "isglobal_a()"
      ]
    },
    {
      "cell_type": "markdown",
      "metadata": {
        "id": "tsf-OBwXK7R6"
      },
      "source": [
        "2. Если инициализировать какую-то переменную внутри функции, использовать эту переменную **вне** функции **не удастся**: такие переменные называются *локальными*. Они становятся недоступными после выхода из функции!"
      ]
    },
    {
      "cell_type": "code",
      "execution_count": 3,
      "metadata": {
        "id": "FWkr82YZLVM1"
      },
      "outputs": [],
      "source": [
        "del a"
      ]
    },
    {
      "cell_type": "code",
      "execution_count": 4,
      "metadata": {
        "colab": {
          "base_uri": "https://localhost:8080/",
          "height": 181
        },
        "id": "w5iAEKqiOu2i",
        "outputId": "069bbc61-fa86-4277-a734-cc5a6e569d00"
      },
      "outputs": [
        {
          "ename": "NameError",
          "evalue": "name 'a' is not defined",
          "output_type": "error",
          "traceback": [
            "\u001b[0;31m---------------------------------------------------------------------------\u001b[0m",
            "\u001b[0;31mNameError\u001b[0m                                 Traceback (most recent call last)",
            "\u001b[0;32m<ipython-input-4-a6432c295a68>\u001b[0m in \u001b[0;36m<cell line: 0>\u001b[0;34m()\u001b[0m\n\u001b[1;32m      3\u001b[0m \u001b[0;34m\u001b[0m\u001b[0m\n\u001b[1;32m      4\u001b[0m \u001b[0mf\u001b[0m\u001b[0;34m(\u001b[0m\u001b[0;34m)\u001b[0m\u001b[0;34m\u001b[0m\u001b[0;34m\u001b[0m\u001b[0m\n\u001b[0;32m----> 5\u001b[0;31m \u001b[0mprint\u001b[0m\u001b[0;34m(\u001b[0m\u001b[0ma\u001b[0m\u001b[0;34m)\u001b[0m\u001b[0;34m\u001b[0m\u001b[0;34m\u001b[0m\u001b[0m\n\u001b[0m",
            "\u001b[0;31mNameError\u001b[0m: name 'a' is not defined"
          ]
        }
      ],
      "source": [
        "def f():\n",
        "    a = 1\n",
        "\n",
        "f()\n",
        "print(a)"
      ]
    },
    {
      "cell_type": "markdown",
      "metadata": {
        "id": "IcMkh2hHLo1C"
      },
      "source": [
        "3. Что произойдет, если попробовать изменить значение глобальной переменной внутри функции?<br>\n",
        "Если внутри функции модифицируется значение некоторой переменной, то переменная с таким именем становится локальной переменной, и ее модификация не приведет к изменению глобальной переменной с таким же именем!"
      ]
    },
    {
      "cell_type": "code",
      "execution_count": 5,
      "metadata": {
        "colab": {
          "base_uri": "https://localhost:8080/"
        },
        "id": "bNAXYZQ3LTbb",
        "outputId": "67335f9e-acb9-47a1-b5ac-2fbbdea91e48"
      },
      "outputs": [
        {
          "name": "stdout",
          "output_type": "stream",
          "text": [
            "1\n",
            "0\n"
          ]
        }
      ],
      "source": [
        "a = 0\n",
        "\n",
        "def f():\n",
        "    a = 1\n",
        "    print(a)\n",
        "\n",
        "f()\n",
        "print(a)"
      ]
    },
    {
      "cell_type": "markdown",
      "metadata": {
        "id": "JVxvz8b5MXJg"
      },
      "source": [
        "Но почему тогда получается так?"
      ]
    },
    {
      "cell_type": "code",
      "execution_count": 6,
      "metadata": {
        "colab": {
          "base_uri": "https://localhost:8080/",
          "height": 306
        },
        "id": "Zy2fvq1TMbri",
        "outputId": "52b76d99-cfcf-49cc-bf47-3ebaed4ed7de"
      },
      "outputs": [
        {
          "ename": "UnboundLocalError",
          "evalue": "cannot access local variable 'VALUE' where it is not associated with a value",
          "output_type": "error",
          "traceback": [
            "\u001b[0;31m---------------------------------------------------------------------------\u001b[0m",
            "\u001b[0;31mUnboundLocalError\u001b[0m                         Traceback (most recent call last)",
            "\u001b[0;32m<ipython-input-6-8c4bf2998ff6>\u001b[0m in \u001b[0;36m<cell line: 0>\u001b[0;34m()\u001b[0m\n\u001b[1;32m      4\u001b[0m     \u001b[0mVALUE\u001b[0m \u001b[0;34m+=\u001b[0m \u001b[0;36m1\u001b[0m\u001b[0;34m\u001b[0m\u001b[0;34m\u001b[0m\u001b[0m\n\u001b[1;32m      5\u001b[0m \u001b[0;34m\u001b[0m\u001b[0m\n\u001b[0;32m----> 6\u001b[0;31m \u001b[0mf\u001b[0m\u001b[0;34m(\u001b[0m\u001b[0;34m)\u001b[0m\u001b[0;34m\u001b[0m\u001b[0;34m\u001b[0m\u001b[0m\n\u001b[0m",
            "\u001b[0;32m<ipython-input-6-8c4bf2998ff6>\u001b[0m in \u001b[0;36mf\u001b[0;34m()\u001b[0m\n\u001b[1;32m      2\u001b[0m \u001b[0;34m\u001b[0m\u001b[0m\n\u001b[1;32m      3\u001b[0m \u001b[0;32mdef\u001b[0m \u001b[0mf\u001b[0m\u001b[0;34m(\u001b[0m\u001b[0;34m)\u001b[0m\u001b[0;34m:\u001b[0m\u001b[0;34m\u001b[0m\u001b[0;34m\u001b[0m\u001b[0m\n\u001b[0;32m----> 4\u001b[0;31m     \u001b[0mVALUE\u001b[0m \u001b[0;34m+=\u001b[0m \u001b[0;36m1\u001b[0m\u001b[0;34m\u001b[0m\u001b[0;34m\u001b[0m\u001b[0m\n\u001b[0m\u001b[1;32m      5\u001b[0m \u001b[0;34m\u001b[0m\u001b[0m\n\u001b[1;32m      6\u001b[0m \u001b[0mf\u001b[0m\u001b[0;34m(\u001b[0m\u001b[0;34m)\u001b[0m\u001b[0;34m\u001b[0m\u001b[0;34m\u001b[0m\u001b[0m\n",
            "\u001b[0;31mUnboundLocalError\u001b[0m: cannot access local variable 'VALUE' where it is not associated with a value"
          ]
        }
      ],
      "source": [
        "VALUE = 10\n",
        "\n",
        "def f():\n",
        "    VALUE += 1\n",
        "\n",
        "f()"
      ]
    },
    {
      "cell_type": "markdown",
      "metadata": {
        "id": "eSYTy8lpMNgc"
      },
      "source": [
        "Давайте разберемся, что значит *модифицируется*?<br>\n",
        "Инструкция, модифицирующая значение переменной $-$ это операторы `=`, `+=` (и аналогичные), а также использование переменной в качестве параметра цикла `for`!"
      ]
    },
    {
      "cell_type": "markdown",
      "metadata": {
        "id": "Gp-eK3orMxxJ"
      },
      "source": [
        "4. Чтобы функция могла изменить значение глобальной переменной, необходимо объявить эту переменную внутри функции, как глобальную. Это делается помощи ключевого слова `global` (но это очень плохо чаще всего (но иногда полезно (но очень редко (но если очень хочется и нужно, то можно))))."
      ]
    },
    {
      "cell_type": "code",
      "execution_count": 80,
      "metadata": {
        "colab": {
          "base_uri": "https://localhost:8080/"
        },
        "id": "GMvuh6clMk6i",
        "outputId": "236990dc-1981-4585-a87a-bf6cac09f283"
      },
      "outputs": [
        {
          "name": "stdout",
          "output_type": "stream",
          "text": [
            "11\n"
          ]
        }
      ],
      "source": [
        "VALUE = 10\n",
        "\n",
        "def f():\n",
        "    global VALUE\n",
        "    VALUE += 1\n",
        "\n",
        "f()\n",
        "\n",
        "print(VALUE)"
      ]
    },
    {
      "cell_type": "markdown",
      "metadata": {
        "id": "MCLyPggPWy13"
      },
      "source": [
        "А еще вспоминаем всякие приколы со списками:"
      ]
    },
    {
      "cell_type": "code",
      "execution_count": 83,
      "metadata": {
        "colab": {
          "base_uri": "https://localhost:8080/"
        },
        "id": "k7UkY-z9J1Ty",
        "outputId": "202ce313-419b-4b8c-db6d-23fc3dff88c9"
      },
      "outputs": [
        {
          "name": "stdout",
          "output_type": "stream",
          "text": [
            "[1, 2, 3, 4]\n"
          ]
        }
      ],
      "source": [
        "a = [1, 2, 3]\n",
        "\n",
        "def f():\n",
        "    a.append(4)\n",
        "\n",
        "f()\n",
        "\n",
        "print(a)  # почему так..?"
      ]
    },
    {
      "cell_type": "code",
      "execution_count": 84,
      "metadata": {
        "colab": {
          "base_uri": "https://localhost:8080/"
        },
        "id": "5fFc8ezkWEsG",
        "outputId": "a9e7d54e-9b99-4e52-cd8a-60071ae09c68"
      },
      "outputs": [
        {
          "name": "stdout",
          "output_type": "stream",
          "text": [
            "[1, 2, 3, 4]\n"
          ]
        }
      ],
      "source": [
        "def f(a: list):\n",
        "    a.append(4)\n",
        "\n",
        "a = [1, 2, 3]\n",
        "\n",
        "f(a)\n",
        "\n",
        "print(a)"
      ]
    },
    {
      "cell_type": "markdown",
      "metadata": {
        "id": "li6qL0mQXY7w"
      },
      "source": [
        "## Анонимные функции (лямбда-выражения / `lambda`-functions)"
      ]
    },
    {
      "cell_type": "markdown",
      "metadata": {
        "id": "YL4A8m7uXsaf"
      },
      "source": [
        "Лямбда-выражение позволяет создавать анонимные функции $-$ функции, которые не привязаны к имени и определяются с помощью оператора lambda.\n",
        "\n",
        "* В анонимной функции может содержаться только одно выражение\n",
        "* В анонимную функцию могут передаваться сколько угодно аргументов\n",
        "\n",
        "```python\n",
        "lambda <параметры> : <инструкция>\n",
        "```"
      ]
    },
    {
      "cell_type": "code",
      "execution_count": 91,
      "metadata": {
        "colab": {
          "base_uri": "https://localhost:8080/"
        },
        "id": "VQjnEm1dXYkP",
        "outputId": "ebf3d6a8-3ec2-4be0-b9ae-378fcc6aaf4c"
      },
      "outputs": [
        {
          "name": "stdout",
          "output_type": "stream",
          "text": [
            "hello\n"
          ]
        }
      ],
      "source": [
        "# вообще, присваивать лямбды переменным плохой тон\n",
        "\n",
        "message = lambda: print(\"hello\")\n",
        "\n",
        "message()\n",
        "\n",
        "# то же самое, что и\n",
        "# def message():\n",
        "#     print(\"hello\")"
      ]
    },
    {
      "cell_type": "code",
      "execution_count": 92,
      "metadata": {
        "colab": {
          "base_uri": "https://localhost:8080/"
        },
        "id": "3RwNfq2TZmtQ",
        "outputId": "29820198-4ca8-4cea-af0a-4c3b2e2f6465"
      },
      "outputs": [
        {
          "name": "stdout",
          "output_type": "stream",
          "text": [
            "16\n",
            "25\n"
          ]
        }
      ],
      "source": [
        "square = lambda n: n * n\n",
        "\n",
        "print(square(4))\n",
        "print(square(5))"
      ]
    },
    {
      "cell_type": "code",
      "execution_count": 93,
      "metadata": {
        "colab": {
          "base_uri": "https://localhost:8080/"
        },
        "id": "1WeBqLjfZ_mt",
        "outputId": "9128a07d-ecac-4417-dad0-2384285111fa"
      },
      "outputs": [
        {
          "name": "stdout",
          "output_type": "stream",
          "text": [
            "9\n",
            "11\n"
          ]
        }
      ],
      "source": [
        "my_sum = lambda a, b: a + b\n",
        "\n",
        "print(my_sum(4, 5))\n",
        "print(my_sum(5, 6))"
      ]
    },
    {
      "cell_type": "markdown",
      "metadata": {
        "id": "IiEwjbfnasUS"
      },
      "source": [
        "Определение лямбды не включает оператор `return`, а всегда содержит возвращенное выражение. Мы также можем поместить определение лямбды в любое место, где ожидается функция, и нам не нужно присваивать его переменной.\n",
        "\n",
        "Их часто удобно использовать как аргумент функции высшего порядка (функции, которая принимает другие функции в качестве аргументов). Например, в `map()`, `sorted()` и других!"
      ]
    },
    {
      "cell_type": "code",
      "execution_count": 98,
      "metadata": {
        "colab": {
          "base_uri": "https://localhost:8080/"
        },
        "id": "pU_JmuObbQPk",
        "outputId": "72b293bb-72d4-4ffc-8562-bc4d950c318c"
      },
      "outputs": [
        {
          "name": "stdout",
          "output_type": "stream",
          "text": [
            "[1.0, 3.0, 4.0, 6.0, 10.0, 11.0, 15.0, 12.0, 14.0]\n"
          ]
        }
      ],
      "source": [
        "current_list = [1, 3, 4, 6, 10, 11, 15, 12, 14]\n",
        "\n",
        "new_list_1 = list(map(float, current_list))\n",
        "\n",
        "print(new_list_1)"
      ]
    },
    {
      "cell_type": "code",
      "execution_count": 100,
      "metadata": {
        "colab": {
          "base_uri": "https://localhost:8080/"
        },
        "id": "PUSGng2GbXWd",
        "outputId": "beb6efd4-f4d1-4fe7-dc87-59358ada8c39"
      },
      "outputs": [
        {
          "name": "stdout",
          "output_type": "stream",
          "text": [
            "[1, 9, 16, 36, 100, 121, 225, 144, 196]\n"
          ]
        }
      ],
      "source": [
        "new_list_2 = list(map(lambda x: x**2, current_list))\n",
        "\n",
        "print(new_list_2)\n",
        "\n",
        "# то же самое, что и\n",
        "# def square(x: int) -> int:\n",
        "#     return x ** 2\n",
        "# print(list(map(square, values)))"
      ]
    },
    {
      "cell_type": "markdown",
      "metadata": {
        "id": "j-ljrG6hZCiz"
      },
      "source": [
        "Мы уже говорили про сортировку списков, но говорили лишь вскользь, что ей можно задать кастомный ключ сравнения через функции."
      ]
    },
    {
      "cell_type": "code",
      "execution_count": 111,
      "metadata": {
        "colab": {
          "base_uri": "https://localhost:8080/"
        },
        "id": "7cs9pfUmbtxF",
        "outputId": "53b34d97-9276-46f1-d2b0-209c16a0ec4c"
      },
      "outputs": [
        {
          "data": {
            "text/plain": [
              "[('DB_VLAN', 11), ('Mngmt_VLAN', 99), ('IT_VLAN', 320), ('User_VLAN', 1010)]"
            ]
          },
          "execution_count": 111,
          "metadata": {},
          "output_type": "execute_result"
        }
      ],
      "source": [
        "list_of_tuples = [('IT_VLAN', 320), ('Mngmt_VLAN', 99), ('User_VLAN', 1010), ('DB_VLAN', 11)]\n",
        "\n",
        "sorted(list_of_tuples, key=lambda x: x[1])\n",
        "\n",
        "# то же самое, что и\n",
        "# from operator import itemgetter\n",
        "# sorted(list_of_tuples, key=itemgetter(1))"
      ]
    },
    {
      "cell_type": "code",
      "execution_count": 116,
      "metadata": {
        "colab": {
          "base_uri": "https://localhost:8080/"
        },
        "id": "cJmDk1TQZz04",
        "outputId": "9f0fa699-bd35-4f95-c603-f4bfa460b8fd"
      },
      "outputs": [
        {
          "data": {
            "text/plain": [
              "['aab', 'bda', 'abcd', '0xabadbabe', '0xdeadbeef']"
            ]
          },
          "execution_count": 116,
          "metadata": {},
          "output_type": "execute_result"
        }
      ],
      "source": [
        "values = [\"abcd\", \"aab\", \"bda\", \"0xabadbabe\", \"0xdeadbeef\"]\n",
        "\n",
        "sorted(values, key=lambda s: len(s))  # все то же самое далее можно делать и с values.sort()\n",
        "\n",
        "# то же самое, что и\n",
        "# sorted(values, key=len)"
      ]
    },
    {
      "cell_type": "markdown",
      "metadata": {
        "id": "04u1cDbkZ5bc"
      },
      "source": [
        "А как нам сравнивать по нескольким значениям сразу? Например, есть числа, хотим отсортировать их по возрастанию длин, но при равенстве $-$ по убыванию самих чисел."
      ]
    },
    {
      "cell_type": "code",
      "execution_count": 114,
      "metadata": {
        "colab": {
          "base_uri": "https://localhost:8080/"
        },
        "id": "foyP73NeWFXN",
        "outputId": "1e587e56-9c82-49af-82f0-78f9e38d8052"
      },
      "outputs": [
        {
          "data": {
            "text/plain": [
              "[789, 678, 456789, 123456, 7876510]"
            ]
          },
          "execution_count": 114,
          "metadata": {},
          "output_type": "execute_result"
        }
      ],
      "source": [
        "values = [7876510, 678, 456789, 789, 123456]\n",
        "\n",
        "sorted(values, key=lambda num: (len(str(num)), -num))  # кортежи сравниваются поэлементно, поэтому это так и работает"
      ]
    },
    {
      "cell_type": "markdown",
      "metadata": {
        "id": "H6LmJJdkfYCz"
      },
      "source": [
        "### Задача №5"
      ]
    },
    {
      "cell_type": "markdown",
      "metadata": {
        "id": "mApwGIHTfboI"
      },
      "source": [
        "Напишите лямбда-функцию, которая принимала бы строку и возвращала `True`, если переданный аргумент является числом (целым или с плавающей точкой) и `False` в противном случае."
      ]
    },
    {
      "cell_type": "code",
      "execution_count": null,
      "metadata": {
        "id": "WQGYVc3SZ8Os"
      },
      "outputs": [],
      "source": [
        "# ваш код туть"
      ]
    },
    {
      "cell_type": "markdown",
      "metadata": {
        "id": "APTCzeOtfvZJ"
      },
      "source": [
        "## Еще чуть-чуть практики"
      ]
    },
    {
      "cell_type": "markdown",
      "metadata": {
        "id": "YroCovPIeFPM"
      },
      "source": [
        "### Задача №6"
      ]
    },
    {
      "cell_type": "markdown",
      "metadata": {
        "id": "u8Sp3biReIlO"
      },
      "source": [
        "Напишите функцию `vowels()`, которая получает название файла (он должен находиться в той же папке, что и запускаемый код, поэтому будет достаточно просто прочитать файл по передаваемому названию).\n",
        "    \n",
        "Верните количество гласных и согласных букв в этом файле. Предполагается, что файл будет либо на русском, либо на английском языке."
      ]
    },
    {
      "cell_type": "code",
      "execution_count": 123,
      "metadata": {
        "id": "EqXyZ1_reIAD"
      },
      "outputs": [],
      "source": [
        "# ваш код туть"
      ]
    },
    {
      "cell_type": "markdown",
      "metadata": {
        "id": "AHl8fD9LecuP"
      },
      "source": [
        "### Задача №7"
      ]
    },
    {
      "cell_type": "markdown",
      "metadata": {
        "id": "OHIm86LdefdR"
      },
      "source": [
        "Все, надеюсь, помнят, что в словаре легко можно найти значение по ключу, но не ключ по значению (что логично, так как это соответствие может не быть уникальным).\n",
        "Напишите функцию `find_key()`, которая принимает на вход словарь и значение из этого словаря и возвращает ключ для данного значения. Если их несколько, вернуть кортеж ключей."
      ]
    },
    {
      "cell_type": "code",
      "execution_count": null,
      "metadata": {
        "id": "AaEeK4BueWtc"
      },
      "outputs": [],
      "source": [
        "# ваш код туть"
      ]
    }
  ],
  "metadata": {
    "colab": {
      "provenance": []
    },
    "kernelspec": {
      "display_name": "Python 3",
      "name": "python3"
    },
    "language_info": {
      "codemirror_mode": {
        "name": "ipython",
        "version": 3
      },
      "file_extension": ".py",
      "mimetype": "text/x-python",
      "name": "python",
      "nbconvert_exporter": "python",
      "pygments_lexer": "ipython3",
      "version": "3.12.0"
    }
  },
  "nbformat": 4,
  "nbformat_minor": 0
}
