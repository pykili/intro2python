{
 "cells": [
  {
   "cell_type": "markdown",
   "metadata": {
    "id": "oXMNkrSPcuhY"
   },
   "source": [
    "# Семинар 7: cловари\n"
   ]
  },
  {
   "cell_type": "markdown",
   "metadata": {},
   "source": [
    "Множества $-$ это достаточно удобная коллекция, чтобы хранить неповторяющиеся значения, однако иногда бывают случаи, когда хранить нужно не просто значение, а маппинг `key` -> `value`.\n",
    "\n",
    "> **Cловарь (или ассоциативный массив)** $-$ это неупорядоченная структура данных, позволяющая идентифицировать ее элементы не по числовому индексу, а по произвольному."
   ]
  },
  {
   "cell_type": "markdown",
   "metadata": {
    "id": "UU3JVRDsd1W9"
   },
   "source": [
    "### *Как создать пустой словарь?*"
   ]
  },
  {
   "cell_type": "markdown",
   "metadata": {},
   "source": [
    "1. через `{}` (не путаем с множеством!)\n",
    "2. через `dict()`"
   ]
  },
  {
   "cell_type": "code",
   "execution_count": 1,
   "metadata": {
    "id": "HN6Izvj7cLDP"
   },
   "outputs": [],
   "source": [
    "dictionary_one = {}\n",
    "dictionary_two = dict()"
   ]
  },
  {
   "cell_type": "code",
   "execution_count": 2,
   "metadata": {
    "colab": {
     "base_uri": "https://localhost:8080/"
    },
    "id": "-VVjyn7IcuFE",
    "outputId": "77cb33ac-dbd0-4c36-c7e0-0ff7af4fd5bf"
   },
   "outputs": [
    {
     "name": "stdout",
     "output_type": "stream",
     "text": [
      "<class 'dict'> {}\n"
     ]
    }
   ],
   "source": [
    "print(type(dictionary_one), dictionary_two)"
   ]
  },
  {
   "cell_type": "markdown",
   "metadata": {
    "id": "m87FHeK3e2Zo"
   },
   "source": [
    "Общее устройство словаря:\n",
    "```python\n",
    "{ключ_1: значение_1, ключ_2: значение_2, ..., ключ_n: значение_n}\n",
    "```\n",
    "\n",
    "**NB!** ключи повторяться **НЕ** могут, а значения могут!\n"
   ]
  },
  {
   "cell_type": "markdown",
   "metadata": {
    "id": "KYhR-hFtfsB5"
   },
   "source": [
    "### *Как создать непустой словарь?*"
   ]
  },
  {
   "cell_type": "markdown",
   "metadata": {},
   "source": [
    "1. через `{}`<br>`{key: item}`"
   ]
  },
  {
   "cell_type": "code",
   "execution_count": 78,
   "metadata": {
    "id": "xj4YgA8DhuXf"
   },
   "outputs": [],
   "source": [
    "dictionary_three = {'a': 8.17, 'b': 1.49, 'c': 2.78}"
   ]
  },
  {
   "cell_type": "code",
   "execution_count": 79,
   "metadata": {
    "colab": {
     "base_uri": "https://localhost:8080/"
    },
    "id": "-19ohWLTh1li",
    "outputId": "cd9bda77-7fd0-4578-f9a2-4076ede00a23"
   },
   "outputs": [
    {
     "name": "stdout",
     "output_type": "stream",
     "text": [
      "{'a': 8.17, 'b': 1.49, 'c': 2.78}\n"
     ]
    }
   ],
   "source": [
    "print(dictionary_three)"
   ]
  },
  {
   "cell_type": "markdown",
   "metadata": {
    "id": "I2wGJu-yiC_g"
   },
   "source": [
    "2. через `dict()`:\n",
    "- `dict(key=item)` $-$ только для **строковых** ключей"
   ]
  },
  {
   "cell_type": "code",
   "execution_count": 5,
   "metadata": {
    "colab": {
     "base_uri": "https://localhost:8080/"
    },
    "id": "V2omaPFQgPwV",
    "outputId": "5a92105b-a26f-4d32-9112-63ce0c81251f"
   },
   "outputs": [],
   "source": [
    "dictionary_four = dict(a=8.17, b=1.49, c=2.78) # но вообще лучше не пользоваться таким :)"
   ]
  },
  {
   "cell_type": "code",
   "execution_count": 6,
   "metadata": {},
   "outputs": [
    {
     "name": "stdout",
     "output_type": "stream",
     "text": [
      "{'a': 8.17, 'b': 1.49, 'c': 2.78}\n"
     ]
    }
   ],
   "source": [
    "print(dictionary_four)"
   ]
  },
  {
   "cell_type": "markdown",
   "metadata": {},
   "source": [
    "- `dict([(key, item)])` $-$ список кортежей!"
   ]
  },
  {
   "cell_type": "code",
   "execution_count": 7,
   "metadata": {
    "colab": {
     "base_uri": "https://localhost:8080/"
    },
    "id": "RIGbNqt6g39z",
    "outputId": "0ec645e3-79b7-41f8-bb09-8b4d33bf2e48"
   },
   "outputs": [],
   "source": [
    "dictionary_five = dict([('a', 8.17), ('b', 1.49), ('c', 2.78)])"
   ]
  },
  {
   "cell_type": "code",
   "execution_count": 8,
   "metadata": {},
   "outputs": [
    {
     "name": "stdout",
     "output_type": "stream",
     "text": [
      "{'a': 8.17, 'b': 1.49, 'c': 2.78}\n"
     ]
    }
   ],
   "source": [
    "print(dictionary_five)"
   ]
  },
  {
   "cell_type": "markdown",
   "metadata": {
    "id": "AdG9SYtTiFlK"
   },
   "source": [
    "3. через `dict.fromkeys()`\n",
    "\n",
    "`dict.fromkeys([keys], values)` $-$ словарь из ключей с одним значением (дефолтно `None`)."
   ]
  },
  {
   "cell_type": "code",
   "execution_count": 26,
   "metadata": {
    "colab": {
     "base_uri": "https://localhost:8080/"
    },
    "id": "7XZiMPKOevP0",
    "outputId": "23eb6b15-5f0e-4e77-e9d2-a7c443818eb4"
   },
   "outputs": [],
   "source": [
    "dict_six = dict.fromkeys(['a', 'b', 'c'])"
   ]
  },
  {
   "cell_type": "code",
   "execution_count": 27,
   "metadata": {},
   "outputs": [
    {
     "name": "stdout",
     "output_type": "stream",
     "text": [
      "{'a': None, 'b': None, 'c': None}\n"
     ]
    }
   ],
   "source": [
    "print(dict_six)"
   ]
  },
  {
   "cell_type": "code",
   "execution_count": 28,
   "metadata": {},
   "outputs": [
    {
     "name": "stdout",
     "output_type": "stream",
     "text": [
      "{'one': 1, 'two': 3, 'three': 3}\n"
     ]
    }
   ],
   "source": [
    "dict_six = dict.fromkeys([\"one\", \"two\", \"three\"], 3)\n",
    "dict_six[\"one\"] = 1\n",
    "\n",
    "print(dict_six)"
   ]
  },
  {
   "cell_type": "markdown",
   "metadata": {
    "id": "pZ984L0aiHOc"
   },
   "source": [
    "4. через соответствия, как в списках\n",
    "`{key: item for ... in ...}`"
   ]
  },
  {
   "cell_type": "code",
   "execution_count": 11,
   "metadata": {
    "id": "rQUWxIh6hWmA"
   },
   "outputs": [],
   "source": [
    "dictionary_seven = {a: str(a) + '-й раз' for a in range(1, 7)}"
   ]
  },
  {
   "cell_type": "code",
   "execution_count": 12,
   "metadata": {
    "colab": {
     "base_uri": "https://localhost:8080/"
    },
    "id": "7hCxGNq5iZKa",
    "outputId": "c013fc64-12b9-4265-a8cf-513e0246138d"
   },
   "outputs": [
    {
     "name": "stdout",
     "output_type": "stream",
     "text": [
      "{1: '1-й раз', 2: '2-й раз', 3: '3-й раз', 4: '4-й раз', 5: '5-й раз', 6: '6-й раз'}\n"
     ]
    }
   ],
   "source": [
    "print(dictionary_seven)"
   ]
  },
  {
   "cell_type": "markdown",
   "metadata": {},
   "source": [
    "**NB!** В качестве значения словарю можно указать что угодно, а вот в качестве ключа $-$ только hashable:"
   ]
  },
  {
   "cell_type": "code",
   "execution_count": 14,
   "metadata": {},
   "outputs": [
    {
     "name": "stdout",
     "output_type": "stream",
     "text": [
      "{'values': [1, 2, 3]}\n"
     ]
    }
   ],
   "source": [
    "d = {\"values\": [1, 2, 3]}\n",
    "print(d)"
   ]
  },
  {
   "cell_type": "code",
   "execution_count": 15,
   "metadata": {},
   "outputs": [
    {
     "ename": "TypeError",
     "evalue": "unhashable type: 'list'",
     "output_type": "error",
     "traceback": [
      "\u001b[1;31m---------------------------------------------------------------------------\u001b[0m",
      "\u001b[1;31mTypeError\u001b[0m                                 Traceback (most recent call last)",
      "Cell \u001b[1;32mIn[15], line 1\u001b[0m\n\u001b[1;32m----> 1\u001b[0m d \u001b[38;5;241m=\u001b[39m {[\u001b[38;5;241m1\u001b[39m, \u001b[38;5;241m2\u001b[39m, \u001b[38;5;241m3\u001b[39m]: \u001b[38;5;124m\"\u001b[39m\u001b[38;5;124mvalues\u001b[39m\u001b[38;5;124m\"\u001b[39m}\n",
      "\u001b[1;31mTypeError\u001b[0m: unhashable type: 'list'"
     ]
    }
   ],
   "source": [
    "d = {[1, 2, 3]: \"values\"}"
   ]
  },
  {
   "cell_type": "markdown",
   "metadata": {
    "id": "eLKUit6yi6cH"
   },
   "source": [
    "### *Как добавить элемент в существующий словарь?*"
   ]
  },
  {
   "cell_type": "markdown",
   "metadata": {},
   "source": [
    "Как в список: `dictionary[key] = item`"
   ]
  },
  {
   "cell_type": "code",
   "execution_count": 80,
   "metadata": {
    "id": "WHfSbBzFiZzM"
   },
   "outputs": [
    {
     "name": "stdout",
     "output_type": "stream",
     "text": [
      "{'a': 8.17, 'b': 1.49, 'c': 2.78}\n",
      "{'a': 8.17, 'b': 1.49, 'c': 2.78, 'e': 12.7}\n"
     ]
    }
   ],
   "source": [
    "print(dictionary_three)\n",
    "\n",
    "dictionary_three['e'] = 12.70\n",
    "\n",
    "print(dictionary_three)"
   ]
  },
  {
   "cell_type": "markdown",
   "metadata": {
    "id": "DlbutmR7jheI"
   },
   "source": [
    "Так же можно его и поменять: `dictionary[key] = new_item`\n",
    "\n",
    "**NB!** все ключи в словаре уникальны, поэтому, если вы не хотите менять ключ, когда он уже существует, проверяйте!"
   ]
  },
  {
   "cell_type": "code",
   "execution_count": 82,
   "metadata": {
    "colab": {
     "base_uri": "https://localhost:8080/"
    },
    "id": "9yE3xNG7kNhG",
    "outputId": "21d0ecda-03d7-4e83-acf5-64a223189522"
   },
   "outputs": [],
   "source": [
    "new_key = input()\n",
    "new_item = float(input())\n",
    "\n",
    "if new_key not in dictionary_three:\n",
    "    dictionary_three[new_key] = new_item"
   ]
  },
  {
   "cell_type": "code",
   "execution_count": 83,
   "metadata": {
    "colab": {
     "base_uri": "https://localhost:8080/"
    },
    "id": "gR4MjaQBkoBW",
    "outputId": "7442a716-eb5b-4b1d-ca17-26f0e063ec1d"
   },
   "outputs": [
    {
     "name": "stdout",
     "output_type": "stream",
     "text": [
      "{'a': 8.17, 'b': 1.49, 'c': 2.78, 'e': 12.7, 'd': 4.26}\n"
     ]
    }
   ],
   "source": [
    "print(dictionary_three)"
   ]
  },
  {
   "cell_type": "markdown",
   "metadata": {},
   "source": [
    "Еще есть `.update`: позволяет обновлять словарь, добавив новые key-value пары."
   ]
  },
  {
   "cell_type": "code",
   "execution_count": 84,
   "metadata": {},
   "outputs": [
    {
     "name": "stdout",
     "output_type": "stream",
     "text": [
      "{'a': 8.17, 'b': 1.49, 'c': 2.78, 'e': 12.7, 'd': 4.26, 'f': 2.23, 'g': 2.02}\n"
     ]
    }
   ],
   "source": [
    "dictionary_three.update({'f': 2.23, 'g': 2.02})\n",
    "\n",
    "print(dictionary_three)"
   ]
  },
  {
   "cell_type": "code",
   "execution_count": 85,
   "metadata": {},
   "outputs": [
    {
     "name": "stdout",
     "output_type": "stream",
     "text": [
      "{'a': 8.17, 'b': 1.49, 'c': 2.78, 'e': 12.7, 'd': 4.26, 'f': 2.23, 'g': 2.02}\n"
     ]
    }
   ],
   "source": [
    "dictionary_three = {**dictionary_three, **{'f': 2.23, 'g': 2.02}}  \n",
    "\n",
    "print(dictionary_three)"
   ]
  },
  {
   "cell_type": "code",
   "execution_count": 49,
   "metadata": {},
   "outputs": [
    {
     "name": "stdout",
     "output_type": "stream",
     "text": [
      "one, two, three!"
     ]
    }
   ],
   "source": [
    "params = {\"sep\": \", \", \"end\": \"!\"}  # а вот для чего эти ** еще нужны\n",
    "words = [\"one\", \"two\", \"three\"]\n",
    "print(*words, **params)  # советую запомнить, такая конструкция очень часто встречается"
   ]
  },
  {
   "cell_type": "markdown",
   "metadata": {},
   "source": [
    "#### Задание 1\n",
    "\n",
    "Создайте свой словарь, в котором ключи $-$ названия шести фильмов, а значения $-$ ваша целочисленная оценка этих фильмов от 1 до 10. \n",
    "\n",
    "Дайте пользователю возможность добавить информацию о каком-то одном фильме в получившийся словарь. Пользователь вводит в первой строчке название фильма, во второй $-$ свою целочисленную оценку этого фильма. Однако вам надо проверить, что этого фильма в словаре до этого не было."
   ]
  },
  {
   "cell_type": "code",
   "execution_count": null,
   "metadata": {},
   "outputs": [],
   "source": [
    "# место для вашего кода"
   ]
  },
  {
   "cell_type": "markdown",
   "metadata": {
    "id": "1yEGsXjsjbw4"
   },
   "source": [
    "### *Как сослаться на элемент в существующем словаре?*"
   ]
  },
  {
   "cell_type": "markdown",
   "metadata": {},
   "source": [
    "`dictionary[key] -> item`"
   ]
  },
  {
   "cell_type": "code",
   "execution_count": 86,
   "metadata": {
    "colab": {
     "base_uri": "https://localhost:8080/"
    },
    "id": "ZEshASlgjWlT",
    "outputId": "d3bb3aed-6c6e-4ba8-a891-4685423ba48e"
   },
   "outputs": [
    {
     "name": "stdout",
     "output_type": "stream",
     "text": [
      "4.26\n"
     ]
    }
   ],
   "source": [
    "print(dictionary_three['d'])"
   ]
  },
  {
   "cell_type": "code",
   "execution_count": 87,
   "metadata": {
    "colab": {
     "base_uri": "https://localhost:8080/",
     "height": 166
    },
    "id": "SLed9ogvk4fF",
    "outputId": "28fc0918-dd76-41ab-bdc0-9d867d6c5b1c"
   },
   "outputs": [
    {
     "ename": "KeyError",
     "evalue": "'p'",
     "output_type": "error",
     "traceback": [
      "\u001b[1;31m---------------------------------------------------------------------------\u001b[0m",
      "\u001b[1;31mKeyError\u001b[0m                                  Traceback (most recent call last)",
      "Cell \u001b[1;32mIn[87], line 1\u001b[0m\n\u001b[1;32m----> 1\u001b[0m \u001b[38;5;28mprint\u001b[39m(\u001b[43mdictionary_three\u001b[49m\u001b[43m[\u001b[49m\u001b[38;5;124;43m'\u001b[39;49m\u001b[38;5;124;43mp\u001b[39;49m\u001b[38;5;124;43m'\u001b[39;49m\u001b[43m]\u001b[49m)\n",
      "\u001b[1;31mKeyError\u001b[0m: 'p'"
     ]
    }
   ],
   "source": [
    "print(dictionary_three['p'])"
   ]
  },
  {
   "cell_type": "markdown",
   "metadata": {
    "id": "AtXrShQOmiFz"
   },
   "source": [
    "Ой, у нас нет такого ключа, поэтому *KeyError* ошибка. **А как ее избежать?**\n",
    "\n",
    "1. Можно проверять его наличие в словаре:"
   ]
  },
  {
   "cell_type": "code",
   "execution_count": 88,
   "metadata": {
    "colab": {
     "base_uri": "https://localhost:8080/"
    },
    "id": "qHTwiixCk6vR",
    "outputId": "44748c93-6f14-4f7a-b5c2-db9126591726"
   },
   "outputs": [
    {
     "name": "stdout",
     "output_type": "stream",
     "text": [
      "4.26\n"
     ]
    }
   ],
   "source": [
    "existed_key = input()\n",
    "\n",
    "if existed_key in dictionary_three:\n",
    "    print(dictionary_three[existed_key])"
   ]
  },
  {
   "cell_type": "markdown",
   "metadata": {
    "id": "qPqTrqA8nGa7"
   },
   "source": [
    "2. А еще есть метод `dictionary.get(key)`, который возвращает соответствующее значение или, если нет ключа, `None` или заданное значение."
   ]
  },
  {
   "cell_type": "code",
   "execution_count": 89,
   "metadata": {
    "colab": {
     "base_uri": "https://localhost:8080/"
    },
    "id": "dg9_Y9HWmqjr",
    "outputId": "f9a63df1-5b66-4487-8182-4c291f34664b"
   },
   "outputs": [
    {
     "name": "stdout",
     "output_type": "stream",
     "text": [
      "8.17 None\n"
     ]
    }
   ],
   "source": [
    "print(dictionary_three.get('a'), dictionary_three.get('n'))"
   ]
  },
  {
   "cell_type": "code",
   "execution_count": 90,
   "metadata": {
    "colab": {
     "base_uri": "https://localhost:8080/"
    },
    "id": "AYg2WtyInWi-",
    "outputId": "246fa6e4-0c0c-4a40-b98f-01c38766fee9"
   },
   "outputs": [
    {
     "name": "stdout",
     "output_type": "stream",
     "text": [
      "Нет такого элемента\n"
     ]
    }
   ],
   "source": [
    "print(dictionary_three.get('n', 'Нет такого элемента'))"
   ]
  },
  {
   "cell_type": "markdown",
   "metadata": {},
   "source": [
    "3. `dictionary.pop(key, value)`: аналогично `.get`, только с удалением ключа. Если ключа нет, все так же вернется то, что записано вторым аргументом (или дефолтное `None`)."
   ]
  },
  {
   "cell_type": "code",
   "execution_count": 91,
   "metadata": {},
   "outputs": [
    {
     "name": "stdout",
     "output_type": "stream",
     "text": [
      "12.7\n",
      "-1\n",
      "{'a': 8.17, 'b': 1.49, 'c': 2.78, 'd': 4.26, 'f': 2.23, 'g': 2.02}\n"
     ]
    }
   ],
   "source": [
    "print(dictionary_three.pop('e', -1))\n",
    "print(dictionary_three.pop('n', -1))\n",
    "\n",
    "print(dictionary_three)"
   ]
  },
  {
   "cell_type": "markdown",
   "metadata": {},
   "source": [
    "4. `dict.setdefault(key[, default])` возвращает значение по ключу, либо default (если не прописан, то `None`). Если ключ отсутствует, то в словарь добавляется пара key-default."
   ]
  },
  {
   "cell_type": "code",
   "execution_count": 101,
   "metadata": {},
   "outputs": [
    {
     "name": "stdout",
     "output_type": "stream",
     "text": [
      "1\n",
      "{'red': 1}\n"
     ]
    }
   ],
   "source": [
    "my_dict = {'red': 1}\n",
    "\n",
    "print(my_dict.setdefault('red', 2))\n",
    "print(my_dict)"
   ]
  },
  {
   "cell_type": "code",
   "execution_count": 102,
   "metadata": {},
   "outputs": [
    {
     "name": "stdout",
     "output_type": "stream",
     "text": [
      "1\n",
      "{'red': 1}\n"
     ]
    }
   ],
   "source": [
    "my_dict = {'red': 1}\n",
    "\n",
    "print(my_dict.setdefault('red', 2))\n",
    "print(my_dict)"
   ]
  },
  {
   "cell_type": "code",
   "execution_count": 103,
   "metadata": {},
   "outputs": [
    {
     "name": "stdout",
     "output_type": "stream",
     "text": [
      "2\n",
      "{'red': 1, 'orange': 2}\n"
     ]
    }
   ],
   "source": [
    "print(my_dict.setdefault('orange', 2))\n",
    "print(my_dict)"
   ]
  },
  {
   "cell_type": "code",
   "execution_count": 104,
   "metadata": {},
   "outputs": [
    {
     "name": "stdout",
     "output_type": "stream",
     "text": [
      "None\n",
      "{'red': 1, 'orange': 2, 'black': None}\n"
     ]
    }
   ],
   "source": [
    "print(my_dict.setdefault('black'))\n",
    "print(my_dict)"
   ]
  },
  {
   "cell_type": "markdown",
   "metadata": {
    "id": "o7pPdf_Clq9n"
   },
   "source": [
    "### *Как пройтись по словарю?*"
   ]
  },
  {
   "cell_type": "markdown",
   "metadata": {
    "id": "HHHqrJhHnlul"
   },
   "source": [
    "1. через цикл:"
   ]
  },
  {
   "cell_type": "code",
   "execution_count": 92,
   "metadata": {
    "colab": {
     "base_uri": "https://localhost:8080/"
    },
    "id": "4KskrdrPlbQW",
    "outputId": "14ddbfa1-f81d-4a38-f110-8f6dce178d75"
   },
   "outputs": [
    {
     "name": "stdout",
     "output_type": "stream",
     "text": [
      "Буква a встречается в английских текстах в 8.17% случаев\n",
      "Буква b встречается в английских текстах в 1.49% случаев\n",
      "Буква c встречается в английских текстах в 2.78% случаев\n",
      "Буква d встречается в английских текстах в 4.26% случаев\n",
      "Буква f встречается в английских текстах в 2.23% случаев\n",
      "Буква g встречается в английских текстах в 2.02% случаев\n"
     ]
    }
   ],
   "source": [
    "for letter in dictionary_three:\n",
    "    print(f'Буква {letter} встречается в английских текстах в {dictionary_three[letter]}% случаев')"
   ]
  },
  {
   "cell_type": "markdown",
   "metadata": {
    "id": "Aiiau5S6npJt"
   },
   "source": [
    "2. через `dictionary.items()` - возвращает пары ключ-значение"
   ]
  },
  {
   "cell_type": "code",
   "execution_count": 93,
   "metadata": {
    "colab": {
     "base_uri": "https://localhost:8080/"
    },
    "id": "4vhrkyrmmRt3",
    "outputId": "6026fdef-44c5-4906-9aca-233f9399d42f"
   },
   "outputs": [
    {
     "name": "stdout",
     "output_type": "stream",
     "text": [
      "dict_items([('a', 8.17), ('b', 1.49), ('c', 2.78), ('d', 4.26), ('f', 2.23), ('g', 2.02)])\n"
     ]
    }
   ],
   "source": [
    "print(dictionary_three.items())"
   ]
  },
  {
   "cell_type": "code",
   "execution_count": 94,
   "metadata": {
    "colab": {
     "base_uri": "https://localhost:8080/"
    },
    "id": "A4cprc2doTPo",
    "outputId": "03ec7c8d-bc85-401f-b129-17ec58c85bdd"
   },
   "outputs": [
    {
     "name": "stdout",
     "output_type": "stream",
     "text": [
      "Буква a встречается в английских текстах в 8.17% случаев\n",
      "Буква b встречается в английских текстах в 1.49% случаев\n",
      "Буква c встречается в английских текстах в 2.78% случаев\n",
      "Буква d встречается в английских текстах в 4.26% случаев\n",
      "Буква f встречается в английских текстах в 2.23% случаев\n",
      "Буква g встречается в английских текстах в 2.02% случаев\n"
     ]
    }
   ],
   "source": [
    "for letter, percent in dictionary_three.items():\n",
    "    print(f'Буква {letter} встречается в английских текстах в {percent}% случаев')"
   ]
  },
  {
   "cell_type": "code",
   "execution_count": 95,
   "metadata": {
    "colab": {
     "base_uri": "https://localhost:8080/"
    },
    "id": "aZ2Zu7fan2bi",
    "outputId": "fbff4cbd-df00-42e4-8438-cc0cbff05a6b"
   },
   "outputs": [
    {
     "name": "stdout",
     "output_type": "stream",
     "text": [
      "<class 'dict_items'>\n"
     ]
    }
   ],
   "source": [
    "print(type(dictionary_three.items()))"
   ]
  },
  {
   "cell_type": "markdown",
   "metadata": {},
   "source": [
    "#### Задание 2\n",
    "\n",
    "Некая учительница К любит храни\n",
    "ть оценки своих учеников в формате словаря `{Ученик: Оценка}`. Чтобы проверить, не слишком ли сложные были задания контрольной, К решила посчитать статистику $-$ сколько учеников получило каждую оценку и сохранить её в форме словаря. Помогите R написать такую программу, которая считала бы статистику по данному словарю оценок."
   ]
  },
  {
   "cell_type": "code",
   "execution_count": null,
   "metadata": {},
   "outputs": [],
   "source": [
    "# место для вашего кода"
   ]
  },
  {
   "cell_type": "markdown",
   "metadata": {
    "id": "c0wFh7VLolB5"
   },
   "source": [
    "### *Как получить все ключи / значения словаря?*\n",
    "\n",
    "`dictionary.keys()` $-$ \"список\" всех ключей\n",
    "\n",
    "`dictionary.values()` $-$ \"список\" всех значений"
   ]
  },
  {
   "cell_type": "code",
   "execution_count": 96,
   "metadata": {
    "colab": {
     "base_uri": "https://localhost:8080/"
    },
    "id": "Z19spPcQoRA_",
    "outputId": "fb2010c5-2b75-4322-efa0-9b237b165f0b"
   },
   "outputs": [
    {
     "name": "stdout",
     "output_type": "stream",
     "text": [
      "dict_keys(['a', 'b', 'c', 'd', 'f', 'g'])\n"
     ]
    }
   ],
   "source": [
    "print(dictionary_three.keys())"
   ]
  },
  {
   "cell_type": "code",
   "execution_count": 97,
   "metadata": {
    "colab": {
     "base_uri": "https://localhost:8080/"
    },
    "id": "VkPDJlBVo_5x",
    "outputId": "ddde8b82-3e9a-491f-8e3c-e271c710e1c8"
   },
   "outputs": [
    {
     "name": "stdout",
     "output_type": "stream",
     "text": [
      "dict_values([8.17, 1.49, 2.78, 4.26, 2.23, 2.02])\n"
     ]
    }
   ],
   "source": [
    "print(dictionary_three.values())"
   ]
  },
  {
   "cell_type": "code",
   "execution_count": null,
   "metadata": {},
   "outputs": [
    {
     "name": "stdout",
     "output_type": "stream",
     "text": [
      "20.95\n"
     ]
    }
   ],
   "source": [
    "print(sum(dictionary_three.values()))"
   ]
  },
  {
   "cell_type": "markdown",
   "metadata": {
    "id": "IK_tYU1Mpkcp"
   },
   "source": [
    "### *Как сортировать словарь*\n",
    "\n",
    "1. по ключу"
   ]
  },
  {
   "cell_type": "code",
   "execution_count": 66,
   "metadata": {
    "colab": {
     "base_uri": "https://localhost:8080/"
    },
    "id": "p7U9YIA2pKla",
    "outputId": "d7171db6-1836-4a08-fadb-72aa617fbb4c"
   },
   "outputs": [
    {
     "name": "stdout",
     "output_type": "stream",
     "text": [
      "{'Lime': '#503', 'Pink': '#403', 'Quail': '#500', 'Space': '#201'}\n"
     ]
    }
   ],
   "source": [
    "rooms = {\"Pink\": \"#403\", \"Space\": \"#201\", \"Quail\": \"#500\", \"Lime\": \"#503\"}\n",
    "\n",
    "print(dict(sorted(rooms.items())))"
   ]
  },
  {
   "cell_type": "markdown",
   "metadata": {
    "id": "_cDdDPdOp-z4"
   },
   "source": [
    "2. по значению"
   ]
  },
  {
   "cell_type": "code",
   "execution_count": 67,
   "metadata": {
    "colab": {
     "base_uri": "https://localhost:8080/"
    },
    "id": "blGwg9LlpSFp",
    "outputId": "ba4745d0-f3dd-49cb-8684-e5bee1416530"
   },
   "outputs": [
    {
     "name": "stdout",
     "output_type": "stream",
     "text": [
      "{'Space': '#201', 'Pink': '#403', 'Quail': '#500', 'Lime': '#503'}\n"
     ]
    }
   ],
   "source": [
    "from operator import itemgetter\n",
    "\n",
    "print(dict(sorted(rooms.items(), key=itemgetter(1))))"
   ]
  },
  {
   "cell_type": "markdown",
   "metadata": {},
   "source": [
    "Еще есть некоторая особенность, связанная со сравнением словарей. Со множествами это, кстати, работает так же: сравнение происходит без учета порядка."
   ]
  },
  {
   "cell_type": "code",
   "execution_count": 73,
   "metadata": {},
   "outputs": [
    {
     "name": "stdout",
     "output_type": "stream",
     "text": [
      "True\n"
     ]
    }
   ],
   "source": [
    "d = {\"name\": \"Kate\", \"surname\": \"Kozlova\"}\n",
    "\n",
    "print(d == {\"surname\": \"Kozlova\", \"name\": \"Kate\"})"
   ]
  },
  {
   "cell_type": "markdown",
   "metadata": {
    "id": "js-dUNAFgatI"
   },
   "source": [
    "### *Частотные словари*"
   ]
  },
  {
   "cell_type": "markdown",
   "metadata": {},
   "source": [
    "#### Задание 3\n",
    "\n",
    "Пусть нам дан список с цветами шариков в коробке, а мы хотим для каждого цвета подсчитать, сколько шариков данного цвета содержится в коробке.\n",
    "\n",
    "```python\n",
    "list_of_colors = ['blue', 'red', 'blue', 'green', 'yellow', 'pink', 'black', 'black', 'red', 'black', 'blue']\n",
    "```"
   ]
  },
  {
   "cell_type": "code",
   "execution_count": 71,
   "metadata": {},
   "outputs": [],
   "source": [
    "# место для вашего кода"
   ]
  },
  {
   "cell_type": "markdown",
   "metadata": {
    "id": "Ap5iqMAxi4SR"
   },
   "source": [
    "А еще проще через `defaultdict`. По сути, это словарь, у которого на все ключи задан `setdefault`."
   ]
  },
  {
   "cell_type": "code",
   "execution_count": null,
   "metadata": {
    "id": "8TgU7uL1i19Z"
   },
   "outputs": [],
   "source": [
    "from collections import defaultdict\n",
    "\n",
    "list_of_colors = ['blue', 'red', 'blue', 'green', 'yellow', 'pink', 'black', 'black', 'red', 'black', 'blue']\n",
    "dict_of_colors_easy = defaultdict(int) # можно передать тип данных, по которому берется дефолтное значение\n",
    "# для int это 0, для str -- пустая строка, для dict это {} и тд"
   ]
  },
  {
   "cell_type": "code",
   "execution_count": 107,
   "metadata": {
    "id": "hl7mTTX8i_d9"
   },
   "outputs": [],
   "source": [
    "for color in list_of_colors:\n",
    "    dict_of_colors_easy[color] += 1"
   ]
  },
  {
   "cell_type": "code",
   "execution_count": 109,
   "metadata": {
    "colab": {
     "base_uri": "https://localhost:8080/"
    },
    "id": "uxmLAa-4jNIr",
    "outputId": "bf38a67f-abd0-4470-c357-a14fcb8dee28"
   },
   "outputs": [
    {
     "name": "stdout",
     "output_type": "stream",
     "text": [
      "defaultdict(<class 'int'>, {'blue': 3, 'red': 2, 'green': 1, 'yellow': 1, 'pink': 1, 'black': 3})\n"
     ]
    }
   ],
   "source": [
    "print(dict_of_colors_easy)"
   ]
  },
  {
   "cell_type": "markdown",
   "metadata": {},
   "source": [
    "А еще есть `Counter`!"
   ]
  },
  {
   "cell_type": "code",
   "execution_count": 110,
   "metadata": {
    "id": "OEdVZ9InjOI1"
   },
   "outputs": [
    {
     "name": "stdout",
     "output_type": "stream",
     "text": [
      "['what', 'a', 'life', 'what', 'a', 'night', 'what', 'a', 'beautiful', 'beautiful', 'ride']\n",
      "Counter({'what': 3, 'a': 3, 'beautiful': 2, 'life': 1, 'night': 1, 'ride': 1})\n"
     ]
    }
   ],
   "source": [
    "from collections import Counter\n",
    "\n",
    "\n",
    "words = \"what a life what a night what a beautiful beautiful ride\".split()\n",
    "print(words)\n",
    "\n",
    "counter = Counter(words)\n",
    "print(counter)"
   ]
  },
  {
   "cell_type": "markdown",
   "metadata": {},
   "source": [
    "Возвращает список кортежей самых часто встречаемых элементов и их значений. Ели таких несколько, то приоритет у тех, которые встретились раньше:"
   ]
  },
  {
   "cell_type": "code",
   "execution_count": 111,
   "metadata": {},
   "outputs": [
    {
     "name": "stdout",
     "output_type": "stream",
     "text": [
      "[('what', 3)]\n"
     ]
    }
   ],
   "source": [
    "print(counter.most_common(1))"
   ]
  },
  {
   "cell_type": "code",
   "execution_count": 113,
   "metadata": {},
   "outputs": [
    {
     "name": "stdout",
     "output_type": "stream",
     "text": [
      "[('what', 3), ('a', 3)]\n"
     ]
    }
   ],
   "source": [
    "print(counter.most_common(2))"
   ]
  },
  {
   "cell_type": "code",
   "execution_count": 115,
   "metadata": {},
   "outputs": [
    {
     "name": "stdout",
     "output_type": "stream",
     "text": [
      "what\n",
      "what\n",
      "what\n",
      "a\n",
      "a\n",
      "a\n",
      "life\n",
      "night\n",
      "beautiful\n",
      "beautiful\n",
      "ride\n"
     ]
    }
   ],
   "source": [
    "for word in counter.elements():  # выводятся слова с повторениями в порядке, в котором впервые встретились\n",
    "    print(word)\n"
   ]
  },
  {
   "cell_type": "code",
   "execution_count": 116,
   "metadata": {},
   "outputs": [
    {
     "name": "stdout",
     "output_type": "stream",
     "text": [
      "Counter({'but': 1, 'i': 1, 'crumble': 1, 'completely': 1, 'cry': 1, 'when': 0, 'you': -1, 'look': -1, 'at': -1, 'me': -1, 'like': -1, 'that': -1, 'my': -1, 'darling': -1, 'what': -1, 'did': -1, 'expect': -1})\n"
     ]
    }
   ],
   "source": [
    "words = \"but i crumble completely when you cry\".split()\n",
    "another_words = \"when you look at me like that my darling what did you expect\".split()\n",
    "\n",
    "counter = Counter(words)\n",
    "another_counter = Counter(another_words)\n",
    "\n",
    "counter.subtract(another_counter)  # можно по-честному вычесть из одного каунтера другой\n",
    "\n",
    "print(counter)"
   ]
  },
  {
   "cell_type": "markdown",
   "metadata": {},
   "source": [
    "#### Задание 4\n",
    "\n",
    "Однажды во время написания программы для учета заказов разработчик забыл добавить функцию, которая приводит имена пользователей к одинаковому виду (все имена должны быть с маленькой буквы). Из-за этого в базе данных заказов вида: `{имя_пользователя : [заказ1, заказ2, ...]}` появились двойники, e.g. *Андрей* / *андрей*. При этом заказы оказались разделены по двойникам. Помогите разработчику починить словарь $-$ собрать всех двойников воедино.\n",
    "\n",
    "Изначальный словарь:\n",
    "```python\n",
    "{'андрей': [1202, 1203], 'Алексей': [2101, 2811], 'Андрей': [505], 'петр': [219, 303]}\n",
    "```\n",
    "Починенный словарь:\n",
    "```python\n",
    "{'андрей': [1202, 1203, 505], 'алексей': [2101, 2811], 'петр': [219, 303]}\n",
    "```\n",
    "\n"
   ]
  },
  {
   "cell_type": "code",
   "execution_count": null,
   "metadata": {},
   "outputs": [],
   "source": [
    "# место для вашего кода"
   ]
  }
 ],
 "metadata": {
  "colab": {
   "provenance": []
  },
  "kernelspec": {
   "display_name": "Python 3",
   "name": "python3"
  },
  "language_info": {
   "codemirror_mode": {
    "name": "ipython",
    "version": 3
   },
   "file_extension": ".py",
   "mimetype": "text/x-python",
   "name": "python",
   "nbconvert_exporter": "python",
   "pygments_lexer": "ipython3",
   "version": "3.12.0"
  }
 },
 "nbformat": 4,
 "nbformat_minor": 0
}
